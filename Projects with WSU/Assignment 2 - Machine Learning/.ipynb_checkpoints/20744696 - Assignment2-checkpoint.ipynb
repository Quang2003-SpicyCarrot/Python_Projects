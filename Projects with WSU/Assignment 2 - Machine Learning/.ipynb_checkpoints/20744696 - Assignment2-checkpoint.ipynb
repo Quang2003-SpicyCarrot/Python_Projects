{
 "cells": [
  {
   "cell_type": "markdown",
   "id": "b84a8bb6-5fe4-4361-a5ac-d78d80494239",
   "metadata": {},
   "source": [
    "Name: Quang Dong Nguyen  \n",
    "Student ID: 20744696  \n",
    "Class: Machine Learning  \n",
    "University: Western Sydney University  "
   ]
  },
  {
   "cell_type": "markdown",
   "id": "6944af24-a62a-4d9d-ba25-9416a585d1e8",
   "metadata": {},
   "source": [
    "---"
   ]
  },
  {
   "cell_type": "markdown",
   "id": "9adab3e8-3869-4d7e-8991-14f7ae04fc5c",
   "metadata": {},
   "source": [
    "# Assignment 2"
   ]
  },
  {
   "cell_type": "markdown",
   "id": "335836a5-809b-4e63-8974-4b8dda2dade2",
   "metadata": {},
   "source": [
    "**About CIFAR:**  \n",
    "The CIFAR-10 dataset is a collection of images that are commonly used to train machine learning\n",
    "and computer vision algorithms. It is one of the most widely used datasets for machine learning research. The\n",
    "CIFAR-10 dataset contains 60,000 32x32 color images in 10 different classes. The 10 different classes\n",
    "represent airplanes, cars, birds, cats, deer, dogs, frogs, horses, ships, and trucks. There are 6,000 images of each\n",
    "class. See https://www.cs.toronto.edu/~kriz/cifar.html for details"
   ]
  },
  {
   "cell_type": "markdown",
   "id": "908b3c8f-6aa2-486d-96bb-fe3e3b8aa5fe",
   "metadata": {},
   "source": [
    "## Task:"
   ]
  },
  {
   "cell_type": "markdown",
   "id": "56580b2d-ff67-4d70-8f3a-6be337edceaf",
   "metadata": {},
   "source": [
    "1. Randomly select 3 classes with 100 images per class for this assignment;\n",
    "2. Build the autoencoder model using CNN with functioning training code (if not CNN based, 60% reduction of marks will incur for this task);\n",
    "3. Plot the learnt images 2D coordinates (normally called *embeddings* in machine learning) of all images in training with each class denoted b a symbol, for example, circles for dogs, triangles for cats and so on;\n",
    "4. Randomly select 5 images that are not in the training set and obtain their 2D representations, add them to the plot produced in task 3 and describe what do you think about them in terms of their locations in relations to others.\n",
    "Your code should produce the plot similar to fig 1"
   ]
  },
  {
   "cell_type": "markdown",
   "id": "f656edf3-f8b8-46db-82bb-4dd8b3a0ec9c",
   "metadata": {},
   "source": [
    "## Bonus Task:"
   ]
  },
  {
   "cell_type": "markdown",
   "id": "6002d772-7765-4e4e-a68d-c24874caadf9",
   "metadata": {},
   "source": [
    "Build a **supervised** manifold learning model on CIFAR-10 images. The main idea is to incorporate labels information in the manifold learning process. It is very similar to LDA (linear discriminant analysis) in terms of functionality. However, instead of a lienar function, we use neural networks autoencoder as the backbone for manifold learning. Therefore, the model is a combination of autoencoder and classification, i.e. incorporating supervision information inthe modelling process, for exmaple, addding classification cost function into original autoencoder cost function. Do task 1-4 (see above) but replace the autoencoder by this supervised one.  \n",
    "**NOTE: this is extra 10 marks contributing towards your final scores if you can do it**"
   ]
  },
  {
   "cell_type": "markdown",
   "id": "0bc2a3d9-2e5d-44ec-abc1-945b4f83c23a",
   "metadata": {},
   "source": [
    "---"
   ]
  },
  {
   "cell_type": "markdown",
   "id": "80604234-e92b-4c99-919a-b859b1063337",
   "metadata": {},
   "source": [
    "Firstly, we import the library that will be ussed in this assignment"
   ]
  },
  {
   "cell_type": "code",
   "execution_count": 52,
   "id": "a88bdcfb-3b71-42c6-84a8-a9236301c398",
   "metadata": {},
   "outputs": [],
   "source": [
    "import numpy as np\n",
    "import torch\n",
    "import torchvision\n",
    "import os\n",
    "import random\n",
    "import matplotlib.lines as mlines\n",
    "import matplotlib.pyplot as plt\n",
    "import pandas as pd\n",
    "\n",
    "#random split modules\n",
    "from torch.utils.data import random_split\n",
    "from torch.utils.data import DataLoader\n",
    "\n",
    "#to load and normalise CIFAR10\n",
    "from torchvision.datasets import CIFAR10\n",
    "from torchvision import transforms\n",
    "\n",
    "#neural network training\n",
    "from torch import nn\n",
    "from torch.nn import ConvTranspose2d\n"
   ]
  },
  {
   "cell_type": "markdown",
   "id": "aeadc000-b6a0-4048-adb8-705ebe773bb6",
   "metadata": {},
   "source": [
    "## Question 1:"
   ]
  },
  {
   "cell_type": "markdown",
   "id": "9b834608-90ff-4667-bea2-74ab9f66be36",
   "metadata": {},
   "source": [
    "Firstly, we load the image dataset from CIFAR10 packages"
   ]
  },
  {
   "cell_type": "code",
   "execution_count": 53,
   "id": "1807202a-aefc-421f-98f6-fd3f0eb64d2c",
   "metadata": {},
   "outputs": [],
   "source": [
    "#loading the dataset\n",
    "torch.manual_seed(0)\n",
    "CIF_dataset = CIFAR10(os.getcwd(), transform = transforms.ToTensor(), download = False) #CIFAR dataset\n",
    "classes = ['airplane', 'automobile', 'bird', 'cat', 'deer', 'dog', 'frog', 'horse', 'ship', 'truch']\n"
   ]
  },
  {
   "cell_type": "markdown",
   "id": "609b5c5f-3235-43ba-a44d-e194f5abef9b",
   "metadata": {},
   "source": [
    "We then randomly choose 3 classes from this dataset that will be used for further analysis\n",
    "- From the random choice below, we got 3 classes: 2, 1, 8, which stands for bird, automobile, and ship"
   ]
  },
  {
   "cell_type": "code",
   "execution_count": 54,
   "id": "bf89abc2-8bfd-4265-ab5c-d5427da8cad8",
   "metadata": {},
   "outputs": [
    {
     "data": {
      "text/plain": [
       "[2, 1, 8]"
      ]
     },
     "execution_count": 54,
     "metadata": {},
     "output_type": "execute_result"
    }
   ],
   "source": [
    "#choosing 3 random images classes:\n",
    "random.seed(1)\n",
    "random.sample(range(0,9), 3) #this return 2, 1, 8, which stand for bird, automobile and ship"
   ]
  },
  {
   "cell_type": "markdown",
   "id": "997d0344-57c9-46a8-bd2f-b440046155ce",
   "metadata": {},
   "source": [
    "Then, from the dataset, the 3 classes mentioned are selectively sorted out for their indices and binded into a group"
   ]
  },
  {
   "cell_type": "code",
   "execution_count": 55,
   "id": "cba97e1c-f3a8-4971-aac6-7cdf7addf0db",
   "metadata": {},
   "outputs": [],
   "source": [
    "#From CIFAR-10 dataset, we select 100 images for each of the 3 classes:\n",
    "row_1 = list(np.where(np.array(CIF_dataset.targets) == 2)[0])[0:100]\n",
    "row_2 = list(np.where(np.array(CIF_dataset.targets) == 1)[0])[0:100]\n",
    "row_3 = list(np.where(np.array(CIF_dataset.targets) == 8)[0])[0:100]\n",
    "row_binded = row_1 + row_2 + row_3\n",
    "\n",
    "for i in range(10):\n",
    "    random.Random(i).shuffle(row_binded) #shuffled 10 times\n"
   ]
  },
  {
   "cell_type": "markdown",
   "id": "f6568572-c5b5-4029-b80b-1fd2e808f02d",
   "metadata": {},
   "source": [
    "Using the group of indices created above to create a subset of values of images."
   ]
  },
  {
   "cell_type": "code",
   "execution_count": 56,
   "id": "99e052ee-46c0-4f2b-a16e-da952d38956d",
   "metadata": {},
   "outputs": [],
   "source": [
    "#use subset to bind rows that matched:\n",
    "CIF_dataset1 = torch.utils.data.Subset(CIF_dataset, row_binded)\n",
    "#len(CIF_dataset) #300 images for 3 classes (100 images per class)\n",
    "#CIF_dataset.shape"
   ]
  },
  {
   "cell_type": "markdown",
   "id": "16b32c62-12eb-489f-8f9e-80354623a13a",
   "metadata": {},
   "source": [
    "Then we split the data into training set, validation set, and test set, each is provided with 100 images."
   ]
  },
  {
   "cell_type": "code",
   "execution_count": 57,
   "id": "3ebe218b-7e42-4848-a456-d1b74f84243c",
   "metadata": {},
   "outputs": [],
   "source": [
    "#Create sets for training, valdating and testing\n",
    "train_dataset, val_dataset, test_dataset = torch.utils.data.random_split(CIF_dataset1, [100,100,100])\n",
    "\n",
    "#Load data\n",
    "train_loader = torch.utils.data.DataLoader(train_dataset, batch_size = 5, shuffle = True)\n",
    "val_loader = torch.utils.data.DataLoader(val_dataset, batch_size = 5, shuffle = True)\n",
    "test_loader = torch.utils.data.DataLoader(test_dataset, batch_size = 5, shuffle = False)"
   ]
  },
  {
   "cell_type": "markdown",
   "id": "a5638680-2a08-4a0a-8735-b46c7fbf99a6",
   "metadata": {},
   "source": [
    "---"
   ]
  },
  {
   "cell_type": "markdown",
   "id": "26e92ab1-618d-4367-afa8-dabbf8482a03",
   "metadata": {},
   "source": [
    "## Question 2:"
   ]
  },
  {
   "cell_type": "markdown",
   "id": "cd4a55bb-181d-4542-97fa-ff9b79957c06",
   "metadata": {},
   "source": [
    "On this step we create a CNN AutoEncoder having the bottleneck layer output as 2 units."
   ]
  },
  {
   "cell_type": "markdown",
   "id": "e0e3c896-adc0-40ba-a6a5-d63847f76dc5",
   "metadata": {},
   "source": [
    "Based on some researched information, the layer size can be determined as follows:\n",
    "\n",
    "- CONVOLUTIONAL LAYER : (W - F + 2P)/S + 1  \n",
    "- TRANSPOSED CONVOLUTIONAL LAYER: (W - 1) * S - 2P + F \n",
    "- W = input size (default = 0) \n",
    "- F = kernel_size (default = 0) \n",
    "- P = padding (default = 0)\n",
    "- S = stride (default = 1)"
   ]
  },
  {
   "cell_type": "code",
   "execution_count": 58,
   "id": "6066fb3f-7624-403d-81c9-3a114df1a9d7",
   "metadata": {},
   "outputs": [],
   "source": [
    "#+++++++++++++++++++\n",
    "#CNN AUTOENCODER\n",
    "class CNNAutoEncoder(nn.Module):\n",
    "    def __init__(self):\n",
    "        super().__init__()\n",
    "        #N, 3, 32 * 32 size\n",
    "        self.encoder_layer = nn.Sequential(\n",
    "            # Conv_layer block 1\n",
    "            nn.Conv2d(in_channels = 3, out_channels = 32, kernel_size = 5, padding = 2), #32 x 32 x 32\n",
    "            nn.BatchNorm2d(32),\n",
    "            nn.ReLU(inplace = True),\n",
    "\n",
    "            #Conv_layer block 2\n",
    "            nn.Conv2d(in_channels = 32, out_channels = 16, kernel_size = 3, padding = 1), # 16 x 32 x 32\n",
    "            nn.ReLU(inplace = True),\n",
    "            nn.MaxPool2d(kernel_size = 2, stride = 2), #16 x 16 x 16\n",
    "\n",
    "            #Conv_layer block 3\n",
    "            nn.Conv2d(in_channels = 16, out_channels = 16, kernel_size = 5, padding = 2), # 16 x 16 x 16\n",
    "            nn.ReLU(inplace = True),\n",
    "            nn.MaxPool2d(kernel_size = 2, stride = 2), #16 x 8 x 8\n",
    "\n",
    "            #Conv_layer block 4\n",
    "            nn.Conv2d(in_channels = 16, out_channels = 8, kernel_size = 3, padding = 1), # 8 x 8 x 8\n",
    "            nn.ReLU(inplace = True),\n",
    "            )\n",
    "            \n",
    "        \n",
    "        self.bottle_neck = nn.Sequential(\n",
    "            nn.Linear(8 * 8 * 8, 2) # there are 2 units as output \n",
    "            )\n",
    "        \n",
    "            \n",
    "        self.decoder_layer = nn.Sequential(\n",
    "            #Deconv_layer block 1\n",
    "            nn.ConvTranspose2d(in_channels = 8, out_channels = 16, kernel_size = 2, stride = 2), #16 x 16 x 16\n",
    "            nn.ReLU(inplace = True),\n",
    "            \n",
    "            #Deconv_Layer block 2\n",
    "            nn.ConvTranspose2d(in_channels = 16, out_channels = 32, kernel_size = 2, stride = 2), # 32 x 32 x 32\n",
    "            nn.ReLU(inplace = True),\n",
    "            \n",
    "            #Deconv_Layer block 3\n",
    "            nn.ConvTranspose2d(in_channels = 32, out_channels = 3, kernel_size = 3, padding = 1), #3 x 32 x 32 #the output is the same as the input\n",
    "            nn.ReLU(inplace = True)\n",
    "            )\n",
    "\n",
    "    \n",
    "    def forward(self, x):\n",
    "        #encoder_layer\n",
    "        encoder_val = self.encoder_layer(x)\n",
    "\n",
    "        #bottleneck_layer\n",
    "        bottle_neck = encoder_val.view(encoder_val.size(0), - 1) #in terms of dimensionality, we fix it to be 2\n",
    "        bottle_neck = self.bottle_neck(bottle_neck)\n",
    "\n",
    "        #decoder_layer\n",
    "        x = self.decoder_layer(encoder_val)\n",
    "\n",
    "        return bottle_neck, x\n",
    "\n",
    "model = CNNAutoEncoder()\n",
    "#+++++++++++++++++++"
   ]
  },
  {
   "cell_type": "markdown",
   "id": "58f9c805-341a-4baf-9e7c-d6ddf57b19e1",
   "metadata": {},
   "source": [
    "And then we move onto creating a function to help train the CNN AutoEncoder model declared above, the required values to be inserted into the function will mainly consist of:\n",
    "- Optimiser\n",
    "- Chosen model\n",
    "- Loss function\n",
    "- Train dataloader\n",
    "- Validation dataloader\n",
    "- number of epochs\n",
    "- etc"
   ]
  },
  {
   "cell_type": "code",
   "execution_count": 59,
   "id": "bc93fc39-c823-4729-bcf5-1bd0b72b4761",
   "metadata": {},
   "outputs": [],
   "source": [
    "#+++++++++++++++++++\n",
    "def AutoEncoder_model_training(optimiser, model, \n",
    "                               Loss_function, \n",
    "                               trainloader, valloader, \n",
    "                               n_epochs = 10, fplotloss = True, #fdraw = False,\n",
    "                               filename = ''): \n",
    "    train_on_gpu = torch.cuda.is_available()\n",
    "    if train_on_gpu:\n",
    "        print(\"GPU available! Train model on GPU.\")\n",
    "        model.cuda()\n",
    "        \n",
    "    #tracking\n",
    "    train_LossList = []\n",
    "    val_LossList = []\n",
    "    \n",
    "    val_Loss_Min = np.Inf\n",
    "    \n",
    "    #Entering Training Cycles\n",
    "    print(\"Entering training cycles with CNN AutoEncoder\")\n",
    "    for epoch in [*range(n_epochs)]:\n",
    "        \n",
    "        #keeping tacking of training loss and validation loss\n",
    "        train_Loss = 0.0\n",
    "        val_Loss = 0.0\n",
    "\n",
    "        \n",
    "        #for train model\n",
    "        model.train()\n",
    "        for data, target in trainloader:\n",
    "            if train_on_gpu:\n",
    "                data, target = data.cuda(), target.cuda()  \n",
    "                \n",
    "            #clear gradient of all optimised variables\n",
    "            optimiser.zero_grad()\n",
    "            \n",
    "            #forward pass: predicted outputs by passing inputs to the model\n",
    "            output = model(data)\n",
    "            \n",
    "            #batch loss:\n",
    "            Batch_Loss = Loss_function(output[1], data)\n",
    "            \n",
    "            #backward pass: compute gradients of the loss with respect to model parameters\n",
    "            Batch_Loss.backward()\n",
    "            \n",
    "            #optimisation step (parameter update)\n",
    "            optimiser.step()\n",
    "            \n",
    "            #update training Loss\n",
    "            train_Loss += Batch_Loss.item() * data.size(0)\n",
    "\n",
    "        #validate the model\n",
    "        model.eval()\n",
    "        for data, target in valloader:   \n",
    "            if train_on_gpu:\n",
    "                data, target = data.cuda(), target.cuda()   \n",
    "                \n",
    "            #forward pass: predicts outputs by passing inputs to the model\n",
    "            output = model(data)            \n",
    "            \n",
    "            #batch_loss:\n",
    "            Batch_Loss = Loss_function(output[1], data)\n",
    "            \n",
    "            #Update validation loss:\n",
    "            val_Loss += Batch_Loss.item() * data.size(0)\n",
    "            \n",
    "        #Calculate avg losses\n",
    "        train_Loss = train_Loss / len(trainloader.dataset)\n",
    "        val_Loss = val_Loss / len(valloader.dataset)\n",
    "        \n",
    "        #append the Loss values to the Loss lists declared\n",
    "        train_LossList.append(train_Loss)\n",
    "        val_LossList.append(val_Loss)\n",
    "        \n",
    "        #print the statistics\n",
    "        print('Epoch: {} \\tTraining_Loss: {:.6f} \\t Validation_Loss: {:.6f}'.format(epoch, train_Loss, val_Loss))\n",
    "\n",
    "        #if validation loss decreased\n",
    "        if val_Loss <= val_Loss_Min: #print if val loss decreased\n",
    "            print('Validation Loss decreased: ({:.6f} --> {:.6f}). Saving.'.format(val_Loss_Min, val_Loss))\n",
    "            torch.save(model.state_dict(), 'bestCNNAutoEncoder_model' + filename + '.pt') #we then proceed onto saving the best model\n",
    "            val_Loss_Min = val_Loss\n",
    "            \n",
    "            \n",
    "            \n",
    "    #Plot Training and Validation Loss if fplotloss = True\n",
    "    if fplotloss == True:\n",
    "        plt.plot(*range(n_epochs), train_LossList)\n",
    "        plt.plot(*range(n_epochs), val_LossList)\n",
    "        plt.ylim((min(train_LossList + val_LossList), max(train_LossList + val_LossList)))\n",
    "        plt.xlabel('Epoch_n:')\n",
    "        plt.ylabel('Loss')\n",
    "        plt.title('Model Performance')\n",
    "        plt.legend(['Training Loss', 'Validation Loss'])\n",
    "        plt.show()\n",
    "     \n",
    "    #Cycles is complete\n",
    "    print('Training process is now completed')\n",
    "#++++++++++++++++++"
   ]
  },
  {
   "cell_type": "markdown",
   "id": "c2373e29-1f0c-4e7f-82d4-3094fa25d01b",
   "metadata": {},
   "source": [
    "---"
   ]
  },
  {
   "cell_type": "markdown",
   "id": "8dc628d4-fb4c-4cec-9a8d-e42fa22fcc37",
   "metadata": {},
   "source": [
    "We are then moving on to training the model:\n",
    "- Since with this problem, we want to train the model until it becomes the best model, so that we can use that model to visualise the images from the bottleneck layer of the CNN AutoEncoder model above onto a 2D coordinate graph. We will train the model as follows:"
   ]
  },
  {
   "cell_type": "code",
   "execution_count": 60,
   "id": "9df60eaf-19aa-44b8-8ca3-582d09e85d43",
   "metadata": {},
   "outputs": [
    {
     "name": "stdout",
     "output_type": "stream",
     "text": [
      "Entering training cycles with CNN AutoEncoder\n",
      "Epoch: 0 \tTraining_Loss: 0.170646 \t Validation_Loss: 0.118537\n",
      "Validation Loss decreased: (inf --> 0.118537). Saving.\n",
      "Epoch: 1 \tTraining_Loss: 0.098136 \t Validation_Loss: 0.081209\n",
      "Validation Loss decreased: (0.118537 --> 0.081209). Saving.\n",
      "Epoch: 2 \tTraining_Loss: 0.076679 \t Validation_Loss: 0.069489\n",
      "Validation Loss decreased: (0.081209 --> 0.069489). Saving.\n",
      "Epoch: 3 \tTraining_Loss: 0.068900 \t Validation_Loss: 0.064567\n",
      "Validation Loss decreased: (0.069489 --> 0.064567). Saving.\n",
      "Epoch: 4 \tTraining_Loss: 0.065675 \t Validation_Loss: 0.062804\n",
      "Validation Loss decreased: (0.064567 --> 0.062804). Saving.\n",
      "Epoch: 5 \tTraining_Loss: 0.064490 \t Validation_Loss: 0.062168\n",
      "Validation Loss decreased: (0.062804 --> 0.062168). Saving.\n",
      "Epoch: 6 \tTraining_Loss: 0.063901 \t Validation_Loss: 0.061965\n",
      "Validation Loss decreased: (0.062168 --> 0.061965). Saving.\n",
      "Epoch: 7 \tTraining_Loss: 0.063610 \t Validation_Loss: 0.061848\n",
      "Validation Loss decreased: (0.061965 --> 0.061848). Saving.\n",
      "Epoch: 8 \tTraining_Loss: 0.063459 \t Validation_Loss: 0.061883\n",
      "Epoch: 9 \tTraining_Loss: 0.063406 \t Validation_Loss: 0.061860\n",
      "Epoch: 10 \tTraining_Loss: 0.063382 \t Validation_Loss: 0.061872\n",
      "Epoch: 11 \tTraining_Loss: 0.063358 \t Validation_Loss: 0.061884\n",
      "Epoch: 12 \tTraining_Loss: 0.063346 \t Validation_Loss: 0.061868\n",
      "Epoch: 13 \tTraining_Loss: 0.063314 \t Validation_Loss: 0.061874\n",
      "Epoch: 14 \tTraining_Loss: 0.063292 \t Validation_Loss: 0.061887\n",
      "Epoch: 15 \tTraining_Loss: 0.063326 \t Validation_Loss: 0.061873\n",
      "Epoch: 16 \tTraining_Loss: 0.063260 \t Validation_Loss: 0.061834\n",
      "Validation Loss decreased: (0.061848 --> 0.061834). Saving.\n",
      "Epoch: 17 \tTraining_Loss: 0.063242 \t Validation_Loss: 0.061862\n",
      "Epoch: 18 \tTraining_Loss: 0.063236 \t Validation_Loss: 0.061851\n",
      "Epoch: 19 \tTraining_Loss: 0.063191 \t Validation_Loss: 0.061846\n"
     ]
    },
    {
     "data": {
      "image/png": "[encoded data removed]",
      "text/plain": [
       "<Figure size 640x480 with 1 Axes>"
      ]
     },
     "metadata": {},
     "output_type": "display_data"
    },
    {
     "name": "stdout",
     "output_type": "stream",
     "text": [
      "Training process is now completed\n"
     ]
    }
   ],
   "source": [
    "#train the model to the best model\n",
    "model = CNNAutoEncoder()\n",
    "optimiser = torch.optim.SGD(model.parameters(), lr = 0.01) #We use stochastic gradient descent as an optimiser for this model\n",
    "\n",
    "#train the model to the best model\n",
    "AutoEncoder_model_training(optimiser, model,\n",
    "                           nn.MSELoss(), #Mean Squared Error Loss\n",
    "                           train_loader, val_loader,\n",
    "                           n_epochs = 20, fplotloss = True, filename = \"_ver1\")"
   ]
  },
  {
   "cell_type": "markdown",
   "id": "3a25be70-31d0-476d-bd21-dc14d80b3ebe",
   "metadata": {},
   "source": [
    "Load the best model from all the trained model"
   ]
  },
  {
   "cell_type": "code",
   "execution_count": 61,
   "id": "218a08e8-0e17-4ab4-a5b4-6e84f12ebf24",
   "metadata": {},
   "outputs": [
    {
     "data": {
      "text/plain": [
       "<All keys matched successfully>"
      ]
     },
     "execution_count": 61,
     "metadata": {},
     "output_type": "execute_result"
    }
   ],
   "source": [
    "#load the best trained model:\n",
    "model.load_state_dict(torch.load(r'D:\\dong;s junior (WSU)\\Second Year - 2023\\Semester 2\\Machine Learning\\Assignment\\Assignment 2 - due 12 Nov\\bestCNNAutoEncoder_model_ver1.pt'))"
   ]
  },
  {
   "cell_type": "markdown",
   "id": "155580e3-e841-4b76-b528-56afc025d5d1",
   "metadata": {},
   "source": [
    "## Question 3 and 4:"
   ]
  },
  {
   "cell_type": "markdown",
   "id": "578021c2-b922-4a0e-858e-5baeae220941",
   "metadata": {},
   "source": [
    "With this question, we will use the output produced by the bottle neck layer of the best model as X and y coordinates for each of the images from the training set, and plot it to a 2D graph. Furthermore, from the `test_loader` dataset, we will plot 5 images coordinates after having it trained through the loaded best model above."
   ]
  },
  {
   "cell_type": "code",
   "execution_count": 62,
   "id": "417ad236-bacf-4800-92d1-c2a7a7da0785",
   "metadata": {},
   "outputs": [
    {
     "data": {
      "text/plain": [
       "<matplotlib.legend.Legend at 0x1d6b5b845b0>"
      ]
     },
     "execution_count": 62,
     "metadata": {},
     "output_type": "execute_result"
    },
    {
     "data": {
      "image/png": "[encoded data removed]",
      "text/plain": [
       "<Figure size 900x600 with 1 Axes>"
      ]
     },
     "metadata": {},
     "output_type": "display_data"
    }
   ],
   "source": [
    "#Create markers for each input of images\n",
    "X_sym = {2: '+', 1: '>' , 8: 'X'}\n",
    "X_col = {2: 'black', 1: 'red', 8:'green'}\n",
    "marker_1 = mlines.Line2D([],[], color = 'black', marker = '+', linestyle = 'None', markersize = 10, label = 'bird')\n",
    "marker_2 = mlines.Line2D([],[], color = 'red', marker = '>', linestyle = 'None', markersize = 10, label = 'automobile')\n",
    "marker_3 = mlines.Line2D([],[], color = 'green', marker = 'X', linestyle = 'None', markersize = 10, label = 'ship')\n",
    "marker_4 = mlines.Line2D([],[], color = 'blue', marker = '+', linestyle = 'None', markersize = 10, label = 'new images')\n",
    "\n",
    "\n",
    "plt.figure(figsize = (9,6))\n",
    "#for plotting dataset from the train_loader:\n",
    "for a in train_loader:\n",
    "    lbls = a[1]\n",
    "    output_btn, x_decoded = model(a[0])\n",
    "    output_plot = pd.DataFrame(data = output_btn.detach().numpy())\n",
    "    output_plot['labels'] = lbls.detach().numpy()\n",
    "    output_plot['color'] = output_plot['labels'].replace(X_col)\n",
    "    output_plot['symbols'] = output_plot['labels'].replace(X_sym)\n",
    "    for i in range(len(output_plot)):\n",
    "        plt.scatter(output_plot[0][i], output_plot[1][i], c = output_plot['color'][i], marker = output_plot['symbols'][i], s = 50)\n",
    "\n",
    "plt.title('2-D Embedding of training set CIFAR images')\n",
    "\n",
    "#for plotting the 5 new images from the test_loader:\n",
    "i = 0\n",
    "for a in test_loader:\n",
    "    if i <= 1:\n",
    "        lbls = a[1] \n",
    "        output_btn, x_decoded = model(a[0])\n",
    "        output_plot = pd.DataFrame(data = output_btn.detach().numpy())\n",
    "        output_plot['labels'] = lbls.detach().numpy()\n",
    "        output_plot['color'] = 'blue'\n",
    "        output_plot['symbols'] = '+'\n",
    "        for i in range(len(output_plot)):\n",
    "            plt.scatter(output_plot[0][i], output_plot[1][i], c = output_plot['color'][i], marker = output_plot['symbols'][i], s = 200)\n",
    "\n",
    "\n",
    "#finally we add in the legend for the plot\n",
    "plt.legend(handles = [marker_1, marker_2, marker_3, marker_4])"
   ]
  },
  {
   "cell_type": "markdown",
   "id": "c65fa214-b0a3-462f-9e3e-e448db8887c9",
   "metadata": {},
   "source": [
    "In terms of location of the 5 new images:\n",
    "- The 1st image with the coordinate of x, y: -0.09, -0.08, it is located on the far left side of the graph where it could belong to any of the 3 classes of images.\n",
    "- However, the 2nd image's coordinate (x, y: -0.05, -0.09), it could potentially belong to the bird class since the surrounding coordinates are mostly from bird class and only some are from the automobile class.\n",
    "- With the 3rd image's coordinate, it is more toward the middle top of the graph, where there are many clusters of ship coordinate points gathered over its place. Hence it is more persuasive to assume that this image belongs to the ship class.\n",
    "- Fourthly, the image with the coordinate of -0.02 on x and -0.12 on y, locates on the middle of graph where the surrounding classes are mostly bird, and automobile. Therefore, it could be either of the 2 classes.\n",
    "- Lastly, the last point of image (x, y: 0.01, -0.08), it could be either automobile class or ship class since the closest classes are these 2 classes.\n",
    "\n",
    "Overall, each point of the 5 new images is unique and distinct from each other in terms of locations. However, these are just assumptions made purely based on the insight given by the visualisation above, further investigation will be required to assess the labels of the 5 images."
   ]
  },
  {
   "cell_type": "markdown",
   "id": "c4b938c4-fa83-434e-9a9e-2a69d82c3a2c",
   "metadata": {},
   "source": [
    "---"
   ]
  },
  {
   "cell_type": "markdown",
   "id": "5cff7eaf-6a07-47df-84ec-35e0a5d923c4",
   "metadata": {},
   "source": [
    "# The Bonus Part:"
   ]
  },
  {
   "cell_type": "markdown",
   "id": "96a1801c-1dab-4f63-a8a6-66f061e0cfea",
   "metadata": {},
   "source": [
    "In this part, we create a supervised manifold learning model, where it will be used as both autoencoder and classification model. However, firstly, we need to redefine the label class for this dataset. Since we are only predicting 3 classes, the total classes we should have are 3 classes and each should be labelled consecutively. For instance, 0: ship, 1: automobile and 2: bird. Otherwise, it will not accurately predict the accuracy score later on for the model."
   ]
  },
  {
   "cell_type": "code",
   "execution_count": 63,
   "id": "60b12f94-c4bc-45b6-bb7a-f6089183f3d0",
   "metadata": {},
   "outputs": [],
   "source": [
    "#loading the dataset\n",
    "torch.manual_seed(0)\n",
    "CIF_dataset = CIFAR10(os.getcwd(), transform = transforms.ToTensor(), download = False) #CIFAR dataset\n",
    "CIF_dataset.targets[CIF_dataset.targets == 0] = 11 #airplane is now labelled as 11 #we will not use the airplane dataset\n",
    "CIF_dataset.targets[CIF_dataset.targets == 8] = 0 #ship is now labelled as 0\n",
    "#classes = ['airplane', 'automobile', 'bird', 'cat', 'deer', 'dog', 'frog', 'horse', 'ship', 'truch']"
   ]
  },
  {
   "cell_type": "markdown",
   "id": "3bb4ab1f-c54c-4003-9b63-fcfa58c275a4",
   "metadata": {},
   "source": [
    "Again, we then bind the row of indices together"
   ]
  },
  {
   "cell_type": "code",
   "execution_count": 64,
   "id": "98cf879e-138c-44d1-857c-67b472a8731b",
   "metadata": {},
   "outputs": [],
   "source": [
    "#From CIFAR-10 dataset, we select 100 images for each of the 3 classes:\n",
    "row_1 = list(np.where(np.array(CIF_dataset.targets) == 2)[0])[0:100]\n",
    "row_2 = list(np.where(np.array(CIF_dataset.targets) == 1)[0])[0:100]\n",
    "row_3 = list(np.where(np.array(CIF_dataset.targets) == 0)[0])[0:100]\n",
    "row_binded = row_1 + row_2 + row_3\n",
    "\n",
    "for i in range(10):\n",
    "    random.Random(i).shuffle(row_binded) #shuffled 10 times\n"
   ]
  },
  {
   "cell_type": "markdown",
   "id": "b5a29e05-4c9d-42ae-99f4-e78fe6322abe",
   "metadata": {},
   "source": [
    "We create a new subset of dataset which consists only ship, automobile and bird. And the label for ship is 0, automobile as 1 and bird as 2"
   ]
  },
  {
   "cell_type": "code",
   "execution_count": 65,
   "id": "d36aae49-4a47-4f96-85ef-aa1c0b3945c5",
   "metadata": {},
   "outputs": [],
   "source": [
    "#use subset to bind rows that matched:\n",
    "CIF_dataset1 = torch.utils.data.Subset(CIF_dataset, row_binded)\n",
    "#len(CIF_dataset1) #300 images for 3 classes (100 images per class)"
   ]
  },
  {
   "cell_type": "markdown",
   "id": "a89b4f38-af32-48fe-9711-0007b6f447ca",
   "metadata": {},
   "source": [
    "We split the `CIF_dataset1` into training set, validation set and test set for the model"
   ]
  },
  {
   "cell_type": "code",
   "execution_count": 66,
   "id": "35d9764d-7406-4aa8-ad33-d33fa2ba35b3",
   "metadata": {},
   "outputs": [],
   "source": [
    "#Create sets for training, valdating and testing\n",
    "train_dataset, val_dataset, test_dataset = torch.utils.data.random_split(CIF_dataset1, [100,100,100])\n",
    "\n",
    "#Load data\n",
    "train_loader = torch.utils.data.DataLoader(train_dataset, batch_size = 5, shuffle = True)\n",
    "val_loader = torch.utils.data.DataLoader(val_dataset, batch_size = 5, shuffle = True)\n",
    "test_loader = torch.utils.data.DataLoader(test_dataset, batch_size = 5, shuffle = False)"
   ]
  },
  {
   "cell_type": "markdown",
   "id": "1001a626-73bd-4c39-9593-06bc395dbbb6",
   "metadata": {},
   "source": [
    "---"
   ]
  },
  {
   "cell_type": "markdown",
   "id": "4a95eb6f-8cee-499b-86ae-1dbb64f144f4",
   "metadata": {},
   "source": [
    "We then move on creating a supervised learning model which will be used to classify images'labels"
   ]
  },
  {
   "cell_type": "code",
   "execution_count": 67,
   "id": "c4f7b638-f324-4fc2-9de4-aa9877554515",
   "metadata": {},
   "outputs": [],
   "source": [
    "#+++++++++++++++++++\n",
    "#CNN AUTOENCODER\n",
    "class CNNAutoEncoderCls(nn.Module):\n",
    "    def __init__(self):\n",
    "        super().__init__()\n",
    "        \n",
    "        #N, 3, 32 * 32 size\n",
    "        self.encoder_layer = nn.Sequential(\n",
    "            # Conv_layer block 1\n",
    "            nn.Conv2d(in_channels = 3, out_channels = 32, kernel_size = 5, padding = 2), #32 x 32 x 32\n",
    "            nn.BatchNorm2d(32),\n",
    "            nn.ReLU(inplace = True),\n",
    "\n",
    "            #Conv_layer block 2\n",
    "            nn.Conv2d(in_channels = 32, out_channels = 16, kernel_size = 3, padding = 1), #16 x 32 x 32\n",
    "            nn.ReLU(inplace = True),\n",
    "\n",
    "            #Conv_layer block 3\n",
    "            nn.Conv2d(in_channels = 16, out_channels = 16, kernel_size = 5, padding = 2), #16 x 32 x 32\n",
    "            nn.ReLU(inplace = True),\n",
    "            nn.MaxPool2d(kernel_size = 2, stride = 2), #16 x 16 x 16\n",
    "\n",
    "            #Conv_layer block 4\n",
    "            nn.Conv2d(in_channels = 16, out_channels = 8, kernel_size = 3, padding = 1), #8 x 16 x 16\n",
    "            nn.ReLU(inplace = True),\n",
    "            nn.MaxPool2d(kernel_size = 2, stride = 2) #8 x 8 x 8\n",
    "            )\n",
    "            \n",
    "        \n",
    "        self.fc_layer = nn.Sequential(\n",
    "            nn.Dropout(p = 0.1),\n",
    "            nn.Linear(8 * 8 * 8, 128),\n",
    "            nn.ReLU(inplace = True),\n",
    "            nn.Linear(128, 64),\n",
    "            nn.ReLU(inplace = True),\n",
    "            nn.Linear(64, 32),\n",
    "            nn.ReLU(inplace = True),\n",
    "            nn.Dropout(p = 0.07),\n",
    "            nn.Linear(32, 3), #there are 3 classes in total\n",
    "            nn.Softmax(dim = 1)\n",
    "            )\n",
    "            \n",
    "    \n",
    "    def forward(self, x):\n",
    "        #encoder_layer\n",
    "        encoder_val = self.encoder_layer(x)\n",
    "\n",
    "        #flatten\n",
    "        encoder_val = encoder_val.view(encoder_val.size(0), - 1)\n",
    "\n",
    "        #fc_layer\n",
    "        encoder_val = self.fc_layer(encoder_val)\n",
    "\n",
    "        return encoder_val\n",
    "#+++++++++++++++++++"
   ]
  },
  {
   "cell_type": "markdown",
   "id": "e5116bb4-c12b-4843-8e82-4dc8c3b61f33",
   "metadata": {},
   "source": [
    "The code below is a training model used to train to classify images'labels. It will require some of the inputs such as:\n",
    "- optimiser\n",
    "- model\n",
    "- loss function parameter\n",
    "- train dataloader\n",
    "- validation dataloader\n",
    "- number of epochs for the training model\n",
    "- etc (as mentioned in the section below)"
   ]
  },
  {
   "cell_type": "code",
   "execution_count": 68,
   "id": "86f505d1-ede6-459a-b030-61d490857232",
   "metadata": {},
   "outputs": [],
   "source": [
    "#+++++++++++++++++++\n",
    "def AutoEncoderCls_model_training(optimiser, model, \n",
    "                               Loss_function, \n",
    "                               trainloader, valloader, \n",
    "                               n_epochs = 10, fplotloss = True, #fdraw = False,\n",
    "                               filename = ''): \n",
    "    train_on_gpu = torch.cuda.is_available()\n",
    "    if train_on_gpu:\n",
    "        print(\"GPU available! Train model on GPU.\")\n",
    "        model.cuda()\n",
    "        \n",
    "    #tracking\n",
    "    train_LossList = []\n",
    "    val_LossList = []\n",
    "    \n",
    "    val_Loss_Min = np.Inf\n",
    "    \n",
    "    #Entering Training Cycles\n",
    "    print(\"Entering training cycles with CNN AutoEncoder\")\n",
    "    for epoch in [*range(n_epochs)]:\n",
    "        \n",
    "        #keeping tacking of training loss and validation loss\n",
    "        train_Loss = 0.0\n",
    "        val_Loss = 0.0\n",
    "\n",
    "        \n",
    "        #for train model\n",
    "        model.train()\n",
    "        for data, target in trainloader:\n",
    "            if train_on_gpu:\n",
    "                data, target = data.cuda(), target.cuda()  \n",
    "            \n",
    "            #clear gradient of all optimised variables\n",
    "            optimiser.zero_grad()\n",
    "            \n",
    "            #forward pass: predicted outputs by passing inputs to the model\n",
    "            output = model(data)\n",
    "            \n",
    "            #batch loss:\n",
    "            Batch_Loss = Loss_function(output, target)\n",
    "            \n",
    "            #backward pass: compute gradients of the loss with respect to model parameters\n",
    "            Batch_Loss.backward()\n",
    "            \n",
    "            #optimisation step (parameter update)\n",
    "            optimiser.step()\n",
    "            \n",
    "            #update training Loss\n",
    "            train_Loss += Batch_Loss.item() * data.size(0)\n",
    "\n",
    "        #validate the model\n",
    "        model.eval()\n",
    "        for data, target in valloader:   \n",
    "            if train_on_gpu:\n",
    "                data, target = data.cuda(), target.cuda()   \n",
    "            #forward pass: predicts outputs by passing inputs to the model\n",
    "            output = model(data)            \n",
    "            #batch_loss:\n",
    "            Batch_Loss = Loss_function(output, target)\n",
    "            #Update validation loss:\n",
    "            val_Loss += Batch_Loss.item() * data.size(0)\n",
    "            \n",
    "        #Calculate avg losses\n",
    "        train_Loss = train_Loss / len(trainloader.dataset)\n",
    "        val_Loss = val_Loss / len(valloader.dataset)\n",
    "        \n",
    "        #append the Loss values to the Loss lists declared\n",
    "        train_LossList.append(train_Loss)\n",
    "        val_LossList.append(val_Loss)\n",
    "        \n",
    "        #print the statistics\n",
    "        print('Epoch: {} \\tTraining_Loss: {:.6f} \\t Validation_Loss: {:.6f}'.format(epoch, train_Loss, val_Loss))\n",
    "\n",
    "        #if validation loss decreased\n",
    "        if val_Loss <= val_Loss_Min: #print if val loss decreased\n",
    "            print('Validation Loss decreased: ({:.6f} --> {:.6f}). Saving..'.format(val_Loss_Min, val_Loss))\n",
    "            torch.save(model.state_dict(), 'bestCNNAutoEncoder_Cls' + filename + '.pt')\n",
    "            val_Loss_Min = val_Loss\n",
    "            \n",
    "            \n",
    "            \n",
    "    #Plot Training and Validation Loss if fplotloss = True\n",
    "    if fplotloss == True:\n",
    "        plt.plot(*range(n_epochs), train_LossList)\n",
    "        plt.plot(*range(n_epochs), val_LossList)\n",
    "        plt.ylim((min(train_LossList + val_LossList), max(train_LossList + val_LossList)))\n",
    "        plt.xlabel('Epoch_n:')\n",
    "        plt.ylabel('Loss')\n",
    "        plt.title('Model Performance')\n",
    "        plt.legend(['Training Loss', 'Validation Loss'])\n",
    "        plt.show()\n",
    "     \n",
    "    #Cycles is complete\n",
    "    print('Training process is now completed')\n",
    "#++++++++++++++++++"
   ]
  },
  {
   "cell_type": "markdown",
   "id": "4b3d7b75-36dd-4045-83de-0c38cc32bbe4",
   "metadata": {},
   "source": [
    "We are then create an accuracy score function to calculate the overall accuracy score of the model on classifying images' labels"
   ]
  },
  {
   "cell_type": "code",
   "execution_count": 69,
   "id": "f164ba64-3958-461b-94b1-6afa501da14f",
   "metadata": {},
   "outputs": [],
   "source": [
    "#++++++++++++++++++++++++    \n",
    "#accuracy\n",
    "def Accuracy_score(y_pred, y):\n",
    "#y_pred: predicted output\n",
    "#y: true labels\n",
    "    top_y_pred = y_pred.argmax(1, keepdim = True)\n",
    "    correct = top_y_pred.eq(y.view_as(top_y_pred)).sum()\n",
    "    accuracy_score = correct.float() / y.shape[0]\n",
    "    return accuracy_score, top_y_pred\n",
    "\n",
    "#+++++++++++++++++++++++++"
   ]
  },
  {
   "cell_type": "markdown",
   "id": "7635d09a-0095-4b91-bfe0-d9187da48fdb",
   "metadata": {},
   "source": [
    "---"
   ]
  },
  {
   "cell_type": "markdown",
   "id": "f83c8f2b-2332-4838-b40b-f54bdea46e2b",
   "metadata": {},
   "source": [
    "And then we train the model with training set and validation set"
   ]
  },
  {
   "cell_type": "code",
   "execution_count": 70,
   "id": "9e497a8f-2ebc-4f52-9808-d67ef2cfce55",
   "metadata": {},
   "outputs": [
    {
     "name": "stdout",
     "output_type": "stream",
     "text": [
      "Entering training cycles with CNN AutoEncoder\n",
      "Epoch: 0 \tTraining_Loss: 1.098314 \t Validation_Loss: 1.097691\n",
      "Validation Loss decreased: (inf --> 1.097691). Saving..\n",
      "Epoch: 1 \tTraining_Loss: 1.098257 \t Validation_Loss: 1.097641\n",
      "Validation Loss decreased: (1.097691 --> 1.097641). Saving..\n",
      "Epoch: 2 \tTraining_Loss: 1.097443 \t Validation_Loss: 1.097585\n",
      "Validation Loss decreased: (1.097641 --> 1.097585). Saving..\n",
      "Epoch: 3 \tTraining_Loss: 1.097215 \t Validation_Loss: 1.097527\n",
      "Validation Loss decreased: (1.097585 --> 1.097527). Saving..\n",
      "Epoch: 4 \tTraining_Loss: 1.097614 \t Validation_Loss: 1.097480\n",
      "Validation Loss decreased: (1.097527 --> 1.097480). Saving..\n",
      "Epoch: 5 \tTraining_Loss: 1.097130 \t Validation_Loss: 1.097451\n",
      "Validation Loss decreased: (1.097480 --> 1.097451). Saving..\n",
      "Epoch: 6 \tTraining_Loss: 1.097326 \t Validation_Loss: 1.097403\n",
      "Validation Loss decreased: (1.097451 --> 1.097403). Saving..\n",
      "Epoch: 7 \tTraining_Loss: 1.097270 \t Validation_Loss: 1.097375\n",
      "Validation Loss decreased: (1.097403 --> 1.097375). Saving..\n",
      "Epoch: 8 \tTraining_Loss: 1.097451 \t Validation_Loss: 1.097343\n",
      "Validation Loss decreased: (1.097375 --> 1.097343). Saving..\n",
      "Epoch: 9 \tTraining_Loss: 1.097602 \t Validation_Loss: 1.097321\n",
      "Validation Loss decreased: (1.097343 --> 1.097321). Saving..\n",
      "Epoch: 10 \tTraining_Loss: 1.097193 \t Validation_Loss: 1.097301\n",
      "Validation Loss decreased: (1.097321 --> 1.097301). Saving..\n",
      "Epoch: 11 \tTraining_Loss: 1.097169 \t Validation_Loss: 1.097291\n",
      "Validation Loss decreased: (1.097301 --> 1.097291). Saving..\n",
      "Epoch: 12 \tTraining_Loss: 1.097084 \t Validation_Loss: 1.097290\n",
      "Validation Loss decreased: (1.097291 --> 1.097290). Saving..\n",
      "Epoch: 13 \tTraining_Loss: 1.096981 \t Validation_Loss: 1.097275\n",
      "Validation Loss decreased: (1.097290 --> 1.097275). Saving..\n",
      "Epoch: 14 \tTraining_Loss: 1.097114 \t Validation_Loss: 1.097262\n",
      "Validation Loss decreased: (1.097275 --> 1.097262). Saving..\n",
      "Epoch: 15 \tTraining_Loss: 1.097103 \t Validation_Loss: 1.097247\n",
      "Validation Loss decreased: (1.097262 --> 1.097247). Saving..\n",
      "Epoch: 16 \tTraining_Loss: 1.096397 \t Validation_Loss: 1.097230\n",
      "Validation Loss decreased: (1.097247 --> 1.097230). Saving..\n",
      "Epoch: 17 \tTraining_Loss: 1.097071 \t Validation_Loss: 1.097230\n",
      "Validation Loss decreased: (1.097230 --> 1.097230). Saving..\n",
      "Epoch: 18 \tTraining_Loss: 1.096804 \t Validation_Loss: 1.097215\n",
      "Validation Loss decreased: (1.097230 --> 1.097215). Saving..\n",
      "Epoch: 19 \tTraining_Loss: 1.097510 \t Validation_Loss: 1.097197\n",
      "Validation Loss decreased: (1.097215 --> 1.097197). Saving..\n",
      "Epoch: 20 \tTraining_Loss: 1.096473 \t Validation_Loss: 1.097160\n",
      "Validation Loss decreased: (1.097197 --> 1.097160). Saving..\n",
      "Epoch: 21 \tTraining_Loss: 1.096781 \t Validation_Loss: 1.097154\n",
      "Validation Loss decreased: (1.097160 --> 1.097154). Saving..\n",
      "Epoch: 22 \tTraining_Loss: 1.096599 \t Validation_Loss: 1.097136\n",
      "Validation Loss decreased: (1.097154 --> 1.097136). Saving..\n",
      "Epoch: 23 \tTraining_Loss: 1.096814 \t Validation_Loss: 1.097105\n",
      "Validation Loss decreased: (1.097136 --> 1.097105). Saving..\n",
      "Epoch: 24 \tTraining_Loss: 1.096466 \t Validation_Loss: 1.097070\n",
      "Validation Loss decreased: (1.097105 --> 1.097070). Saving..\n",
      "Training process is now completed\n"
     ]
    }
   ],
   "source": [
    "#torch.manual_seed(42)\n",
    "model = CNNAutoEncoderCls()\n",
    "optimiser = torch.optim.SGD(model.parameters(), lr = 0.1)\n",
    "\n",
    "AutoEncoderCls_model_training(optimiser = optimiser, model = model, Loss_function = nn.CrossEntropyLoss(),\n",
    "                           trainloader = train_loader, valloader = val_loader,\n",
    "                           n_epochs = 25, fplotloss = False, filename = '_ver1')"
   ]
  },
  {
   "cell_type": "markdown",
   "id": "54024fbd-2e30-48a3-9bef-28a235e361e9",
   "metadata": {},
   "source": [
    "We load the best classification model"
   ]
  },
  {
   "cell_type": "code",
   "execution_count": 71,
   "id": "c0c9781e-ae6f-40be-9e4d-0de0322d9085",
   "metadata": {},
   "outputs": [
    {
     "data": {
      "text/plain": [
       "<All keys matched successfully>"
      ]
     },
     "execution_count": 71,
     "metadata": {},
     "output_type": "execute_result"
    }
   ],
   "source": [
    "#load the best trained model\n",
    "model.load_state_dict(torch.load(r'D:\\dong;s junior (WSU)\\Second Year - 2023\\Semester 2\\Machine Learning\\Assignment\\Assignment 2 - due 12 Nov\\bestCNNAutoEncoder_Cls_ver1.pt'))"
   ]
  },
  {
   "cell_type": "markdown",
   "id": "661cfccb-8fac-4237-b500-8a2922875586",
   "metadata": {},
   "source": [
    "Calculate the accuracy score of the model"
   ]
  },
  {
   "cell_type": "code",
   "execution_count": 72,
   "id": "a16eb4a3-6490-429e-abb8-1ff814aa6e76",
   "metadata": {},
   "outputs": [
    {
     "name": "stdout",
     "output_type": "stream",
     "text": [
      "Total accuracy:  0.39\n"
     ]
    }
   ],
   "source": [
    "#Test the trained model\n",
    "for i, data in enumerate(test_loader, 0):\n",
    "    inputs, targets = data\n",
    "    acc, y = Accuracy_score(model(inputs),targets)\n",
    "    if i == 0:\n",
    "        pred_y = y\n",
    "        true_y = targets\n",
    "    else: \n",
    "        pred_y = torch.cat((pred_y, y))\n",
    "        true_y = torch.cat((true_y, targets))\n",
    "            \n",
    "acc,_ = Accuracy_score(pred_y,true_y)  \n",
    "print(\"Total accuracy: \",acc.detach().numpy())"
   ]
  },
  {
   "cell_type": "markdown",
   "id": "8ad82bed-f7d7-49a1-a2cd-2f99361a4b8f",
   "metadata": {},
   "source": [
    "Overall, the total accuracy of the supervised model above is around 39%, which means this model is fairly acceptable as its total accuracy score is not high enough to accurately classify the images' labels. Further improvement could have been done to increase model's accuracy by increasing the number of epochs trained, adding more convolutional layers, etc. "
   ]
  },
  {
   "cell_type": "markdown",
   "id": "77d09c8c-e5d7-4b28-92ca-a18256a2a6e0",
   "metadata": {},
   "source": [
    "# The End"
   ]
  }
 ],
 "metadata": {
  "kernelspec": {
   "display_name": "Python 3 (ipykernel)",
   "language": "python",
   "name": "python3"
  },
  "language_info": {
   "codemirror_mode": {
    "name": "ipython",
    "version": 3
   },
   "file_extension": ".py",
   "mimetype": "text/x-python",
   "name": "python",
   "nbconvert_exporter": "python",
   "pygments_lexer": "ipython3",
   "version": "3.10.9"
  }
 },
 "nbformat": 4,
 "nbformat_minor": 5
}
