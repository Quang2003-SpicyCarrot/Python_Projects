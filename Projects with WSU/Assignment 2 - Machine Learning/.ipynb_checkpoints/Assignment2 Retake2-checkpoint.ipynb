{
 "cells": [
  {
   "cell_type": "code",
   "execution_count": 1,
   "id": "bdae0fe5-f28c-4dea-bf73-13791ff51ed0",
   "metadata": {},
   "outputs": [],
   "source": [
    "import numpy as np\n",
    "import os\n",
    "import random\n",
    "import matplotlib.pyplot as plt\n",
    "\n",
    "#random split modules\n",
    "from torch.utils.data import random_split\n",
    "\n",
    "#to load and normalise CIFAR10\n",
    "import torch\n",
    "from torch.utils.data import DataLoader\n",
    "from torch import nn\n",
    "from torch.nn import ConvTranspose2d\n",
    "\n",
    "import torchvision\n",
    "from torchvision import transforms \n",
    "from torchviz import make_dot\n",
    "from torchvision.datasets import CIFAR10\n",
    "from torchviz import make_dot\n",
    "import hiddenlayer as hl\n",
    "\n",
    "\n",
    "from sklearn.decomposition import PCA\n",
    "from sklearn.manifold import TSNE\n",
    "import pandas as pd\n"
   ]
  },
  {
   "cell_type": "code",
   "execution_count": 2,
   "id": "d6a27b2c-21bf-40b0-8f34-2c7c09ec1bf3",
   "metadata": {},
   "outputs": [],
   "source": [
    "CIF_dataset = CIFAR10(os.getcwd(), transform = transforms.ToTensor(), download = False) #CIFAR dataset"
   ]
  },
  {
   "cell_type": "code",
   "execution_count": 3,
   "id": "735e9edf-65c0-4b63-bd59-9664be51ee33",
   "metadata": {},
   "outputs": [
    {
     "data": {
      "text/plain": [
       "[2, 1, 8]"
      ]
     },
     "execution_count": 3,
     "metadata": {},
     "output_type": "execute_result"
    }
   ],
   "source": [
    "random.seed(1)\n",
    "random.sample(range(0,9), 3)\n",
    "#this return 2, 1, 8 which stand for bird, automobile and ship"
   ]
  },
  {
   "cell_type": "code",
   "execution_count": 4,
   "id": "ddfcbdac-8965-4507-b16e-e11bbea434a8",
   "metadata": {},
   "outputs": [],
   "source": [
    "r1 = list(np.where(np.array(CIF_dataset.targets) == 2)[0])[0:100]\n",
    "r2 = list(np.where(np.array(CIF_dataset.targets) == 1)[0])[0:100]\n",
    "r3 = list(np.where(np.array(CIF_dataset.targets) == 8)[0])[0:100]\n",
    "r_total = r1 + r2 + r3"
   ]
  },
  {
   "cell_type": "code",
   "execution_count": 5,
   "id": "d20b7901-e996-4412-b6c9-af2de8b0a3db",
   "metadata": {},
   "outputs": [
    {
     "data": {
      "text/plain": [
       "300"
      ]
     },
     "execution_count": 5,
     "metadata": {},
     "output_type": "execute_result"
    }
   ],
   "source": [
    "dataset_CIF = torch.utils.data.Subset(CIF_dataset, r_total)\n",
    "len(dataset_CIF) #300 images with 100 per class (3 classes total)"
   ]
  },
  {
   "cell_type": "code",
   "execution_count": 6,
   "id": "eec44a14-203f-4c0b-880e-26d109267784",
   "metadata": {},
   "outputs": [],
   "source": [
    "train_dataset, val_data = torch.utils.data.random_split(dataset_CIF, [200,100])"
   ]
  },
  {
   "cell_type": "code",
   "execution_count": 7,
   "id": "1cf48cfc-49f5-4fb0-99e1-80665024df61",
   "metadata": {},
   "outputs": [
    {
     "data": {
      "text/plain": [
       "(3, 32, 32)"
      ]
     },
     "execution_count": 7,
     "metadata": {},
     "output_type": "execute_result"
    }
   ],
   "source": [
    "np.array(train_dataset[0][0]).shape"
   ]
  },
  {
   "cell_type": "code",
   "execution_count": 8,
   "id": "54d2c66d-6aef-4fb2-9573-91f5c20c9feb",
   "metadata": {},
   "outputs": [],
   "source": [
    "torch.manual_seed(0)\n",
    "train_loader = torch.utils.data.DataLoader(train_dataset, batch_size = 5, shuffle = False)\n",
    "val_loadpck = torch.utils.data.DataLoader(val_data, batch_size = 5, shuffle = False)"
   ]
  },
  {
   "cell_type": "code",
   "execution_count": 9,
   "id": "83ed9c3f-8c2a-493f-8423-be02b68d020b",
   "metadata": {},
   "outputs": [],
   "source": [
    "classes = ['airplane', 'automobile', 'bird', 'cat', 'deer', 'dog', 'frog', 'horse', 'ship', 'truck']"
   ]
  },
  {
   "cell_type": "markdown",
   "id": "100a2cd0-178d-4adf-ba57-12cfa0681deb",
   "metadata": {},
   "source": [
    "---"
   ]
  },
  {
   "cell_type": "code",
   "execution_count": 10,
   "id": "320baf15-5624-47ca-889b-ae3a622b1393",
   "metadata": {},
   "outputs": [],
   "source": [
    "class CNNAutoEncoder(nn.Module):\n",
    "    def __init__(self):\n",
    "        \n",
    "        #N, 3, 32 * 32 = 1024\n",
    "        super().__init__()\n",
    "        self.encoder_layer = nn.Sequential(\n",
    "            # Conv Layer block \n",
    "            nn.Conv2d(in_channels=3, out_channels=32, kernel_size=3, padding=1), #32 x 32 x 32\n",
    "            nn.BatchNorm2d(32),\n",
    "            nn.ReLU(inplace=True),\n",
    "            \n",
    "            nn.Conv2d(in_channels=32, out_channels=16, kernel_size= 3, padding=1), #16 x 32 x 32\n",
    "            nn.BatchNorm2d(16),\n",
    "            nn.MaxPool2d(kernel_size=2, stride=2), #16 x 16 x 16\n",
    "            nn.BatchNorm2d(16)\n",
    "            )\n",
    "\n",
    "        self.bottle_neck = nn.Sequential(\n",
    "            nn.Linear(4096, 2)\n",
    "            )\n",
    "        \n",
    "        self.decoder_layer = nn.Sequential(\n",
    "            # Conv Layer block \n",
    "            nn.ConvTranspose2d(16, 32, 2, stride=2), #\n",
    "            nn.BatchNorm2d(32),            \n",
    "            nn.ReLU(inplace=True),\n",
    "            nn.Conv2d(32, 3, 3, padding = 1),\n",
    "            nn.ReLU(inplace = True),\n",
    "            nn.BatchNorm2d(3)\n",
    "            )\n",
    "    \n",
    "    def forward(self,x):\n",
    "        encoder_val = self.encoder_layer(x)\n",
    "        bottle_neck = encoder_val.view(encoder_val.size(0), - 1) #in terms of dimensionality, we fix it to be 2\n",
    "        bottle_neck = self.bottle_neck(bottle_neck)\n",
    "        x = self.decoder_layer(encoder_val)\n",
    "        label = a[1]\n",
    "        return bottle_neck, x, label\n",
    "\n",
    "model = CNNAutoEncoder()"
   ]
  },
  {
   "cell_type": "markdown",
   "id": "3cf8c62e-fd45-4175-8e49-1f6240c49e7a",
   "metadata": {},
   "source": [
    "# Question 3"
   ]
  },
  {
   "cell_type": "code",
   "execution_count": 11,
   "id": "165884c0-83d4-438f-8a00-7c666d08ce57",
   "metadata": {},
   "outputs": [
    {
     "data": {
      "image/png": "[encoded data removed]",
      "text/plain": [
       "<Figure size 640x480 with 1 Axes>"
      ]
     },
     "metadata": {},
     "output_type": "display_data"
    }
   ],
   "source": [
    "X_sym = {2: '+', 1: '>' , 8: 'X'}\n",
    "X_col = {2: 'black', 1: 'red', 8:'green'}\n",
    "\n",
    "#for plotting train_loader:\n",
    "for a in train_loader:\n",
    "    output_btn, x_decoded, lbls = model(a[0])\n",
    "    #print(output.detach().numpy().tolist())\n",
    "    output_plot = pd.DataFrame(data = output_btn.detach().numpy())\n",
    "    output_plot['labels'] = lbls.detach().numpy()\n",
    "    output_plot['color'] = output_plot['labels'].replace(X_col)\n",
    "    output_plot['symbols'] = output_plot['labels'].replace(X_sym)\n",
    "    for i in range(len(output_plot)):\n",
    "        plt.scatter(output_plot[0][i], output_plot[1][i], c = output_plot['color'][i], marker = output_plot['symbols'][i], s = 50)\n",
    "\n",
    "plt.title('2-D coordinates representation of train_loader dataset')\n",
    "\n",
    "#for plotting the 5 new images:\n",
    "i = 0\n",
    "for a in val_loadpck:\n",
    "    if i <= 1:\n",
    "        output_btn, x_decoded, lbls = model(a[0])\n",
    "        output_plot = pd.DataFrame(data = output_btn.detach().numpy())\n",
    "        output_plot['labels'] = lbls.detach().numpy()\n",
    "        output_plot['color'] = 'blue'\n",
    "        output_plot['symbols'] = 'X'\n",
    "        for i in range(len(output_plot)):\n",
    "            plt.scatter(output_plot[0][i], output_plot[1][i], c = output_plot['color'][i], marker = output_plot['symbols'][i], s = 50)\n",
    "    "
   ]
  }
 ],
 "metadata": {
  "kernelspec": {
   "display_name": "Python 3 (ipykernel)",
   "language": "python",
   "name": "python3"
  },
  "language_info": {
   "codemirror_mode": {
    "name": "ipython",
    "version": 3
   },
   "file_extension": ".py",
   "mimetype": "text/x-python",
   "name": "python",
   "nbconvert_exporter": "python",
   "pygments_lexer": "ipython3",
   "version": "3.10.9"
  }
 },
 "nbformat": 4,
 "nbformat_minor": 5
}
