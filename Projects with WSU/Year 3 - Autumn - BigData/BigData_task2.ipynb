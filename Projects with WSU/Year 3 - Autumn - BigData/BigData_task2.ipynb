{
 "cells": [
  {
   "cell_type": "markdown",
   "metadata": {},
   "source": [
    "- Task 1: Import data, analyse data for columns,\n",
    "- Task 2: Split train test,\n",
    "- Task 3: transformations (after splitting, because we dont want data leakage),  binning (If possible?), then PCA\n",
    "- Task 4: Define a model # we will use unsupervised techniques here (KNN, )"
   ]
  },
  {
   "cell_type": "code",
   "execution_count": 1,
   "metadata": {},
   "outputs": [],
   "source": [
    "#store wordlist.txt into variable named wordlist\n",
    "f = open(\"wordlist.txt\")\n",
    "train_test_wordlist = eval(f.read())\n",
    "\n",
    "#store each review TFIDF as a dict into variable named review_TFIDF\n",
    "f = open(\"fileTFIDFdict.txt\")\n",
    "train_test_review_TFIDF = eval(f.read())\n",
    "\n",
    "#rating of each review\n",
    "f = open(\"rating_score.txt\")\n",
    "train_test_rating_score = eval(f.read()) #contain file realname and rating score as dict"
   ]
  },
  {
   "cell_type": "code",
   "execution_count": 2,
   "metadata": {},
   "outputs": [
    {
     "data": {
      "text/plain": [
       "True"
      ]
     },
     "execution_count": 2,
     "metadata": {},
     "output_type": "execute_result"
    }
   ],
   "source": [
    "#check if train_test_wordlist contain unique words\n",
    "len(train_test_wordlist) == len(set(train_test_wordlist))"
   ]
  },
  {
   "cell_type": "markdown",
   "metadata": {},
   "source": [
    "# Training and Testing Data"
   ]
  },
  {
   "cell_type": "code",
   "execution_count": 3,
   "metadata": {},
   "outputs": [],
   "source": [
    "import numpy as np\n",
    "import pandas as pd\n",
    "from sklearn.model_selection import train_test_split\n",
    "from sklearn.svm import SVC\n",
    "from sklearn.model_selection import train_test_split\n",
    "from sklearn.preprocessing import MaxAbsScaler\n",
    "from sklearn.decomposition import PCA\n",
    "from sklearn.metrics import confusion_matrix\n",
    "from sklearn.model_selection import GridSearchCV\n",
    "import nltk\n",
    "from nltk.corpus import words\n",
    "#nltk.download('words')"
   ]
  },
  {
   "cell_type": "code",
   "execution_count": 4,
   "metadata": {},
   "outputs": [],
   "source": [
    "def data_preparation(review_TFIDF, wordlist, rating_score):\n",
    "    \n",
    "    train_test_data = pd.DataFrame(review_TFIDF).transpose()\n",
    "    train_test_data = train_test_data.set_axis(wordlist, axis = 1) # 3238 columns and 60 rows (words and file realname)\n",
    "    train_test_target = pd.DataFrame([rating_score]).transpose() #1 columns and 60 rows (rating score and file realname)\n",
    "    train_test_target = np.where(train_test_target > 5, 1, 0) #1 for positive review, 0 for negative review\n",
    "\n",
    "    #remove words that do not appear in the English dictionary using nltk.corpus.words.words() dataset\n",
    "    #english_words = set(words.words())\n",
    "    #train_test_data = train_test_data.loc[:, train_test_data.columns.isin(english_words)]\n",
    "    \n",
    "    #Train test split of data\n",
    "    X_train, X_test, y_train, y_test = train_test_split(train_test_data, train_test_target, test_size = 0.2, random_state = 1)\n",
    "    return X_train, X_test, y_train, y_test"
   ]
  },
  {
   "cell_type": "code",
   "execution_count": 5,
   "metadata": {},
   "outputs": [
    {
     "data": {
      "text/plain": [
       "0\n",
       "0    30\n",
       "1    30\n",
       "Name: count, dtype: int64"
      ]
     },
     "execution_count": 5,
     "metadata": {},
     "output_type": "execute_result"
    }
   ],
   "source": [
    "train_test_data = pd.DataFrame(train_test_review_TFIDF).transpose()\n",
    "train_test_data = train_test_data.set_axis(train_test_wordlist, axis = 1) \n",
    "train_test_data\n",
    "\n",
    "\n",
    "train_test_target = pd.DataFrame([train_test_rating_score]).transpose() #1 columns and 60 rows (rating score and file realname)\n",
    "train_test_target = np.where(train_test_target > 5, 1, 0) #1 for positive review, 0 for negative review\n",
    "np.unique(train_test_target, return_counts = True)\n",
    "\n",
    "#calculate the number of positive and negative reviews in the dataset\n",
    "train_test_target = pd.DataFrame(train_test_target)\n",
    "train_test_target.value_counts()"
   ]
  },
  {
   "cell_type": "code",
   "execution_count": 20,
   "metadata": {},
   "outputs": [
    {
     "data": {
      "image/png": "[encoded data removed]",
      "text/plain": [
       "<Figure size 640x480 with 1 Axes>"
      ]
     },
     "metadata": {},
     "output_type": "display_data"
    }
   ],
   "source": [
    "# create a historgram of the rating score\n",
    "import matplotlib.pyplot as plt\n",
    "plt.hist(train_test_rating_score.values(), bins = 10)\n",
    "plt.xlabel('Rating Score')\n",
    "plt.ylabel('Frequency')\n",
    "plt.title('Rating Score Distribution')\n",
    "plt.show()"
   ]
  },
  {
   "cell_type": "markdown",
   "metadata": {},
   "source": [
    "# Modelling"
   ]
  },
  {
   "cell_type": "markdown",
   "metadata": {},
   "source": [
    "## Part 1: Normalised data model with SVC"
   ]
  },
  {
   "cell_type": "code",
   "execution_count": 45,
   "metadata": {},
   "outputs": [],
   "source": [
    "X_train, X_test, y_train, y_test = data_preparation(train_test_review_TFIDF, train_test_wordlist, train_test_rating_score)\n",
    "\n",
    "# Normalisation of data,we use maxAbs Scaler to scale data since, only positive values are present in the data\n",
    "scaler = MaxAbsScaler()\n",
    "X_train = scaler.fit_transform(X_train)\n",
    "X_test = scaler.transform(X_test)\n",
    "\n",
    "#---------------------------------SVC Model---------------------------------\n",
    "\n",
    "#Define data model with PCA and model SVC:\n",
    "def model_data_SVC(X_train, X_test, y_train, y_test):\n",
    "\n",
    "    # Applying PCA to reduce the dimensionality of the data\n",
    "    pca = PCA(n_components = 0.90, svd_solver = 'full') # 0.90 variance is retained\n",
    "    X_train = pca.fit_transform(X_train)\n",
    "    X_test = pca.transform(X_test)\n",
    "\n",
    "    # Linear SVC\n",
    "    clf = SVC(random_state=1)\n",
    "\n",
    "    ## Grid search\n",
    "    param_grid = {'C': [1, 5, 10],\n",
    "                  'kernel': ['linear', 'poly', 'rbf', 'sigmoid'],\n",
    "                  'degree': [1,2,4,6,7],}\n",
    "\n",
    "    gridClf = GridSearchCV(clf, param_grid, cv=2,verbose=0)\n",
    "    classifier_SVC_norm = gridClf.fit(X_train, y_train.ravel())\n",
    "\n",
    "    classifier_SVC_norm.best_score_\n",
    "\n",
    "    tn, fp, fn, tp = confusion_matrix(y_test, classifier_SVC_norm.predict(X_test)).ravel()\n",
    "    \n",
    "    #print(classifier_SVC_norm.best_score_, classifier_SVC_norm.best_params_, (tp+tn)/(tp+tn+fp+fn)*100)\n",
    "\n",
    "    return classifier_SVC_norm.best_score_, classifier_SVC_norm.best_params_, (tp+tn)/(tp+tn+fp+fn)*100 \n"
   ]
  },
  {
   "cell_type": "code",
   "execution_count": 166,
   "metadata": {},
   "outputs": [
    {
     "data": {
      "text/plain": [
       "(0.6458333333333334,\n",
       " {'C': 1, 'degree': 1, 'kernel': 'poly'},\n",
       " 83.33333333333334)"
      ]
     },
     "execution_count": 166,
     "metadata": {},
     "output_type": "execute_result"
    }
   ],
   "source": [
    "model_data_SVC(X_train, X_test, y_train, y_test)"
   ]
  },
  {
   "cell_type": "markdown",
   "metadata": {},
   "source": [
    "## Part 2: Unnormalised data with PCA with SVC model:"
   ]
  },
  {
   "cell_type": "code",
   "execution_count": 74,
   "metadata": {},
   "outputs": [
    {
     "data": {
      "text/plain": [
       "(0.6041666666666667, {'C': 1, 'degree': 1, 'kernel': 'sigmoid'}, 75.0)"
      ]
     },
     "execution_count": 74,
     "metadata": {},
     "output_type": "execute_result"
    }
   ],
   "source": [
    "# unnormalised data set for training and testing:\n",
    "X_train, X_test, y_train, y_test = data_preparation(train_test_review_TFIDF, train_test_wordlist, train_test_rating_score)\n",
    "\n",
    "#Apply model_data_SVC function to unnormalised data\n",
    "model_data_SVC(X_train, X_test, y_train, y_test)"
   ]
  },
  {
   "cell_type": "markdown",
   "metadata": {},
   "source": [
    "## Part 3: Normalised data without PCA with SVC model:\n"
   ]
  },
  {
   "cell_type": "code",
   "execution_count": 75,
   "metadata": {},
   "outputs": [],
   "source": [
    "#Define data model with PCA and model SVC:\n",
    "def model_data_SVC(X_train, X_test, y_train, y_test):\n",
    "    # Applying PCA to reduce the dimensionality of the data\n",
    "    #pca = PCA(n_components = 0.90, svd_solver = 'full') # 0.90 variance is retained\n",
    "    #X_train = pca.fit_transform(X_train)\n",
    "    #X_test = pca.transform(X_test)\n",
    "\n",
    "    # Linear SVC\n",
    "    clf = SVC(random_state=1)\n",
    "\n",
    "    ## Grid search\n",
    "    param_grid = {'C': [1, 5, 10],\n",
    "                  'kernel': ['linear', 'poly', 'rbf', 'sigmoid'],\n",
    "                  'degree': [1,2,4,6,7],}\n",
    "\n",
    "    gridClf = GridSearchCV(clf, param_grid, cv=2,verbose=0)\n",
    "    classifier_SVC_norm = gridClf.fit(X_train, y_train.ravel())\n",
    "\n",
    "    classifier_SVC_norm.best_score_\n",
    "\n",
    "    tn, fp, fn, tp = confusion_matrix(y_test, classifier_SVC_norm.predict(X_test)).ravel()\n",
    "    \n",
    "    #print(classifier_SVC_norm.best_score_, classifier_SVC_norm.best_params_, (tp+tn)/(tp+tn+fp+fn)*100)\n",
    "\n",
    "    return classifier_SVC_norm.best_score_, classifier_SVC_norm.best_params_, (tp+tn)/(tp+tn+fp+fn)*100 \n"
   ]
  },
  {
   "cell_type": "code",
   "execution_count": 76,
   "metadata": {},
   "outputs": [],
   "source": [
    "X_train, X_test, y_train, y_test = data_preparation(train_test_review_TFIDF, train_test_wordlist, train_test_rating_score)\n",
    "# Normalisation of data,we use maxAbs Scaler to scale data since, only positive values are present in the data\n",
    "scaler = MaxAbsScaler()\n",
    "X_train = scaler.fit_transform(X_train)\n",
    "X_test = scaler.transform(X_test)"
   ]
  },
  {
   "cell_type": "code",
   "execution_count": 77,
   "metadata": {},
   "outputs": [
    {
     "data": {
      "text/plain": [
       "(0.75, {'C': 1, 'degree': 1, 'kernel': 'linear'}, 66.66666666666666)"
      ]
     },
     "execution_count": 77,
     "metadata": {},
     "output_type": "execute_result"
    }
   ],
   "source": [
    "model_data_SVC(X_train, X_test, y_train, y_test)"
   ]
  },
  {
   "cell_type": "markdown",
   "metadata": {},
   "source": [
    "## Part 4: Unnormalised data without PCA and with SVC:"
   ]
  },
  {
   "cell_type": "code",
   "execution_count": 78,
   "metadata": {},
   "outputs": [
    {
     "data": {
      "text/plain": [
       "(0.7083333333333334,\n",
       " {'C': 5, 'degree': 1, 'kernel': 'sigmoid'},\n",
       " 58.333333333333336)"
      ]
     },
     "execution_count": 78,
     "metadata": {},
     "output_type": "execute_result"
    }
   ],
   "source": [
    "X_train, X_test, y_train, y_test = data_preparation(train_test_review_TFIDF, train_test_wordlist, train_test_rating_score)\n",
    "\n",
    "#Unnormalised data without PCA and with SVC:\n",
    "model_data_SVC(X_train, X_test, y_train, y_test)"
   ]
  },
  {
   "cell_type": "code",
   "execution_count": 81,
   "metadata": {},
   "outputs": [],
   "source": [
    "## Create gradient-boosted trees\n",
    "from sklearn.ensemble import GradientBoostingClassifier\n",
    "def model_data_gradient_boosted_trees(X_train, X_test, y_train, y_test):\n",
    "    clf = GradientBoostingClassifier(random_state=1)\n",
    "    pca = PCA(n_components = 0.90, svd_solver = 'full') # 0.90 variance is retained\n",
    "    X_train = pca.fit_transform(X_train)\n",
    "    X_test = pca.transform(X_test)\n",
    "\n",
    "    ## Grid search\n",
    "    param_grid = {'n_estimators': [100, 200],\n",
    "                  'learning_rate': [0.1, 0.05],\n",
    "                  'max_depth': [3,8,12],}\n",
    "\n",
    "    gridClf = GridSearchCV(clf, param_grid, cv=2,verbose=0)\n",
    "    classifier_gradient_boosted_trees = gridClf.fit(X_train, y_train.ravel())\n",
    "\n",
    "    classifier_gradient_boosted_trees.best_score_\n",
    "\n",
    "    tn, fp, fn, tp = confusion_matrix(y_test, classifier_gradient_boosted_trees.predict(X_test)).ravel()\n",
    "    \n",
    "    #print(classifier_gradient_boosted_trees.best_score_, classifier_gradient_boosted_trees.best_params_, (tp+tn)/(tp+tn+fp+fn)*100)\n",
    "\n",
    "    return classifier_gradient_boosted_trees.best_score_ * 100, classifier_gradient_boosted_trees.best_params_, (tp+tn)/(tp+tn+fp+fn)*100\n"
   ]
  },
  {
   "cell_type": "code",
   "execution_count": 66,
   "metadata": {},
   "outputs": [
    {
     "data": {
      "text/plain": [
       "(72.91666666666667,\n",
       " {'learning_rate': 0.1, 'max_depth': 3, 'n_estimators': 100},\n",
       " 66.66666666666666)"
      ]
     },
     "execution_count": 66,
     "metadata": {},
     "output_type": "execute_result"
    }
   ],
   "source": [
    "X_train, X_test, y_train, y_test = data_preparation(train_test_review_TFIDF, train_test_wordlist, train_test_rating_score)\n",
    "model_data_gradient_boosted_trees(X_train, X_test, y_train, y_test)"
   ]
  },
  {
   "cell_type": "markdown",
   "metadata": {},
   "source": [
    "# ===NEW CHAPTER===\n",
    "# Create pipeline from model above"
   ]
  },
  {
   "cell_type": "code",
   "execution_count": 6,
   "metadata": {},
   "outputs": [],
   "source": [
    "from sklearn.pipeline import Pipeline\n",
    "import matplotlib.pyplot as plt\n",
    "import plotly.express as px\n",
    "from sklearn.decomposition import PCA\n",
    "from sklearn.preprocessing import MaxAbsScaler\n",
    "from sklearn.ensemble import GradientBoostingClassifier\n",
    "# we have: #with set english word = False\n",
    "# normalised data model with PCA and model SVC: 83.33 (Test)\n",
    "# unnormalised data model with PCA and model SVC: (75.0) (test)\n",
    "# normalised data model without PCA and with SVC: (66.66) (test)\n",
    "# unnormalised data model without PCA and with SVC: (83.33) (test)\n",
    "# unnormalised data model with decision tree: 33.33 (test)\n",
    "# unnormalised data model with gradient boosted trees: 58.33 (test)\n",
    "\n",
    "\n",
    "# we have: #with set english word = True\n",
    "# normalised data model with PCA and model SVC: (66.66) (Test)\n",
    "# unnormalised data model with PCA and model SVC: (75.0) (test)\n",
    "# normalised data model without PCA and with SVC: (66.66) (test)\n",
    "# unnormalised data model without PCA and with SVC: (58.33) (test)\n",
    "# unnormalised data model with decision tree: (66.66) (test)\n",
    "# unnormalised data model with gradient boosted trees: (66.66) (test)\n",
    "\n",
    "# goes from:\n",
    "# set English words -> \n",
    "# scaling data -> PCA/no PCA -> \n",
    "# models (SVC, decision tree, gradient boosted trees)\n"
   ]
  },
  {
   "cell_type": "code",
   "execution_count": 7,
   "metadata": {},
   "outputs": [],
   "source": [
    "def data_preparation(review_TFIDF, wordlist, rating_score, remove_non_english_words):\n",
    "    \n",
    "    train_test_data = pd.DataFrame(review_TFIDF).transpose()\n",
    "    train_test_data = train_test_data.set_axis(wordlist, axis = 1) # 3238 columns and 60 rows (words and file realname)\n",
    "    train_test_target = pd.DataFrame([rating_score]).transpose() #1 columns and 60 rows (rating score and file realname)\n",
    "    train_test_target = np.where(train_test_target > 5, 1, 0) #1 for positive review, 0 for negative review\n",
    "\n",
    "    #remove words that do not appear in the English dictionary using nltk.corpus.words.words() dataset\n",
    "    if remove_non_english_words == True:\n",
    "        english_words = set(words.words())\n",
    "        train_test_data = train_test_data.loc[:, train_test_data.columns.isin(english_words)]\n",
    "    \n",
    "    #Train test split of data\n",
    "    X_train, X_test, y_train, y_test = train_test_split(train_test_data, train_test_target, test_size = 0.2, random_state = 1)\n",
    "    return X_train, X_test, y_train, y_test"
   ]
  },
  {
   "cell_type": "code",
   "execution_count": 8,
   "metadata": {},
   "outputs": [
    {
     "data": {
      "image/png": "[encoded data removed]",
      "text/plain": [
       "<Figure size 500x300 with 2 Axes>"
      ]
     },
     "metadata": {},
     "output_type": "display_data"
    }
   ],
   "source": [
    "# Prepare Data\n",
    "X_train, X_test, y_train, y_test = data_preparation(\n",
    "    train_test_review_TFIDF, train_test_wordlist, train_test_rating_score, remove_non_english_words=False\n",
    ")\n",
    "\n",
    "# Scale Data\n",
    "scaler = MaxAbsScaler()\n",
    "X_train_scaled = scaler.fit_transform(X_train)\n",
    "\n",
    "# Apply PCA (Reduce to 2D for Visualization)\n",
    "pca = PCA(n_components=2)\n",
    "X_train_pca = pca.fit_transform(X_train_scaled)\n",
    "\n",
    "# Convert to DataFrame for Plotly\n",
    "import pandas as pd\n",
    "df_pca = pd.DataFrame(X_train_pca, columns=['PC1', 'PC2'])\n",
    "df_pca['Label'] = y_train\n",
    "\n",
    "# Plot 2D PCA results using Plotly\n",
    "#fig = px.scatter(df_pca, x='PC1', y='PC2', color=df_pca['Label'].astype(str),\n",
    "#                 title=\"2D PCA Visualization\", labels={'color': 'Label'})\n",
    "\n",
    "#fig.show()\n",
    "\n",
    "# Optional: Matplotlib Version\n",
    "plt.figure(figsize=(5,3))\n",
    "plt.scatter(X_train_pca[:, 0], X_train_pca[:, 1], c=y_train, cmap='viridis', alpha=0.5)\n",
    "plt.xlabel(\"Principal Component 1\")\n",
    "plt.ylabel(\"Principal Component 2\")\n",
    "plt.title(\"2D PCA Visualization\")\n",
    "plt.colorbar(label=\"Label\")\n",
    "plt.show()\n"
   ]
  },
  {
   "cell_type": "code",
   "execution_count": 9,
   "metadata": {},
   "outputs": [
    {
     "data": {
      "text/plain": [
       "(array([0, 1]), array([6, 6], dtype=int64))"
      ]
     },
     "execution_count": 9,
     "metadata": {},
     "output_type": "execute_result"
    }
   ],
   "source": [
    "#count the total number of 0 and 1 in the following train varaible:\n",
    "np.unique(y_train, return_counts=True) # 24 positive 24 negative\n",
    "np.unique(y_test, return_counts=True) # 6 positive 6 negative"
   ]
  },
  {
   "cell_type": "code",
   "execution_count": 12,
   "metadata": {},
   "outputs": [
    {
     "name": "stdout",
     "output_type": "stream",
     "text": [
      "72.91666666666667 {'maxabsscaler': MaxAbsScaler(), 'model': SVC(random_state=1), 'model__C': 1, 'model__degree': 1, 'model__kernel': 'poly', 'pca': PCA(n_components=0.9, svd_solver='full')} 83.33333333333334\n"
     ]
    },
    {
     "data": {
      "image/png": "[encoded data removed]",
      "text/plain": [
       "<Figure size 500x300 with 1 Axes>"
      ]
     },
     "metadata": {},
     "output_type": "display_data"
    }
   ],
   "source": [
    "#part 1: with non-English words -> normalised & unnormalised data model with & without PCA using model SVC\n",
    "#prepare data\n",
    "X_train, X_test, y_train, y_test = data_preparation(train_test_review_TFIDF, \n",
    "                                                    train_test_wordlist, \n",
    "                                                    train_test_rating_score,\n",
    "                                                    remove_non_english_words=False)\n",
    "\n",
    "#make pipeline for both models\n",
    "pipe1 = Pipeline([('maxabsscaler', MaxAbsScaler()), \n",
    "                 ('pca', PCA()), \n",
    "                 ('model', SVC())])\n",
    "#check params of pipe1 and pipe2 for similarity\n",
    "\n",
    "\n",
    "param_grid1 = [{\n",
    "                'maxabsscaler' : [None, MaxAbsScaler()],\n",
    "                'pca' : [None, PCA(n_components = 0.90, svd_solver = 'full')],\n",
    "                'model': [SVC(random_state=1)],\n",
    "                'model__C': [1, 5, 10],\n",
    "                'model__kernel': ['linear', 'poly', 'rbf', 'sigmoid'],\n",
    "                'model__degree': [1,2,4,6,7],\n",
    "               },\n",
    "               {\n",
    "                'maxabsscaler' : [None, MaxAbsScaler()],\n",
    "                'pca': [None, PCA(n_components = 0.90, svd_solver = 'full')],\n",
    "                'model': [GradientBoostingClassifier(random_state=1)],\n",
    "                'model__n_estimators': [100, 200],\n",
    "                'model__learning_rate': [0.1, 0.05],\n",
    "                'model__max_depth': [3,8,12, 500],\n",
    "               }]\n",
    "\n",
    "\n",
    "#grid1 = GridSearchCV(pipe1, param_grid = param_grid1, cv=2, verbose=0).fit(X_train, y_train.ravel())\n",
    "print(grid1.best_score_*100, grid1.best_params_, grid1.score(X_test, y_test.ravel())*100)\n",
    "\n",
    "#----------------------\n",
    "#return grid1 best score bof each models and its parameters\n",
    "#the difference between PCA in manual approach and pipeline approach\n",
    "#is that PCA is not applied to the test data in the pipeline approach\n",
    "#BE AWARE OF THIS: https://scikit-learn.org/stable/common_pitfalls.html\n",
    "#----------------------------------------------------------------------\n",
    "\n",
    "\n",
    "#------ROC CURVE, AUC Score----------------------------------------------\n",
    "from sklearn.metrics import roc_curve, auc\n",
    "\n",
    "# Get probability scores of grid 1\n",
    "y_score = grid1.decision_function(X_test)\n",
    "\n",
    "#Compute ROC curve and ROC area \n",
    "fpr, tpr, _ = roc_curve(y_test.ravel(), y_score)\n",
    "roc_auc = auc(fpr, tpr)\n",
    "\n",
    "#calculate Gini coefficient\n",
    "gini_coefficient = 2*roc_auc - 1\n",
    "gini_coefficient #which equals to 0.67\n",
    "\n",
    "# Plot ROC curve\n",
    "plt.figure(figsize = (5,3))\n",
    "plt.plot(fpr, tpr, color='darkorange', lw=2, label='ROC curve (area = %0.2f)' % roc_auc)\n",
    "plt.plot([0, 1], [0, 1], color='navy', lw=2, linestyle='--')\n",
    "plt.xlim([0.0, 1.0])\n",
    "plt.ylim([0.0, 1.05])\n",
    "plt.xlabel('False Positive Rate')\n",
    "plt.ylabel('True Positive Rate')\n",
    "plt.title('ROC Curve - normalised data, PCA, SVC model')\n",
    "plt.legend(loc=\"lower right\")\n",
    "plt.show()\n",
    "\n"
   ]
  },
  {
   "cell_type": "code",
   "execution_count": null,
   "metadata": {},
   "outputs": [
    {
     "name": "stdout",
     "output_type": "stream",
     "text": [
      "70.83333333333334 {'maxabsscaler': None, 'model': SVC(random_state=1), 'model__C': 5, 'model__degree': 1, 'model__kernel': 'sigmoid', 'pca': None} 58.333333333333336\n"
     ]
    },
    {
     "data": {
      "image/png": "[encoded data removed]",
      "text/plain": [
       "<Figure size 500x300 with 1 Axes>"
      ]
     },
     "metadata": {},
     "output_type": "display_data"
    }
   ],
   "source": [
    "#part 1: without non-English words -> normalised & unnormalised data model with & without PCA using model SVC\n",
    "#prepare data\n",
    "X_train, X_test, y_train, y_test = data_preparation(train_test_review_TFIDF, \n",
    "                                                    train_test_wordlist, \n",
    "                                                    train_test_rating_score,\n",
    "                                                    remove_non_english_words=True)\n",
    "              \n",
    "#grid2 = GridSearchCV(pipe1, param_grid = param_grid1, cv=2, verbose=0).fit(X_train, y_train.ravel())\n",
    "print(grid2.best_score_*100, grid2.best_params_, grid2.score(X_test, y_test.ravel())*100)\n",
    "\n",
    "#----------------------\n",
    "#return grid2 best score bof each models and its parameters\n",
    "#the difference between PCA in manual approach and pipeline approach\n",
    "#is that PCA is not applied to the test data in the pipeline approach\n",
    "#BE AWARE OF THIS: https://scikit-learn.org/stable/common_pitfalls.html\n",
    "#----------------------------------------------------------------------\n",
    "\n",
    "\n",
    "#------ROC CURVE, AUC Score----------------------------------------------\n",
    "from sklearn.metrics import roc_curve, auc\n",
    "\n",
    "# Get probability scores of grid 1\n",
    "y_score = grid2.decision_function(X_test)\n",
    "\n",
    "#Compute ROC curve and ROC area \n",
    "fpr, tpr, _ = roc_curve(y_test.ravel(), y_score)\n",
    "roc_auc = auc(fpr, tpr)\n",
    "\n",
    "# Plot ROC curve\n",
    "plt.figure(figsize = (5,3))\n",
    "plt.plot(fpr, tpr, color='darkorange', lw=2, label='ROC curve (area = %0.2f)' % roc_auc)\n",
    "plt.plot([0, 1], [0, 1], color='navy', lw=2, linestyle='--')\n",
    "plt.xlim([0.0, 1.0])\n",
    "plt.ylim([0.0, 1.05])\n",
    "plt.xlabel('False Positive Rate')\n",
    "plt.ylabel('True Positive Rate')\n",
    "plt.title('ROC Curve for ')\n",
    "plt.legend(loc=\"lower right\")\n",
    "plt.show()\n"
   ]
  },
  {
   "cell_type": "code",
   "execution_count": 11,
   "metadata": {},
   "outputs": [
    {
     "data": {
      "text/html": [
       "<div>\n",
       "<style scoped>\n",
       "    .dataframe tbody tr th:only-of-type {\n",
       "        vertical-align: middle;\n",
       "    }\n",
       "\n",
       "    .dataframe tbody tr th {\n",
       "        vertical-align: top;\n",
       "    }\n",
       "\n",
       "    .dataframe thead th {\n",
       "        text-align: right;\n",
       "    }\n",
       "</style>\n",
       "<table border=\"1\" class=\"dataframe\">\n",
       "  <thead>\n",
       "    <tr style=\"text-align: right;\">\n",
       "      <th></th>\n",
       "      <th>mean_fit_time</th>\n",
       "      <th>std_fit_time</th>\n",
       "      <th>mean_score_time</th>\n",
       "      <th>std_score_time</th>\n",
       "      <th>param_maxabsscaler</th>\n",
       "      <th>param_model</th>\n",
       "      <th>param_model__C</th>\n",
       "      <th>param_model__degree</th>\n",
       "      <th>param_model__kernel</th>\n",
       "      <th>param_pca</th>\n",
       "      <th>param_model__learning_rate</th>\n",
       "      <th>param_model__max_depth</th>\n",
       "      <th>param_model__n_estimators</th>\n",
       "      <th>params</th>\n",
       "      <th>split0_test_score</th>\n",
       "      <th>split1_test_score</th>\n",
       "      <th>mean_test_score</th>\n",
       "      <th>std_test_score</th>\n",
       "      <th>rank_test_score</th>\n",
       "    </tr>\n",
       "  </thead>\n",
       "  <tbody>\n",
       "    <tr>\n",
       "      <th>123</th>\n",
       "      <td>0.042822</td>\n",
       "      <td>0.001484</td>\n",
       "      <td>0.010362</td>\n",
       "      <td>0.000607</td>\n",
       "      <td>MaxAbsScaler()</td>\n",
       "      <td>SVC(random_state=1)</td>\n",
       "      <td>1</td>\n",
       "      <td>1</td>\n",
       "      <td>poly</td>\n",
       "      <td>PCA(n_components=0.9, svd_solver='full')</td>\n",
       "      <td>NaN</td>\n",
       "      <td>NaN</td>\n",
       "      <td>NaN</td>\n",
       "      <td>{'maxabsscaler': MaxAbsScaler(), 'model': SVC(...</td>\n",
       "      <td>0.625000</td>\n",
       "      <td>0.833333</td>\n",
       "      <td>0.729167</td>\n",
       "      <td>0.104167</td>\n",
       "      <td>1</td>\n",
       "    </tr>\n",
       "    <tr>\n",
       "      <th>55</th>\n",
       "      <td>0.025343</td>\n",
       "      <td>0.000614</td>\n",
       "      <td>0.007779</td>\n",
       "      <td>0.000759</td>\n",
       "      <td>None</td>\n",
       "      <td>SVC(random_state=1)</td>\n",
       "      <td>5</td>\n",
       "      <td>2</td>\n",
       "      <td>sigmoid</td>\n",
       "      <td>PCA(n_components=0.9, svd_solver='full')</td>\n",
       "      <td>NaN</td>\n",
       "      <td>NaN</td>\n",
       "      <td>NaN</td>\n",
       "      <td>{'maxabsscaler': None, 'model': SVC(random_sta...</td>\n",
       "      <td>0.708333</td>\n",
       "      <td>0.708333</td>\n",
       "      <td>0.708333</td>\n",
       "      <td>0.000000</td>\n",
       "      <td>2</td>\n",
       "    </tr>\n",
       "  </tbody>\n",
       "</table>\n",
       "</div>"
      ],
      "text/plain": [
       "     mean_fit_time  std_fit_time  mean_score_time  std_score_time  \\\n",
       "123       0.042822      0.001484         0.010362        0.000607   \n",
       "55        0.025343      0.000614         0.007779        0.000759   \n",
       "\n",
       "    param_maxabsscaler          param_model param_model__C  \\\n",
       "123     MaxAbsScaler()  SVC(random_state=1)              1   \n",
       "55                None  SVC(random_state=1)              5   \n",
       "\n",
       "    param_model__degree param_model__kernel  \\\n",
       "123                   1                poly   \n",
       "55                    2             sigmoid   \n",
       "\n",
       "                                    param_pca param_model__learning_rate  \\\n",
       "123  PCA(n_components=0.9, svd_solver='full')                        NaN   \n",
       "55   PCA(n_components=0.9, svd_solver='full')                        NaN   \n",
       "\n",
       "    param_model__max_depth param_model__n_estimators  \\\n",
       "123                    NaN                       NaN   \n",
       "55                     NaN                       NaN   \n",
       "\n",
       "                                                params  split0_test_score  \\\n",
       "123  {'maxabsscaler': MaxAbsScaler(), 'model': SVC(...           0.625000   \n",
       "55   {'maxabsscaler': None, 'model': SVC(random_sta...           0.708333   \n",
       "\n",
       "     split1_test_score  mean_test_score  std_test_score  rank_test_score  \n",
       "123           0.833333         0.729167        0.104167                1  \n",
       "55            0.708333         0.708333        0.000000                2  "
      ]
     },
     "execution_count": 11,
     "metadata": {},
     "output_type": "execute_result"
    }
   ],
   "source": [
    "cv_results_df = pd.DataFrame(grid1.cv_results_)\n",
    "cv_results_df.sort_values(by = 'mean_test_score', ascending = False).head(2)"
   ]
  },
  {
   "cell_type": "code",
   "execution_count": null,
   "metadata": {},
   "outputs": [
    {
     "name": "stdout",
     "output_type": "stream",
     "text": [
      "[ True]\n",
      "[ True]\n",
      "[False]\n",
      "[False]\n"
     ]
    }
   ],
   "source": [
    "#now predict the following sentence:\n",
    "sentence = [\"I don't like this movie, it is bad, boring and the acting is terrible\",\n",
    "            \"The game was done amazingly, the graphics though were quite average, however the gameplay was absolutely stunning\",\n",
    "            \"While the iPhone boasts sleek design and powerful performance, its lack of innovation in recent updates makes it feel like an overpriced incremental upgrade\",\n",
    "            \"Fast fashion brands offer affordability and trendy styles, yet their unsustainable practices and exploitative labor conditions raise serious ethical concerns.\"]\n",
    "\n",
    "#predict the sentence\n",
    "y_sentence = [0,1,0,0] #positive review\n",
    "#convert the above sentence into a dataframe with the same columns as the training data\n",
    "\n",
    "for row_idx, row in enumerate(sentence):\n",
    "    sentence_TFIDF = {}\n",
    "    for word in X_train:\n",
    "        sentence_TFIDF[word] = 0\n",
    "        if word in sentence[row_idx]:\n",
    "            sentence_TFIDF[word] = 1\n",
    "    sentence_TFIDF = pd.DataFrame(sentence_TFIDF, index = [0])\n",
    "\n",
    "    #vectoriser\n",
    "    from sklearn.feature_extraction.text import TfidfVectorizer\n",
    "\n",
    "    vectorizer = TfidfVectorizer()\n",
    "    X_tfidf = vectorizer.fit_transform(sentence_TFIDF)\n",
    "    new_tfidf_vector = vectorizer.transform([sentence[row_idx]])\n",
    "    new_tfidf_df = pd.DataFrame(new_tfidf_vector.toarray(), columns = vectorizer.get_feature_names_out())\n",
    "    new_tfidf_df = new_tfidf_df.reindex(columns = X_train.columns, fill_value = 0)\n",
    "\n",
    "    #predict the sentence\n",
    "    print(grid2.predict(new_tfidf_df) == y_sentence[row_idx])"
   ]
  },
  {
   "cell_type": "code",
   "execution_count": null,
   "metadata": {},
   "outputs": [],
   "source": [
    "# "
   ]
  }
 ],
 "metadata": {
  "kernelspec": {
   "display_name": "Python 3",
   "language": "python",
   "name": "python3"
  },
  "language_info": {
   "codemirror_mode": {
    "name": "ipython",
    "version": 3
   },
   "file_extension": ".py",
   "mimetype": "text/x-python",
   "name": "python",
   "nbconvert_exporter": "python",
   "pygments_lexer": "ipython3",
   "version": "3.12.2"
  }
 },
 "nbformat": 4,
 "nbformat_minor": 2
}
