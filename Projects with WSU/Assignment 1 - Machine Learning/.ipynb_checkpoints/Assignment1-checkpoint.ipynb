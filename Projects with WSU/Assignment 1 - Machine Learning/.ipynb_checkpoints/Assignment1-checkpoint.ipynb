{
 "cells": [
  {
   "cell_type": "markdown",
   "id": "0960c240-90b0-491b-becd-7fc0565e0190",
   "metadata": {},
   "source": [
    "**COMP 3032 - Machine Learning - Assignment 1 (Due date: 5:00 pm Wednesday, 27 September 2023)**"
   ]
  },
  {
   "cell_type": "markdown",
   "id": "f5d8f0cc-73d3-4276-9608-c9ba045bf5b6",
   "metadata": {},
   "source": [
    "Name: Quang Dong Nguyen  \n",
    "Student_id: 20744696  \n",
    "Class: Machine Learning - Semester 2"
   ]
  },
  {
   "cell_type": "markdown",
   "id": "1e93a647-36c3-408c-8027-bbce7768e204",
   "metadata": {},
   "source": [
    "---"
   ]
  },
  {
   "cell_type": "markdown",
   "id": "e3544693-739e-44ee-92fc-d4bbee3ec08c",
   "metadata": {},
   "source": [
    "# Task 1 (12 Marks):"
   ]
  },
  {
   "cell_type": "markdown",
   "id": "feb42eaa-90ba-4cff-a1b5-d0d7e8b10733",
   "metadata": {},
   "source": [
    "## Question 1:\n",
    "Blood pressure dataset *pressure.csv* contains examples of systolic pressures and other features from different persons."
   ]
  },
  {
   "cell_type": "markdown",
   "id": "1e87f999-8ab3-4696-9f84-1e433dac37fa",
   "metadata": {},
   "source": [
    "### Answer Below:"
   ]
  },
  {
   "cell_type": "markdown",
   "id": "5a05c0c7-964c-4b58-ad2d-dbceb4a0cc67",
   "metadata": {},
   "source": [
    "Firstly, we import libraries which will be used later on to extract data and to build various models.  \n",
    "- The Pandas library is used for working with datasets, especially here, we want to see how the dataset is structurised in a dataframe.\n",
    "- Then the Numpy library will be used to construct some arrays for later on modelling."
   ]
  },
  {
   "cell_type": "code",
   "execution_count": 164,
   "id": "c07975ea-776b-4692-9138-df5d9de44dac",
   "metadata": {},
   "outputs": [],
   "source": [
    "import numpy as np\n",
    "import pandas as pd"
   ]
  },
  {
   "cell_type": "markdown",
   "id": "a39b5822-b5aa-4061-b906-a7d8f2d7da17",
   "metadata": {},
   "source": [
    "Using pandas read.csv function, we can load the csv file, named as'*bloodpressure-23.csv*' and stored in my local directory."
   ]
  },
  {
   "cell_type": "code",
   "execution_count": 165,
   "id": "f4dd3ed8-1436-4091-a789-c652e1b27518",
   "metadata": {},
   "outputs": [
    {
     "data": {
      "text/html": [
       "<div>\n",
       "<style scoped>\n",
       "    .dataframe tbody tr th:only-of-type {\n",
       "        vertical-align: middle;\n",
       "    }\n",
       "\n",
       "    .dataframe tbody tr th {\n",
       "        vertical-align: top;\n",
       "    }\n",
       "\n",
       "    .dataframe thead th {\n",
       "        text-align: right;\n",
       "    }\n",
       "</style>\n",
       "<table border=\"1\" class=\"dataframe\">\n",
       "  <thead>\n",
       "    <tr style=\"text-align: right;\">\n",
       "      <th></th>\n",
       "      <th>ID-NUMBER</th>\n",
       "      <th>AGE</th>\n",
       "      <th>ED-LEVEL</th>\n",
       "      <th>SMOKING STATUS</th>\n",
       "      <th>EXERCISE</th>\n",
       "      <th>WEIGHT</th>\n",
       "      <th>SERUM-CHOL</th>\n",
       "      <th>SYSTOLIC</th>\n",
       "      <th>IQ</th>\n",
       "      <th>SODIUM</th>\n",
       "      <th>GENDER</th>\n",
       "      <th>MARITAL-STATUS</th>\n",
       "      <th>NAME</th>\n",
       "    </tr>\n",
       "  </thead>\n",
       "  <tbody>\n",
       "    <tr>\n",
       "      <th>0</th>\n",
       "      <td>1</td>\n",
       "      <td>27</td>\n",
       "      <td>2</td>\n",
       "      <td>1</td>\n",
       "      <td>1</td>\n",
       "      <td>120</td>\n",
       "      <td>193</td>\n",
       "      <td>126</td>\n",
       "      <td>118</td>\n",
       "      <td>136</td>\n",
       "      <td>F</td>\n",
       "      <td>M</td>\n",
       "      <td>Braund, Mr. Owen Harris</td>\n",
       "    </tr>\n",
       "    <tr>\n",
       "      <th>1</th>\n",
       "      <td>2</td>\n",
       "      <td>18</td>\n",
       "      <td>1</td>\n",
       "      <td>0</td>\n",
       "      <td>1</td>\n",
       "      <td>145</td>\n",
       "      <td>210</td>\n",
       "      <td>120</td>\n",
       "      <td>105</td>\n",
       "      <td>137</td>\n",
       "      <td>M</td>\n",
       "      <td>S</td>\n",
       "      <td>Cumings, Mrs. John Bradley (Florence Briggs Th...</td>\n",
       "    </tr>\n",
       "    <tr>\n",
       "      <th>2</th>\n",
       "      <td>3</td>\n",
       "      <td>32</td>\n",
       "      <td>2</td>\n",
       "      <td>0</td>\n",
       "      <td>0</td>\n",
       "      <td>118</td>\n",
       "      <td>196</td>\n",
       "      <td>128</td>\n",
       "      <td>115</td>\n",
       "      <td>135</td>\n",
       "      <td>F</td>\n",
       "      <td>M</td>\n",
       "      <td>Heikkinen, Miss. Laina</td>\n",
       "    </tr>\n",
       "    <tr>\n",
       "      <th>3</th>\n",
       "      <td>4</td>\n",
       "      <td>24</td>\n",
       "      <td>2</td>\n",
       "      <td>0</td>\n",
       "      <td>1</td>\n",
       "      <td>162</td>\n",
       "      <td>208</td>\n",
       "      <td>129</td>\n",
       "      <td>108</td>\n",
       "      <td>142</td>\n",
       "      <td>M</td>\n",
       "      <td>M</td>\n",
       "      <td>Futrelle, Mrs. Jacques Heath (Lily May Peel)</td>\n",
       "    </tr>\n",
       "    <tr>\n",
       "      <th>4</th>\n",
       "      <td>5</td>\n",
       "      <td>19</td>\n",
       "      <td>1</td>\n",
       "      <td>2</td>\n",
       "      <td>0</td>\n",
       "      <td>106</td>\n",
       "      <td>188</td>\n",
       "      <td>119</td>\n",
       "      <td>106</td>\n",
       "      <td>133</td>\n",
       "      <td>F</td>\n",
       "      <td>S</td>\n",
       "      <td>Allen, Mr. William Henry</td>\n",
       "    </tr>\n",
       "  </tbody>\n",
       "</table>\n",
       "</div>"
      ],
      "text/plain": [
       "   ID-NUMBER  AGE  ED-LEVEL  SMOKING STATUS  EXERCISE  WEIGHT  SERUM-CHOL  \\\n",
       "0          1   27         2               1         1     120         193   \n",
       "1          2   18         1               0         1     145         210   \n",
       "2          3   32         2               0         0     118         196   \n",
       "3          4   24         2               0         1     162         208   \n",
       "4          5   19         1               2         0     106         188   \n",
       "\n",
       "   SYSTOLIC   IQ  SODIUM GENDER MARITAL-STATUS  \\\n",
       "0       126  118     136      F              M   \n",
       "1       120  105     137      M              S   \n",
       "2       128  115     135      F              M   \n",
       "3       129  108     142      M              M   \n",
       "4       119  106     133      F              S   \n",
       "\n",
       "                                                NAME  \n",
       "0                            Braund, Mr. Owen Harris  \n",
       "1  Cumings, Mrs. John Bradley (Florence Briggs Th...  \n",
       "2                             Heikkinen, Miss. Laina  \n",
       "3       Futrelle, Mrs. Jacques Heath (Lily May Peel)  \n",
       "4                           Allen, Mr. William Henry  "
      ]
     },
     "execution_count": 165,
     "metadata": {},
     "output_type": "execute_result"
    }
   ],
   "source": [
    "B_p = pd.read_csv('D:/dong;s junior (WSU)/Second Year - 2023/Semester 2/Machine Learning/Assignment/Assignment 1 - due/bloodpressure-23.csv')\n",
    "B_p.head(5)"
   ]
  },
  {
   "cell_type": "markdown",
   "id": "5a7ba426-9924-4973-bcce-615276b5df43",
   "metadata": {},
   "source": [
    "## Question 2:\n",
    "Create polynomial regression models, to predict systolic pressure using the SERUMCHOL feature, for degrees vary from 1 to 14. Perform 10-fold cross validation. Calculate its square roots for the mean square errors (RMSE), and the mean RMSE. Display the mean RMSEs for the 14 different degrees. Produce a cross validation error plot using the mean RMSE with 1 to 14 different degrees."
   ]
  },
  {
   "cell_type": "markdown",
   "id": "78699bcb-ad97-495c-9f30-c897c1bd6f01",
   "metadata": {},
   "source": [
    "Let's view the 'SERUM-CHOL' and 'SYSTOLIC' features in the dataframe first."
   ]
  },
  {
   "cell_type": "code",
   "execution_count": 166,
   "id": "64966d41-ab9c-446b-a037-f01245a50ac4",
   "metadata": {},
   "outputs": [
    {
     "data": {
      "text/html": [
       "<div>\n",
       "<style scoped>\n",
       "    .dataframe tbody tr th:only-of-type {\n",
       "        vertical-align: middle;\n",
       "    }\n",
       "\n",
       "    .dataframe tbody tr th {\n",
       "        vertical-align: top;\n",
       "    }\n",
       "\n",
       "    .dataframe thead th {\n",
       "        text-align: right;\n",
       "    }\n",
       "</style>\n",
       "<table border=\"1\" class=\"dataframe\">\n",
       "  <thead>\n",
       "    <tr style=\"text-align: right;\">\n",
       "      <th></th>\n",
       "      <th>SERUM-CHOL</th>\n",
       "      <th>SYSTOLIC</th>\n",
       "    </tr>\n",
       "  </thead>\n",
       "  <tbody>\n",
       "    <tr>\n",
       "      <th>0</th>\n",
       "      <td>193</td>\n",
       "      <td>126</td>\n",
       "    </tr>\n",
       "    <tr>\n",
       "      <th>1</th>\n",
       "      <td>210</td>\n",
       "      <td>120</td>\n",
       "    </tr>\n",
       "    <tr>\n",
       "      <th>2</th>\n",
       "      <td>196</td>\n",
       "      <td>128</td>\n",
       "    </tr>\n",
       "    <tr>\n",
       "      <th>3</th>\n",
       "      <td>208</td>\n",
       "      <td>129</td>\n",
       "    </tr>\n",
       "    <tr>\n",
       "      <th>4</th>\n",
       "      <td>188</td>\n",
       "      <td>119</td>\n",
       "    </tr>\n",
       "  </tbody>\n",
       "</table>\n",
       "</div>"
      ],
      "text/plain": [
       "   SERUM-CHOL  SYSTOLIC\n",
       "0         193       126\n",
       "1         210       120\n",
       "2         196       128\n",
       "3         208       129\n",
       "4         188       119"
      ]
     },
     "execution_count": 166,
     "metadata": {},
     "output_type": "execute_result"
    }
   ],
   "source": [
    "B_p[['SERUM-CHOL','SYSTOLIC']].head(5)"
   ]
  },
  {
   "cell_type": "markdown",
   "id": "d9a5fb1d-cc12-47ab-9570-40f6420a79db",
   "metadata": {},
   "source": [
    "### Answer Below:"
   ]
  },
  {
   "cell_type": "code",
   "execution_count": 167,
   "id": "065d20dd-00f7-41aa-80b0-00b00a6dfc3c",
   "metadata": {},
   "outputs": [],
   "source": [
    "import matplotlib.pyplot as plt\n",
    "from sklearn.preprocessing import PolynomialFeatures\n",
    "from sklearn.linear_model import LinearRegression\n",
    "from sklearn.model_selection import cross_val_score"
   ]
  },
  {
   "cell_type": "markdown",
   "id": "a23b41a1-5483-403e-abd0-2c38b4410dae",
   "metadata": {},
   "source": [
    "We now extract the columns `SERUM-CHOL` and `SYSTOLIC` from `B_p` dataframe, then reshape it to numpy array"
   ]
  },
  {
   "cell_type": "code",
   "execution_count": 168,
   "id": "d8b29fb7-ab09-4351-a7fa-1ca206a6ee40",
   "metadata": {},
   "outputs": [],
   "source": [
    "X = B_p['SERUM-CHOL'].values.reshape(-1, 1)\n",
    "y = B_p['SYSTOLIC'].values"
   ]
  },
  {
   "cell_type": "markdown",
   "id": "a019e3d5-702d-40f1-a0f0-54fe0d2003ca",
   "metadata": {},
   "source": [
    "**Visualisation of data**"
   ]
  },
  {
   "cell_type": "markdown",
   "id": "02f50687-fb70-4c22-9353-c3fad7e5fb81",
   "metadata": {},
   "source": [
    "We can then follow on with visualising the extracted features on graph, in order to see how well do the data correlate in general. "
   ]
  },
  {
   "cell_type": "code",
   "execution_count": 169,
   "id": "4821c9b3-da29-440f-89aa-d84cf456ed43",
   "metadata": {
    "scrolled": true
   },
   "outputs": [
    {
     "data": {
      "image/png": "[encoded data removed]",
      "text/plain": [
       "<Figure size 500x300 with 1 Axes>"
      ]
     },
     "metadata": {},
     "output_type": "display_data"
    }
   ],
   "source": [
    "#visualisation of data\n",
    "import matplotlib.pyplot as plt\n",
    "plt.figure(figsize = (5,3))\n",
    "plt.scatter(X, y)\n",
    "plt.xlabel('SERUM-CHOL')\n",
    "plt.ylabel('SYSTOLIC')\n",
    "plt.title('SERUM-CHOL vs SYSTOLIC')\n",
    "plt.show()"
   ]
  },
  {
   "cell_type": "markdown",
   "id": "91c9946d-ab25-4764-8f53-9dc7d3494bbe",
   "metadata": {},
   "source": [
    "Graph Explanation:\n",
    "- At first we can see that between SYSTOLIC level and SERUM-CHOL level, there is a positive, medium correlation. As Serum-chol level increases, the systolic level also increases.\n",
    "- However, there is also an increase in variance between them as one of the feature increases, e.g. the higher increase in Serum-chol level, the larger the variance is among the systolic and serum-chol level.\n"
   ]
  },
  {
   "cell_type": "markdown",
   "id": "26f9bb9b-b8e4-4bbf-97c5-b8588d0cedc1",
   "metadata": {},
   "source": [
    "Now we build a polynomial regression model with degrees ranging from 1 to 14 on the two extracted features above. By using `PolynomialFeatures` we can build the polynomial model with our own desired number of degrees."
   ]
  },
  {
   "cell_type": "markdown",
   "id": "e1914dbb-d93e-403a-895e-e250e0224c68",
   "metadata": {},
   "source": [
    "**Using for loop to produce polynomial regression models for degrees vary from 1 to 14 and a cross-validation error plot using the mean RMSE with 1 to 14 different degrees**"
   ]
  },
  {
   "cell_type": "code",
   "execution_count": 170,
   "id": "0c9ff4c5-fdda-4529-9728-0c8a8f97401f",
   "metadata": {},
   "outputs": [],
   "source": [
    "m_poly_rmse_scores = []\n",
    "\n",
    "for i in range(1,15):\n",
    "    poly = PolynomialFeatures(degree = i, include_bias = False)\n",
    "    X_poly= poly.fit_transform(X)\n",
    "    poly_reg_scores = cross_val_score(LinearRegression(), X_poly, y, scoring = 'neg_mean_squared_error', cv = 10) # negative mean square error (-MSE)\n",
    "    poly_rmse_scores = np.sqrt(-poly_reg_scores) #converts to square roots of the mean square errors (RMSE)\n",
    "    mean_poly_rmse_scores = poly_rmse_scores.mean() #converts to mean square roots of the means square errors (mean RMSE)\n",
    "    m_poly_rmse_scores.append(mean_poly_rmse_scores) #we append it to the assigned list for later plotting"
   ]
  },
  {
   "cell_type": "code",
   "execution_count": 171,
   "id": "aed91b98-1e08-4a88-94c9-a7f860879edf",
   "metadata": {},
   "outputs": [
    {
     "data": {
      "text/plain": [
       "Text(0.5, 1.0, 'Cross-validation error by degrees using the polynomial models')"
      ]
     },
     "execution_count": 171,
     "metadata": {},
     "output_type": "execute_result"
    },
    {
     "data": {
      "image/png": "[encoded data removed]",
      "text/plain": [
       "<Figure size 640x480 with 1 Axes>"
      ]
     },
     "metadata": {},
     "output_type": "display_data"
    }
   ],
   "source": [
    "line = [*range(1,15)]\n",
    "plt.scatter(line, m_poly_rmse_scores, c= 'black')\n",
    "plt.plot(line, m_poly_rmse_scores, c = 'purple')\n",
    "plt.xlabel('degrees')\n",
    "plt.ylabel('mean RMSE')\n",
    "plt.title('Cross-validation error by degrees using the polynomial models')"
   ]
  },
  {
   "cell_type": "code",
   "execution_count": 172,
   "id": "613fef11-1d6b-48dd-aac7-b88342d2a22e",
   "metadata": {},
   "outputs": [
    {
     "name": "stdout",
     "output_type": "stream",
     "text": [
      "Mean RMSE: [11.743903387181604, 11.73807811241585, 12.547523654668435, 13.7109309237205, 14.800290560812925, 15.894371890471254, 17.28980827219123, 19.026576009412096, 21.08073172398104, 23.44036925723232, 26.07802523227423, 28.940500707085448, 31.940518498970636, 34.951218567229475]\n"
     ]
    }
   ],
   "source": [
    "print('Mean RMSE: {}'.format(m_poly_rmse_scores))"
   ]
  },
  {
   "cell_type": "markdown",
   "id": "40b7a23c-4694-499e-a1a0-d07f32b1378d",
   "metadata": {},
   "source": [
    "## Question 3:\n",
    "Select the best degree, and explains why briefly. Print its intercept and coefficients."
   ]
  },
  {
   "cell_type": "markdown",
   "id": "d52e2078-5416-4b32-8667-7173daf3dba7",
   "metadata": {},
   "source": [
    "### Answer Below:"
   ]
  },
  {
   "cell_type": "markdown",
   "id": "dccb2361-8926-4279-8874-e0fa9e440716",
   "metadata": {},
   "source": [
    "The best degree for the polynomial model is 2. According to the plot, Cross-validation error by degrees using the polynomial models, the only polynomial model that produced the lowest mean RMSE value is the polynomial model with the degree of 2, where its produced mean RMSE is approximately 11.73807911241585. This value is justifiable and valid, because it demonstrates that the average deviation between the actual values and the predicted values by the model is lower than every other models. And it can also be told that the model is rightly fitted, since it used low number of degrees and still got the lowest mean RMSE value among other degrees."
   ]
  },
  {
   "cell_type": "code",
   "execution_count": 173,
   "id": "59a8587c-a102-49a7-afff-abe17d67580e",
   "metadata": {},
   "outputs": [
    {
     "name": "stdout",
     "output_type": "stream",
     "text": [
      "Polynomial model Coefficient: [-1.54847161  0.00394948]\n",
      "Polynomial model Intercept: 278.5603624163489\n"
     ]
    }
   ],
   "source": [
    "poly = PolynomialFeatures(degree = 2, include_bias = False)\n",
    "X_poly= poly.fit_transform(X)\n",
    "Lin_reg_model = LinearRegression().fit(X_poly,y)\n",
    "print(\"Polynomial model Coefficient: {}\".format(Lin_reg_model.coef_)) #coefficient values\n",
    "print(\"Polynomial model Intercept: {}\".format(Lin_reg_model.intercept_)) #Intercept value"
   ]
  },
  {
   "cell_type": "markdown",
   "id": "c1da541d-8078-4f85-81d1-4aa32eb1e5ae",
   "metadata": {},
   "source": [
    "## Question 4:\n",
    "Create a multiple linear regression model to predict systolic pressure using all the \n",
    "relevant features. Print its coefficients. Perform 10-fold cross validation. Calculate\r\n",
    "its square roots of the mean square errors (RMSE), and the mean RMSE, and dislp y\r\n",
    "the mean RMSE."
   ]
  },
  {
   "cell_type": "code",
   "execution_count": 174,
   "id": "5322ca8b-3597-4fef-9bc6-6b374e694f4f",
   "metadata": {},
   "outputs": [],
   "source": [
    "from sklearn.linear_model import LinearRegression"
   ]
  },
  {
   "cell_type": "code",
   "execution_count": 175,
   "id": "2c183980-d001-4e03-a043-1869277caeb3",
   "metadata": {},
   "outputs": [
    {
     "data": {
      "text/html": [
       "<div>\n",
       "<style scoped>\n",
       "    .dataframe tbody tr th:only-of-type {\n",
       "        vertical-align: middle;\n",
       "    }\n",
       "\n",
       "    .dataframe tbody tr th {\n",
       "        vertical-align: top;\n",
       "    }\n",
       "\n",
       "    .dataframe thead th {\n",
       "        text-align: right;\n",
       "    }\n",
       "</style>\n",
       "<table border=\"1\" class=\"dataframe\">\n",
       "  <thead>\n",
       "    <tr style=\"text-align: right;\">\n",
       "      <th></th>\n",
       "      <th>ID-NUMBER</th>\n",
       "      <th>AGE</th>\n",
       "      <th>ED-LEVEL</th>\n",
       "      <th>SMOKING STATUS</th>\n",
       "      <th>EXERCISE</th>\n",
       "      <th>WEIGHT</th>\n",
       "      <th>SERUM-CHOL</th>\n",
       "      <th>SYSTOLIC</th>\n",
       "      <th>IQ</th>\n",
       "      <th>SODIUM</th>\n",
       "      <th>GENDER</th>\n",
       "      <th>MARITAL-STATUS</th>\n",
       "      <th>NAME</th>\n",
       "    </tr>\n",
       "  </thead>\n",
       "  <tbody>\n",
       "    <tr>\n",
       "      <th>0</th>\n",
       "      <td>1</td>\n",
       "      <td>27</td>\n",
       "      <td>2</td>\n",
       "      <td>1</td>\n",
       "      <td>1</td>\n",
       "      <td>120</td>\n",
       "      <td>193</td>\n",
       "      <td>126</td>\n",
       "      <td>118</td>\n",
       "      <td>136</td>\n",
       "      <td>F</td>\n",
       "      <td>M</td>\n",
       "      <td>Braund, Mr. Owen Harris</td>\n",
       "    </tr>\n",
       "    <tr>\n",
       "      <th>1</th>\n",
       "      <td>2</td>\n",
       "      <td>18</td>\n",
       "      <td>1</td>\n",
       "      <td>0</td>\n",
       "      <td>1</td>\n",
       "      <td>145</td>\n",
       "      <td>210</td>\n",
       "      <td>120</td>\n",
       "      <td>105</td>\n",
       "      <td>137</td>\n",
       "      <td>M</td>\n",
       "      <td>S</td>\n",
       "      <td>Cumings, Mrs. John Bradley (Florence Briggs Th...</td>\n",
       "    </tr>\n",
       "  </tbody>\n",
       "</table>\n",
       "</div>"
      ],
      "text/plain": [
       "   ID-NUMBER  AGE  ED-LEVEL  SMOKING STATUS  EXERCISE  WEIGHT  SERUM-CHOL  \\\n",
       "0          1   27         2               1         1     120         193   \n",
       "1          2   18         1               0         1     145         210   \n",
       "\n",
       "   SYSTOLIC   IQ  SODIUM GENDER MARITAL-STATUS  \\\n",
       "0       126  118     136      F              M   \n",
       "1       120  105     137      M              S   \n",
       "\n",
       "                                                NAME  \n",
       "0                            Braund, Mr. Owen Harris  \n",
       "1  Cumings, Mrs. John Bradley (Florence Briggs Th...  "
      ]
     },
     "execution_count": 175,
     "metadata": {},
     "output_type": "execute_result"
    }
   ],
   "source": [
    "B_p.head(2)"
   ]
  },
  {
   "cell_type": "markdown",
   "id": "2d8248cf-26e6-44b9-b83c-f3b61509f44b",
   "metadata": {},
   "source": [
    "### Answer Below:"
   ]
  },
  {
   "cell_type": "markdown",
   "id": "443259dc-3157-4e54-8b6b-6aafd71574da",
   "metadata": {},
   "source": [
    "Select the relevant features for linear regression model:\n",
    "- `AGE`, `ED-LEVEL`, `SMOKING STATUS`, `EXERCISE`, `WEIGHT`, `SERUM-CHOL`, `IQ`, `SODIUM`, `GENDER` and `MARITAL-STATUS` are all relevant features can be used to build the linear regression model.\n",
    "- `ID-NUMBER` and `NAME` are irrelevant due to neither containing meaningful information about the data nor having impact on systolic blood level."
   ]
  },
  {
   "cell_type": "code",
   "execution_count": 176,
   "id": "32030940-c43e-4172-9bee-14d2ebc2b3df",
   "metadata": {},
   "outputs": [
    {
     "name": "stderr",
     "output_type": "stream",
     "text": [
      "C:\\Users\\Dell\\AppData\\Local\\Temp\\ipykernel_13712\\2457168825.py:2: SettingWithCopyWarning: \n",
      "A value is trying to be set on a copy of a slice from a DataFrame\n",
      "\n",
      "See the caveats in the documentation: https://pandas.pydata.org/pandas-docs/stable/user_guide/indexing.html#returning-a-view-versus-a-copy\n",
      "  X['GENDER'].replace(['M','F'],[1,2], inplace = True)\n",
      "C:\\Users\\Dell\\AppData\\Local\\Temp\\ipykernel_13712\\2457168825.py:3: SettingWithCopyWarning: \n",
      "A value is trying to be set on a copy of a slice from a DataFrame\n",
      "\n",
      "See the caveats in the documentation: https://pandas.pydata.org/pandas-docs/stable/user_guide/indexing.html#returning-a-view-versus-a-copy\n",
      "  X['MARITAL-STATUS'].replace(['D','M','S','W'],[1,2,3,4], inplace = True)\n"
     ]
    }
   ],
   "source": [
    "X = B_p[['AGE','ED-LEVEL','SMOKING STATUS', 'EXERCISE', 'WEIGHT', 'SERUM-CHOL', 'IQ', 'SODIUM','GENDER','MARITAL-STATUS']]\n",
    "X['GENDER'].replace(['M','F'],[1,2], inplace = True)\n",
    "X['MARITAL-STATUS'].replace(['D','M','S','W'],[1,2,3,4], inplace = True)\n",
    "X = X.values\n",
    "y = B_p[['SYSTOLIC']].values"
   ]
  },
  {
   "cell_type": "markdown",
   "id": "f0d986ee-4eb6-4dbd-b3bf-fdbd9b41bd78",
   "metadata": {},
   "source": [
    "Now, we create a multiple linear regression model to predict systolic pressure"
   ]
  },
  {
   "cell_type": "code",
   "execution_count": 177,
   "id": "b00c8a26-d4f4-4443-8ca6-5968eb843822",
   "metadata": {},
   "outputs": [
    {
     "name": "stdout",
     "output_type": "stream",
     "text": [
      "Multi-linear model Coefficient: [[ 0.33056784 -0.87090274 -0.08753526 -0.07509179  0.30396451  0.01745461\n",
      "  -0.04049222  0.06966721 10.95029683 -1.09102542]]\n",
      "Multi-linear model Intercept: [50.3590063]\n"
     ]
    }
   ],
   "source": [
    "lin_model = LinearRegression().fit(X, y)\n",
    "print('Multi-linear model Coefficient: {}'.format(lin_model.coef_))\n",
    "print('Multi-linear model Intercept: {}'.format(lin_model.intercept_))"
   ]
  },
  {
   "cell_type": "markdown",
   "id": "17658d12-15aa-434f-a1e5-903b651a9c84",
   "metadata": {},
   "source": [
    "**Perform 10-fold Cross-Validation on multiple linear regression model**"
   ]
  },
  {
   "cell_type": "code",
   "execution_count": 178,
   "id": "8ecee2c1-144a-4569-938f-f1f028536377",
   "metadata": {},
   "outputs": [
    {
     "name": "stdout",
     "output_type": "stream",
     "text": [
      "RMSE: [8.32114789 7.55446484 8.58877345 5.94879844 7.51700528 7.26700244\n",
      " 6.06383438 8.86175363 7.84214218 7.57693122]\n",
      "Mean RMSE: 7.5541853765972835\n"
     ]
    }
   ],
   "source": [
    "#### CROSS-VALIDATION\n",
    "#10 fold\n",
    "from sklearn.model_selection import cross_val_score\n",
    "lin_scores = cross_val_score(LinearRegression(), X, y, scoring = 'neg_mean_squared_error', cv = 10)\n",
    "lin_rmse_scores = np.sqrt(-lin_scores) # sqrt mean squared error\n",
    "mean_lin_rmse_scores = np.mean(lin_rmse_scores) # mean_RMSE\n",
    "print(\"RMSE: {}\".format(lin_rmse_scores))\n",
    "print('Mean RMSE: {}'.format(mean_lin_rmse_scores))"
   ]
  },
  {
   "cell_type": "markdown",
   "id": "773568f5-dada-4aac-85f6-441026bd9747",
   "metadata": {},
   "source": [
    "## Question 5:\n",
    "Build a ridge regression model of the above (i.e. item 4) using α = 0.1. Print its \n",
    "coefficients. Perform 10-fold cross validation. Calculate its square roots of the mean \r\n",
    "square errors (RMSE), and the mean RMSE, and display the mean RMSE."
   ]
  },
  {
   "cell_type": "markdown",
   "id": "2f69bab7-dde6-42ed-a4be-51201ee356de",
   "metadata": {},
   "source": [
    "### Answer Below:"
   ]
  },
  {
   "cell_type": "code",
   "execution_count": 179,
   "id": "918cd1a7-c16c-45b3-a4a3-df9b3e4134e8",
   "metadata": {},
   "outputs": [],
   "source": [
    "from sklearn.linear_model import Ridge"
   ]
  },
  {
   "cell_type": "code",
   "execution_count": 180,
   "id": "e1c2a11e-9882-46b0-8dc6-bf986843ddc2",
   "metadata": {},
   "outputs": [
    {
     "name": "stderr",
     "output_type": "stream",
     "text": [
      "C:\\Users\\Dell\\AppData\\Local\\Temp\\ipykernel_13712\\2457168825.py:2: SettingWithCopyWarning: \n",
      "A value is trying to be set on a copy of a slice from a DataFrame\n",
      "\n",
      "See the caveats in the documentation: https://pandas.pydata.org/pandas-docs/stable/user_guide/indexing.html#returning-a-view-versus-a-copy\n",
      "  X['GENDER'].replace(['M','F'],[1,2], inplace = True)\n",
      "C:\\Users\\Dell\\AppData\\Local\\Temp\\ipykernel_13712\\2457168825.py:3: SettingWithCopyWarning: \n",
      "A value is trying to be set on a copy of a slice from a DataFrame\n",
      "\n",
      "See the caveats in the documentation: https://pandas.pydata.org/pandas-docs/stable/user_guide/indexing.html#returning-a-view-versus-a-copy\n",
      "  X['MARITAL-STATUS'].replace(['D','M','S','W'],[1,2,3,4], inplace = True)\n"
     ]
    }
   ],
   "source": [
    "X = B_p[['AGE','ED-LEVEL','SMOKING STATUS', 'EXERCISE', 'WEIGHT', 'SERUM-CHOL', 'IQ', 'SODIUM','GENDER','MARITAL-STATUS']]\n",
    "X['GENDER'].replace(['M','F'],[1,2], inplace = True)\n",
    "X['MARITAL-STATUS'].replace(['D','M','S','W'],[1,2,3,4], inplace = True)\n",
    "X = X.values\n",
    "y = B_p[['SYSTOLIC']].values"
   ]
  },
  {
   "cell_type": "code",
   "execution_count": 181,
   "id": "cfc0daba-831e-4c1f-9649-ccb8d365c5bc",
   "metadata": {},
   "outputs": [
    {
     "name": "stdout",
     "output_type": "stream",
     "text": [
      "Ridge Model Coefficient: [[ 0.33183712 -0.87329823 -0.08645678 -0.08344129  0.30214144  0.01745305\n",
      "  -0.04027576  0.07087436 10.83667682 -1.09241833]]\n",
      "Ridge Model Intercept: [50.57634328]\n"
     ]
    }
   ],
   "source": [
    "Rig_model = Ridge(alpha = 0.1)\n",
    "Rig_model = Rig_model.fit(X,y)\n",
    "print(\"Ridge Model Coefficient: {}\".format(Rig_model.coef_))\n",
    "print(\"Ridge Model Intercept: {}\".format(Rig_model.intercept_))"
   ]
  },
  {
   "cell_type": "markdown",
   "id": "b50b8b13-85a3-409b-b04d-242656779f1f",
   "metadata": {},
   "source": [
    "**Build a 10-fold cross validation with Ridge model**"
   ]
  },
  {
   "cell_type": "code",
   "execution_count": 182,
   "id": "5be42742-c177-4107-850a-731ad7ed073b",
   "metadata": {},
   "outputs": [
    {
     "name": "stdout",
     "output_type": "stream",
     "text": [
      "RMSE: [8.3382567  7.56784831 8.58048433 5.94191182 7.48934397 7.26350031\n",
      " 6.05626059 8.86595721 7.85123569 7.57849498]\n",
      "Mean RMSE: 7.553329392826423\n"
     ]
    }
   ],
   "source": [
    "Rig_cv = cross_val_score(Rig_model, X, y, scoring = 'neg_mean_squared_error', cv = 10)\n",
    "Rig_rmse_scores = np.sqrt(-Rig_cv)\n",
    "mean_Rig_rmse_scores = Rig_rmse_scores.mean()\n",
    "print(\"RMSE: {}\".format(Rig_rmse_scores))\n",
    "print(\"Mean RMSE: {}\".format(mean_Rig_rmse_scores))"
   ]
  },
  {
   "cell_type": "markdown",
   "id": "9de4f6c9-5a86-40b0-b481-72d7e4b2d0a5",
   "metadata": {},
   "source": [
    "## Question 6:\n",
    "Select the best model of the three, and explains why briefly"
   ]
  },
  {
   "cell_type": "markdown",
   "id": "528b03a1-89be-4e64-bf92-e0d09d073941",
   "metadata": {},
   "source": [
    "### Answer Below:"
   ]
  },
  {
   "cell_type": "markdown",
   "id": "593665cb-df5c-4609-b84d-e52bd18544e0",
   "metadata": {},
   "source": [
    "Now, we have the mean RMSE for each model as shown below:\n",
    "- Polynomial Regression model: 11.73807911241585\n",
    "- Multiple Linear Regression model: 7.5541853765972835\n",
    "- Ridge Regression model: 7.55332939286423\n",
    "\n",
    "Among all models, the best model is the Ridge regression Model with alpha 0.1, because it produced the lowest mean Root Mean Squared Error value among all three models. This depicts that its predicted values do not deviate too far away from the actual values, meaning that the model has a higher capability of predicting the target value than other models."
   ]
  },
  {
   "cell_type": "markdown",
   "id": "5d6830c6-0c5a-4f3f-b6d7-fe68b4c9740d",
   "metadata": {},
   "source": [
    "---"
   ]
  },
  {
   "cell_type": "markdown",
   "id": "1703ffdc-03a2-45a8-bf47-83072a954bf4",
   "metadata": {},
   "source": [
    "# Task 2 (8 marks):"
   ]
  },
  {
   "cell_type": "markdown",
   "id": "d2824789-1b9b-41f4-a9ab-0dde58cf89dc",
   "metadata": {},
   "source": [
    "## Question 1:\n",
    "This task involves MNIST Digit Classification using PCA and Logistic Regression. \n",
    "Load the renowned MNIST (’mnist 784’) dataset, which consists of a large collection\r\n",
    "of handwritten digit images. Your task is to reduce the number of features first, n d\r\n",
    "then build a binary classification model to distinguish between the digit “6” and  ll\r\n",
    "other digits (not “6”)."
   ]
  },
  {
   "cell_type": "markdown",
   "id": "92270c1a-c92d-4e97-ad37-8e10ccd2fc47",
   "metadata": {},
   "source": [
    "### Answer Below:"
   ]
  },
  {
   "cell_type": "markdown",
   "id": "2feda6ec-1b8f-445d-ad2f-7248866c426b",
   "metadata": {},
   "source": [
    "Firstly, we load the libraries that will be used to:\n",
    "- Load the MNIST dataset,\n",
    "- Perform PCA,\n",
    "- Split datasets into training set and testing set,\n",
    "- Build Logistic Regression model,\n",
    "- Calculate accuracy score of the model and\n",
    "- Create confusion matrix"
   ]
  },
  {
   "cell_type": "code",
   "execution_count": 183,
   "id": "fe5d86fd-a19c-4016-936a-d32d397af9e9",
   "metadata": {},
   "outputs": [],
   "source": [
    "from sklearn.datasets import fetch_openml\n",
    "from sklearn.model_selection import train_test_split\n",
    "from sklearn.decomposition import PCA\n",
    "from sklearn.linear_model import LogisticRegression\n",
    "from sklearn.metrics import accuracy_score\n",
    "from sklearn.metrics import confusion_matrix"
   ]
  },
  {
   "cell_type": "markdown",
   "id": "90360f00-e761-4a9e-bf74-517729268fdd",
   "metadata": {},
   "source": [
    "From them, we load the MNIST dataset from `sklearn.datasets` library using the given function `fetch_openml`"
   ]
  },
  {
   "cell_type": "code",
   "execution_count": 184,
   "id": "b0aceed4-a72a-4de6-98c9-ec655bdb00ed",
   "metadata": {},
   "outputs": [
    {
     "name": "stderr",
     "output_type": "stream",
     "text": [
      "E:\\Other_tool\\envpckg\\py3_10_9\\lib\\site-packages\\sklearn\\datasets\\_openml.py:1002: FutureWarning: The default value of `parser` will change from `'liac-arff'` to `'auto'` in 1.4. You can set `parser='auto'` to silence this warning. Therefore, an `ImportError` will be raised from 1.4 if the dataset is dense and pandas is not installed. Note that the pandas parser may return different data types. See the Notes Section in fetch_openml's API doc for details.\n",
      "  warn(\n"
     ]
    }
   ],
   "source": [
    "mnist = fetch_openml('mnist_784', version = 1, as_frame = False) #we want to set version 1 fixed\n",
    "#as_frame = False, will set dataset in Numppy arrays format\n",
    "mnist.target = mnist.target.astype(np.uint8) #uint8 cause we want the range to have max value of 255"
   ]
  },
  {
   "cell_type": "code",
   "execution_count": 185,
   "id": "ba04bd41-466e-4bd8-8ff3-7903e00eabb0",
   "metadata": {},
   "outputs": [],
   "source": [
    "X_6 = mnist['data']\n",
    "y_6 = mnist['target']"
   ]
  },
  {
   "cell_type": "markdown",
   "id": "3010bf8a-e11e-4c04-b560-1ccc21ab0ca5",
   "metadata": {},
   "source": [
    "## Question 2: \n",
    "Perform Principal Component Analysis (PCA) on the feature data to reduce its dimensionality while retaining 88% of the overall explained variance ratio."
   ]
  },
  {
   "cell_type": "markdown",
   "id": "6754d9d5-1d69-444e-81cf-850ef1f58d56",
   "metadata": {},
   "source": [
    "### Answer Below:"
   ]
  },
  {
   "cell_type": "markdown",
   "id": "b0f9f2f7-bf6c-47f8-98d9-0360a962ab71",
   "metadata": {},
   "source": [
    "We must fit the MNIST's extracted data to the PCA model to find the final number dimension that will preserve 88% of the variance in the data."
   ]
  },
  {
   "cell_type": "code",
   "execution_count": 186,
   "id": "c53cb304-a85c-4ed4-82f7-2704d3e024d5",
   "metadata": {},
   "outputs": [],
   "source": [
    "pca = PCA() #create PCA\n",
    "pca = pca.fit(X_6)"
   ]
  },
  {
   "cell_type": "code",
   "execution_count": 187,
   "id": "3c2ea15b-2913-4fc2-a48a-857f839e53f9",
   "metadata": {},
   "outputs": [],
   "source": [
    "#find the number of dimensions that preserve 88% of the variance in the data\n",
    "cumsum = np.cumsum(pca.explained_variance_ratio_)\n",
    "d = np.argmax(cumsum >= 0.88) + 1 #np.argmax return the index, therefore + 1 to get the true value of dimensions\n",
    "\n",
    "#now we fit new pca X values to obtain X_reduced in lower dimension.\n",
    "pca = PCA(n_components = d)\n",
    "X_reduced = pca.fit_transform(X_6)"
   ]
  },
  {
   "cell_type": "markdown",
   "id": "eabc101e-6a48-4801-bc12-073112f8f431",
   "metadata": {},
   "source": [
    "Therefore, it can be seen in the next code that 88% of the variance can be preserved through only 74 numbers of dimensions/features. This means that Principal Component Analysis model has worked effortlessly well with the MNIST dataset on preserving the data's meaning."
   ]
  },
  {
   "cell_type": "code",
   "execution_count": 188,
   "id": "3d3ca85e-ea81-4625-8a8e-775cfddcd19d",
   "metadata": {},
   "outputs": [
    {
     "name": "stdout",
     "output_type": "stream",
     "text": [
      "(70000, 784)\n",
      "(70000, 74)\n",
      "Number of principal components preserved: 74\n"
     ]
    }
   ],
   "source": [
    "print(X_6.shape)\n",
    "print(X_reduced.shape) #reduced in number of dimensions/features, from 784 to 74\n",
    "print('Number of principal components preserved: {}'.format(d))"
   ]
  },
  {
   "cell_type": "markdown",
   "id": "ff95b69e-d674-4713-b58f-fddeb3ba4cb3",
   "metadata": {},
   "source": [
    "## Question 3:\n",
    "Split the data into training and testing sets. A common split ratio is 80% training \n",
    "and 20% testing."
   ]
  },
  {
   "cell_type": "markdown",
   "id": "c4067f87-54a7-4548-92bc-91b371f78db9",
   "metadata": {},
   "source": [
    "### Answer Below:"
   ]
  },
  {
   "cell_type": "code",
   "execution_count": 189,
   "id": "d0fae361-95e2-436f-a17f-d08c699ce52b",
   "metadata": {},
   "outputs": [],
   "source": [
    "X_train, X_test, y_train, y_test = train_test_split(X_reduced, y_6, test_size = 0.2, train_size = 0.8) #20 % test size and 80 % training size"
   ]
  },
  {
   "cell_type": "markdown",
   "id": "6d0c6a65-8580-497c-ac7c-9bead665984a",
   "metadata": {},
   "source": [
    "## Question 4:\n",
    "Create a logistic Regression model using the reduced feature dataset."
   ]
  },
  {
   "cell_type": "markdown",
   "id": "42dd8fad-cdd0-4d63-8fef-e525302bf731",
   "metadata": {},
   "source": [
    "### Answer Below:"
   ]
  },
  {
   "cell_type": "code",
   "execution_count": 190,
   "id": "2993c57a-3276-483d-8123-05ecf45c4081",
   "metadata": {},
   "outputs": [],
   "source": [
    "#here we create a new variable that will predict only number 6 \n",
    "y_train1 = y_train == 6\n",
    "y_test1 = y_test == 6"
   ]
  },
  {
   "cell_type": "code",
   "execution_count": 191,
   "id": "18b43cc1-e075-41a1-9c2d-462d32d21635",
   "metadata": {},
   "outputs": [
    {
     "name": "stderr",
     "output_type": "stream",
     "text": [
      "E:\\Other_tool\\envpckg\\py3_10_9\\lib\\site-packages\\sklearn\\linear_model\\_logistic.py:460: ConvergenceWarning: lbfgs failed to converge (status=1):\n",
      "STOP: TOTAL NO. of ITERATIONS REACHED LIMIT.\n",
      "\n",
      "Increase the number of iterations (max_iter) or scale the data as shown in:\n",
      "    https://scikit-learn.org/stable/modules/preprocessing.html\n",
      "Please also refer to the documentation for alternative solver options:\n",
      "    https://scikit-learn.org/stable/modules/linear_model.html#logistic-regression\n",
      "  n_iter_i = _check_optimize_result(\n"
     ]
    }
   ],
   "source": [
    "log_reg = LogisticRegression()\n",
    "log_reg = log_reg.fit(X_train, y_train1) #fit the training sets into logistic Regression model"
   ]
  },
  {
   "cell_type": "markdown",
   "id": "301459c5-64df-4905-955c-87f03f2cae6c",
   "metadata": {},
   "source": [
    "## Question 5:\n",
    "Use this model to predict the language for the training dataset and the testing dataset."
   ]
  },
  {
   "cell_type": "markdown",
   "id": "693ecdc0-a380-4b61-aa27-65385d6f20f8",
   "metadata": {},
   "source": [
    "### Answer Below:"
   ]
  },
  {
   "cell_type": "markdown",
   "id": "52147c95-63a3-47f6-93f1-264c07efe344",
   "metadata": {},
   "source": [
    "**Predict the language for the training set**"
   ]
  },
  {
   "cell_type": "markdown",
   "id": "b2fc6a75-6e6e-456d-8ec2-83c3537e65d5",
   "metadata": {},
   "source": [
    "Use the `log_reg` model created above to predict values for the training set"
   ]
  },
  {
   "cell_type": "code",
   "execution_count": 192,
   "id": "802eed67-82f4-4b09-993f-20b3ba4b4389",
   "metadata": {},
   "outputs": [],
   "source": [
    "y_pred_train = log_reg.predict(X_train)"
   ]
  },
  {
   "cell_type": "markdown",
   "id": "91414ae8-5de2-41c9-bdb3-007153d8020c",
   "metadata": {},
   "source": [
    "**Predict the language for the testing set**"
   ]
  },
  {
   "cell_type": "markdown",
   "id": "98ef5c83-7739-4562-ae7e-e00b545d921f",
   "metadata": {},
   "source": [
    "Same as above, use the `log_reg` model created to predict values for the testing set"
   ]
  },
  {
   "cell_type": "code",
   "execution_count": 193,
   "id": "a9e473b8-97ad-48fc-98c6-277b5e306ac8",
   "metadata": {},
   "outputs": [],
   "source": [
    "y_pred_test = log_reg.predict(X_test)"
   ]
  },
  {
   "cell_type": "markdown",
   "id": "9f509a89-095f-40f7-812b-d5f751b5e289",
   "metadata": {},
   "source": [
    "## Question 6:\n",
    "Print the number of principal components preserved. Print the prediction accuracy \n",
    "(proportion of correct predictions) of your model on the training set. Print the\r\n",
    "prediction accuracy, the confusion matrix, and the misclassified digits (i.e. wrn g\r\n",
    "predtiitons) of your model on the testing set."
   ]
  },
  {
   "cell_type": "markdown",
   "id": "1a1b4aa5-90d7-4adf-be51-fb671635fd87",
   "metadata": {},
   "source": [
    "### Answer Below:"
   ]
  },
  {
   "cell_type": "markdown",
   "id": "3bf55f2d-815a-4925-bab6-875a9531d1fe",
   "metadata": {},
   "source": [
    "**Number of Principal Components preserved**"
   ]
  },
  {
   "cell_type": "code",
   "execution_count": 194,
   "id": "70f5fa09-aa35-4156-abb5-c8a2d0d3a339",
   "metadata": {},
   "outputs": [
    {
     "name": "stdout",
     "output_type": "stream",
     "text": [
      "Number of principal components preserved: 74\n"
     ]
    }
   ],
   "source": [
    "print('Number of principal components preserved: {}'.format(d))"
   ]
  },
  {
   "cell_type": "markdown",
   "id": "42b446b2-287c-4df7-b023-911a5b63c1bc",
   "metadata": {},
   "source": [
    "**Prediction Accuracy**"
   ]
  },
  {
   "cell_type": "code",
   "execution_count": 195,
   "id": "3c630f00-e239-4fca-a474-10be818bf7f4",
   "metadata": {},
   "outputs": [
    {
     "name": "stdout",
     "output_type": "stream",
     "text": [
      "Accuracy: 98.64642857142857 %\n"
     ]
    }
   ],
   "source": [
    "#accuracy score on the training set\n",
    "ac_score = accuracy_score(y_train1, y_pred_train)\n",
    "print(\"Accuracy: {}\".format(ac_score*100), \"%\") #the prediction accuracy on the training set is high"
   ]
  },
  {
   "cell_type": "code",
   "execution_count": 196,
   "id": "261af8a7-00e7-464c-a254-da8bcaa75790",
   "metadata": {},
   "outputs": [
    {
     "name": "stdout",
     "output_type": "stream",
     "text": [
      "Accuracy: 98.65714285714286 %\n"
     ]
    }
   ],
   "source": [
    "#accuracy score on the testing set\n",
    "ac_score = accuracy_score(y_test1, y_pred_test)\n",
    "print(\"Accuracy: {}\".format(ac_score*100), \"%\") #the prediciton accuracy on the testing set is also really high"
   ]
  },
  {
   "cell_type": "markdown",
   "id": "6507621e-bdef-45f9-b40e-ce85da60d16e",
   "metadata": {},
   "source": [
    "**Confusion matrix**"
   ]
  },
  {
   "cell_type": "code",
   "execution_count": 197,
   "id": "cc0cff9b-9b7d-4ac0-a4e9-5e9644cb64b1",
   "metadata": {},
   "outputs": [
    {
     "data": {
      "text/plain": [
       "array([[50147,   324],\n",
       "       [  434,  5095]], dtype=int64)"
      ]
     },
     "execution_count": 197,
     "metadata": {},
     "output_type": "execute_result"
    }
   ],
   "source": [
    "#confusion matrix on the training set using the model above\n",
    "confusion_matrix(y_train1, y_pred_train)\n",
    "#The confusion matrix shows that we have a total of:\n",
    "# 324 values are misclassified as the digit 6 while they are actually not\n",
    "# 434 values are misclassified as not the digit 6 while they are truly 6\n",
    "# 50147 values are correctly classified as not 6 and\n",
    "# 5095 values are correctly classified as 6."
   ]
  },
  {
   "cell_type": "code",
   "execution_count": 198,
   "id": "6993c470-d1ca-4b0e-bcfa-a35b5f0601e0",
   "metadata": {},
   "outputs": [
    {
     "data": {
      "text/plain": [
       "array([[12572,    81],\n",
       "       [  107,  1240]], dtype=int64)"
      ]
     },
     "execution_count": 198,
     "metadata": {},
     "output_type": "execute_result"
    }
   ],
   "source": [
    "#confusion matrix for the test set using the model above\n",
    "confusion_matrix(y_test1, y_pred_test)\n",
    "#The confusion matrix shows that we have a total of:\n",
    "# 81 values are misclassified as the digit 6 while they are actually not\n",
    "# 107 values are misclassified as not the digit 6 while they are truly 6.\n",
    "# 12572 values are correctly classified as not 6 and\n",
    "# 1240 values are correctly classified as 6"
   ]
  },
  {
   "cell_type": "markdown",
   "id": "bb3e54eb-d90a-48c2-9f8f-395a07f757f6",
   "metadata": {},
   "source": [
    "**Misclassified Digits**"
   ]
  },
  {
   "cell_type": "code",
   "execution_count": 199,
   "id": "633a6596-a809-4f87-8ca5-0932ff1b1444",
   "metadata": {},
   "outputs": [
    {
     "data": {
      "text/plain": [
       "array([6, 0, 6, 6, 6, 6, 5, 6, 6, 8, 6, 5, 6, 6, 0, 8, 8, 2, 6, 6, 5, 6,\n",
       "       6, 6, 5, 2, 4, 6, 6, 6, 6, 2, 6, 6, 6, 5, 3, 4, 5, 6, 6, 5, 5, 6,\n",
       "       1, 0, 6, 6, 6, 6, 6, 6, 0, 6, 2, 6, 2, 6, 5, 5, 3, 6, 4, 6, 0, 5,\n",
       "       6, 6, 0, 6, 6, 6, 6, 6, 2, 2, 6, 6, 2, 4, 6, 0, 6, 8, 6, 6, 4, 6,\n",
       "       0, 6, 4, 2, 6, 6, 6, 7, 2, 6, 6, 6, 6, 6, 8, 6, 6, 6, 6, 6, 6, 6,\n",
       "       6, 6, 6, 6, 2, 6, 6, 8, 6, 6, 6, 6, 0, 4, 6, 6, 6, 4, 0, 6, 2, 3,\n",
       "       0, 6, 6, 2, 4, 5, 5, 2, 6, 0, 6, 6, 6, 2, 6, 2, 2, 6, 8, 6, 6, 5,\n",
       "       6, 6, 0, 2, 6, 6, 8, 6, 6, 6, 6, 6, 4, 0, 6, 2, 5, 6, 0, 8, 6, 2,\n",
       "       4, 6, 6, 8, 6, 4, 8, 4, 6, 5, 6, 8], dtype=uint8)"
      ]
     },
     "execution_count": 199,
     "metadata": {},
     "output_type": "execute_result"
    }
   ],
   "source": [
    "misclas_digit = np.where(y_test1 != y_pred_test)[0]\n",
    "y_test[misclas_digit] #these are the misclassified digits, where the predicted y values (y_pred_test) do not match up with the true y values (y_test1) \n",
    "#of the testing set."
   ]
  },
  {
   "cell_type": "markdown",
   "id": "a3494763-e383-4a9e-9249-f9cca165b5e8",
   "metadata": {},
   "source": [
    "## Question 7:\n",
    "What do you think of the model generated (good, underfit, overfit)? Briefly explains \n",
    "why"
   ]
  },
  {
   "cell_type": "markdown",
   "id": "67b1a14a-9cc9-4cef-a27c-0bdc94372acf",
   "metadata": {},
   "source": [
    "### Answer Below:"
   ]
  },
  {
   "cell_type": "markdown",
   "id": "bc482b8d-8a90-42cb-a3d5-4bb38596b1a7",
   "metadata": {},
   "source": [
    "The model is accurately good due to its highly well prediction performance on the training data and as well as on the testing set. With an accuracy of 98.65% for the training set and approximately 98.66% for the testing set, it is a good model to be used for predicting the language. Furthermore, with the uses of PCA to reduce the number of dimensions while preserving 88% of the variance of data, the model's complexity is reduced to a safe zone without overcomplicating the model with a high number of dimensions/features which could potentially lead overfitting."
   ]
  },
  {
   "cell_type": "markdown",
   "id": "70b5799e-bcaf-4bd9-ae04-1ef9ee5b2d11",
   "metadata": {},
   "source": [
    "# END OF TASK"
   ]
  }
 ],
 "metadata": {
  "kernelspec": {
   "display_name": "Python 3 (ipykernel)",
   "language": "python",
   "name": "python3"
  },
  "language_info": {
   "codemirror_mode": {
    "name": "ipython",
    "version": 3
   },
   "file_extension": ".py",
   "mimetype": "text/x-python",
   "name": "python",
   "nbconvert_exporter": "python",
   "pygments_lexer": "ipython3",
   "version": "3.10.9"
  }
 },
 "nbformat": 4,
 "nbformat_minor": 5
}
