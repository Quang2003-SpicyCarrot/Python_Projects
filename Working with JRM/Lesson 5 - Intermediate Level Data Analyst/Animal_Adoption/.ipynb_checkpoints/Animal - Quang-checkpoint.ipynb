{
 "cells": [
  {
   "cell_type": "markdown",
   "id": "214c0f1b",
   "metadata": {},
   "source": [
    "# Explain Dataset\n",
    "\n",
    "#### Acc_Intakes.csv \n",
    "- Age Upon Intake: The age of the animal when it was brought to the facility\n",
    "- Animal ID: A unique identifier for each animal.\n",
    "- Animal Type: The species of the animal. In both examples, this is 'Dog'.\n",
    "- Breed: The breed of the animal.\n",
    "- Color: The color of the animal's coat.\n",
    "- Datetime: The date and time when the animal was intake.\n",
    "- Datetime2: This seems to be a repeat of the intake date and time\n",
    "- Found Location: The location where the animal was found before being brought to the facility.\n",
    "- Intake Condition: The health or physical condition of the animal at intake.\n",
    "- Intake Type: The circumstances under which the animal was brought to the facility.\n",
    "- Name: The name given to the animal. \n",
    "- Sex Upon Intake: The gender and reproductive status of the animal when it arrived.\n",
    "\n",
    "#### Acc_Outcomes.csv\n",
    "- Age Upon Outcome: This is the age of the animal at the time they left the facility\n",
    "- Animal ID: A unique identifier assigned to each animal.\n",
    "- Animal Type: The species of the animal.\n",
    "- Breed: The breed of the animal.\n",
    "- Color: The color of the animal's coat.\n",
    "- Date of Birth: The birth date of the animal. \n",
    "- Datetime: The date and time when the animal left the facility.\n",
    "- Monthyear: This seems to be a repeat of the outcome date and time\n",
    "- Name: The name of the animal\n",
    "- Outcome Subtype: Additional details about the outcome.\n",
    "- Outcome Type: The general category of the outcome.\n",
    "- Sex Upon Outcome: The gender and reproductive status of the animal when it left the facility. "
   ]
  },
  {
   "cell_type": "markdown",
   "id": "39ecbdd7",
   "metadata": {},
   "source": [
    "# Clearn data before analyze.\n",
    "#### Import pandas and numpy library"
   ]
  },
  {
   "cell_type": "code",
   "execution_count": 26,
   "id": "884373c1",
   "metadata": {},
   "outputs": [],
   "source": [
    "import pandas as pd\n",
    "import numpy as np"
   ]
  },
  {
   "cell_type": "markdown",
   "id": "7ace7b6c",
   "metadata": {},
   "source": [
    "#### Read file aac_intakes.csv and save as 'aac_intakes' dataframe"
   ]
  },
  {
   "cell_type": "code",
   "execution_count": 27,
   "id": "8e120912",
   "metadata": {},
   "outputs": [
    {
     "data": {
      "text/html": [
       "<div>\n",
       "<style scoped>\n",
       "    .dataframe tbody tr th:only-of-type {\n",
       "        vertical-align: middle;\n",
       "    }\n",
       "\n",
       "    .dataframe tbody tr th {\n",
       "        vertical-align: top;\n",
       "    }\n",
       "\n",
       "    .dataframe thead th {\n",
       "        text-align: right;\n",
       "    }\n",
       "</style>\n",
       "<table border=\"1\" class=\"dataframe\">\n",
       "  <thead>\n",
       "    <tr style=\"text-align: right;\">\n",
       "      <th></th>\n",
       "      <th>age_upon_intake</th>\n",
       "      <th>animal_id</th>\n",
       "      <th>animal_type</th>\n",
       "      <th>breed</th>\n",
       "      <th>color</th>\n",
       "      <th>datetime</th>\n",
       "      <th>datetime2</th>\n",
       "      <th>found_location</th>\n",
       "      <th>intake_condition</th>\n",
       "      <th>intake_type</th>\n",
       "      <th>name</th>\n",
       "      <th>sex_upon_intake</th>\n",
       "    </tr>\n",
       "  </thead>\n",
       "  <tbody>\n",
       "    <tr>\n",
       "      <th>0</th>\n",
       "      <td>8 years</td>\n",
       "      <td>A706918</td>\n",
       "      <td>Dog</td>\n",
       "      <td>English Springer Spaniel</td>\n",
       "      <td>White/Liver</td>\n",
       "      <td>2015-07-05T12:59:00.000</td>\n",
       "      <td>2015-07-05T12:59:00.000</td>\n",
       "      <td>9409 Bluegrass Dr in Austin (TX)</td>\n",
       "      <td>Normal</td>\n",
       "      <td>Stray</td>\n",
       "      <td>Belle</td>\n",
       "      <td>Spayed Female</td>\n",
       "    </tr>\n",
       "    <tr>\n",
       "      <th>1</th>\n",
       "      <td>11 months</td>\n",
       "      <td>A724273</td>\n",
       "      <td>Dog</td>\n",
       "      <td>Basenji Mix</td>\n",
       "      <td>Sable/White</td>\n",
       "      <td>2016-04-14T18:43:00.000</td>\n",
       "      <td>2016-04-14T18:43:00.000</td>\n",
       "      <td>2818 Palomino Trail in Austin (TX)</td>\n",
       "      <td>Normal</td>\n",
       "      <td>Stray</td>\n",
       "      <td>Runster</td>\n",
       "      <td>Intact Male</td>\n",
       "    </tr>\n",
       "    <tr>\n",
       "      <th>2</th>\n",
       "      <td>4 weeks</td>\n",
       "      <td>A665644</td>\n",
       "      <td>Cat</td>\n",
       "      <td>Domestic Shorthair Mix</td>\n",
       "      <td>Calico</td>\n",
       "      <td>2013-10-21T07:59:00.000</td>\n",
       "      <td>2013-10-21T07:59:00.000</td>\n",
       "      <td>Austin (TX)</td>\n",
       "      <td>Sick</td>\n",
       "      <td>Stray</td>\n",
       "      <td>NaN</td>\n",
       "      <td>Intact Female</td>\n",
       "    </tr>\n",
       "    <tr>\n",
       "      <th>3</th>\n",
       "      <td>4 years</td>\n",
       "      <td>A682524</td>\n",
       "      <td>Dog</td>\n",
       "      <td>Doberman Pinsch/Australian Cattle Dog</td>\n",
       "      <td>Tan/Gray</td>\n",
       "      <td>2014-06-29T10:38:00.000</td>\n",
       "      <td>2014-06-29T10:38:00.000</td>\n",
       "      <td>800 Grove Blvd in Austin (TX)</td>\n",
       "      <td>Normal</td>\n",
       "      <td>Stray</td>\n",
       "      <td>Rio</td>\n",
       "      <td>Neutered Male</td>\n",
       "    </tr>\n",
       "    <tr>\n",
       "      <th>4</th>\n",
       "      <td>2 years</td>\n",
       "      <td>A743852</td>\n",
       "      <td>Dog</td>\n",
       "      <td>Labrador Retriever Mix</td>\n",
       "      <td>Chocolate</td>\n",
       "      <td>2017-02-18T12:46:00.000</td>\n",
       "      <td>2017-02-18T12:46:00.000</td>\n",
       "      <td>Austin (TX)</td>\n",
       "      <td>Normal</td>\n",
       "      <td>Owner Surrender</td>\n",
       "      <td>Odin</td>\n",
       "      <td>Neutered Male</td>\n",
       "    </tr>\n",
       "    <tr>\n",
       "      <th>...</th>\n",
       "      <td>...</td>\n",
       "      <td>...</td>\n",
       "      <td>...</td>\n",
       "      <td>...</td>\n",
       "      <td>...</td>\n",
       "      <td>...</td>\n",
       "      <td>...</td>\n",
       "      <td>...</td>\n",
       "      <td>...</td>\n",
       "      <td>...</td>\n",
       "      <td>...</td>\n",
       "      <td>...</td>\n",
       "    </tr>\n",
       "    <tr>\n",
       "      <th>80182</th>\n",
       "      <td>10 years</td>\n",
       "      <td>A769067</td>\n",
       "      <td>Dog</td>\n",
       "      <td>Boxer Mix</td>\n",
       "      <td>Brown Brindle</td>\n",
       "      <td>2018-03-29T18:20:00.000</td>\n",
       "      <td>2018-03-29T18:20:00.000</td>\n",
       "      <td>11216 Jollyville Rd 216 in Austin (TX)</td>\n",
       "      <td>Aged</td>\n",
       "      <td>Stray</td>\n",
       "      <td>NaN</td>\n",
       "      <td>Spayed Female</td>\n",
       "    </tr>\n",
       "    <tr>\n",
       "      <th>80183</th>\n",
       "      <td>5 years</td>\n",
       "      <td>A768934</td>\n",
       "      <td>Dog</td>\n",
       "      <td>Dachshund Wirehair/Chihuahua Shorthair</td>\n",
       "      <td>Chocolate/White</td>\n",
       "      <td>2018-03-27T14:27:00.000</td>\n",
       "      <td>2018-03-27T14:27:00.000</td>\n",
       "      <td>603 West Johanna Street in Austin (TX)</td>\n",
       "      <td>Normal</td>\n",
       "      <td>Stray</td>\n",
       "      <td>NaN</td>\n",
       "      <td>Intact Male</td>\n",
       "    </tr>\n",
       "    <tr>\n",
       "      <th>80184</th>\n",
       "      <td>2 years</td>\n",
       "      <td>A769064</td>\n",
       "      <td>Other</td>\n",
       "      <td>Bat Mix</td>\n",
       "      <td>Brown</td>\n",
       "      <td>2018-03-29T17:13:00.000</td>\n",
       "      <td>2018-03-29T17:13:00.000</td>\n",
       "      <td>2519 Scarbrough Dr in Travis (TX)</td>\n",
       "      <td>Normal</td>\n",
       "      <td>Wildlife</td>\n",
       "      <td>NaN</td>\n",
       "      <td>Unknown</td>\n",
       "    </tr>\n",
       "    <tr>\n",
       "      <th>80185</th>\n",
       "      <td>3 years</td>\n",
       "      <td>A675680</td>\n",
       "      <td>Dog</td>\n",
       "      <td>German Shepherd/Black/Tan Hound</td>\n",
       "      <td>Black/Brown</td>\n",
       "      <td>2014-03-31T18:10:00.000</td>\n",
       "      <td>2014-03-31T18:10:00.000</td>\n",
       "      <td>Austin (TX)</td>\n",
       "      <td>Normal</td>\n",
       "      <td>Public Assist</td>\n",
       "      <td>Draco</td>\n",
       "      <td>Neutered Male</td>\n",
       "    </tr>\n",
       "    <tr>\n",
       "      <th>80186</th>\n",
       "      <td>1 year</td>\n",
       "      <td>A680949</td>\n",
       "      <td>Dog</td>\n",
       "      <td>Chihuahua Shorthair/Beagle</td>\n",
       "      <td>Tan</td>\n",
       "      <td>2014-06-10T11:53:00.000</td>\n",
       "      <td>2014-06-10T11:53:00.000</td>\n",
       "      <td>4605 Lyra Cir in Austin (TX)</td>\n",
       "      <td>Normal</td>\n",
       "      <td>Stray</td>\n",
       "      <td>Lolo</td>\n",
       "      <td>Intact Male</td>\n",
       "    </tr>\n",
       "  </tbody>\n",
       "</table>\n",
       "<p>80187 rows × 12 columns</p>\n",
       "</div>"
      ],
      "text/plain": [
       "      age_upon_intake animal_id animal_type  \\\n",
       "0             8 years   A706918         Dog   \n",
       "1           11 months   A724273         Dog   \n",
       "2             4 weeks   A665644         Cat   \n",
       "3             4 years   A682524         Dog   \n",
       "4             2 years   A743852         Dog   \n",
       "...               ...       ...         ...   \n",
       "80182        10 years   A769067         Dog   \n",
       "80183         5 years   A768934         Dog   \n",
       "80184         2 years   A769064       Other   \n",
       "80185         3 years   A675680         Dog   \n",
       "80186          1 year   A680949         Dog   \n",
       "\n",
       "                                        breed            color  \\\n",
       "0                    English Springer Spaniel      White/Liver   \n",
       "1                                 Basenji Mix      Sable/White   \n",
       "2                      Domestic Shorthair Mix           Calico   \n",
       "3       Doberman Pinsch/Australian Cattle Dog         Tan/Gray   \n",
       "4                      Labrador Retriever Mix        Chocolate   \n",
       "...                                       ...              ...   \n",
       "80182                               Boxer Mix    Brown Brindle   \n",
       "80183  Dachshund Wirehair/Chihuahua Shorthair  Chocolate/White   \n",
       "80184                                 Bat Mix            Brown   \n",
       "80185         German Shepherd/Black/Tan Hound      Black/Brown   \n",
       "80186              Chihuahua Shorthair/Beagle              Tan   \n",
       "\n",
       "                      datetime                datetime2  \\\n",
       "0      2015-07-05T12:59:00.000  2015-07-05T12:59:00.000   \n",
       "1      2016-04-14T18:43:00.000  2016-04-14T18:43:00.000   \n",
       "2      2013-10-21T07:59:00.000  2013-10-21T07:59:00.000   \n",
       "3      2014-06-29T10:38:00.000  2014-06-29T10:38:00.000   \n",
       "4      2017-02-18T12:46:00.000  2017-02-18T12:46:00.000   \n",
       "...                        ...                      ...   \n",
       "80182  2018-03-29T18:20:00.000  2018-03-29T18:20:00.000   \n",
       "80183  2018-03-27T14:27:00.000  2018-03-27T14:27:00.000   \n",
       "80184  2018-03-29T17:13:00.000  2018-03-29T17:13:00.000   \n",
       "80185  2014-03-31T18:10:00.000  2014-03-31T18:10:00.000   \n",
       "80186  2014-06-10T11:53:00.000  2014-06-10T11:53:00.000   \n",
       "\n",
       "                               found_location intake_condition  \\\n",
       "0            9409 Bluegrass Dr in Austin (TX)           Normal   \n",
       "1          2818 Palomino Trail in Austin (TX)           Normal   \n",
       "2                                 Austin (TX)             Sick   \n",
       "3               800 Grove Blvd in Austin (TX)           Normal   \n",
       "4                                 Austin (TX)           Normal   \n",
       "...                                       ...              ...   \n",
       "80182  11216 Jollyville Rd 216 in Austin (TX)             Aged   \n",
       "80183  603 West Johanna Street in Austin (TX)           Normal   \n",
       "80184       2519 Scarbrough Dr in Travis (TX)           Normal   \n",
       "80185                             Austin (TX)           Normal   \n",
       "80186            4605 Lyra Cir in Austin (TX)           Normal   \n",
       "\n",
       "           intake_type     name sex_upon_intake  \n",
       "0                Stray    Belle   Spayed Female  \n",
       "1                Stray  Runster     Intact Male  \n",
       "2                Stray      NaN   Intact Female  \n",
       "3                Stray      Rio   Neutered Male  \n",
       "4      Owner Surrender     Odin   Neutered Male  \n",
       "...                ...      ...             ...  \n",
       "80182            Stray      NaN   Spayed Female  \n",
       "80183            Stray      NaN     Intact Male  \n",
       "80184         Wildlife      NaN         Unknown  \n",
       "80185    Public Assist    Draco   Neutered Male  \n",
       "80186            Stray     Lolo     Intact Male  \n",
       "\n",
       "[80187 rows x 12 columns]"
      ]
     },
     "execution_count": 27,
     "metadata": {},
     "output_type": "execute_result"
    }
   ],
   "source": [
    "aac_intakes = pd.read_csv('aac_intakes.csv')\n",
    "aac_intakes"
   ]
  },
  {
   "cell_type": "markdown",
   "id": "bd95245b",
   "metadata": {},
   "source": [
    "#### Read file aac_outcomes.csv and save as 'aac_outcomes' dataframe"
   ]
  },
  {
   "cell_type": "code",
   "execution_count": 28,
   "id": "3d10f28e",
   "metadata": {},
   "outputs": [
    {
     "data": {
      "text/html": [
       "<div>\n",
       "<style scoped>\n",
       "    .dataframe tbody tr th:only-of-type {\n",
       "        vertical-align: middle;\n",
       "    }\n",
       "\n",
       "    .dataframe tbody tr th {\n",
       "        vertical-align: top;\n",
       "    }\n",
       "\n",
       "    .dataframe thead th {\n",
       "        text-align: right;\n",
       "    }\n",
       "</style>\n",
       "<table border=\"1\" class=\"dataframe\">\n",
       "  <thead>\n",
       "    <tr style=\"text-align: right;\">\n",
       "      <th></th>\n",
       "      <th>age_upon_outcome</th>\n",
       "      <th>animal_id</th>\n",
       "      <th>animal_type</th>\n",
       "      <th>breed</th>\n",
       "      <th>color</th>\n",
       "      <th>date_of_birth</th>\n",
       "      <th>datetime</th>\n",
       "      <th>monthyear</th>\n",
       "      <th>name</th>\n",
       "      <th>outcome_subtype</th>\n",
       "      <th>outcome_type</th>\n",
       "      <th>sex_upon_outcome</th>\n",
       "    </tr>\n",
       "  </thead>\n",
       "  <tbody>\n",
       "    <tr>\n",
       "      <th>0</th>\n",
       "      <td>2 weeks</td>\n",
       "      <td>A684346</td>\n",
       "      <td>Cat</td>\n",
       "      <td>Domestic Shorthair Mix</td>\n",
       "      <td>Orange Tabby</td>\n",
       "      <td>2014-07-07T00:00:00</td>\n",
       "      <td>2014-07-22T16:04:00</td>\n",
       "      <td>2014-07-22T16:04:00</td>\n",
       "      <td>NaN</td>\n",
       "      <td>Partner</td>\n",
       "      <td>Transfer</td>\n",
       "      <td>Intact Male</td>\n",
       "    </tr>\n",
       "    <tr>\n",
       "      <th>1</th>\n",
       "      <td>1 year</td>\n",
       "      <td>A666430</td>\n",
       "      <td>Dog</td>\n",
       "      <td>Beagle Mix</td>\n",
       "      <td>White/Brown</td>\n",
       "      <td>2012-11-06T00:00:00</td>\n",
       "      <td>2013-11-07T11:47:00</td>\n",
       "      <td>2013-11-07T11:47:00</td>\n",
       "      <td>Lucy</td>\n",
       "      <td>Partner</td>\n",
       "      <td>Transfer</td>\n",
       "      <td>Spayed Female</td>\n",
       "    </tr>\n",
       "    <tr>\n",
       "      <th>2</th>\n",
       "      <td>1 year</td>\n",
       "      <td>A675708</td>\n",
       "      <td>Dog</td>\n",
       "      <td>Pit Bull</td>\n",
       "      <td>Blue/White</td>\n",
       "      <td>2013-03-31T00:00:00</td>\n",
       "      <td>2014-06-03T14:20:00</td>\n",
       "      <td>2014-06-03T14:20:00</td>\n",
       "      <td>*Johnny</td>\n",
       "      <td>NaN</td>\n",
       "      <td>Adoption</td>\n",
       "      <td>Neutered Male</td>\n",
       "    </tr>\n",
       "    <tr>\n",
       "      <th>3</th>\n",
       "      <td>9 years</td>\n",
       "      <td>A680386</td>\n",
       "      <td>Dog</td>\n",
       "      <td>Miniature Schnauzer Mix</td>\n",
       "      <td>White</td>\n",
       "      <td>2005-06-02T00:00:00</td>\n",
       "      <td>2014-06-15T15:50:00</td>\n",
       "      <td>2014-06-15T15:50:00</td>\n",
       "      <td>Monday</td>\n",
       "      <td>Partner</td>\n",
       "      <td>Transfer</td>\n",
       "      <td>Neutered Male</td>\n",
       "    </tr>\n",
       "    <tr>\n",
       "      <th>4</th>\n",
       "      <td>5 months</td>\n",
       "      <td>A683115</td>\n",
       "      <td>Other</td>\n",
       "      <td>Bat Mix</td>\n",
       "      <td>Brown</td>\n",
       "      <td>2014-01-07T00:00:00</td>\n",
       "      <td>2014-07-07T14:04:00</td>\n",
       "      <td>2014-07-07T14:04:00</td>\n",
       "      <td>NaN</td>\n",
       "      <td>Rabies Risk</td>\n",
       "      <td>Euthanasia</td>\n",
       "      <td>Unknown</td>\n",
       "    </tr>\n",
       "    <tr>\n",
       "      <th>...</th>\n",
       "      <td>...</td>\n",
       "      <td>...</td>\n",
       "      <td>...</td>\n",
       "      <td>...</td>\n",
       "      <td>...</td>\n",
       "      <td>...</td>\n",
       "      <td>...</td>\n",
       "      <td>...</td>\n",
       "      <td>...</td>\n",
       "      <td>...</td>\n",
       "      <td>...</td>\n",
       "      <td>...</td>\n",
       "    </tr>\n",
       "    <tr>\n",
       "      <th>80676</th>\n",
       "      <td>1 month</td>\n",
       "      <td>A769131</td>\n",
       "      <td>Dog</td>\n",
       "      <td>Labrador Retriever Mix</td>\n",
       "      <td>Tan</td>\n",
       "      <td>2018-02-06T00:00:00</td>\n",
       "      <td>2018-04-03T18:22:00</td>\n",
       "      <td>2018-04-03T18:22:00</td>\n",
       "      <td>Bella</td>\n",
       "      <td>NaN</td>\n",
       "      <td>Adoption</td>\n",
       "      <td>Spayed Female</td>\n",
       "    </tr>\n",
       "    <tr>\n",
       "      <th>80677</th>\n",
       "      <td>5 years</td>\n",
       "      <td>A665594</td>\n",
       "      <td>Dog</td>\n",
       "      <td>Chihuahua Shorthair/Dachshund</td>\n",
       "      <td>Tricolor</td>\n",
       "      <td>2012-10-19T00:00:00</td>\n",
       "      <td>2018-04-03T18:18:00</td>\n",
       "      <td>2018-04-03T18:18:00</td>\n",
       "      <td>Fifi</td>\n",
       "      <td>NaN</td>\n",
       "      <td>Return to Owner</td>\n",
       "      <td>Spayed Female</td>\n",
       "    </tr>\n",
       "    <tr>\n",
       "      <th>80678</th>\n",
       "      <td>1 year</td>\n",
       "      <td>A769120</td>\n",
       "      <td>Dog</td>\n",
       "      <td>Labrador Retriever/Pekingese</td>\n",
       "      <td>White</td>\n",
       "      <td>2017-03-30T00:00:00</td>\n",
       "      <td>2018-04-03T18:36:00</td>\n",
       "      <td>2018-04-03T18:36:00</td>\n",
       "      <td>Subbu</td>\n",
       "      <td>NaN</td>\n",
       "      <td>Adoption</td>\n",
       "      <td>Spayed Female</td>\n",
       "    </tr>\n",
       "    <tr>\n",
       "      <th>80679</th>\n",
       "      <td>2 years</td>\n",
       "      <td>A764644</td>\n",
       "      <td>Dog</td>\n",
       "      <td>Blue Lacy/Labrador Retriever</td>\n",
       "      <td>Black/White</td>\n",
       "      <td>2016-01-03T00:00:00</td>\n",
       "      <td>2018-04-03T18:43:00</td>\n",
       "      <td>2018-04-03T18:43:00</td>\n",
       "      <td>*Phineas</td>\n",
       "      <td>NaN</td>\n",
       "      <td>Adoption</td>\n",
       "      <td>Neutered Male</td>\n",
       "    </tr>\n",
       "    <tr>\n",
       "      <th>80680</th>\n",
       "      <td>1 year</td>\n",
       "      <td>A768726</td>\n",
       "      <td>Dog</td>\n",
       "      <td>Siberian Husky Mix</td>\n",
       "      <td>Brown/White</td>\n",
       "      <td>2017-03-24T00:00:00</td>\n",
       "      <td>2018-04-03T18:36:00</td>\n",
       "      <td>2018-04-03T18:36:00</td>\n",
       "      <td>Sky</td>\n",
       "      <td>NaN</td>\n",
       "      <td>Return to Owner</td>\n",
       "      <td>Intact Female</td>\n",
       "    </tr>\n",
       "  </tbody>\n",
       "</table>\n",
       "<p>80681 rows × 12 columns</p>\n",
       "</div>"
      ],
      "text/plain": [
       "      age_upon_outcome animal_id animal_type                          breed  \\\n",
       "0              2 weeks   A684346         Cat         Domestic Shorthair Mix   \n",
       "1               1 year   A666430         Dog                     Beagle Mix   \n",
       "2               1 year   A675708         Dog                       Pit Bull   \n",
       "3              9 years   A680386         Dog        Miniature Schnauzer Mix   \n",
       "4             5 months   A683115       Other                        Bat Mix   \n",
       "...                ...       ...         ...                            ...   \n",
       "80676          1 month   A769131         Dog         Labrador Retriever Mix   \n",
       "80677          5 years   A665594         Dog  Chihuahua Shorthair/Dachshund   \n",
       "80678           1 year   A769120         Dog   Labrador Retriever/Pekingese   \n",
       "80679          2 years   A764644         Dog   Blue Lacy/Labrador Retriever   \n",
       "80680           1 year   A768726         Dog             Siberian Husky Mix   \n",
       "\n",
       "              color        date_of_birth             datetime  \\\n",
       "0      Orange Tabby  2014-07-07T00:00:00  2014-07-22T16:04:00   \n",
       "1       White/Brown  2012-11-06T00:00:00  2013-11-07T11:47:00   \n",
       "2        Blue/White  2013-03-31T00:00:00  2014-06-03T14:20:00   \n",
       "3             White  2005-06-02T00:00:00  2014-06-15T15:50:00   \n",
       "4             Brown  2014-01-07T00:00:00  2014-07-07T14:04:00   \n",
       "...             ...                  ...                  ...   \n",
       "80676           Tan  2018-02-06T00:00:00  2018-04-03T18:22:00   \n",
       "80677      Tricolor  2012-10-19T00:00:00  2018-04-03T18:18:00   \n",
       "80678         White  2017-03-30T00:00:00  2018-04-03T18:36:00   \n",
       "80679   Black/White  2016-01-03T00:00:00  2018-04-03T18:43:00   \n",
       "80680   Brown/White  2017-03-24T00:00:00  2018-04-03T18:36:00   \n",
       "\n",
       "                 monthyear      name outcome_subtype     outcome_type  \\\n",
       "0      2014-07-22T16:04:00       NaN         Partner         Transfer   \n",
       "1      2013-11-07T11:47:00      Lucy         Partner         Transfer   \n",
       "2      2014-06-03T14:20:00   *Johnny             NaN         Adoption   \n",
       "3      2014-06-15T15:50:00    Monday         Partner         Transfer   \n",
       "4      2014-07-07T14:04:00       NaN     Rabies Risk       Euthanasia   \n",
       "...                    ...       ...             ...              ...   \n",
       "80676  2018-04-03T18:22:00     Bella             NaN         Adoption   \n",
       "80677  2018-04-03T18:18:00      Fifi             NaN  Return to Owner   \n",
       "80678  2018-04-03T18:36:00     Subbu             NaN         Adoption   \n",
       "80679  2018-04-03T18:43:00  *Phineas             NaN         Adoption   \n",
       "80680  2018-04-03T18:36:00       Sky             NaN  Return to Owner   \n",
       "\n",
       "      sex_upon_outcome  \n",
       "0          Intact Male  \n",
       "1        Spayed Female  \n",
       "2        Neutered Male  \n",
       "3        Neutered Male  \n",
       "4              Unknown  \n",
       "...                ...  \n",
       "80676    Spayed Female  \n",
       "80677    Spayed Female  \n",
       "80678    Spayed Female  \n",
       "80679    Neutered Male  \n",
       "80680    Intact Female  \n",
       "\n",
       "[80681 rows x 12 columns]"
      ]
     },
     "execution_count": 28,
     "metadata": {},
     "output_type": "execute_result"
    }
   ],
   "source": [
    "aac_outcomes = pd.read_csv('aac_outcomes.csv')\n",
    "aac_outcomes"
   ]
  },
  {
   "cell_type": "markdown",
   "id": "b0194cfc",
   "metadata": {},
   "source": [
    "- Update the lastest time each animal apper in dataset and save them to another dataframe"
   ]
  },
  {
   "cell_type": "code",
   "execution_count": 29,
   "id": "14831b85",
   "metadata": {},
   "outputs": [
    {
     "data": {
      "text/plain": [
       "{'Bird', 'Cat', 'Dog', 'Livestock', 'Other'}"
      ]
     },
     "execution_count": 29,
     "metadata": {},
     "output_type": "execute_result"
    }
   ],
   "source": [
    "set(aac_outcomes['animal_type'])"
   ]
  },
  {
   "cell_type": "markdown",
   "id": "5a3b7d9c-2d47-4221-9faf-4f22fc54e174",
   "metadata": {},
   "source": [
    "### Step 1: Convert the data types\n",
    "We need to convert the datat type of variables of both dataframes to appropriate types\n",
    "with 'aac_intakes' dataframe, we need to convert:\n",
    "- 'datetime', 'datetime2'\n",
    "\n",
    "With 'aac_outcomes' dataframe, we need to convert:\n",
    "- 'date_of_birth', 'datetime', 'monthyear'"
   ]
  },
  {
   "cell_type": "code",
   "execution_count": 30,
   "id": "4f9b3667-3f0c-495c-8caf-6d589eb97a8c",
   "metadata": {},
   "outputs": [],
   "source": [
    "aac_intakes[['datetime', 'datetime2']] = aac_intakes[['datetime','datetime2']].apply(pd.to_datetime)\n",
    "aac_outcomes[['date_of_birth','datetime','monthyear']] = aac_outcomes[['date_of_birth','datetime','monthyear']].apply(pd.to_datetime)"
   ]
  },
  {
   "cell_type": "markdown",
   "id": "a7155c18-2cb2-4156-8815-231df21e82ca",
   "metadata": {},
   "source": [
    "### Step2: Collect and clean data in both dataframe"
   ]
  },
  {
   "cell_type": "markdown",
   "id": "78123886-d177-4f7f-9cf9-6dd68220035d",
   "metadata": {},
   "source": [
    "Delete all duplicated values in the 'aac_outcomes' dataframe and 'aac_intakes' dataframe"
   ]
  },
  {
   "cell_type": "code",
   "execution_count": 31,
   "id": "bb548565-06be-4931-8f14-902eb60e6d8f",
   "metadata": {},
   "outputs": [],
   "source": [
    "#drop duplicated and NA values\n",
    "aac_intakes = aac_intakes.drop_duplicates()\n",
    "aac_intakes = aac_intakes.dropna(subset = ['animal_id', 'datetime','datetime2'])\n",
    "\n",
    "aac_outcomes = aac_outcomes.drop_duplicates()\n",
    "aac_outcomes = aac_outcomes.dropna(subset = ['animal_id', 'date_of_birth', 'datetime', 'monthyear'])"
   ]
  },
  {
   "cell_type": "markdown",
   "id": "373d363a-2575-4804-93f3-caf1afe7bc3b",
   "metadata": {},
   "source": [
    "Create 2 variables for duplicated values from both tables and Select them"
   ]
  },
  {
   "cell_type": "code",
   "execution_count": 32,
   "id": "fcab44c8-3893-48bf-aef0-abc01510ad91",
   "metadata": {},
   "outputs": [],
   "source": [
    "ids_in = aac_intakes['animal_id']\n",
    "ids_out = aac_outcomes['animal_id']\n",
    "\n",
    "Duprows_aac_intakes = aac_intakes[ids_in.isin(ids_in[ids_in.duplicated()])].sort_values('animal_id')\n",
    "Duprows_aac_outcomes = aac_outcomes[ids_out.isin(ids_out[ids_out.duplicated()])].sort_values('animal_id')"
   ]
  },
  {
   "cell_type": "code",
   "execution_count": 33,
   "id": "1ca23c5d-b617-4bc3-9f74-1791865e4ed0",
   "metadata": {},
   "outputs": [],
   "source": [
    "idx_in = Duprows_aac_intakes.groupby('animal_id')['datetime'].idxmax() #return the animal_id that has max date value and its index\n",
    "new_idx_in = Duprows_aac_intakes.loc[idx_in] #loc takes the index\n",
    "\n",
    "idx_out = Duprows_aac_outcomes.groupby('animal_id')['datetime'].idxmax() #return the animal_id that has max date value and its index\n",
    "new_idx_out = Duprows_aac_outcomes.loc[idx_out]"
   ]
  },
  {
   "cell_type": "code",
   "execution_count": 34,
   "id": "8cbd6ab5-8d5c-4897-848c-ec4071ad217b",
   "metadata": {},
   "outputs": [],
   "source": [
    "nonDup_aac_intakes = aac_intakes.drop_duplicates(subset = ['animal_id'], keep = False)\n",
    "nonDup_aac_outcomes = aac_outcomes.drop_duplicates(subset = ['animal_id'], keep = False)"
   ]
  },
  {
   "cell_type": "markdown",
   "id": "02b9bb58-b8cd-4cb1-b440-e9de55dbc2f8",
   "metadata": {},
   "source": [
    "### Step 3: Combine non-duplicated dataframes"
   ]
  },
  {
   "cell_type": "code",
   "execution_count": 35,
   "id": "9d71f728-f832-46d7-847b-21ea03396278",
   "metadata": {},
   "outputs": [],
   "source": [
    "Update_aac_intakes = pd.concat([nonDup_aac_intakes, new_idx_in])\n",
    "Update_aac_outcomes = pd.concat([nonDup_aac_outcomes, new_idx_out])"
   ]
  },
  {
   "cell_type": "code",
   "execution_count": 36,
   "id": "531e4ef9-bbe7-4e4f-9376-930d75233662",
   "metadata": {},
   "outputs": [
    {
     "name": "stdout",
     "output_type": "stream",
     "text": [
      "New dataset after clearing step in dataframe acc_intakes.csv is 80161 rows\n",
      "New dataset after clearing step in dataframe acc_outcomes.csv is 80671 rows\n",
      "Dataframe acc_intakes.csv after update have 72365 rows\n",
      "Dataframe acc_outcomes.csv after update have 72877 rows\n"
     ]
    }
   ],
   "source": [
    "print('New dataset after clearing step in dataframe acc_intakes.csv is',aac_intakes.shape[0], 'rows')\n",
    "print('New dataset after clearing step in dataframe acc_outcomes.csv is',aac_outcomes.shape[0], 'rows')\n",
    "print('Dataframe acc_intakes.csv after update have',Update_aac_intakes.shape[0], 'rows')\n",
    "print('Dataframe acc_outcomes.csv after update have',Update_aac_outcomes.shape[0], 'rows')"
   ]
  },
  {
   "cell_type": "code",
   "execution_count": 37,
   "id": "0652c500-a5be-43fe-8708-e9abdd86abb6",
   "metadata": {},
   "outputs": [],
   "source": [
    "aac_in = Update_aac_intakes\n",
    "aac_out = Update_aac_outcomes"
   ]
  },
  {
   "cell_type": "markdown",
   "id": "94f86048-ce6a-4467-b3d4-c4b8c9aacf2d",
   "metadata": {},
   "source": [
    "---"
   ]
  },
  {
   "cell_type": "markdown",
   "id": "f7c53429",
   "metadata": {},
   "source": [
    "# Answers question"
   ]
  },
  {
   "cell_type": "markdown",
   "id": "8ffdad46",
   "metadata": {},
   "source": [
    "#### Question number 1: What is the distribution of the types of animals in the shelter?"
   ]
  },
  {
   "cell_type": "code",
   "execution_count": 38,
   "id": "5af9436a",
   "metadata": {},
   "outputs": [
    {
     "data": {
      "text/html": [
       "<div>\n",
       "<style scoped>\n",
       "    .dataframe tbody tr th:only-of-type {\n",
       "        vertical-align: middle;\n",
       "    }\n",
       "\n",
       "    .dataframe tbody tr th {\n",
       "        vertical-align: top;\n",
       "    }\n",
       "\n",
       "    .dataframe thead th {\n",
       "        text-align: right;\n",
       "    }\n",
       "</style>\n",
       "<table border=\"1\" class=\"dataframe\">\n",
       "  <thead>\n",
       "    <tr style=\"text-align: right;\">\n",
       "      <th></th>\n",
       "      <th>animal_type</th>\n",
       "    </tr>\n",
       "    <tr>\n",
       "      <th>animal_type</th>\n",
       "      <th></th>\n",
       "    </tr>\n",
       "  </thead>\n",
       "  <tbody>\n",
       "    <tr>\n",
       "      <th>Bird</th>\n",
       "      <td>342</td>\n",
       "    </tr>\n",
       "    <tr>\n",
       "      <th>Cat</th>\n",
       "      <td>28411</td>\n",
       "    </tr>\n",
       "    <tr>\n",
       "      <th>Dog</th>\n",
       "      <td>39186</td>\n",
       "    </tr>\n",
       "    <tr>\n",
       "      <th>Livestock</th>\n",
       "      <td>9</td>\n",
       "    </tr>\n",
       "    <tr>\n",
       "      <th>Other</th>\n",
       "      <td>4417</td>\n",
       "    </tr>\n",
       "  </tbody>\n",
       "</table>\n",
       "</div>"
      ],
      "text/plain": [
       "             animal_type\n",
       "animal_type             \n",
       "Bird                 342\n",
       "Cat                28411\n",
       "Dog                39186\n",
       "Livestock              9\n",
       "Other               4417"
      ]
     },
     "execution_count": 38,
     "metadata": {},
     "output_type": "execute_result"
    }
   ],
   "source": [
    "aac_in.groupby(['animal_type'])[['animal_type']].count()"
   ]
  },
  {
   "cell_type": "markdown",
   "id": "7c98bf88",
   "metadata": {},
   "source": [
    "#### Question number 2: Is there an area where more pets are found?. Find the top 5 location where pet are found"
   ]
  },
  {
   "cell_type": "code",
   "execution_count": 39,
   "id": "937afda9",
   "metadata": {},
   "outputs": [
    {
     "data": {
      "text/plain": [
       "City\n",
       "Austin          60685\n",
       "Travis           5674\n",
       "Valle            1674\n",
       "Manor            1287\n",
       "Pflugerville     1137\n",
       "Name: City, dtype: int64"
      ]
     },
     "execution_count": 39,
     "metadata": {},
     "output_type": "execute_result"
    }
   ],
   "source": [
    "address_city = lambda address:address.split(' ')[-2]\n",
    "aac_in['City'] = aac_in['found_location'].apply(address_city)\n",
    "aac_in.groupby(['City'])['City'].count().sort_values(ascending = False).head(5)"
   ]
  },
  {
   "cell_type": "markdown",
   "id": "d557cb3d",
   "metadata": {},
   "source": [
    "#### Question number 3: What is the average number of pets found in a month in the year 2015?. Are there months where there is a higher number of animals found?"
   ]
  },
  {
   "cell_type": "code",
   "execution_count": 40,
   "id": "db62d170",
   "metadata": {},
   "outputs": [],
   "source": [
    "aac_in['month_intake'] = aac_in['datetime'].dt.month\n",
    "aac_in['year_intake'] = aac_in['datetime'].dt.year"
   ]
  },
  {
   "cell_type": "code",
   "execution_count": 49,
   "id": "d4a89972-5a90-464e-b66e-5659dae3e22f",
   "metadata": {},
   "outputs": [
    {
     "data": {
      "text/html": [
       "<div>\n",
       "<style scoped>\n",
       "    .dataframe tbody tr th:only-of-type {\n",
       "        vertical-align: middle;\n",
       "    }\n",
       "\n",
       "    .dataframe tbody tr th {\n",
       "        vertical-align: top;\n",
       "    }\n",
       "\n",
       "    .dataframe thead th {\n",
       "        text-align: right;\n",
       "    }\n",
       "</style>\n",
       "<table border=\"1\" class=\"dataframe\">\n",
       "  <thead>\n",
       "    <tr style=\"text-align: right;\">\n",
       "      <th></th>\n",
       "      <th>year_intake</th>\n",
       "      <th>month_intake</th>\n",
       "      <th>animal_id</th>\n",
       "    </tr>\n",
       "  </thead>\n",
       "  <tbody>\n",
       "    <tr>\n",
       "      <th>0</th>\n",
       "      <td>2015</td>\n",
       "      <td>6</td>\n",
       "      <td>1996</td>\n",
       "    </tr>\n",
       "    <tr>\n",
       "      <th>1</th>\n",
       "      <td>2015</td>\n",
       "      <td>5</td>\n",
       "      <td>1879</td>\n",
       "    </tr>\n",
       "    <tr>\n",
       "      <th>2</th>\n",
       "      <td>2015</td>\n",
       "      <td>10</td>\n",
       "      <td>1586</td>\n",
       "    </tr>\n",
       "    <tr>\n",
       "      <th>3</th>\n",
       "      <td>2015</td>\n",
       "      <td>8</td>\n",
       "      <td>1562</td>\n",
       "    </tr>\n",
       "    <tr>\n",
       "      <th>4</th>\n",
       "      <td>2015</td>\n",
       "      <td>7</td>\n",
       "      <td>1494</td>\n",
       "    </tr>\n",
       "    <tr>\n",
       "      <th>5</th>\n",
       "      <td>2015</td>\n",
       "      <td>9</td>\n",
       "      <td>1457</td>\n",
       "    </tr>\n",
       "    <tr>\n",
       "      <th>6</th>\n",
       "      <td>2015</td>\n",
       "      <td>4</td>\n",
       "      <td>1383</td>\n",
       "    </tr>\n",
       "    <tr>\n",
       "      <th>7</th>\n",
       "      <td>2015</td>\n",
       "      <td>11</td>\n",
       "      <td>1224</td>\n",
       "    </tr>\n",
       "    <tr>\n",
       "      <th>8</th>\n",
       "      <td>2015</td>\n",
       "      <td>3</td>\n",
       "      <td>1172</td>\n",
       "    </tr>\n",
       "    <tr>\n",
       "      <th>9</th>\n",
       "      <td>2015</td>\n",
       "      <td>1</td>\n",
       "      <td>1056</td>\n",
       "    </tr>\n",
       "    <tr>\n",
       "      <th>10</th>\n",
       "      <td>2015</td>\n",
       "      <td>12</td>\n",
       "      <td>980</td>\n",
       "    </tr>\n",
       "    <tr>\n",
       "      <th>11</th>\n",
       "      <td>2015</td>\n",
       "      <td>2</td>\n",
       "      <td>964</td>\n",
       "    </tr>\n",
       "  </tbody>\n",
       "</table>\n",
       "</div>"
      ],
      "text/plain": [
       "    year_intake  month_intake  animal_id\n",
       "0          2015             6       1996\n",
       "1          2015             5       1879\n",
       "2          2015            10       1586\n",
       "3          2015             8       1562\n",
       "4          2015             7       1494\n",
       "5          2015             9       1457\n",
       "6          2015             4       1383\n",
       "7          2015            11       1224\n",
       "8          2015             3       1172\n",
       "9          2015             1       1056\n",
       "10         2015            12        980\n",
       "11         2015             2        964"
      ]
     },
     "execution_count": 49,
     "metadata": {},
     "output_type": "execute_result"
    }
   ],
   "source": [
    "#The highest number of animals found in 2015\n",
    "df_month = aac_in.loc[aac_in['year_intake'] == 2015].groupby(['year_intake','month_intake'])['animal_id'].count().sort_values(ascending = False).reset_index()\n",
    "df_month"
   ]
  },
  {
   "cell_type": "code",
   "execution_count": 42,
   "id": "93ce9416-872b-43d4-91ce-919ab003de94",
   "metadata": {},
   "outputs": [
    {
     "data": {
      "text/plain": [
       "1396.0833333333333"
      ]
     },
     "execution_count": 42,
     "metadata": {},
     "output_type": "execute_result"
    }
   ],
   "source": [
    "#The average number of pets found in a month in 2015\n",
    "sum(df_month['animal_id'])/12"
   ]
  },
  {
   "cell_type": "markdown",
   "id": "2c3541ec",
   "metadata": {},
   "source": [
    "#### Question number 4: What is the ratio of incoming pets vs. adopted pets"
   ]
  },
  {
   "cell_type": "code",
   "execution_count": 43,
   "id": "858bb434",
   "metadata": {},
   "outputs": [
    {
     "data": {
      "text/plain": [
       "2.42088184129533"
      ]
     },
     "execution_count": 43,
     "metadata": {},
     "output_type": "execute_result"
    }
   ],
   "source": [
    "aac_in.groupby(['animal_type'])[['animal_type']].count()\n",
    "aac_in['animal_id'].count() / aac_out[aac_out['outcome_type'] == 'Adoption']['outcome_type'].count()"
   ]
  },
  {
   "cell_type": "code",
   "execution_count": 44,
   "id": "94e31536-8445-4141-92d6-6c23f4883e28",
   "metadata": {},
   "outputs": [
    {
     "data": {
      "text/html": [
       "<div>\n",
       "<style scoped>\n",
       "    .dataframe tbody tr th:only-of-type {\n",
       "        vertical-align: middle;\n",
       "    }\n",
       "\n",
       "    .dataframe tbody tr th {\n",
       "        vertical-align: top;\n",
       "    }\n",
       "\n",
       "    .dataframe thead th {\n",
       "        text-align: right;\n",
       "    }\n",
       "</style>\n",
       "<table border=\"1\" class=\"dataframe\">\n",
       "  <thead>\n",
       "    <tr style=\"text-align: right;\">\n",
       "      <th></th>\n",
       "      <th>age_upon_outcome</th>\n",
       "      <th>animal_id</th>\n",
       "      <th>animal_type</th>\n",
       "      <th>breed</th>\n",
       "      <th>color</th>\n",
       "      <th>date_of_birth</th>\n",
       "      <th>datetime</th>\n",
       "      <th>monthyear</th>\n",
       "      <th>name</th>\n",
       "      <th>outcome_subtype</th>\n",
       "      <th>outcome_type</th>\n",
       "      <th>sex_upon_outcome</th>\n",
       "    </tr>\n",
       "  </thead>\n",
       "  <tbody>\n",
       "    <tr>\n",
       "      <th>0</th>\n",
       "      <td>2 weeks</td>\n",
       "      <td>A684346</td>\n",
       "      <td>Cat</td>\n",
       "      <td>Domestic Shorthair Mix</td>\n",
       "      <td>Orange Tabby</td>\n",
       "      <td>2014-07-07</td>\n",
       "      <td>2014-07-22 16:04:00</td>\n",
       "      <td>2014-07-22 16:04:00</td>\n",
       "      <td>NaN</td>\n",
       "      <td>Partner</td>\n",
       "      <td>Transfer</td>\n",
       "      <td>Intact Male</td>\n",
       "    </tr>\n",
       "    <tr>\n",
       "      <th>1</th>\n",
       "      <td>1 year</td>\n",
       "      <td>A666430</td>\n",
       "      <td>Dog</td>\n",
       "      <td>Beagle Mix</td>\n",
       "      <td>White/Brown</td>\n",
       "      <td>2012-11-06</td>\n",
       "      <td>2013-11-07 11:47:00</td>\n",
       "      <td>2013-11-07 11:47:00</td>\n",
       "      <td>Lucy</td>\n",
       "      <td>Partner</td>\n",
       "      <td>Transfer</td>\n",
       "      <td>Spayed Female</td>\n",
       "    </tr>\n",
       "    <tr>\n",
       "      <th>2</th>\n",
       "      <td>1 year</td>\n",
       "      <td>A675708</td>\n",
       "      <td>Dog</td>\n",
       "      <td>Pit Bull</td>\n",
       "      <td>Blue/White</td>\n",
       "      <td>2013-03-31</td>\n",
       "      <td>2014-06-03 14:20:00</td>\n",
       "      <td>2014-06-03 14:20:00</td>\n",
       "      <td>*Johnny</td>\n",
       "      <td>NaN</td>\n",
       "      <td>Adoption</td>\n",
       "      <td>Neutered Male</td>\n",
       "    </tr>\n",
       "  </tbody>\n",
       "</table>\n",
       "</div>"
      ],
      "text/plain": [
       "  age_upon_outcome animal_id animal_type                   breed  \\\n",
       "0          2 weeks   A684346         Cat  Domestic Shorthair Mix   \n",
       "1           1 year   A666430         Dog              Beagle Mix   \n",
       "2           1 year   A675708         Dog                Pit Bull   \n",
       "\n",
       "          color date_of_birth            datetime           monthyear  \\\n",
       "0  Orange Tabby    2014-07-07 2014-07-22 16:04:00 2014-07-22 16:04:00   \n",
       "1   White/Brown    2012-11-06 2013-11-07 11:47:00 2013-11-07 11:47:00   \n",
       "2    Blue/White    2013-03-31 2014-06-03 14:20:00 2014-06-03 14:20:00   \n",
       "\n",
       "      name outcome_subtype outcome_type sex_upon_outcome  \n",
       "0      NaN         Partner     Transfer      Intact Male  \n",
       "1     Lucy         Partner     Transfer    Spayed Female  \n",
       "2  *Johnny             NaN     Adoption    Neutered Male  "
      ]
     },
     "execution_count": 44,
     "metadata": {},
     "output_type": "execute_result"
    }
   ],
   "source": [
    "aac_out.head(3)"
   ]
  },
  {
   "cell_type": "markdown",
   "id": "05ea009f",
   "metadata": {},
   "source": [
    "#### Question number 5: What are the adoption rates for specific breeds?\n",
    "#### Find the top 5 dog breeds in the shelter (based on count) and then find the adoption percentage of each breed."
   ]
  },
  {
   "cell_type": "code",
   "execution_count": 45,
   "id": "cd44da11",
   "metadata": {},
   "outputs": [
    {
     "data": {
      "text/html": [
       "<div>\n",
       "<style scoped>\n",
       "    .dataframe tbody tr th:only-of-type {\n",
       "        vertical-align: middle;\n",
       "    }\n",
       "\n",
       "    .dataframe tbody tr th {\n",
       "        vertical-align: top;\n",
       "    }\n",
       "\n",
       "    .dataframe thead th {\n",
       "        text-align: right;\n",
       "    }\n",
       "</style>\n",
       "<table border=\"1\" class=\"dataframe\">\n",
       "  <thead>\n",
       "    <tr style=\"text-align: right;\">\n",
       "      <th></th>\n",
       "      <th>breed</th>\n",
       "      <th>animal_id</th>\n",
       "    </tr>\n",
       "  </thead>\n",
       "  <tbody>\n",
       "    <tr>\n",
       "      <th>0</th>\n",
       "      <td>Pit Bull Mix</td>\n",
       "      <td>5067</td>\n",
       "    </tr>\n",
       "    <tr>\n",
       "      <th>1</th>\n",
       "      <td>Chihuahua Shorthair Mix</td>\n",
       "      <td>4451</td>\n",
       "    </tr>\n",
       "    <tr>\n",
       "      <th>2</th>\n",
       "      <td>Labrador Retriever Mix</td>\n",
       "      <td>4197</td>\n",
       "    </tr>\n",
       "    <tr>\n",
       "      <th>3</th>\n",
       "      <td>German Shepherd Mix</td>\n",
       "      <td>1672</td>\n",
       "    </tr>\n",
       "    <tr>\n",
       "      <th>4</th>\n",
       "      <td>Australian Cattle Dog Mix</td>\n",
       "      <td>963</td>\n",
       "    </tr>\n",
       "  </tbody>\n",
       "</table>\n",
       "</div>"
      ],
      "text/plain": [
       "                       breed  animal_id\n",
       "0               Pit Bull Mix       5067\n",
       "1    Chihuahua Shorthair Mix       4451\n",
       "2     Labrador Retriever Mix       4197\n",
       "3        German Shepherd Mix       1672\n",
       "4  Australian Cattle Dog Mix        963"
      ]
     },
     "execution_count": 45,
     "metadata": {},
     "output_type": "execute_result"
    }
   ],
   "source": [
    "aac_out[aac_out['animal_type'] == 'Dog'].groupby(['breed'])['animal_id'].count().sort_values(ascending = False).reset_index().head(5)"
   ]
  },
  {
   "cell_type": "code",
   "execution_count": 46,
   "id": "17003896-ce8a-494a-81c1-1b440366533a",
   "metadata": {},
   "outputs": [
    {
     "data": {
      "text/html": [
       "<div>\n",
       "<style scoped>\n",
       "    .dataframe tbody tr th:only-of-type {\n",
       "        vertical-align: middle;\n",
       "    }\n",
       "\n",
       "    .dataframe tbody tr th {\n",
       "        vertical-align: top;\n",
       "    }\n",
       "\n",
       "    .dataframe thead th {\n",
       "        text-align: right;\n",
       "    }\n",
       "</style>\n",
       "<table border=\"1\" class=\"dataframe\">\n",
       "  <thead>\n",
       "    <tr style=\"text-align: right;\">\n",
       "      <th></th>\n",
       "      <th>breed</th>\n",
       "      <th>animal_id</th>\n",
       "    </tr>\n",
       "  </thead>\n",
       "  <tbody>\n",
       "    <tr>\n",
       "      <th>0</th>\n",
       "      <td>Affenpinscher Mix</td>\n",
       "      <td>0.017797</td>\n",
       "    </tr>\n",
       "    <tr>\n",
       "      <th>1</th>\n",
       "      <td>Afghan Hound Mix</td>\n",
       "      <td>0.002542</td>\n",
       "    </tr>\n",
       "    <tr>\n",
       "      <th>2</th>\n",
       "      <td>Afghan Hound/Labrador Retriever</td>\n",
       "      <td>0.002542</td>\n",
       "    </tr>\n",
       "    <tr>\n",
       "      <th>3</th>\n",
       "      <td>Airedale Terrier</td>\n",
       "      <td>0.002542</td>\n",
       "    </tr>\n",
       "    <tr>\n",
       "      <th>4</th>\n",
       "      <td>Airedale Terrier Mix</td>\n",
       "      <td>0.035594</td>\n",
       "    </tr>\n",
       "  </tbody>\n",
       "</table>\n",
       "</div>"
      ],
      "text/plain": [
       "                             breed  animal_id\n",
       "0                Affenpinscher Mix   0.017797\n",
       "1                 Afghan Hound Mix   0.002542\n",
       "2  Afghan Hound/Labrador Retriever   0.002542\n",
       "3                 Airedale Terrier   0.002542\n",
       "4             Airedale Terrier Mix   0.035594"
      ]
     },
     "execution_count": 46,
     "metadata": {},
     "output_type": "execute_result"
    }
   ],
   "source": [
    "aac_out[aac_out['animal_type'] == 'Dog'].groupby(['breed'])[['animal_id']].count().apply(lambda x: x / x.sum() * 100).reset_index().head(5)"
   ]
  },
  {
   "cell_type": "markdown",
   "id": "7f847d1e",
   "metadata": {},
   "source": [
    "#### Question number 6: About how many animals are spayed/neutered each month?\n",
    "#### This will help the shelter allocate resources and staff. Assume that all intact males and females will be spayed/neutered.\n"
   ]
  },
  {
   "cell_type": "code",
   "execution_count": 53,
   "id": "f2f5878b",
   "metadata": {},
   "outputs": [
    {
     "name": "stderr",
     "output_type": "stream",
     "text": [
      "C:\\Users\\dongn\\AppData\\Local\\Temp\\ipykernel_20112\\850336322.py:2: SettingWithCopyWarning: \n",
      "A value is trying to be set on a copy of a slice from a DataFrame.\n",
      "Try using .loc[row_indexer,col_indexer] = value instead\n",
      "\n",
      "See the caveats in the documentation: https://pandas.pydata.org/pandas-docs/stable/user_guide/indexing.html#returning-a-view-versus-a-copy\n",
      "  a1['month_intake'] = a1['datetime'].dt.month\n",
      "C:\\Users\\dongn\\AppData\\Local\\Temp\\ipykernel_20112\\850336322.py:3: SettingWithCopyWarning: \n",
      "A value is trying to be set on a copy of a slice from a DataFrame.\n",
      "Try using .loc[row_indexer,col_indexer] = value instead\n",
      "\n",
      "See the caveats in the documentation: https://pandas.pydata.org/pandas-docs/stable/user_guide/indexing.html#returning-a-view-versus-a-copy\n",
      "  a1['year_intake'] = a1['datetime'].dt.year\n"
     ]
    },
    {
     "data": {
      "text/plain": [
       "year_intake  sex_upon_outcome  month_intake\n",
       "2013         Neutered Male     10              475\n",
       "                               11              442\n",
       "                               12              523\n",
       "             Spayed Female     10              447\n",
       "                               11              408\n",
       "                                              ... \n",
       "2018         Neutered Male     4                33\n",
       "             Spayed Female     1               389\n",
       "                               2               348\n",
       "                               3               383\n",
       "                               4                42\n",
       "Name: animal_id, Length: 110, dtype: int64"
      ]
     },
     "execution_count": 53,
     "metadata": {},
     "output_type": "execute_result"
    }
   ],
   "source": [
    "a1 = aac_out.loc[aac_out['sex_upon_outcome'].isin(['Spayed Female', 'Neutered Male'])]\n",
    "a1['month_intake'] = a1['datetime'].dt.month\n",
    "a1['year_intake'] = a1['datetime'].dt.year\n",
    "a1.groupby(['year_intake','sex_upon_outcome','month_intake'])['animal_id'].count()"
   ]
  },
  {
   "cell_type": "markdown",
   "id": "12be3489",
   "metadata": {},
   "source": [
    "# Now, it your turn"
   ]
  },
  {
   "cell_type": "markdown",
   "id": "1eed4eef",
   "metadata": {},
   "source": [
    "#### Question number 7\n",
    "How many animals in the shelter are repeats?, Which animal was returned to the shelter the most?\n",
    "This means the animal has been brought in more than once."
   ]
  },
  {
   "cell_type": "code",
   "execution_count": 48,
   "id": "edf6f0e6",
   "metadata": {},
   "outputs": [
    {
     "data": {
      "text/plain": [
       "animal_id\n",
       "A721033    13\n",
       "A706536    11\n",
       "A718223    11\n",
       "A738324     8\n",
       "A694501     8\n",
       "Name: animal_id, dtype: int64"
      ]
     },
     "execution_count": 48,
     "metadata": {},
     "output_type": "execute_result"
    }
   ],
   "source": [
    "aac_outcomes.groupby(['animal_id'])['animal_id'].count().sort_values(ascending = False).head(5)"
   ]
  },
  {
   "cell_type": "markdown",
   "id": "d2febf43",
   "metadata": {},
   "source": [
    "#### Question number 8\n",
    "What are the adoption rates for different colorings?\n",
    "Find the top 5 colorings in the shelter (based on count) and then find the adoption percentage of each color.\n"
   ]
  },
  {
   "cell_type": "code",
   "execution_count": null,
   "id": "94a8eef3",
   "metadata": {},
   "outputs": [],
   "source": []
  },
  {
   "cell_type": "markdown",
   "id": "99bab016",
   "metadata": {},
   "source": [
    "#### Question number 9\n",
    "What are the adoption rates for the following age groups?\n",
    "- baby: 4 months and less\n",
    "- young: 5 months - 2 years\n",
    "- adult: 3 years - 10 years\n",
    "- senior: 11+"
   ]
  },
  {
   "cell_type": "code",
   "execution_count": null,
   "id": "94e4803f",
   "metadata": {},
   "outputs": [],
   "source": []
  },
  {
   "cell_type": "markdown",
   "id": "dbade4df",
   "metadata": {},
   "source": [
    "#### Question number 10:\n",
    "If spay/neuter for a dog costs $100 and a spay/neuter for a cat costs $50,\n",
    "how much did the shelter spend in 2015 on these procedures?"
   ]
  },
  {
   "cell_type": "code",
   "execution_count": null,
   "id": "06e059f0",
   "metadata": {},
   "outputs": [],
   "source": []
  }
 ],
 "metadata": {
  "kernelspec": {
   "display_name": "Python 3 (ipykernel)",
   "language": "python",
   "name": "python3"
  },
  "language_info": {
   "codemirror_mode": {
    "name": "ipython",
    "version": 3
   },
   "file_extension": ".py",
   "mimetype": "text/x-python",
   "name": "python",
   "nbconvert_exporter": "python",
   "pygments_lexer": "ipython3",
   "version": "3.12.1"
  }
 },
 "nbformat": 4,
 "nbformat_minor": 5
}
