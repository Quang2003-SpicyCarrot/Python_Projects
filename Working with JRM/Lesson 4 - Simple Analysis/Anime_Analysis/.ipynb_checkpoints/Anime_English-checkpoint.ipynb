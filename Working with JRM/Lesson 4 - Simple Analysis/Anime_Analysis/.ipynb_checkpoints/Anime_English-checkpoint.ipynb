{
 "cells": [
  {
   "cell_type": "markdown",
   "metadata": {
    "id": "PPHNGnzHHDXG"
   },
   "source": [
    "# Data\n",
    "Data for this exercise is compiled from [MyAnimeList](https://manimelist.net/) saved in file anime_info.csv and includes the following columns:\n",
    "* `anime_id`: anime code on [MyAnimeList](https://manimelist.net/).\n",
    "* `title` : title of the anime.\n",
    "* `type` : release form (TV Series, Movie, OVA, ...).\n",
    "* `source` : original source of anime (Manga, Light Novel, Game, ...).\n",
    "* `episodes` : episode number.\n",
    "* `duration_min` : duration of each episode (in minutes).\n",
    "* `score` : anime's score on [MyAnimeList](https://manimelist.net/), compiled from user reviews.\n",
    "* `studio` : production company.\n",
    "* `genre` : movie genre.\n",
    "* `start` : release start date.\n",
    "* `finish` : release end date."
   ]
  },
  {
   "cell_type": "markdown",
   "metadata": {
    "id": "47LkimmwN3eg"
   },
   "source": [
    "# Exercise"
   ]
  },
  {
   "cell_type": "code",
   "execution_count": 165,
   "metadata": {},
   "outputs": [],
   "source": [
    "import os\n",
    "import pandas as pd\n",
    "os.chdir('C:\\\\Users\\\\dongn\\\\DongFile\\\\Graduate File\\\\JRMaster\\\\Community Jung Talents\\\\[DA] Technical Workshops\\\\Introduce Programming Languages Python for Data Analyst\\\\Lesson 4 - Simple Data Analyst with Python\\\\ProjectFolder')"
   ]
  },
  {
   "cell_type": "markdown",
   "metadata": {
    "id": "zwBzHoF5N5QQ"
   },
   "source": [
    "**Question 1**: Read data from the txt file and save it as `anime_data`."
   ]
  },
  {
   "cell_type": "code",
   "execution_count": 166,
   "metadata": {
    "colab": {
     "base_uri": "https://localhost:8080/",
     "height": 649
    },
    "id": "ut8dRn9fG6Rl",
    "outputId": "89ca66c6-03e2-4b48-e870-e5abc1e0c3f1"
   },
   "outputs": [
    {
     "data": {
      "text/html": [
       "<div>\n",
       "<style scoped>\n",
       "    .dataframe tbody tr th:only-of-type {\n",
       "        vertical-align: middle;\n",
       "    }\n",
       "\n",
       "    .dataframe tbody tr th {\n",
       "        vertical-align: top;\n",
       "    }\n",
       "\n",
       "    .dataframe thead th {\n",
       "        text-align: right;\n",
       "    }\n",
       "</style>\n",
       "<table border=\"1\" class=\"dataframe\">\n",
       "  <thead>\n",
       "    <tr style=\"text-align: right;\">\n",
       "      <th></th>\n",
       "      <th>anime_id</th>\n",
       "      <th>title</th>\n",
       "      <th>type</th>\n",
       "      <th>source</th>\n",
       "      <th>episodes</th>\n",
       "      <th>duration_min</th>\n",
       "      <th>score</th>\n",
       "      <th>studio</th>\n",
       "      <th>genre</th>\n",
       "      <th>start</th>\n",
       "      <th>finish</th>\n",
       "    </tr>\n",
       "  </thead>\n",
       "  <tbody>\n",
       "    <tr>\n",
       "      <th>0</th>\n",
       "      <td>11013</td>\n",
       "      <td>Inu x Boku SS</td>\n",
       "      <td>TV</td>\n",
       "      <td>Manga</td>\n",
       "      <td>12</td>\n",
       "      <td>24.0</td>\n",
       "      <td>7.63</td>\n",
       "      <td>David Production</td>\n",
       "      <td>Comedy, Supernatural, Romance, Shounen</td>\n",
       "      <td>2012-01-13</td>\n",
       "      <td>2012-03-30</td>\n",
       "    </tr>\n",
       "    <tr>\n",
       "      <th>1</th>\n",
       "      <td>2104</td>\n",
       "      <td>Seto no Hanayome</td>\n",
       "      <td>TV</td>\n",
       "      <td>Manga</td>\n",
       "      <td>26</td>\n",
       "      <td>24.0</td>\n",
       "      <td>7.89</td>\n",
       "      <td>Gonzo</td>\n",
       "      <td>Comedy, Parody, Romance, School, Shounen</td>\n",
       "      <td>2007-04-02</td>\n",
       "      <td>2007-10-01</td>\n",
       "    </tr>\n",
       "    <tr>\n",
       "      <th>2</th>\n",
       "      <td>5262</td>\n",
       "      <td>Shugo Chara!! Doki</td>\n",
       "      <td>TV</td>\n",
       "      <td>Manga</td>\n",
       "      <td>51</td>\n",
       "      <td>24.0</td>\n",
       "      <td>7.55</td>\n",
       "      <td>Satelight</td>\n",
       "      <td>Comedy, Magic, School, Shoujo</td>\n",
       "      <td>2008-10-04</td>\n",
       "      <td>2009-09-25</td>\n",
       "    </tr>\n",
       "    <tr>\n",
       "      <th>3</th>\n",
       "      <td>721</td>\n",
       "      <td>Princess Tutu</td>\n",
       "      <td>TV</td>\n",
       "      <td>Original</td>\n",
       "      <td>38</td>\n",
       "      <td>16.0</td>\n",
       "      <td>8.21</td>\n",
       "      <td>Hal Film Maker</td>\n",
       "      <td>Comedy, Drama, Magic, Romance, Fantasy</td>\n",
       "      <td>2002-08-16</td>\n",
       "      <td>2003-05-23</td>\n",
       "    </tr>\n",
       "    <tr>\n",
       "      <th>4</th>\n",
       "      <td>12365</td>\n",
       "      <td>Bakuman. 3rd Season</td>\n",
       "      <td>TV</td>\n",
       "      <td>Manga</td>\n",
       "      <td>25</td>\n",
       "      <td>24.0</td>\n",
       "      <td>8.67</td>\n",
       "      <td>J.C.Staff</td>\n",
       "      <td>Comedy, Drama, Romance, Shounen</td>\n",
       "      <td>2012-10-06</td>\n",
       "      <td>2013-03-30</td>\n",
       "    </tr>\n",
       "  </tbody>\n",
       "</table>\n",
       "</div>"
      ],
      "text/plain": [
       "   anime_id                title type    source  episodes  duration_min  \\\n",
       "0     11013        Inu x Boku SS   TV     Manga        12          24.0   \n",
       "1      2104     Seto no Hanayome   TV     Manga        26          24.0   \n",
       "2      5262   Shugo Chara!! Doki   TV     Manga        51          24.0   \n",
       "3       721        Princess Tutu   TV  Original        38          16.0   \n",
       "4     12365  Bakuman. 3rd Season   TV     Manga        25          24.0   \n",
       "\n",
       "   score            studio                                     genre  \\\n",
       "0   7.63  David Production    Comedy, Supernatural, Romance, Shounen   \n",
       "1   7.89             Gonzo  Comedy, Parody, Romance, School, Shounen   \n",
       "2   7.55         Satelight             Comedy, Magic, School, Shoujo   \n",
       "3   8.21    Hal Film Maker    Comedy, Drama, Magic, Romance, Fantasy   \n",
       "4   8.67         J.C.Staff           Comedy, Drama, Romance, Shounen   \n",
       "\n",
       "        start      finish  \n",
       "0  2012-01-13  2012-03-30  \n",
       "1  2007-04-02  2007-10-01  \n",
       "2  2008-10-04  2009-09-25  \n",
       "3  2002-08-16  2003-05-23  \n",
       "4  2012-10-06  2013-03-30  "
      ]
     },
     "execution_count": 166,
     "metadata": {},
     "output_type": "execute_result"
    }
   ],
   "source": [
    "#df = pd.read_csv('Anime_Data.txt')\n",
    "#df.to_csv('text_data', index = False)\n",
    "df = pd.read_csv('text_data')\n",
    "df.head(5)"
   ]
  },
  {
   "cell_type": "markdown",
   "metadata": {
    "id": "G-BBzoqzPHpz"
   },
   "source": [
    "**Question 2**: Perform the necessary conversion."
   ]
  },
  {
   "cell_type": "code",
   "execution_count": 167,
   "metadata": {
    "colab": {
     "base_uri": "https://localhost:8080/"
    },
    "id": "LZSU81N0PMrG",
    "outputId": "5a61043d-cb3f-4183-8cee-89b83cca93d8"
   },
   "outputs": [
    {
     "data": {
      "text/plain": [
       "anime_id                 int64\n",
       "title                   object\n",
       "type                    object\n",
       "source                  object\n",
       "episodes                 int64\n",
       "duration_min           float64\n",
       "score                  float64\n",
       "studio                  object\n",
       "genre                   object\n",
       "start           datetime64[ns]\n",
       "finish          datetime64[ns]\n",
       "dtype: object"
      ]
     },
     "execution_count": 167,
     "metadata": {},
     "output_type": "execute_result"
    }
   ],
   "source": [
    "df['start'] = pd.to_datetime(df['start'], format = '%Y-%m-%d')\n",
    "df['finish'] = pd.to_datetime(df['finish'], format = '%Y-%m-%d')\n",
    "df.dtypes"
   ]
  },
  {
   "cell_type": "markdown",
   "metadata": {
    "id": "QF4v9Sw-PdjQ"
   },
   "source": [
    "**Question 3**: Delete lines whose start or end date is `NaT`."
   ]
  },
  {
   "cell_type": "code",
   "execution_count": 168,
   "metadata": {},
   "outputs": [
    {
     "data": {
      "text/plain": [
       "6311"
      ]
     },
     "execution_count": 168,
     "metadata": {},
     "output_type": "execute_result"
    }
   ],
   "source": [
    "len(df)"
   ]
  },
  {
   "cell_type": "code",
   "execution_count": 169,
   "metadata": {
    "colab": {
     "base_uri": "https://localhost:8080/",
     "height": 666
    },
    "id": "0fSzraqzPmLL",
    "outputId": "236e4961-dd1d-4c46-c11c-f96200c631e8"
   },
   "outputs": [],
   "source": [
    "df = df.dropna(subset = ['start'])\n",
    "df = df.dropna(subset = ['finish'])"
   ]
  },
  {
   "cell_type": "code",
   "execution_count": 170,
   "metadata": {},
   "outputs": [
    {
     "data": {
      "text/plain": [
       "6039"
      ]
     },
     "execution_count": 170,
     "metadata": {},
     "output_type": "execute_result"
    }
   ],
   "source": [
    "len(df)"
   ]
  },
  {
   "cell_type": "markdown",
   "metadata": {
    "id": "iFv-SUYyPmpb"
   },
   "source": [
    "**Question 4**: Delete lines with episode number 0."
   ]
  },
  {
   "cell_type": "code",
   "execution_count": 171,
   "metadata": {
    "colab": {
     "base_uri": "https://localhost:8080/",
     "height": 666
    },
    "id": "qwCEjjuxPszX",
    "outputId": "0376bb6d-7a08-451f-e3c4-019be4b0604e"
   },
   "outputs": [
    {
     "data": {
      "text/html": [
       "<div>\n",
       "<style scoped>\n",
       "    .dataframe tbody tr th:only-of-type {\n",
       "        vertical-align: middle;\n",
       "    }\n",
       "\n",
       "    .dataframe tbody tr th {\n",
       "        vertical-align: top;\n",
       "    }\n",
       "\n",
       "    .dataframe thead th {\n",
       "        text-align: right;\n",
       "    }\n",
       "</style>\n",
       "<table border=\"1\" class=\"dataframe\">\n",
       "  <thead>\n",
       "    <tr style=\"text-align: right;\">\n",
       "      <th></th>\n",
       "      <th>anime_id</th>\n",
       "      <th>title</th>\n",
       "      <th>type</th>\n",
       "      <th>source</th>\n",
       "      <th>episodes</th>\n",
       "      <th>duration_min</th>\n",
       "      <th>score</th>\n",
       "      <th>studio</th>\n",
       "      <th>genre</th>\n",
       "      <th>start</th>\n",
       "      <th>finish</th>\n",
       "    </tr>\n",
       "  </thead>\n",
       "  <tbody>\n",
       "    <tr>\n",
       "      <th>0</th>\n",
       "      <td>11013</td>\n",
       "      <td>Inu x Boku SS</td>\n",
       "      <td>TV</td>\n",
       "      <td>Manga</td>\n",
       "      <td>12</td>\n",
       "      <td>24.0</td>\n",
       "      <td>7.63</td>\n",
       "      <td>David Production</td>\n",
       "      <td>Comedy, Supernatural, Romance, Shounen</td>\n",
       "      <td>2012-01-13</td>\n",
       "      <td>2012-03-30</td>\n",
       "    </tr>\n",
       "    <tr>\n",
       "      <th>1</th>\n",
       "      <td>2104</td>\n",
       "      <td>Seto no Hanayome</td>\n",
       "      <td>TV</td>\n",
       "      <td>Manga</td>\n",
       "      <td>26</td>\n",
       "      <td>24.0</td>\n",
       "      <td>7.89</td>\n",
       "      <td>Gonzo</td>\n",
       "      <td>Comedy, Parody, Romance, School, Shounen</td>\n",
       "      <td>2007-04-02</td>\n",
       "      <td>2007-10-01</td>\n",
       "    </tr>\n",
       "    <tr>\n",
       "      <th>2</th>\n",
       "      <td>5262</td>\n",
       "      <td>Shugo Chara!! Doki</td>\n",
       "      <td>TV</td>\n",
       "      <td>Manga</td>\n",
       "      <td>51</td>\n",
       "      <td>24.0</td>\n",
       "      <td>7.55</td>\n",
       "      <td>Satelight</td>\n",
       "      <td>Comedy, Magic, School, Shoujo</td>\n",
       "      <td>2008-10-04</td>\n",
       "      <td>2009-09-25</td>\n",
       "    </tr>\n",
       "    <tr>\n",
       "      <th>3</th>\n",
       "      <td>721</td>\n",
       "      <td>Princess Tutu</td>\n",
       "      <td>TV</td>\n",
       "      <td>Original</td>\n",
       "      <td>38</td>\n",
       "      <td>16.0</td>\n",
       "      <td>8.21</td>\n",
       "      <td>Hal Film Maker</td>\n",
       "      <td>Comedy, Drama, Magic, Romance, Fantasy</td>\n",
       "      <td>2002-08-16</td>\n",
       "      <td>2003-05-23</td>\n",
       "    </tr>\n",
       "    <tr>\n",
       "      <th>4</th>\n",
       "      <td>12365</td>\n",
       "      <td>Bakuman. 3rd Season</td>\n",
       "      <td>TV</td>\n",
       "      <td>Manga</td>\n",
       "      <td>25</td>\n",
       "      <td>24.0</td>\n",
       "      <td>8.67</td>\n",
       "      <td>J.C.Staff</td>\n",
       "      <td>Comedy, Drama, Romance, Shounen</td>\n",
       "      <td>2012-10-06</td>\n",
       "      <td>2013-03-30</td>\n",
       "    </tr>\n",
       "  </tbody>\n",
       "</table>\n",
       "</div>"
      ],
      "text/plain": [
       "   anime_id                title type    source  episodes  duration_min  \\\n",
       "0     11013        Inu x Boku SS   TV     Manga        12          24.0   \n",
       "1      2104     Seto no Hanayome   TV     Manga        26          24.0   \n",
       "2      5262   Shugo Chara!! Doki   TV     Manga        51          24.0   \n",
       "3       721        Princess Tutu   TV  Original        38          16.0   \n",
       "4     12365  Bakuman. 3rd Season   TV     Manga        25          24.0   \n",
       "\n",
       "   score            studio                                     genre  \\\n",
       "0   7.63  David Production    Comedy, Supernatural, Romance, Shounen   \n",
       "1   7.89             Gonzo  Comedy, Parody, Romance, School, Shounen   \n",
       "2   7.55         Satelight             Comedy, Magic, School, Shoujo   \n",
       "3   8.21    Hal Film Maker    Comedy, Drama, Magic, Romance, Fantasy   \n",
       "4   8.67         J.C.Staff           Comedy, Drama, Romance, Shounen   \n",
       "\n",
       "       start     finish  \n",
       "0 2012-01-13 2012-03-30  \n",
       "1 2007-04-02 2007-10-01  \n",
       "2 2008-10-04 2009-09-25  \n",
       "3 2002-08-16 2003-05-23  \n",
       "4 2012-10-06 2013-03-30  "
      ]
     },
     "execution_count": 171,
     "metadata": {},
     "output_type": "execute_result"
    }
   ],
   "source": [
    "df = df.loc[df['episodes'] != 0]\n",
    "df.head(5)"
   ]
  },
  {
   "cell_type": "markdown",
   "metadata": {
    "id": "j2Ccqcs7QROa"
   },
   "source": [
    "**Question 5**: Delete lines with 0 duration."
   ]
  },
  {
   "cell_type": "code",
   "execution_count": 172,
   "metadata": {
    "colab": {
     "base_uri": "https://localhost:8080/",
     "height": 666
    },
    "id": "BFGzgdn0QZSD",
    "outputId": "bf65ee82-d45a-4709-ab9e-0e3d7de6c839"
   },
   "outputs": [
    {
     "data": {
      "text/html": [
       "<div>\n",
       "<style scoped>\n",
       "    .dataframe tbody tr th:only-of-type {\n",
       "        vertical-align: middle;\n",
       "    }\n",
       "\n",
       "    .dataframe tbody tr th {\n",
       "        vertical-align: top;\n",
       "    }\n",
       "\n",
       "    .dataframe thead th {\n",
       "        text-align: right;\n",
       "    }\n",
       "</style>\n",
       "<table border=\"1\" class=\"dataframe\">\n",
       "  <thead>\n",
       "    <tr style=\"text-align: right;\">\n",
       "      <th></th>\n",
       "      <th>anime_id</th>\n",
       "      <th>title</th>\n",
       "      <th>type</th>\n",
       "      <th>source</th>\n",
       "      <th>episodes</th>\n",
       "      <th>duration_min</th>\n",
       "      <th>score</th>\n",
       "      <th>studio</th>\n",
       "      <th>genre</th>\n",
       "      <th>start</th>\n",
       "      <th>finish</th>\n",
       "    </tr>\n",
       "  </thead>\n",
       "  <tbody>\n",
       "    <tr>\n",
       "      <th>0</th>\n",
       "      <td>11013</td>\n",
       "      <td>Inu x Boku SS</td>\n",
       "      <td>TV</td>\n",
       "      <td>Manga</td>\n",
       "      <td>12</td>\n",
       "      <td>24.0</td>\n",
       "      <td>7.63</td>\n",
       "      <td>David Production</td>\n",
       "      <td>Comedy, Supernatural, Romance, Shounen</td>\n",
       "      <td>2012-01-13</td>\n",
       "      <td>2012-03-30</td>\n",
       "    </tr>\n",
       "    <tr>\n",
       "      <th>1</th>\n",
       "      <td>2104</td>\n",
       "      <td>Seto no Hanayome</td>\n",
       "      <td>TV</td>\n",
       "      <td>Manga</td>\n",
       "      <td>26</td>\n",
       "      <td>24.0</td>\n",
       "      <td>7.89</td>\n",
       "      <td>Gonzo</td>\n",
       "      <td>Comedy, Parody, Romance, School, Shounen</td>\n",
       "      <td>2007-04-02</td>\n",
       "      <td>2007-10-01</td>\n",
       "    </tr>\n",
       "    <tr>\n",
       "      <th>2</th>\n",
       "      <td>5262</td>\n",
       "      <td>Shugo Chara!! Doki</td>\n",
       "      <td>TV</td>\n",
       "      <td>Manga</td>\n",
       "      <td>51</td>\n",
       "      <td>24.0</td>\n",
       "      <td>7.55</td>\n",
       "      <td>Satelight</td>\n",
       "      <td>Comedy, Magic, School, Shoujo</td>\n",
       "      <td>2008-10-04</td>\n",
       "      <td>2009-09-25</td>\n",
       "    </tr>\n",
       "    <tr>\n",
       "      <th>3</th>\n",
       "      <td>721</td>\n",
       "      <td>Princess Tutu</td>\n",
       "      <td>TV</td>\n",
       "      <td>Original</td>\n",
       "      <td>38</td>\n",
       "      <td>16.0</td>\n",
       "      <td>8.21</td>\n",
       "      <td>Hal Film Maker</td>\n",
       "      <td>Comedy, Drama, Magic, Romance, Fantasy</td>\n",
       "      <td>2002-08-16</td>\n",
       "      <td>2003-05-23</td>\n",
       "    </tr>\n",
       "    <tr>\n",
       "      <th>4</th>\n",
       "      <td>12365</td>\n",
       "      <td>Bakuman. 3rd Season</td>\n",
       "      <td>TV</td>\n",
       "      <td>Manga</td>\n",
       "      <td>25</td>\n",
       "      <td>24.0</td>\n",
       "      <td>8.67</td>\n",
       "      <td>J.C.Staff</td>\n",
       "      <td>Comedy, Drama, Romance, Shounen</td>\n",
       "      <td>2012-10-06</td>\n",
       "      <td>2013-03-30</td>\n",
       "    </tr>\n",
       "  </tbody>\n",
       "</table>\n",
       "</div>"
      ],
      "text/plain": [
       "   anime_id                title type    source  episodes  duration_min  \\\n",
       "0     11013        Inu x Boku SS   TV     Manga        12          24.0   \n",
       "1      2104     Seto no Hanayome   TV     Manga        26          24.0   \n",
       "2      5262   Shugo Chara!! Doki   TV     Manga        51          24.0   \n",
       "3       721        Princess Tutu   TV  Original        38          16.0   \n",
       "4     12365  Bakuman. 3rd Season   TV     Manga        25          24.0   \n",
       "\n",
       "   score            studio                                     genre  \\\n",
       "0   7.63  David Production    Comedy, Supernatural, Romance, Shounen   \n",
       "1   7.89             Gonzo  Comedy, Parody, Romance, School, Shounen   \n",
       "2   7.55         Satelight             Comedy, Magic, School, Shoujo   \n",
       "3   8.21    Hal Film Maker    Comedy, Drama, Magic, Romance, Fantasy   \n",
       "4   8.67         J.C.Staff           Comedy, Drama, Romance, Shounen   \n",
       "\n",
       "       start     finish  \n",
       "0 2012-01-13 2012-03-30  \n",
       "1 2007-04-02 2007-10-01  \n",
       "2 2008-10-04 2009-09-25  \n",
       "3 2002-08-16 2003-05-23  \n",
       "4 2012-10-06 2013-03-30  "
      ]
     },
     "execution_count": 172,
     "metadata": {},
     "output_type": "execute_result"
    }
   ],
   "source": [
    "df = df.loc[df['duration_min'] != 0]\n",
    "df.head(5)"
   ]
  },
  {
   "cell_type": "markdown",
   "metadata": {
    "id": "oQJ-OBh7QdC9"
   },
   "source": [
    "**Question 6**: Print out the remaining number of anime after completing questions 3 - 5."
   ]
  },
  {
   "cell_type": "code",
   "execution_count": 173,
   "metadata": {
    "colab": {
     "base_uri": "https://localhost:8080/"
    },
    "id": "b3j3ZU8DQpGn",
    "outputId": "cdef76e6-208c-4ab6-e719-a12741a9922b"
   },
   "outputs": [
    {
     "data": {
      "text/plain": [
       "5997"
      ]
     },
     "execution_count": 173,
     "metadata": {},
     "output_type": "execute_result"
    }
   ],
   "source": [
    "len(df)"
   ]
  },
  {
   "cell_type": "markdown",
   "metadata": {
    "id": "P8KqLBv1Qp5X"
   },
   "source": [
    "**Question 7**: Statistics on the number of anime released each year (calculated by release start date). Which year had the most anime releases in the data set?"
   ]
  },
  {
   "cell_type": "code",
   "execution_count": 174,
   "metadata": {
    "colab": {
     "base_uri": "https://localhost:8080/"
    },
    "id": "SfScTZfxTLri",
    "outputId": "ee3bace3-9fab-4ffb-9427-f2100483331a"
   },
   "outputs": [
    {
     "data": {
      "text/plain": [
       "year        2018\n",
       "anime_id     523\n",
       "dtype: int64"
      ]
     },
     "execution_count": 174,
     "metadata": {},
     "output_type": "execute_result"
    }
   ],
   "source": [
    "df['year'] = df['start'].dt.year\n",
    "df.groupby(['year'])['anime_id'].count().reset_index().max()"
   ]
  },
  {
   "cell_type": "markdown",
   "metadata": {
    "id": "02He-T16Tsru"
   },
   "source": [
    "**Question 8**: Add to the data the column `decade` which is the decade of release of the anime. Statistics on the number of anime released by decade."
   ]
  },
  {
   "cell_type": "code",
   "execution_count": 175,
   "metadata": {
    "colab": {
     "base_uri": "https://localhost:8080/"
    },
    "id": "VEZqiltDUBpV",
    "outputId": "9e1fdec4-3e56-4ceb-be71-f42ee6ffd5a2"
   },
   "outputs": [
    {
     "data": {
      "text/html": [
       "<div>\n",
       "<style scoped>\n",
       "    .dataframe tbody tr th:only-of-type {\n",
       "        vertical-align: middle;\n",
       "    }\n",
       "\n",
       "    .dataframe tbody tr th {\n",
       "        vertical-align: top;\n",
       "    }\n",
       "\n",
       "    .dataframe thead th {\n",
       "        text-align: right;\n",
       "    }\n",
       "</style>\n",
       "<table border=\"1\" class=\"dataframe\">\n",
       "  <thead>\n",
       "    <tr style=\"text-align: right;\">\n",
       "      <th></th>\n",
       "      <th>anime_id</th>\n",
       "      <th>title</th>\n",
       "      <th>type</th>\n",
       "      <th>source</th>\n",
       "      <th>episodes</th>\n",
       "      <th>duration_min</th>\n",
       "      <th>score</th>\n",
       "      <th>studio</th>\n",
       "      <th>genre</th>\n",
       "      <th>start</th>\n",
       "      <th>finish</th>\n",
       "      <th>year</th>\n",
       "      <th>decade</th>\n",
       "    </tr>\n",
       "  </thead>\n",
       "  <tbody>\n",
       "    <tr>\n",
       "      <th>0</th>\n",
       "      <td>11013</td>\n",
       "      <td>Inu x Boku SS</td>\n",
       "      <td>TV</td>\n",
       "      <td>Manga</td>\n",
       "      <td>12</td>\n",
       "      <td>24.0</td>\n",
       "      <td>7.63</td>\n",
       "      <td>David Production</td>\n",
       "      <td>Comedy, Supernatural, Romance, Shounen</td>\n",
       "      <td>2012-01-13</td>\n",
       "      <td>2012-03-30</td>\n",
       "      <td>2012</td>\n",
       "      <td>2010</td>\n",
       "    </tr>\n",
       "    <tr>\n",
       "      <th>1</th>\n",
       "      <td>2104</td>\n",
       "      <td>Seto no Hanayome</td>\n",
       "      <td>TV</td>\n",
       "      <td>Manga</td>\n",
       "      <td>26</td>\n",
       "      <td>24.0</td>\n",
       "      <td>7.89</td>\n",
       "      <td>Gonzo</td>\n",
       "      <td>Comedy, Parody, Romance, School, Shounen</td>\n",
       "      <td>2007-04-02</td>\n",
       "      <td>2007-10-01</td>\n",
       "      <td>2007</td>\n",
       "      <td>2000</td>\n",
       "    </tr>\n",
       "    <tr>\n",
       "      <th>2</th>\n",
       "      <td>5262</td>\n",
       "      <td>Shugo Chara!! Doki</td>\n",
       "      <td>TV</td>\n",
       "      <td>Manga</td>\n",
       "      <td>51</td>\n",
       "      <td>24.0</td>\n",
       "      <td>7.55</td>\n",
       "      <td>Satelight</td>\n",
       "      <td>Comedy, Magic, School, Shoujo</td>\n",
       "      <td>2008-10-04</td>\n",
       "      <td>2009-09-25</td>\n",
       "      <td>2008</td>\n",
       "      <td>2000</td>\n",
       "    </tr>\n",
       "    <tr>\n",
       "      <th>3</th>\n",
       "      <td>721</td>\n",
       "      <td>Princess Tutu</td>\n",
       "      <td>TV</td>\n",
       "      <td>Original</td>\n",
       "      <td>38</td>\n",
       "      <td>16.0</td>\n",
       "      <td>8.21</td>\n",
       "      <td>Hal Film Maker</td>\n",
       "      <td>Comedy, Drama, Magic, Romance, Fantasy</td>\n",
       "      <td>2002-08-16</td>\n",
       "      <td>2003-05-23</td>\n",
       "      <td>2002</td>\n",
       "      <td>2000</td>\n",
       "    </tr>\n",
       "    <tr>\n",
       "      <th>4</th>\n",
       "      <td>12365</td>\n",
       "      <td>Bakuman. 3rd Season</td>\n",
       "      <td>TV</td>\n",
       "      <td>Manga</td>\n",
       "      <td>25</td>\n",
       "      <td>24.0</td>\n",
       "      <td>8.67</td>\n",
       "      <td>J.C.Staff</td>\n",
       "      <td>Comedy, Drama, Romance, Shounen</td>\n",
       "      <td>2012-10-06</td>\n",
       "      <td>2013-03-30</td>\n",
       "      <td>2012</td>\n",
       "      <td>2010</td>\n",
       "    </tr>\n",
       "  </tbody>\n",
       "</table>\n",
       "</div>"
      ],
      "text/plain": [
       "   anime_id                title type    source  episodes  duration_min  \\\n",
       "0     11013        Inu x Boku SS   TV     Manga        12          24.0   \n",
       "1      2104     Seto no Hanayome   TV     Manga        26          24.0   \n",
       "2      5262   Shugo Chara!! Doki   TV     Manga        51          24.0   \n",
       "3       721        Princess Tutu   TV  Original        38          16.0   \n",
       "4     12365  Bakuman. 3rd Season   TV     Manga        25          24.0   \n",
       "\n",
       "   score            studio                                     genre  \\\n",
       "0   7.63  David Production    Comedy, Supernatural, Romance, Shounen   \n",
       "1   7.89             Gonzo  Comedy, Parody, Romance, School, Shounen   \n",
       "2   7.55         Satelight             Comedy, Magic, School, Shoujo   \n",
       "3   8.21    Hal Film Maker    Comedy, Drama, Magic, Romance, Fantasy   \n",
       "4   8.67         J.C.Staff           Comedy, Drama, Romance, Shounen   \n",
       "\n",
       "       start     finish  year  decade  \n",
       "0 2012-01-13 2012-03-30  2012    2010  \n",
       "1 2007-04-02 2007-10-01  2007    2000  \n",
       "2 2008-10-04 2009-09-25  2008    2000  \n",
       "3 2002-08-16 2003-05-23  2002    2000  \n",
       "4 2012-10-06 2013-03-30  2012    2010  "
      ]
     },
     "execution_count": 175,
     "metadata": {},
     "output_type": "execute_result"
    }
   ],
   "source": [
    "df['decade'] = ((df['start'].dt.year // 10) * 10)\n",
    "df.head(5)"
   ]
  },
  {
   "cell_type": "markdown",
   "metadata": {
    "id": "LF6PokWKUJpx"
   },
   "source": [
    "**Question 9**: Add data to the `season` column to indicate the broadcast season (based on release date) of the anime with:\n",
    "\n",
    "|Release date|Season|\n",
    "|---|---|\n",
    "|From January 1 to March 31|Winter-Spring|\n",
    "|From April 1 to June 30|Spring|\n",
    "|From July 1 to September 30|Summer|\n",
    "|From October 1 to December 31|Fall|\n",
    "\n",
    "Printing `season` has the most anime series released."
   ]
  },
  {
   "cell_type": "code",
   "execution_count": 176,
   "metadata": {},
   "outputs": [
    {
     "data": {
      "text/html": [
       "<div>\n",
       "<style scoped>\n",
       "    .dataframe tbody tr th:only-of-type {\n",
       "        vertical-align: middle;\n",
       "    }\n",
       "\n",
       "    .dataframe tbody tr th {\n",
       "        vertical-align: top;\n",
       "    }\n",
       "\n",
       "    .dataframe thead th {\n",
       "        text-align: right;\n",
       "    }\n",
       "</style>\n",
       "<table border=\"1\" class=\"dataframe\">\n",
       "  <thead>\n",
       "    <tr style=\"text-align: right;\">\n",
       "      <th></th>\n",
       "      <th>anime_id</th>\n",
       "      <th>title</th>\n",
       "      <th>type</th>\n",
       "      <th>source</th>\n",
       "      <th>episodes</th>\n",
       "      <th>duration_min</th>\n",
       "      <th>score</th>\n",
       "      <th>studio</th>\n",
       "      <th>genre</th>\n",
       "      <th>start</th>\n",
       "      <th>finish</th>\n",
       "      <th>year</th>\n",
       "      <th>decade</th>\n",
       "      <th>Season</th>\n",
       "    </tr>\n",
       "  </thead>\n",
       "  <tbody>\n",
       "    <tr>\n",
       "      <th>0</th>\n",
       "      <td>11013</td>\n",
       "      <td>Inu x Boku SS</td>\n",
       "      <td>TV</td>\n",
       "      <td>Manga</td>\n",
       "      <td>12</td>\n",
       "      <td>24.0</td>\n",
       "      <td>7.63</td>\n",
       "      <td>David Production</td>\n",
       "      <td>Comedy, Supernatural, Romance, Shounen</td>\n",
       "      <td>2012-01-13</td>\n",
       "      <td>2012-03-30</td>\n",
       "      <td>2012</td>\n",
       "      <td>2010</td>\n",
       "      <td>Winter-Spring</td>\n",
       "    </tr>\n",
       "    <tr>\n",
       "      <th>1</th>\n",
       "      <td>2104</td>\n",
       "      <td>Seto no Hanayome</td>\n",
       "      <td>TV</td>\n",
       "      <td>Manga</td>\n",
       "      <td>26</td>\n",
       "      <td>24.0</td>\n",
       "      <td>7.89</td>\n",
       "      <td>Gonzo</td>\n",
       "      <td>Comedy, Parody, Romance, School, Shounen</td>\n",
       "      <td>2007-04-02</td>\n",
       "      <td>2007-10-01</td>\n",
       "      <td>2007</td>\n",
       "      <td>2000</td>\n",
       "      <td>Spring</td>\n",
       "    </tr>\n",
       "    <tr>\n",
       "      <th>2</th>\n",
       "      <td>5262</td>\n",
       "      <td>Shugo Chara!! Doki</td>\n",
       "      <td>TV</td>\n",
       "      <td>Manga</td>\n",
       "      <td>51</td>\n",
       "      <td>24.0</td>\n",
       "      <td>7.55</td>\n",
       "      <td>Satelight</td>\n",
       "      <td>Comedy, Magic, School, Shoujo</td>\n",
       "      <td>2008-10-04</td>\n",
       "      <td>2009-09-25</td>\n",
       "      <td>2008</td>\n",
       "      <td>2000</td>\n",
       "      <td>Fall</td>\n",
       "    </tr>\n",
       "    <tr>\n",
       "      <th>3</th>\n",
       "      <td>721</td>\n",
       "      <td>Princess Tutu</td>\n",
       "      <td>TV</td>\n",
       "      <td>Original</td>\n",
       "      <td>38</td>\n",
       "      <td>16.0</td>\n",
       "      <td>8.21</td>\n",
       "      <td>Hal Film Maker</td>\n",
       "      <td>Comedy, Drama, Magic, Romance, Fantasy</td>\n",
       "      <td>2002-08-16</td>\n",
       "      <td>2003-05-23</td>\n",
       "      <td>2002</td>\n",
       "      <td>2000</td>\n",
       "      <td>Summer</td>\n",
       "    </tr>\n",
       "    <tr>\n",
       "      <th>4</th>\n",
       "      <td>12365</td>\n",
       "      <td>Bakuman. 3rd Season</td>\n",
       "      <td>TV</td>\n",
       "      <td>Manga</td>\n",
       "      <td>25</td>\n",
       "      <td>24.0</td>\n",
       "      <td>8.67</td>\n",
       "      <td>J.C.Staff</td>\n",
       "      <td>Comedy, Drama, Romance, Shounen</td>\n",
       "      <td>2012-10-06</td>\n",
       "      <td>2013-03-30</td>\n",
       "      <td>2012</td>\n",
       "      <td>2010</td>\n",
       "      <td>Fall</td>\n",
       "    </tr>\n",
       "  </tbody>\n",
       "</table>\n",
       "</div>"
      ],
      "text/plain": [
       "   anime_id                title type    source  episodes  duration_min  \\\n",
       "0     11013        Inu x Boku SS   TV     Manga        12          24.0   \n",
       "1      2104     Seto no Hanayome   TV     Manga        26          24.0   \n",
       "2      5262   Shugo Chara!! Doki   TV     Manga        51          24.0   \n",
       "3       721        Princess Tutu   TV  Original        38          16.0   \n",
       "4     12365  Bakuman. 3rd Season   TV     Manga        25          24.0   \n",
       "\n",
       "   score            studio                                     genre  \\\n",
       "0   7.63  David Production    Comedy, Supernatural, Romance, Shounen   \n",
       "1   7.89             Gonzo  Comedy, Parody, Romance, School, Shounen   \n",
       "2   7.55         Satelight             Comedy, Magic, School, Shoujo   \n",
       "3   8.21    Hal Film Maker    Comedy, Drama, Magic, Romance, Fantasy   \n",
       "4   8.67         J.C.Staff           Comedy, Drama, Romance, Shounen   \n",
       "\n",
       "       start     finish  year  decade         Season  \n",
       "0 2012-01-13 2012-03-30  2012    2010  Winter-Spring  \n",
       "1 2007-04-02 2007-10-01  2007    2000         Spring  \n",
       "2 2008-10-04 2009-09-25  2008    2000           Fall  \n",
       "3 2002-08-16 2003-05-23  2002    2000         Summer  \n",
       "4 2012-10-06 2013-03-30  2012    2010           Fall  "
      ]
     },
     "execution_count": 176,
     "metadata": {},
     "output_type": "execute_result"
    }
   ],
   "source": [
    "def get_season(date):\n",
    "    if (date.month == 1 and date.day >= 1) or (date.month == 1) or (date.month == 2) or (date.month == 3 and date.day <= 31):\n",
    "        return 'Winter-Spring'\n",
    "    elif (date.month == 4) or (date.month == 5) or (date.month == 6 and date.day <= 30):\n",
    "        return 'Spring'\n",
    "    elif (date.month == 7) or (date.month == 8) or (date.month == 9 and date.day <= 30):\n",
    "        return 'Summer'\n",
    "    else:\n",
    "        return 'Fall'\n",
    "\n",
    "# Apply the function to create a 'Season' column based on 'Date'\n",
    "df['Season'] = df['start'].apply(get_season)\n",
    "df.head(5)"
   ]
  },
  {
   "cell_type": "code",
   "execution_count": 177,
   "metadata": {},
   "outputs": [
    {
     "data": {
      "text/html": [
       "<div>\n",
       "<style scoped>\n",
       "    .dataframe tbody tr th:only-of-type {\n",
       "        vertical-align: middle;\n",
       "    }\n",
       "\n",
       "    .dataframe tbody tr th {\n",
       "        vertical-align: top;\n",
       "    }\n",
       "\n",
       "    .dataframe thead th {\n",
       "        text-align: right;\n",
       "    }\n",
       "</style>\n",
       "<table border=\"1\" class=\"dataframe\">\n",
       "  <thead>\n",
       "    <tr style=\"text-align: right;\">\n",
       "      <th></th>\n",
       "      <th>Season</th>\n",
       "    </tr>\n",
       "    <tr>\n",
       "      <th>Season</th>\n",
       "      <th></th>\n",
       "    </tr>\n",
       "  </thead>\n",
       "  <tbody>\n",
       "    <tr>\n",
       "      <th>Fall</th>\n",
       "      <td>1665</td>\n",
       "    </tr>\n",
       "    <tr>\n",
       "      <th>Spring</th>\n",
       "      <td>1538</td>\n",
       "    </tr>\n",
       "    <tr>\n",
       "      <th>Summer</th>\n",
       "      <td>1416</td>\n",
       "    </tr>\n",
       "    <tr>\n",
       "      <th>Winter-Spring</th>\n",
       "      <td>1378</td>\n",
       "    </tr>\n",
       "  </tbody>\n",
       "</table>\n",
       "</div>"
      ],
      "text/plain": [
       "               Season\n",
       "Season               \n",
       "Fall             1665\n",
       "Spring           1538\n",
       "Summer           1416\n",
       "Winter-Spring    1378"
      ]
     },
     "execution_count": 177,
     "metadata": {},
     "output_type": "execute_result"
    }
   ],
   "source": [
    "df.groupby(['Season'])[['Season']].count()"
   ]
  },
  {
   "cell_type": "markdown",
   "metadata": {
    "id": "mOAFnxDTVSuN"
   },
   "source": [
    "**Question 10**: Take out the anime whose `type` is 'TV' and use that data to answer the following questions:\n",
    "1. How many anime are there in that dataset?\n",
    "2. Which anime has the most episodes?\n",
    "3. How many episodes are there in total?\n",
    "4. Total time to watch all these anime? (calculated by hour, by day)\n",
    "5. Average time per episode.\n",
    "6. Calculate the average score for each decade.\n",
    "7. Calculate the average score for each `seanson` and `source`.\n",
    "8. Calculate the average score for each studio.\n",
    "9. Calculate the correlation coefficient matrix between the columns `score`, `duration_min` and `episodes`.\n",
    "10. Add column `aired_duration` which is the number of release days. *Hint*: `(end - start) / pd.Timedelta('1 days')`.\n",
    "11. Print anime with the longest release time.\n",
    "12. Print out the correlation coefficient between `score` and `aired_duration`."
   ]
  },
  {
   "cell_type": "code",
   "execution_count": 178,
   "metadata": {},
   "outputs": [],
   "source": [
    "quest_df = df.loc[df['type'] == 'TV']"
   ]
  },
  {
   "cell_type": "markdown",
   "metadata": {},
   "source": [
    "*Question 1:*"
   ]
  },
  {
   "cell_type": "code",
   "execution_count": 179,
   "metadata": {
    "colab": {
     "base_uri": "https://localhost:8080/"
    },
    "id": "ODat6qOoWf2q",
    "outputId": "9df4a77e-c18f-4924-a76b-cf93704b1b3c"
   },
   "outputs": [
    {
     "data": {
      "text/plain": [
       "2857"
      ]
     },
     "execution_count": 179,
     "metadata": {},
     "output_type": "execute_result"
    }
   ],
   "source": [
    "len(quest_df['anime_id'].unique())"
   ]
  },
  {
   "cell_type": "markdown",
   "metadata": {},
   "source": [
    "*Question 2:*"
   ]
  },
  {
   "cell_type": "code",
   "execution_count": 180,
   "metadata": {},
   "outputs": [
    {
     "data": {
      "text/html": [
       "<div>\n",
       "<style scoped>\n",
       "    .dataframe tbody tr th:only-of-type {\n",
       "        vertical-align: middle;\n",
       "    }\n",
       "\n",
       "    .dataframe tbody tr th {\n",
       "        vertical-align: top;\n",
       "    }\n",
       "\n",
       "    .dataframe thead th {\n",
       "        text-align: right;\n",
       "    }\n",
       "</style>\n",
       "<table border=\"1\" class=\"dataframe\">\n",
       "  <thead>\n",
       "    <tr style=\"text-align: right;\">\n",
       "      <th></th>\n",
       "      <th>anime_id</th>\n",
       "      <th>title</th>\n",
       "    </tr>\n",
       "  </thead>\n",
       "  <tbody>\n",
       "    <tr>\n",
       "      <th>5262</th>\n",
       "      <td>12393</td>\n",
       "      <td>Oyako Club</td>\n",
       "    </tr>\n",
       "  </tbody>\n",
       "</table>\n",
       "</div>"
      ],
      "text/plain": [
       "      anime_id       title\n",
       "5262     12393  Oyako Club"
      ]
     },
     "execution_count": 180,
     "metadata": {},
     "output_type": "execute_result"
    }
   ],
   "source": [
    "quest_df[quest_df['episodes'] == max(quest_df['episodes'])][['anime_id', 'title']]"
   ]
  },
  {
   "cell_type": "markdown",
   "metadata": {},
   "source": [
    "*Question 3:*"
   ]
  },
  {
   "cell_type": "code",
   "execution_count": 181,
   "metadata": {},
   "outputs": [
    {
     "data": {
      "text/html": [
       "<div>\n",
       "<style scoped>\n",
       "    .dataframe tbody tr th:only-of-type {\n",
       "        vertical-align: middle;\n",
       "    }\n",
       "\n",
       "    .dataframe tbody tr th {\n",
       "        vertical-align: top;\n",
       "    }\n",
       "\n",
       "    .dataframe thead th {\n",
       "        text-align: right;\n",
       "    }\n",
       "</style>\n",
       "<table border=\"1\" class=\"dataframe\">\n",
       "  <thead>\n",
       "    <tr style=\"text-align: right;\">\n",
       "      <th></th>\n",
       "      <th>anime_id</th>\n",
       "      <th>title</th>\n",
       "      <th>episodes</th>\n",
       "    </tr>\n",
       "  </thead>\n",
       "  <tbody>\n",
       "    <tr>\n",
       "      <th>5262</th>\n",
       "      <td>12393</td>\n",
       "      <td>Oyako Club</td>\n",
       "      <td>1818</td>\n",
       "    </tr>\n",
       "  </tbody>\n",
       "</table>\n",
       "</div>"
      ],
      "text/plain": [
       "      anime_id       title  episodes\n",
       "5262     12393  Oyako Club      1818"
      ]
     },
     "execution_count": 181,
     "metadata": {},
     "output_type": "execute_result"
    }
   ],
   "source": [
    "quest_df[quest_df['episodes'] == max(quest_df['episodes'])][['anime_id', 'title', 'episodes']]"
   ]
  },
  {
   "cell_type": "markdown",
   "metadata": {},
   "source": [
    "*Question 4:*"
   ]
  },
  {
   "cell_type": "code",
   "execution_count": 182,
   "metadata": {},
   "outputs": [
    {
     "name": "stderr",
     "output_type": "stream",
     "text": [
      "C:\\Users\\dongn\\AppData\\Local\\Temp\\ipykernel_11312\\1731169441.py:1: SettingWithCopyWarning: \n",
      "A value is trying to be set on a copy of a slice from a DataFrame.\n",
      "Try using .loc[row_indexer,col_indexer] = value instead\n",
      "\n",
      "See the caveats in the documentation: https://pandas.pydata.org/pandas-docs/stable/user_guide/indexing.html#returning-a-view-versus-a-copy\n",
      "  quest_df['total_duration_eps'] = quest_df['episodes'] * quest_df['duration_min']\n"
     ]
    },
    {
     "data": {
      "text/plain": [
       "1730161.8"
      ]
     },
     "execution_count": 182,
     "metadata": {},
     "output_type": "execute_result"
    }
   ],
   "source": [
    "quest_df['total_duration_eps'] = quest_df['episodes'] * quest_df['duration_min']\n",
    "quest_df['total_duration_eps'].sum()"
   ]
  },
  {
   "cell_type": "markdown",
   "metadata": {},
   "source": [
    "*Question 5:*"
   ]
  },
  {
   "cell_type": "code",
   "execution_count": 183,
   "metadata": {},
   "outputs": [
    {
     "data": {
      "text/plain": [
       "21.135095088087738"
      ]
     },
     "execution_count": 183,
     "metadata": {},
     "output_type": "execute_result"
    }
   ],
   "source": [
    "quest_df['duration_min'].sum() / len(quest_df)"
   ]
  },
  {
   "cell_type": "markdown",
   "metadata": {},
   "source": [
    "*Question 6:*"
   ]
  },
  {
   "cell_type": "code",
   "execution_count": 184,
   "metadata": {},
   "outputs": [
    {
     "data": {
      "text/html": [
       "<div>\n",
       "<style scoped>\n",
       "    .dataframe tbody tr th:only-of-type {\n",
       "        vertical-align: middle;\n",
       "    }\n",
       "\n",
       "    .dataframe tbody tr th {\n",
       "        vertical-align: top;\n",
       "    }\n",
       "\n",
       "    .dataframe thead th {\n",
       "        text-align: right;\n",
       "    }\n",
       "</style>\n",
       "<table border=\"1\" class=\"dataframe\">\n",
       "  <thead>\n",
       "    <tr style=\"text-align: right;\">\n",
       "      <th></th>\n",
       "      <th>score</th>\n",
       "    </tr>\n",
       "    <tr>\n",
       "      <th>decade</th>\n",
       "      <th></th>\n",
       "    </tr>\n",
       "  </thead>\n",
       "  <tbody>\n",
       "    <tr>\n",
       "      <th>1960</th>\n",
       "      <td>6.773500</td>\n",
       "    </tr>\n",
       "    <tr>\n",
       "      <th>1970</th>\n",
       "      <td>6.812771</td>\n",
       "    </tr>\n",
       "    <tr>\n",
       "      <th>1980</th>\n",
       "      <td>7.001274</td>\n",
       "    </tr>\n",
       "    <tr>\n",
       "      <th>1990</th>\n",
       "      <td>7.043705</td>\n",
       "    </tr>\n",
       "    <tr>\n",
       "      <th>2000</th>\n",
       "      <td>7.171255</td>\n",
       "    </tr>\n",
       "    <tr>\n",
       "      <th>2010</th>\n",
       "      <td>6.989279</td>\n",
       "    </tr>\n",
       "  </tbody>\n",
       "</table>\n",
       "</div>"
      ],
      "text/plain": [
       "           score\n",
       "decade          \n",
       "1960    6.773500\n",
       "1970    6.812771\n",
       "1980    7.001274\n",
       "1990    7.043705\n",
       "2000    7.171255\n",
       "2010    6.989279"
      ]
     },
     "execution_count": 184,
     "metadata": {},
     "output_type": "execute_result"
    }
   ],
   "source": [
    "quest_df.groupby(['decade'])[['score']].mean()"
   ]
  },
  {
   "cell_type": "markdown",
   "metadata": {},
   "source": [
    "*Question 7:*"
   ]
  },
  {
   "cell_type": "code",
   "execution_count": 185,
   "metadata": {},
   "outputs": [
    {
     "data": {
      "text/html": [
       "<div>\n",
       "<style scoped>\n",
       "    .dataframe tbody tr th:only-of-type {\n",
       "        vertical-align: middle;\n",
       "    }\n",
       "\n",
       "    .dataframe tbody tr th {\n",
       "        vertical-align: top;\n",
       "    }\n",
       "\n",
       "    .dataframe thead th {\n",
       "        text-align: right;\n",
       "    }\n",
       "</style>\n",
       "<table border=\"1\" class=\"dataframe\">\n",
       "  <thead>\n",
       "    <tr style=\"text-align: right;\">\n",
       "      <th></th>\n",
       "      <th>Season</th>\n",
       "      <th>source</th>\n",
       "      <th>score</th>\n",
       "    </tr>\n",
       "  </thead>\n",
       "  <tbody>\n",
       "    <tr>\n",
       "      <th>0</th>\n",
       "      <td>Fall</td>\n",
       "      <td>4-koma manga</td>\n",
       "      <td>6.774286</td>\n",
       "    </tr>\n",
       "    <tr>\n",
       "      <th>1</th>\n",
       "      <td>Fall</td>\n",
       "      <td>Book</td>\n",
       "      <td>6.933333</td>\n",
       "    </tr>\n",
       "    <tr>\n",
       "      <th>2</th>\n",
       "      <td>Fall</td>\n",
       "      <td>Card game</td>\n",
       "      <td>6.878000</td>\n",
       "    </tr>\n",
       "    <tr>\n",
       "      <th>3</th>\n",
       "      <td>Fall</td>\n",
       "      <td>Digital manga</td>\n",
       "      <td>5.027500</td>\n",
       "    </tr>\n",
       "    <tr>\n",
       "      <th>4</th>\n",
       "      <td>Fall</td>\n",
       "      <td>Game</td>\n",
       "      <td>6.683953</td>\n",
       "    </tr>\n",
       "  </tbody>\n",
       "</table>\n",
       "</div>"
      ],
      "text/plain": [
       "  Season         source     score\n",
       "0   Fall   4-koma manga  6.774286\n",
       "1   Fall           Book  6.933333\n",
       "2   Fall      Card game  6.878000\n",
       "3   Fall  Digital manga  5.027500\n",
       "4   Fall           Game  6.683953"
      ]
     },
     "execution_count": 185,
     "metadata": {},
     "output_type": "execute_result"
    }
   ],
   "source": [
    "quest_df.groupby(['Season', 'source'])[['score']].mean().reset_index().head(5)"
   ]
  },
  {
   "cell_type": "markdown",
   "metadata": {},
   "source": [
    "*Question 8:*"
   ]
  },
  {
   "cell_type": "code",
   "execution_count": 186,
   "metadata": {},
   "outputs": [
    {
     "data": {
      "text/html": [
       "<div>\n",
       "<style scoped>\n",
       "    .dataframe tbody tr th:only-of-type {\n",
       "        vertical-align: middle;\n",
       "    }\n",
       "\n",
       "    .dataframe tbody tr th {\n",
       "        vertical-align: top;\n",
       "    }\n",
       "\n",
       "    .dataframe thead th {\n",
       "        text-align: right;\n",
       "    }\n",
       "</style>\n",
       "<table border=\"1\" class=\"dataframe\">\n",
       "  <thead>\n",
       "    <tr style=\"text-align: right;\">\n",
       "      <th></th>\n",
       "      <th>score</th>\n",
       "    </tr>\n",
       "    <tr>\n",
       "      <th>studio</th>\n",
       "      <th></th>\n",
       "    </tr>\n",
       "  </thead>\n",
       "  <tbody>\n",
       "    <tr>\n",
       "      <th>10Gauge</th>\n",
       "      <td>4.445000</td>\n",
       "    </tr>\n",
       "    <tr>\n",
       "      <th>8bit</th>\n",
       "      <td>7.105000</td>\n",
       "    </tr>\n",
       "    <tr>\n",
       "      <th>A-1 Pictures</th>\n",
       "      <td>7.429865</td>\n",
       "    </tr>\n",
       "    <tr>\n",
       "      <th>A-1 Pictures, Bridge</th>\n",
       "      <td>8.130000</td>\n",
       "    </tr>\n",
       "    <tr>\n",
       "      <th>A-1 Pictures, CloverWorks</th>\n",
       "      <td>7.130000</td>\n",
       "    </tr>\n",
       "  </tbody>\n",
       "</table>\n",
       "</div>"
      ],
      "text/plain": [
       "                              score\n",
       "studio                             \n",
       "10Gauge                    4.445000\n",
       "8bit                       7.105000\n",
       "A-1 Pictures               7.429865\n",
       "A-1 Pictures, Bridge       8.130000\n",
       "A-1 Pictures, CloverWorks  7.130000"
      ]
     },
     "execution_count": 186,
     "metadata": {},
     "output_type": "execute_result"
    }
   ],
   "source": [
    "quest_df.groupby(['studio'])[['score']].mean().head(5)"
   ]
  },
  {
   "cell_type": "markdown",
   "metadata": {},
   "source": [
    "*Question 9:*"
   ]
  },
  {
   "cell_type": "code",
   "execution_count": 187,
   "metadata": {},
   "outputs": [
    {
     "data": {
      "text/html": [
       "<div>\n",
       "<style scoped>\n",
       "    .dataframe tbody tr th:only-of-type {\n",
       "        vertical-align: middle;\n",
       "    }\n",
       "\n",
       "    .dataframe tbody tr th {\n",
       "        vertical-align: top;\n",
       "    }\n",
       "\n",
       "    .dataframe thead th {\n",
       "        text-align: right;\n",
       "    }\n",
       "</style>\n",
       "<table border=\"1\" class=\"dataframe\">\n",
       "  <thead>\n",
       "    <tr style=\"text-align: right;\">\n",
       "      <th></th>\n",
       "      <th>score</th>\n",
       "      <th>duration_min</th>\n",
       "      <th>episodes</th>\n",
       "    </tr>\n",
       "  </thead>\n",
       "  <tbody>\n",
       "    <tr>\n",
       "      <th>score</th>\n",
       "      <td>1.000000</td>\n",
       "      <td>0.475094</td>\n",
       "      <td>0.028684</td>\n",
       "    </tr>\n",
       "    <tr>\n",
       "      <th>duration_min</th>\n",
       "      <td>0.475094</td>\n",
       "      <td>1.000000</td>\n",
       "      <td>-0.027509</td>\n",
       "    </tr>\n",
       "    <tr>\n",
       "      <th>episodes</th>\n",
       "      <td>0.028684</td>\n",
       "      <td>-0.027509</td>\n",
       "      <td>1.000000</td>\n",
       "    </tr>\n",
       "  </tbody>\n",
       "</table>\n",
       "</div>"
      ],
      "text/plain": [
       "                 score  duration_min  episodes\n",
       "score         1.000000      0.475094  0.028684\n",
       "duration_min  0.475094      1.000000 -0.027509\n",
       "episodes      0.028684     -0.027509  1.000000"
      ]
     },
     "execution_count": 187,
     "metadata": {},
     "output_type": "execute_result"
    }
   ],
   "source": [
    "quest_df[['score', 'duration_min', 'episodes']].corr()"
   ]
  },
  {
   "cell_type": "markdown",
   "metadata": {},
   "source": [
    "*Question 10:*"
   ]
  },
  {
   "cell_type": "code",
   "execution_count": 188,
   "metadata": {},
   "outputs": [
    {
     "name": "stderr",
     "output_type": "stream",
     "text": [
      "C:\\Users\\dongn\\AppData\\Local\\Temp\\ipykernel_11312\\1922219412.py:2: SettingWithCopyWarning: \n",
      "A value is trying to be set on a copy of a slice from a DataFrame.\n",
      "Try using .loc[row_indexer,col_indexer] = value instead\n",
      "\n",
      "See the caveats in the documentation: https://pandas.pydata.org/pandas-docs/stable/user_guide/indexing.html#returning-a-view-versus-a-copy\n",
      "  quest_df['aired_duration'] = (quest_df['finish'] - quest_df['start']) / pd.Timedelta('1 days')\n"
     ]
    }
   ],
   "source": [
    "# (end - start) / pd.Timedelta('1 days')\n",
    "quest_df['aired_duration'] = (quest_df['finish'] - quest_df['start']) / pd.Timedelta('1 days')"
   ]
  },
  {
   "cell_type": "markdown",
   "metadata": {},
   "source": [
    "*Question 11:*"
   ]
  },
  {
   "cell_type": "code",
   "execution_count": 189,
   "metadata": {},
   "outputs": [
    {
     "data": {
      "text/html": [
       "<div>\n",
       "<style scoped>\n",
       "    .dataframe tbody tr th:only-of-type {\n",
       "        vertical-align: middle;\n",
       "    }\n",
       "\n",
       "    .dataframe tbody tr th {\n",
       "        vertical-align: top;\n",
       "    }\n",
       "\n",
       "    .dataframe thead th {\n",
       "        text-align: right;\n",
       "    }\n",
       "</style>\n",
       "<table border=\"1\" class=\"dataframe\">\n",
       "  <thead>\n",
       "    <tr style=\"text-align: right;\">\n",
       "      <th></th>\n",
       "      <th>anime_id</th>\n",
       "      <th>title</th>\n",
       "    </tr>\n",
       "  </thead>\n",
       "  <tbody>\n",
       "    <tr>\n",
       "      <th>5095</th>\n",
       "      <td>2471</td>\n",
       "      <td>Doraemon (1979)</td>\n",
       "    </tr>\n",
       "  </tbody>\n",
       "</table>\n",
       "</div>"
      ],
      "text/plain": [
       "      anime_id            title\n",
       "5095      2471  Doraemon (1979)"
      ]
     },
     "execution_count": 189,
     "metadata": {},
     "output_type": "execute_result"
    }
   ],
   "source": [
    "quest_df[quest_df['aired_duration'] == max(quest_df['aired_duration'])][['anime_id','title']]"
   ]
  },
  {
   "cell_type": "markdown",
   "metadata": {},
   "source": [
    "*Question 12:*"
   ]
  },
  {
   "cell_type": "code",
   "execution_count": 190,
   "metadata": {},
   "outputs": [
    {
     "data": {
      "text/html": [
       "<div>\n",
       "<style scoped>\n",
       "    .dataframe tbody tr th:only-of-type {\n",
       "        vertical-align: middle;\n",
       "    }\n",
       "\n",
       "    .dataframe tbody tr th {\n",
       "        vertical-align: top;\n",
       "    }\n",
       "\n",
       "    .dataframe thead th {\n",
       "        text-align: right;\n",
       "    }\n",
       "</style>\n",
       "<table border=\"1\" class=\"dataframe\">\n",
       "  <thead>\n",
       "    <tr style=\"text-align: right;\">\n",
       "      <th></th>\n",
       "      <th>score</th>\n",
       "      <th>aired_duration</th>\n",
       "    </tr>\n",
       "  </thead>\n",
       "  <tbody>\n",
       "    <tr>\n",
       "      <th>score</th>\n",
       "      <td>1.000000</td>\n",
       "      <td>0.040876</td>\n",
       "    </tr>\n",
       "    <tr>\n",
       "      <th>aired_duration</th>\n",
       "      <td>0.040876</td>\n",
       "      <td>1.000000</td>\n",
       "    </tr>\n",
       "  </tbody>\n",
       "</table>\n",
       "</div>"
      ],
      "text/plain": [
       "                   score  aired_duration\n",
       "score           1.000000        0.040876\n",
       "aired_duration  0.040876        1.000000"
      ]
     },
     "execution_count": 190,
     "metadata": {},
     "output_type": "execute_result"
    }
   ],
   "source": [
    "quest_df[['score','aired_duration']].corr()"
   ]
  },
  {
   "cell_type": "markdown",
   "metadata": {
    "id": "RK6436Bfaior"
   },
   "source": [
    "**Question 11**: Fulfill the following requirements:\n",
    "1. Take out the anime whose `type` is 'Movie' and name it `movie`.\n",
    "2. Delete the columns `type`, `episodes`, `duration_min`, `start` and `finish` from `movie`."
   ]
  },
  {
   "cell_type": "code",
   "execution_count": 191,
   "metadata": {},
   "outputs": [
    {
     "data": {
      "text/plain": [
       "2857"
      ]
     },
     "execution_count": 191,
     "metadata": {},
     "output_type": "execute_result"
    }
   ],
   "source": [
    "movie = quest_df.loc[quest_df['type'] != 'Movie']\n",
    "movie = movie.drop(columns = ['type', 'episodes', 'duration_min', 'start', 'finish'])\n",
    "len(movie)"
   ]
  },
  {
   "cell_type": "markdown",
   "metadata": {
    "id": "PasDsfVKbfrs"
   },
   "source": [
    "As can be seen, the `genre` of anime is a list of many different genres. This makes it difficult to synthesize information by each `genre`. Therefore, the `genre` column must be decomposed so that each row contains only 1 `genre` as shown:\n",
    "![Explode](https://www.w3resource.com/w3r_images/pandas-dataframe-explode-1.png)"
   ]
  },
  {
   "cell_type": "code",
   "execution_count": 192,
   "metadata": {},
   "outputs": [],
   "source": [
    "movie['genre'] = movie['genre'].str.split(',')\n",
    "movie = movie.explode('genre')"
   ]
  },
  {
   "cell_type": "markdown",
   "metadata": {
    "id": "S8qYWGMPdDOw"
   },
   "source": [
    "**Question 12**: Fulfill the following requirements:\n",
    "1. Statistics on the number of `genre`.\n",
    "2. Print out the average score and number of anime for each `genre`.\n",
    "3. Average score statistics by `studio` and `genre`."
   ]
  },
  {
   "cell_type": "code",
   "execution_count": 193,
   "metadata": {
    "colab": {
     "base_uri": "https://localhost:8080/"
    },
    "id": "8PTiVuH7ekKk",
    "outputId": "25777e46-a44e-4407-a9f6-6795d64982d5"
   },
   "outputs": [
    {
     "data": {
      "text/html": [
       "<div>\n",
       "<style scoped>\n",
       "    .dataframe tbody tr th:only-of-type {\n",
       "        vertical-align: middle;\n",
       "    }\n",
       "\n",
       "    .dataframe tbody tr th {\n",
       "        vertical-align: top;\n",
       "    }\n",
       "\n",
       "    .dataframe thead th {\n",
       "        text-align: right;\n",
       "    }\n",
       "</style>\n",
       "<table border=\"1\" class=\"dataframe\">\n",
       "  <thead>\n",
       "    <tr style=\"text-align: right;\">\n",
       "      <th></th>\n",
       "      <th>genre</th>\n",
       "    </tr>\n",
       "    <tr>\n",
       "      <th>genre</th>\n",
       "      <th></th>\n",
       "    </tr>\n",
       "  </thead>\n",
       "  <tbody>\n",
       "    <tr>\n",
       "      <th>Adventure</th>\n",
       "      <td>341</td>\n",
       "    </tr>\n",
       "    <tr>\n",
       "      <th>Cars</th>\n",
       "      <td>14</td>\n",
       "    </tr>\n",
       "    <tr>\n",
       "      <th>Comedy</th>\n",
       "      <td>786</td>\n",
       "    </tr>\n",
       "    <tr>\n",
       "      <th>Dementia</th>\n",
       "      <td>6</td>\n",
       "    </tr>\n",
       "    <tr>\n",
       "      <th>Demons</th>\n",
       "      <td>93</td>\n",
       "    </tr>\n",
       "  </tbody>\n",
       "</table>\n",
       "</div>"
      ],
      "text/plain": [
       "            genre\n",
       "genre            \n",
       " Adventure    341\n",
       " Cars          14\n",
       " Comedy       786\n",
       " Dementia       6\n",
       " Demons        93"
      ]
     },
     "execution_count": 193,
     "metadata": {},
     "output_type": "execute_result"
    }
   ],
   "source": [
    "movie.groupby(['genre'])[['genre']].count().head(5)"
   ]
  },
  {
   "cell_type": "code",
   "execution_count": 194,
   "metadata": {
    "id": "rT4cUN4KQosO"
   },
   "outputs": [
    {
     "data": {
      "text/html": [
       "<div>\n",
       "<style scoped>\n",
       "    .dataframe tbody tr th:only-of-type {\n",
       "        vertical-align: middle;\n",
       "    }\n",
       "\n",
       "    .dataframe tbody tr th {\n",
       "        vertical-align: top;\n",
       "    }\n",
       "\n",
       "    .dataframe thead th {\n",
       "        text-align: right;\n",
       "    }\n",
       "</style>\n",
       "<table border=\"1\" class=\"dataframe\">\n",
       "  <thead>\n",
       "    <tr style=\"text-align: right;\">\n",
       "      <th></th>\n",
       "      <th>score</th>\n",
       "    </tr>\n",
       "    <tr>\n",
       "      <th>genre</th>\n",
       "      <th></th>\n",
       "    </tr>\n",
       "  </thead>\n",
       "  <tbody>\n",
       "    <tr>\n",
       "      <th>Adventure</th>\n",
       "      <td>7.174839</td>\n",
       "    </tr>\n",
       "    <tr>\n",
       "      <th>Cars</th>\n",
       "      <td>7.025000</td>\n",
       "    </tr>\n",
       "    <tr>\n",
       "      <th>Comedy</th>\n",
       "      <td>7.129148</td>\n",
       "    </tr>\n",
       "    <tr>\n",
       "      <th>Dementia</th>\n",
       "      <td>7.796667</td>\n",
       "    </tr>\n",
       "    <tr>\n",
       "      <th>Demons</th>\n",
       "      <td>7.350215</td>\n",
       "    </tr>\n",
       "  </tbody>\n",
       "</table>\n",
       "</div>"
      ],
      "text/plain": [
       "               score\n",
       "genre               \n",
       " Adventure  7.174839\n",
       " Cars       7.025000\n",
       " Comedy     7.129148\n",
       " Dementia   7.796667\n",
       " Demons     7.350215"
      ]
     },
     "execution_count": 194,
     "metadata": {},
     "output_type": "execute_result"
    }
   ],
   "source": [
    "movie.groupby(['genre'])[['score']].mean().head(5)"
   ]
  },
  {
   "cell_type": "code",
   "execution_count": 202,
   "metadata": {},
   "outputs": [
    {
     "data": {
      "text/html": [
       "<div>\n",
       "<style scoped>\n",
       "    .dataframe tbody tr th:only-of-type {\n",
       "        vertical-align: middle;\n",
       "    }\n",
       "\n",
       "    .dataframe tbody tr th {\n",
       "        vertical-align: top;\n",
       "    }\n",
       "\n",
       "    .dataframe thead th {\n",
       "        text-align: right;\n",
       "    }\n",
       "</style>\n",
       "<table border=\"1\" class=\"dataframe\">\n",
       "  <thead>\n",
       "    <tr style=\"text-align: right;\">\n",
       "      <th></th>\n",
       "      <th>studio</th>\n",
       "      <th>score</th>\n",
       "    </tr>\n",
       "  </thead>\n",
       "  <tbody>\n",
       "    <tr>\n",
       "      <th>0</th>\n",
       "      <td>10Gauge</td>\n",
       "      <td>4.445000</td>\n",
       "    </tr>\n",
       "    <tr>\n",
       "      <th>1</th>\n",
       "      <td>8bit</td>\n",
       "      <td>7.073750</td>\n",
       "    </tr>\n",
       "    <tr>\n",
       "      <th>2</th>\n",
       "      <td>A-1 Pictures</td>\n",
       "      <td>7.515845</td>\n",
       "    </tr>\n",
       "    <tr>\n",
       "      <th>3</th>\n",
       "      <td>A-1 Pictures, Bridge</td>\n",
       "      <td>8.130000</td>\n",
       "    </tr>\n",
       "    <tr>\n",
       "      <th>4</th>\n",
       "      <td>A-1 Pictures, CloverWorks</td>\n",
       "      <td>7.130000</td>\n",
       "    </tr>\n",
       "  </tbody>\n",
       "</table>\n",
       "</div>"
      ],
      "text/plain": [
       "                      studio     score\n",
       "0                    10Gauge  4.445000\n",
       "1                       8bit  7.073750\n",
       "2               A-1 Pictures  7.515845\n",
       "3       A-1 Pictures, Bridge  8.130000\n",
       "4  A-1 Pictures, CloverWorks  7.130000"
      ]
     },
     "execution_count": 202,
     "metadata": {},
     "output_type": "execute_result"
    }
   ],
   "source": [
    "movie.groupby(['studio'])[['score']].mean().reset_index().head(5)"
   ]
  }
 ],
 "metadata": {
  "colab": {
   "provenance": []
  },
  "kernelspec": {
   "display_name": "Python 3 (ipykernel)",
   "language": "python",
   "name": "python3"
  },
  "language_info": {
   "codemirror_mode": {
    "name": "ipython",
    "version": 3
   },
   "file_extension": ".py",
   "mimetype": "text/x-python",
   "name": "python",
   "nbconvert_exporter": "python",
   "pygments_lexer": "ipython3",
   "version": "3.12.1"
  }
 },
 "nbformat": 4,
 "nbformat_minor": 4
}
