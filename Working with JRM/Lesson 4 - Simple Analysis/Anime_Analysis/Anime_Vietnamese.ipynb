{
  "cells": [
    {
      "cell_type": "markdown",
      "metadata": {
        "id": "PPHNGnzHHDXG"
      },
      "source": [
        "# Dữ liệu\n",
        "Dữ liệu cho bài thực hành này được tổng hợp từ [MyAnimeList](https://myanimelist.net/) được lưu trong file anime_info.csv và bao gồm các cột:\n",
        "* `anime_id`: mã số của anime trên [MyAnimeList](https://myanimelist.net/).\n",
        "* `title` : tựa của anime.\n",
        "* `type` : hình thức phát hành (TV Series, Movie, OVA, ...).\n",
        "* `source` : nguyên tác của anime (Manga, Light Novel, Game, ...).\n",
        "* `episodes` : số tập.\n",
        "* `duration_min` : thời lượng mỗi tập (tính bằng phút).\n",
        "* `score` : điểm của anime trên [MyAnimeList](https://myanimelist.net/), tổng hợp từ đánh giá có người dùng.\n",
        "* `studio` : hãng sản xuất.\n",
        "* `genre` : thể loại phim.\n",
        "* `start` : ngày bắt đầu phát hành.\n",
        "* `finish` : ngày kết thúc phát hành."
      ]
    },
    {
      "cell_type": "markdown",
      "metadata": {
        "id": "47LkimmwN3eg"
      },
      "source": [
        "# Bài tập"
      ]
    },
    {
      "cell_type": "markdown",
      "metadata": {
        "id": "zwBzHoF5N5QQ"
      },
      "source": [
        "**Câu 1**: Đọc dữ liệu từ file csv và lưu dưới tên `anime_data`."
      ]
    },
    {
      "cell_type": "code",
      "execution_count": null,
      "metadata": {
        "colab": {
          "base_uri": "https://localhost:8080/",
          "height": 649
        },
        "id": "ut8dRn9fG6Rl",
        "outputId": "89ca66c6-03e2-4b48-e870-e5abc1e0c3f1"
      },
      "outputs": [],
      "source": []
    },
    {
      "cell_type": "markdown",
      "metadata": {
        "id": "G-BBzoqzPHpz"
      },
      "source": [
        "**Câu 2**: Thực hiện việc chuyển đổi cần thiết."
      ]
    },
    {
      "cell_type": "code",
      "execution_count": null,
      "metadata": {
        "colab": {
          "base_uri": "https://localhost:8080/"
        },
        "id": "LZSU81N0PMrG",
        "outputId": "5a61043d-cb3f-4183-8cee-89b83cca93d8"
      },
      "outputs": [],
      "source": []
    },
    {
      "cell_type": "markdown",
      "metadata": {
        "id": "QF4v9Sw-PdjQ"
      },
      "source": [
        "**Câu 3**: Xóa những dòng có ngày bắt đầu hoặc kết thúc là `NaT`."
      ]
    },
    {
      "cell_type": "code",
      "execution_count": null,
      "metadata": {
        "colab": {
          "base_uri": "https://localhost:8080/",
          "height": 666
        },
        "id": "0fSzraqzPmLL",
        "outputId": "236e4961-dd1d-4c46-c11c-f96200c631e8"
      },
      "outputs": [],
      "source": []
    },
    {
      "cell_type": "markdown",
      "metadata": {
        "id": "iFv-SUYyPmpb"
      },
      "source": [
        "**Câu 4**: Xóa những dòng có số tập là 0."
      ]
    },
    {
      "cell_type": "code",
      "execution_count": null,
      "metadata": {
        "colab": {
          "base_uri": "https://localhost:8080/",
          "height": 666
        },
        "id": "qwCEjjuxPszX",
        "outputId": "0376bb6d-7a08-451f-e3c4-019be4b0604e"
      },
      "outputs": [],
      "source": []
    },
    {
      "cell_type": "markdown",
      "metadata": {
        "id": "j2Ccqcs7QROa"
      },
      "source": [
        "**Câu 5**: Xóa những dòng có thời lượng mỗi tập là 0."
      ]
    },
    {
      "cell_type": "code",
      "execution_count": null,
      "metadata": {
        "colab": {
          "base_uri": "https://localhost:8080/",
          "height": 666
        },
        "id": "BFGzgdn0QZSD",
        "outputId": "bf65ee82-d45a-4709-ab9e-0e3d7de6c839"
      },
      "outputs": [],
      "source": []
    },
    {
      "cell_type": "markdown",
      "metadata": {
        "id": "oQJ-OBh7QdC9"
      },
      "source": [
        "**Câu 6**: In ra số lượng anime còn lại sau khi thực hiện câu 3 - 5."
      ]
    },
    {
      "cell_type": "code",
      "execution_count": null,
      "metadata": {
        "colab": {
          "base_uri": "https://localhost:8080/"
        },
        "id": "b3j3ZU8DQpGn",
        "outputId": "cdef76e6-208c-4ab6-e719-a12741a9922b"
      },
      "outputs": [],
      "source": []
    },
    {
      "cell_type": "markdown",
      "metadata": {
        "id": "P8KqLBv1Qp5X"
      },
      "source": [
        "**Câu 7**: Thống kê số lượng anime phát hành mỗi năm (tính theo ngày bắt đầu phát hành). Năm nào có nhiều anime phát hành nhất trong bộ dữ liệu."
      ]
    },
    {
      "cell_type": "code",
      "execution_count": null,
      "metadata": {
        "colab": {
          "base_uri": "https://localhost:8080/"
        },
        "id": "SfScTZfxTLri",
        "outputId": "ee3bace3-9fab-4ffb-9427-f2100483331a"
      },
      "outputs": [],
      "source": []
    },
    {
      "cell_type": "markdown",
      "metadata": {
        "id": "02He-T16Tsru"
      },
      "source": [
        "**Câu 8**: Thêm vào dữ liệu cột `decade` là thập kỷ phát hành của anime. Thống kê số lượng anime phát hành theo thập kỷ."
      ]
    },
    {
      "cell_type": "code",
      "execution_count": null,
      "metadata": {
        "colab": {
          "base_uri": "https://localhost:8080/"
        },
        "id": "VEZqiltDUBpV",
        "outputId": "9e1fdec4-3e56-4ceb-be71-f42ee6ffd5a2"
      },
      "outputs": [],
      "source": []
    },
    {
      "cell_type": "code",
      "execution_count": null,
      "metadata": {
        "colab": {
          "base_uri": "https://localhost:8080/",
          "height": 718
        },
        "id": "YaGvsmEnHf-X",
        "outputId": "f42b0314-def5-484e-d659-0d65f9a78748"
      },
      "outputs": [],
      "source": []
    },
    {
      "cell_type": "markdown",
      "metadata": {
        "id": "LF6PokWKUJpx"
      },
      "source": [
        "**Câu 9**: Thêm vào dữ liệu cột `season` để chỉ mùa phát sóng (tính theo ngày bắt đầu phát hành) của anime với:\n",
        "\n",
        "|Ngày phát hành|Season|\n",
        "|---|---|\n",
        "|Từ 01.01 đến 31.03|Winter-Spring|\n",
        "|Từ 01.04 đến 30.06|Spring|\n",
        "|Từ 01.07 đến 30.09|Summer|\n",
        "|Từ 01.10 đến 31.12|Fall|\n",
        "\n",
        "In ra `season` có nhiều bộ anime phát hành nhất.\n"
      ]
    },
    {
      "cell_type": "code",
      "execution_count": null,
      "metadata": {
        "id": "7hHeFhQQVMpp"
      },
      "outputs": [],
      "source": []
    },
    {
      "cell_type": "markdown",
      "metadata": {
        "id": "mOAFnxDTVSuN"
      },
      "source": [
        "**Câu 10**: Lấy ra những anime có `type` là 'TV' và dùng dữ liệu đó để trả lời các câu hỏi sau:\n",
        "1. Có bao nhiêu anime trong bộ dữ liệu đó?\n",
        "2. Anime nào có nhiều tập nhất?\n",
        "3. Có tổng cộng bao nhiêu tập phim?\n",
        "4. Tổng thời gian để xem hết các anime này? (tính theo giờ, theo ngày)\n",
        "5. Thời gian trung bình 1 tập.\n",
        "6. Tính score trung bình từng thập kỷ.\n",
        "7. Tính score trung bình theo từng `seanson` và `source`.\n",
        "8. Tính score trung bình theo từng studio.\n",
        "9. Tính ma trận hệ số tương quan giữa các cột `score`, `duration_min` và `episodes`.\n",
        "10. Thêm cột `aired_duration` là số ngày phát hành. *Gợi ý*: `(end - start) / pd.Timedelta('1 days')`.\n",
        "11. In ra anime có thời gian phát hành lâu nhất.\n",
        "12. In ra hệ số tương quan giữa `score` và `aired_duration`."
      ]
    },
    {
      "cell_type": "code",
      "execution_count": null,
      "metadata": {
        "colab": {
          "base_uri": "https://localhost:8080/"
        },
        "id": "ODat6qOoWf2q",
        "outputId": "9df4a77e-c18f-4924-a76b-cf93704b1b3c"
      },
      "outputs": [],
      "source": []
    },
    {
      "cell_type": "markdown",
      "metadata": {
        "id": "RK6436Bfaior"
      },
      "source": [
        "**Câu 11**: Thực hiện các yêu cầu sau:\n",
        "1. Lấy ra những anime có `type` là 'Movie' và đặt tên là `movie`.\n",
        "2. Xóa các cột `type`, `episodes`, `duration_min`, `start` và `finish` khỏi `movie`."
      ]
    },
    {
      "cell_type": "code",
      "execution_count": null,
      "metadata": {
        "colab": {
          "base_uri": "https://localhost:8080/",
          "height": 545
        },
        "id": "K4qHQLNSa5pX",
        "outputId": "fa8d8b94-02a3-4f4c-d9f3-915369f58e89"
      },
      "outputs": [],
      "source": []
    },
    {
      "cell_type": "markdown",
      "metadata": {
        "id": "PasDsfVKbfrs"
      },
      "source": [
        "Như có thể thấy, `genre` của những anime là một danh sách nhiều thể loại khác nhau. Điều này gây khó khăn cho việc tổng hợp thông tin theo từng `genre`. Vì vậy, phải phân rã cột `genre` sao cho mỗi dòng chỉ chứa 1 `genre` như minh họa:\n",
        "![Explode](https://www.w3resource.com/w3r_images/pandas-dataframe-explode-1.png)"
      ]
    },
    {
      "cell_type": "code",
      "execution_count": null,
      "metadata": {
        "colab": {
          "base_uri": "https://localhost:8080/",
          "height": 423
        },
        "id": "qZm11B8OcWUi",
        "outputId": "4154981e-900f-4886-d217-c1c58da75e95"
      },
      "outputs": [],
      "source": []
    },
    {
      "cell_type": "markdown",
      "metadata": {
        "id": "S8qYWGMPdDOw"
      },
      "source": [
        "**Câu 12**: Thực hiện các yêu cầu sau:\n",
        "1. Thống kê số lượng `genre`.\n",
        "2. In ra điểm trung bình và số lượng anime từng `genre`.\n",
        "3. Thống kê điểm trung bình theo `studio` và `genre`.\n"
      ]
    },
    {
      "cell_type": "code",
      "execution_count": null,
      "metadata": {
        "colab": {
          "base_uri": "https://localhost:8080/"
        },
        "id": "8PTiVuH7ekKk",
        "outputId": "25777e46-a44e-4407-a9f6-6795d64982d5"
      },
      "outputs": [],
      "source": []
    },
    {
      "cell_type": "code",
      "execution_count": null,
      "metadata": {
        "id": "rT4cUN4KQosO"
      },
      "outputs": [],
      "source": []
    }
  ],
  "metadata": {
    "colab": {
      "provenance": []
    },
    "kernelspec": {
      "display_name": "Python 3",
      "name": "python3"
    },
    "language_info": {
      "codemirror_mode": {
        "name": "ipython",
        "version": 3
      },
      "file_extension": ".py",
      "mimetype": "text/x-python",
      "name": "python",
      "nbconvert_exporter": "python",
      "pygments_lexer": "ipython3",
      "version": "3.11.7"
    }
  },
  "nbformat": 4,
  "nbformat_minor": 0
}
