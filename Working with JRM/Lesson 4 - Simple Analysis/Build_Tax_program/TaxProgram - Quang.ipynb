{
 "cells": [
  {
   "cell_type": "markdown",
   "id": "445784bf-5491-41d7-a981-1d3761eff3e7",
   "metadata": {},
   "source": [
    "# Build your fist tax calculation program with Python"
   ]
  },
  {
   "cell_type": "markdown",
   "id": "41045ba4-af74-4999-b5f1-387862b0072c",
   "metadata": {},
   "source": [
    "## Part 1: Understand Problem"
   ]
  },
  {
   "cell_type": "markdown",
   "id": "15753910-14d8-486e-8040-70352e9e0304",
   "metadata": {},
   "source": [
    "You are a junior software developer at a financial company. Your task is to develop a program that \n",
    "calculates an employee's income based on the number of hours worked and hourly rate. The progra \r\n",
    "should also calculate deductions for income tax and superannuation. You will need to create  \r\n",
    "pseudocode and flow chart to show your design process and develop a working program using Pyth  \n",
    "\n",
    "on.\r\n",
    "The case study involves a fictional country where individuals are taxed based on their income. he \r\n",
    "income is determined by multiplying the number of hours worked by the hourly rate. Each individu  is \r\n",
    "taxed (By percentage rate '%'). Students must develop a program that can take in user input for ours \r\n",
    "worked and hourly rate, to calculate the income and then apply the appropriate taxes owed b ed on \r\n",
    "the fixed tax rate (%). The program must also consider any superannuation deductions,  ich is \r\n",
    "percentage rate (%) of the income, checking data type of each input ann in Table 2."
   ]
  },
  {
   "cell_type": "markdown",
   "id": "4ba3ee0c-e4de-4eb4-ae83-7fa0d6f89c04",
   "metadata": {},
   "source": [
    "## Part 2: Instructions"
   ]
  },
  {
   "cell_type": "markdown",
   "id": "2b2ced9c-bee0-4071-9651-be00ba30ed28",
   "metadata": {},
   "source": [
    "1. Develop a pseudocode and flow chart that demonstrates the design process for the program\n",
    "2. Develop a Python program that calculates an employee's income based on the provided data and includes deductions for income tax and superannuation.\n",
    "3. The program should include appropriate comments and be clearly organised into functions and loops."
   ]
  },
  {
   "cell_type": "markdown",
   "id": "29cf419c-373d-4990-b915-f49db6137e39",
   "metadata": {},
   "source": [
    "# Answer"
   ]
  },
  {
   "cell_type": "markdown",
   "id": "9d04ebb7-addd-42f3-8581-c7f5bc00d37b",
   "metadata": {},
   "source": [
    "## Pseudocode"
   ]
  },
  {
   "cell_type": "markdown",
   "id": "709c2945-57fd-4734-b396-9491e66b7b41",
   "metadata": {},
   "source": [
    "**Insert input:**  \n",
    "1. Enter # of hours worked by the workers\n",
    "2. Enter hourly rate\n",
    "\n",
    "\n",
    "**Calculate income**\n",
    "1. income = hours_worked * hourly_rate\n",
    "\n",
    "**Tax_rate and supperannuation_rate**  \n",
    "1. tax_rate = 0.20  \n",
    "2. superannuation_rate = 0.10\n",
    "\n",
    "**Calculate tax_deduction and Superannuation_deduction**  \n",
    "1. Income_tax_deduction = income * tax_rate  \n",
    "2. Superannuation_deduction = income * superannuation_rate\n",
    "\n",
    "**Net Income**\n",
    "1. Net_income = income - (Income_tax_deduction + Superannuation_deduction)\n",
    "\n",
    "\n",
    "**Documentation**\n",
    "1. Display: Net Income\n",
    "2. Display: Income_tax_deduction\n",
    "3. Display: Superannuation_deduction\n",
    "4. Display: hours_worked\n",
    "5. Display: hourly_rate\n",
    "\n"
   ]
  },
  {
   "cell_type": "markdown",
   "id": "1a608276-31b3-477f-8d97-49274a1168d0",
   "metadata": {},
   "source": [
    "## Python code"
   ]
  },
  {
   "cell_type": "code",
   "execution_count": 1,
   "id": "00f7b589-4e27-4543-8be0-5aa8b996876d",
   "metadata": {},
   "outputs": [],
   "source": [
    "def Financial_calculation(hours_worked, hourly_rate):\n",
    "    #calculate income\n",
    "    income = hours_worked * hourly_rate\n",
    "\n",
    "    #tax rate and superannuation_rate\n",
    "    tax_rate = 0.20 #as mentioned for tax rate\n",
    "    superannuation_rate = 0.10 #for superannuation\n",
    "\n",
    "    #Calculate tax_deduction and Superannuation_deduction\n",
    "    Income_tax_deduction = income * tax_rate\n",
    "    Superannuation_deduction = income * superannuation_rate\n",
    "\n",
    "    #Net Income\n",
    "    Net_income = income - (Income_tax_deduction + Superannuation_deduction)\n",
    "\n",
    "    \n",
    "    return income, Income_tax_deduction, Superannuation_deduction, hours_worked, hourly_rate\n",
    "\n",
    "\n",
    "def main():\n",
    "    try:\n",
    "        #n0 of hours worked and hourly rate\n",
    "        hours_worked = float(input(\"Enter your work hours: \"))\n",
    "        hourly_rate = float(input(\"Enter your hourly rate: \"))\n",
    "\n",
    "        #Calculate income, tax and superannuation\n",
    "        Income, Income_tax_deduction, Superannuation_deduction, hours_worked, hourly_rate = Financial_calculation(hours_worked, hourly_rate)\n",
    "       \n",
    "        #Display the results\n",
    "        print(f'Income: {Income}')\n",
    "        print(f'Income Tax Deduction: {Income_tax_deduction}')\n",
    "        print(f'Superannuation deduction: {Superannuation_deduction}')\n",
    "    \n",
    "    except ValueError:\n",
    "        print(\"Value Error. Please enter valid values. \")"
   ]
  },
  {
   "cell_type": "code",
   "execution_count": 32,
   "id": "c4eb5c68-6840-4e8a-90ed-2aa5a6117117",
   "metadata": {},
   "outputs": [
    {
     "name": "stdin",
     "output_type": "stream",
     "text": [
      "Enter your work hours:  40\n",
      "Enter your hourly rate:  25\n"
     ]
    },
    {
     "name": "stdout",
     "output_type": "stream",
     "text": [
      "Income: 1000.0\n",
      "Income Tax Deduction: 200.0\n",
      "Superannuation deduction: 100.0\n"
     ]
    }
   ],
   "source": [
    "main()"
   ]
  }
 ],
 "metadata": {
  "kernelspec": {
   "display_name": "Python 3 (ipykernel)",
   "language": "python",
   "name": "python3"
  },
  "language_info": {
   "codemirror_mode": {
    "name": "ipython",
    "version": 3
   },
   "file_extension": ".py",
   "mimetype": "text/x-python",
   "name": "python",
   "nbconvert_exporter": "python",
   "pygments_lexer": "ipython3",
   "version": "3.12.1"
  }
 },
 "nbformat": 4,
 "nbformat_minor": 5
}
