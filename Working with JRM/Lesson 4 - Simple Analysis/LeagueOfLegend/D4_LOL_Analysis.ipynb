{
 "cells": [
  {
   "cell_type": "markdown",
   "metadata": {
    "id": "tw9URxpylcIK"
   },
   "source": [
    "## Giới thiệu\n",
    "Trong bài thực hành này, chúng ta sẽ thực hành kỹ năng đọc, chuyển đổi kiểu dữ liệu của `DataFrame` (kèm một số kỹ năng khác)."
   ]
  },
  {
   "cell_type": "markdown",
   "metadata": {
    "id": "v1THXEVkl99E"
   },
   "source": [
    "## Dữ liệu\n",
    "Dữ liệu của bài thực hành này được tổng hợp từ [trang wiki](https://leagueoflegends.fandom.com/wiki/League_of_Legends_Wiki) của trò chơi Liên minh Huyền thoại. (*cập nhật ngày 23-12-2020*)\n",
    "\n",
    "Dữ liệu bao gồm các cột:\n",
    "* `champion`: tên của tướng.\n",
    "* `title`: danh hiệu tướng.\n",
    "* `primary`: phân lớp chính.\n",
    "* `secondary`: phân lớp phụ.\n",
    "* `release_date`: ngày ra mắt.\n",
    "* `base_attack`: tấn công cơ bản.\n",
    "* `base_health`: máu cơ bản."
   ]
  },
  {
   "cell_type": "markdown",
   "metadata": {},
   "source": [
    "## Phần 1: Đọc và chuyển đổi dữ liệu\n",
    "Phần này ôn lại cách dùng của:\n",
    "* Hàm `pd.read_csv()`, `pd.to_datetime()` và `pd.to_numeric()`.\n",
    "* Accessor `.str`.\n",
    "* Phương thức `.assign()` của `DataFrame`.\n",
    "* Cùng một số hàm và phương thức khác."
   ]
  },
  {
   "cell_type": "code",
   "execution_count": 1,
   "metadata": {
    "id": "H37SSHgin1qT"
   },
   "outputs": [],
   "source": [
    "import pandas as pd\n",
    "import datetime\n",
    "import numpy as np"
   ]
  },
  {
   "cell_type": "markdown",
   "metadata": {
    "id": "QoY6X8lPnEkS"
   },
   "source": [
    "**Câu 1**: Mở đường dẫn dữ liệu ở trên và xem xét cẩn thận. Sau đó, dùng `pd.read_csv()` với các tham số phù hợp để đọc dữ liệu. Lưu dữ liệu đọc được với tên `data`.\n",
    "\n",
    "*Gợi ý*\n",
    "- Xem documentation của pd.read_csv() tại https://pandas.pydata.org/docs/reference/api/pandas.read_csv.html\n",
    "- Tham số filepath_or_buffer chính là đường dẫn đến file csv.\n",
    "- Tuy nhiên file csv này có lỗi. Để bỏ qua lỗi, tham khảo các tham số có chứa từ \"error\" trong documentation.\n",
    "- Theo mặc định, pd.read_csv() cho rằng các cột của dữ liệu được phân chia bằng dấu \",\". Tên gọi của ký hiệu phân chia cột trong tiếng Anh là delimiter."
   ]
  },
  {
   "cell_type": "code",
   "execution_count": 3,
   "metadata": {
    "colab": {
     "base_uri": "https://localhost:8080/",
     "height": 423
    },
    "id": "GuFimi73lN51",
    "outputId": "1f47389c-c4ad-48ae-eaea-81d9c05afcd8"
   },
   "outputs": [
    {
     "data": {
      "text/html": [
       "<div>\n",
       "<style scoped>\n",
       "    .dataframe tbody tr th:only-of-type {\n",
       "        vertical-align: middle;\n",
       "    }\n",
       "\n",
       "    .dataframe tbody tr th {\n",
       "        vertical-align: top;\n",
       "    }\n",
       "\n",
       "    .dataframe thead th {\n",
       "        text-align: right;\n",
       "    }\n",
       "</style>\n",
       "<table border=\"1\" class=\"dataframe\">\n",
       "  <thead>\n",
       "    <tr style=\"text-align: right;\">\n",
       "      <th></th>\n",
       "      <th>Unnamed: 0</th>\n",
       "      <th>champion</th>\n",
       "      <th>title</th>\n",
       "      <th>primary</th>\n",
       "      <th>secondary</th>\n",
       "      <th>release_date</th>\n",
       "      <th>base_attack</th>\n",
       "      <th>base_health</th>\n",
       "    </tr>\n",
       "  </thead>\n",
       "  <tbody>\n",
       "    <tr>\n",
       "      <th>0</th>\n",
       "      <td>0</td>\n",
       "      <td>Aatrox</td>\n",
       "      <td>the Darkin Blade</td>\n",
       "      <td>Juggernaut</td>\n",
       "      <td>NaN</td>\n",
       "      <td>2013-06-13</td>\n",
       "      <td>60,0</td>\n",
       "      <td>580,0</td>\n",
       "    </tr>\n",
       "    <tr>\n",
       "      <th>1</th>\n",
       "      <td>1</td>\n",
       "      <td>Ahri</td>\n",
       "      <td>the Nine-Tailed Fox</td>\n",
       "      <td>Burst</td>\n",
       "      <td>NaN</td>\n",
       "      <td>2011-12-14</td>\n",
       "      <td>53,04</td>\n",
       "      <td>526,0</td>\n",
       "    </tr>\n",
       "    <tr>\n",
       "      <th>2</th>\n",
       "      <td>2</td>\n",
       "      <td>Akali</td>\n",
       "      <td>the Rogue Assassin</td>\n",
       "      <td>Assassin</td>\n",
       "      <td>NaN</td>\n",
       "      <td>2010-05-11</td>\n",
       "      <td>62,4</td>\n",
       "      <td>575,0</td>\n",
       "    </tr>\n",
       "    <tr>\n",
       "      <th>3</th>\n",
       "      <td>3</td>\n",
       "      <td>Alistar</td>\n",
       "      <td>the Minotaur</td>\n",
       "      <td>Vanguard</td>\n",
       "      <td>NaN</td>\n",
       "      <td>2009-02-21</td>\n",
       "      <td>62,0</td>\n",
       "      <td>600,0</td>\n",
       "    </tr>\n",
       "    <tr>\n",
       "      <th>4</th>\n",
       "      <td>4</td>\n",
       "      <td>Amumu</td>\n",
       "      <td>the Sad Mummy</td>\n",
       "      <td>Vanguard</td>\n",
       "      <td>NaN</td>\n",
       "      <td>2009-06-26</td>\n",
       "      <td>53,38</td>\n",
       "      <td>615,0</td>\n",
       "    </tr>\n",
       "    <tr>\n",
       "      <th>...</th>\n",
       "      <td>...</td>\n",
       "      <td>...</td>\n",
       "      <td>...</td>\n",
       "      <td>...</td>\n",
       "      <td>...</td>\n",
       "      <td>...</td>\n",
       "      <td>...</td>\n",
       "      <td>...</td>\n",
       "    </tr>\n",
       "    <tr>\n",
       "      <th>148</th>\n",
       "      <td>148</td>\n",
       "      <td>Zed</td>\n",
       "      <td>the Master of Shadows</td>\n",
       "      <td>Assassin</td>\n",
       "      <td>NaN</td>\n",
       "      <td>2012-11-13</td>\n",
       "      <td>63,0</td>\n",
       "      <td>584,0</td>\n",
       "    </tr>\n",
       "    <tr>\n",
       "      <th>149</th>\n",
       "      <td>149</td>\n",
       "      <td>Ziggs</td>\n",
       "      <td>the Hexplosives Expert</td>\n",
       "      <td>Artillery</td>\n",
       "      <td>NaN</td>\n",
       "      <td>2012-02-01</td>\n",
       "      <td>54,208</td>\n",
       "      <td>536,0</td>\n",
       "    </tr>\n",
       "    <tr>\n",
       "      <th>150</th>\n",
       "      <td>150</td>\n",
       "      <td>Zilean</td>\n",
       "      <td>the Chronokeeper</td>\n",
       "      <td>Specialist</td>\n",
       "      <td>NaN</td>\n",
       "      <td>2009-04-18</td>\n",
       "      <td>51,64</td>\n",
       "      <td>504,0</td>\n",
       "    </tr>\n",
       "    <tr>\n",
       "      <th>151</th>\n",
       "      <td>151</td>\n",
       "      <td>Zoe</td>\n",
       "      <td>the Aspect of Twilight</td>\n",
       "      <td>Burst</td>\n",
       "      <td>NaN</td>\n",
       "      <td>2017-11-21</td>\n",
       "      <td>58,0</td>\n",
       "      <td>560,0</td>\n",
       "    </tr>\n",
       "    <tr>\n",
       "      <th>152</th>\n",
       "      <td>152</td>\n",
       "      <td>Zyra</td>\n",
       "      <td>Rise of the Thorns</td>\n",
       "      <td>Catcher</td>\n",
       "      <td>NaN</td>\n",
       "      <td>2012-07-24</td>\n",
       "      <td>53,376</td>\n",
       "      <td>504,0</td>\n",
       "    </tr>\n",
       "  </tbody>\n",
       "</table>\n",
       "<p>153 rows × 8 columns</p>\n",
       "</div>"
      ],
      "text/plain": [
       "     Unnamed: 0 champion                   title     primary secondary  \\\n",
       "0             0   Aatrox        the Darkin Blade  Juggernaut       NaN   \n",
       "1             1     Ahri     the Nine-Tailed Fox       Burst       NaN   \n",
       "2             2    Akali      the Rogue Assassin    Assassin       NaN   \n",
       "3             3  Alistar            the Minotaur    Vanguard       NaN   \n",
       "4             4    Amumu           the Sad Mummy    Vanguard       NaN   \n",
       "..          ...      ...                     ...         ...       ...   \n",
       "148         148      Zed   the Master of Shadows    Assassin       NaN   \n",
       "149         149    Ziggs  the Hexplosives Expert   Artillery       NaN   \n",
       "150         150   Zilean        the Chronokeeper  Specialist       NaN   \n",
       "151         151      Zoe  the Aspect of Twilight       Burst       NaN   \n",
       "152         152     Zyra      Rise of the Thorns     Catcher       NaN   \n",
       "\n",
       "    release_date base_attack base_health  \n",
       "0     2013-06-13        60,0       580,0  \n",
       "1     2011-12-14       53,04       526,0  \n",
       "2     2010-05-11        62,4       575,0  \n",
       "3     2009-02-21        62,0       600,0  \n",
       "4     2009-06-26       53,38       615,0  \n",
       "..           ...         ...         ...  \n",
       "148   2012-11-13        63,0       584,0  \n",
       "149   2012-02-01      54,208       536,0  \n",
       "150   2009-04-18       51,64       504,0  \n",
       "151   2017-11-21        58,0       560,0  \n",
       "152   2012-07-24      53,376       504,0  \n",
       "\n",
       "[153 rows x 8 columns]"
      ]
     },
     "execution_count": 3,
     "metadata": {},
     "output_type": "execute_result"
    }
   ],
   "source": [
    "data = pd.read_csv('Faker.csv' ,sep = ';')\n",
    "data"
   ]
  },
  {
   "cell_type": "markdown",
   "metadata": {
    "id": "nyTVbV47oB1m"
   },
   "source": [
    "**Câu 2**: In ra kiểu dữ liệu của các cột trong `data`.\n"
   ]
  },
  {
   "cell_type": "code",
   "execution_count": 4,
   "metadata": {
    "colab": {
     "base_uri": "https://localhost:8080/"
    },
    "id": "Q_kXA8ymoKE4",
    "outputId": "23ee3848-3cda-4ee3-ebf9-c89350c638ea"
   },
   "outputs": [
    {
     "data": {
      "text/plain": [
       "Unnamed: 0       int64\n",
       "champion        object\n",
       "title           object\n",
       "primary         object\n",
       "secondary       object\n",
       "release_date    object\n",
       "base_attack     object\n",
       "base_health     object\n",
       "dtype: object"
      ]
     },
     "execution_count": 4,
     "metadata": {},
     "output_type": "execute_result"
    }
   ],
   "source": [
    "data.dtypes"
   ]
  },
  {
   "cell_type": "markdown",
   "metadata": {
    "id": "mr5slj6JoKwZ"
   },
   "source": [
    "**Câu 3**: Thực hiện chuyển đổi kiểu dữ liệu (nếu cần) cho các cột `release_date`, `base_attack` và `base_health` về kiểu dữ liệu phù hợp."
   ]
  },
  {
   "cell_type": "code",
   "execution_count": 5,
   "metadata": {
    "id": "XCTUuXMVodSI"
   },
   "outputs": [],
   "source": [
    "data = data.assign(\n",
    "    release_date = pd.to_datetime(data.release_date),\n",
    "    base_attack = pd.to_numeric(data.base_attack.str.replace(',','.')),\n",
    "    base_health = pd.to_numeric(data.base_health.str.replace(',','.'))\n",
    ")"
   ]
  },
  {
   "cell_type": "markdown",
   "metadata": {
    "id": "gjjAI21sohwq"
   },
   "source": [
    "**Câu 4**: In lại kiểu dữ liệu của các cột trong `data` để kiểm tra việc chuyển dữ liệu."
   ]
  },
  {
   "cell_type": "code",
   "execution_count": 6,
   "metadata": {
    "colab": {
     "base_uri": "https://localhost:8080/"
    },
    "id": "VmR6JExeozdv",
    "outputId": "79d76479-9e32-42ca-cf88-3362a999322e"
   },
   "outputs": [
    {
     "data": {
      "text/plain": [
       "Unnamed: 0               int64\n",
       "champion                object\n",
       "title                   object\n",
       "primary                 object\n",
       "secondary               object\n",
       "release_date    datetime64[ns]\n",
       "base_attack            float64\n",
       "base_health            float64\n",
       "dtype: object"
      ]
     },
     "execution_count": 6,
     "metadata": {},
     "output_type": "execute_result"
    }
   ],
   "source": [
    "data.dtypes"
   ]
  },
  {
   "cell_type": "markdown",
   "metadata": {
    "id": "ZLCm8fxQp5Zi"
   },
   "source": [
    "## Phần 2: Một số thao tác với `DataFrame`.\n",
    "Phần này ôn lại các thao tác cơ bản trong `DataFrame`."
   ]
  },
  {
   "cell_type": "markdown",
   "metadata": {
    "id": "7yyW_Ruyqh2p"
   },
   "source": [
    "**Câu 5**: In ra số lượng tướng có trong `data`."
   ]
  },
  {
   "cell_type": "code",
   "execution_count": 7,
   "metadata": {
    "colab": {
     "base_uri": "https://localhost:8080/"
    },
    "id": "51WeydMiqFSy",
    "outputId": "3f1504bf-6e0a-45c3-be03-1776f7e1ac0c"
   },
   "outputs": [
    {
     "name": "stdout",
     "output_type": "stream",
     "text": [
      "153\n"
     ]
    }
   ],
   "source": [
    "print(data.shape[0])"
   ]
  },
  {
   "cell_type": "markdown",
   "metadata": {
    "id": "XW7Zw9Bhq3ZA"
   },
   "source": [
    "**Câu 6**: In ra các tướng ra mắt trong năm 2020.\n",
    "\n",
    "*Gợi ý*: có thể dùng accessor `.dt` và thuộc tính `.year` của kiểu thời gian."
   ]
  },
  {
   "cell_type": "code",
   "execution_count": 8,
   "metadata": {
    "colab": {
     "base_uri": "https://localhost:8080/",
     "height": 237
    },
    "id": "JioRCrgorIJo",
    "outputId": "85c9999e-1532-46f9-c950-15a49f62eb80"
   },
   "outputs": [
    {
     "data": {
      "text/html": [
       "<div>\n",
       "<style scoped>\n",
       "    .dataframe tbody tr th:only-of-type {\n",
       "        vertical-align: middle;\n",
       "    }\n",
       "\n",
       "    .dataframe tbody tr th {\n",
       "        vertical-align: top;\n",
       "    }\n",
       "\n",
       "    .dataframe thead th {\n",
       "        text-align: right;\n",
       "    }\n",
       "</style>\n",
       "<table border=\"1\" class=\"dataframe\">\n",
       "  <thead>\n",
       "    <tr style=\"text-align: right;\">\n",
       "      <th></th>\n",
       "      <th>Unnamed: 0</th>\n",
       "      <th>champion</th>\n",
       "      <th>title</th>\n",
       "      <th>primary</th>\n",
       "      <th>secondary</th>\n",
       "      <th>release_date</th>\n",
       "      <th>base_attack</th>\n",
       "      <th>base_health</th>\n",
       "    </tr>\n",
       "  </thead>\n",
       "  <tbody>\n",
       "    <tr>\n",
       "      <th>64</th>\n",
       "      <td>64</td>\n",
       "      <td>Lillia</td>\n",
       "      <td>the Bashful Bloom</td>\n",
       "      <td>Skirmisher</td>\n",
       "      <td>NaN</td>\n",
       "      <td>2020-07-22</td>\n",
       "      <td>61.0</td>\n",
       "      <td>580.0</td>\n",
       "    </tr>\n",
       "    <tr>\n",
       "      <th>94</th>\n",
       "      <td>94</td>\n",
       "      <td>Rell</td>\n",
       "      <td>the Iron Maiden</td>\n",
       "      <td>Vanguard</td>\n",
       "      <td>NaN</td>\n",
       "      <td>2020-12-10</td>\n",
       "      <td>55.0</td>\n",
       "      <td>540.0</td>\n",
       "    </tr>\n",
       "    <tr>\n",
       "      <th>100</th>\n",
       "      <td>100</td>\n",
       "      <td>Samira</td>\n",
       "      <td>the Desert Rose</td>\n",
       "      <td>Marksman</td>\n",
       "      <td>NaN</td>\n",
       "      <td>2020-09-21</td>\n",
       "      <td>57.0</td>\n",
       "      <td>530.0</td>\n",
       "    </tr>\n",
       "    <tr>\n",
       "      <th>103</th>\n",
       "      <td>103</td>\n",
       "      <td>Seraphine</td>\n",
       "      <td>the Starry-Eyed Songstress</td>\n",
       "      <td>Burst</td>\n",
       "      <td>Enchanter</td>\n",
       "      <td>2020-10-29</td>\n",
       "      <td>50.0</td>\n",
       "      <td>500.0</td>\n",
       "    </tr>\n",
       "    <tr>\n",
       "      <th>104</th>\n",
       "      <td>104</td>\n",
       "      <td>Sett</td>\n",
       "      <td>the Boss</td>\n",
       "      <td>Juggernaut</td>\n",
       "      <td>NaN</td>\n",
       "      <td>2020-01-14</td>\n",
       "      <td>60.0</td>\n",
       "      <td>600.0</td>\n",
       "    </tr>\n",
       "    <tr>\n",
       "      <th>144</th>\n",
       "      <td>144</td>\n",
       "      <td>Yone</td>\n",
       "      <td>the Unforgotten</td>\n",
       "      <td>Assassin</td>\n",
       "      <td>Skirmisher</td>\n",
       "      <td>2020-08-06</td>\n",
       "      <td>60.0</td>\n",
       "      <td>550.0</td>\n",
       "    </tr>\n",
       "  </tbody>\n",
       "</table>\n",
       "</div>"
      ],
      "text/plain": [
       "     Unnamed: 0   champion                       title     primary  \\\n",
       "64           64     Lillia           the Bashful Bloom  Skirmisher   \n",
       "94           94       Rell             the Iron Maiden    Vanguard   \n",
       "100         100     Samira             the Desert Rose    Marksman   \n",
       "103         103  Seraphine  the Starry-Eyed Songstress       Burst   \n",
       "104         104       Sett                    the Boss  Juggernaut   \n",
       "144         144       Yone             the Unforgotten    Assassin   \n",
       "\n",
       "      secondary release_date  base_attack  base_health  \n",
       "64          NaN   2020-07-22         61.0        580.0  \n",
       "94          NaN   2020-12-10         55.0        540.0  \n",
       "100         NaN   2020-09-21         57.0        530.0  \n",
       "103   Enchanter   2020-10-29         50.0        500.0  \n",
       "104         NaN   2020-01-14         60.0        600.0  \n",
       "144  Skirmisher   2020-08-06         60.0        550.0  "
      ]
     },
     "execution_count": 8,
     "metadata": {},
     "output_type": "execute_result"
    }
   ],
   "source": [
    "#data[(data['release_date']>'2020-01-01')&(data['release_date']<'2020-12-31')]\n",
    "data[data['release_date'].dt.year == 2020]"
   ]
  },
  {
   "cell_type": "markdown",
   "metadata": {
    "id": "sQni6HPRrfff"
   },
   "source": [
    "**Câu 7**: In ra ngày ra mắt của các tướng có phân lớp chính là `'Marksman'`."
   ]
  },
  {
   "cell_type": "code",
   "execution_count": 9,
   "metadata": {
    "colab": {
     "base_uri": "https://localhost:8080/",
     "height": 81
    },
    "id": "eRuDnmRjrxX_",
    "outputId": "182debb3-a82a-4900-c526-8948fd1525c8"
   },
   "outputs": [
    {
     "data": {
      "text/html": [
       "<div>\n",
       "<style scoped>\n",
       "    .dataframe tbody tr th:only-of-type {\n",
       "        vertical-align: middle;\n",
       "    }\n",
       "\n",
       "    .dataframe tbody tr th {\n",
       "        vertical-align: top;\n",
       "    }\n",
       "\n",
       "    .dataframe thead th {\n",
       "        text-align: right;\n",
       "    }\n",
       "</style>\n",
       "<table border=\"1\" class=\"dataframe\">\n",
       "  <thead>\n",
       "    <tr style=\"text-align: right;\">\n",
       "      <th></th>\n",
       "      <th>Unnamed: 0</th>\n",
       "      <th>champion</th>\n",
       "      <th>title</th>\n",
       "      <th>primary</th>\n",
       "      <th>secondary</th>\n",
       "      <th>release_date</th>\n",
       "      <th>base_attack</th>\n",
       "      <th>base_health</th>\n",
       "    </tr>\n",
       "  </thead>\n",
       "  <tbody>\n",
       "    <tr>\n",
       "      <th>102</th>\n",
       "      <td>102</td>\n",
       "      <td>Senna</td>\n",
       "      <td>the Redeemer</td>\n",
       "      <td>Marksman</td>\n",
       "      <td>Enchanter</td>\n",
       "      <td>2019-11-10</td>\n",
       "      <td>50.0</td>\n",
       "      <td>520.0</td>\n",
       "    </tr>\n",
       "  </tbody>\n",
       "</table>\n",
       "</div>"
      ],
      "text/plain": [
       "     Unnamed: 0 champion         title   primary  secondary release_date  \\\n",
       "102         102    Senna  the Redeemer  Marksman  Enchanter   2019-11-10   \n",
       "\n",
       "     base_attack  base_health  \n",
       "102         50.0        520.0  "
      ]
     },
     "execution_count": 9,
     "metadata": {},
     "output_type": "execute_result"
    }
   ],
   "source": [
    "data[(data.primary == 'Marksman') & (data.secondary == 'Enchanter')]"
   ]
  },
  {
   "cell_type": "markdown",
   "metadata": {
    "id": "kg9juPGSr0hf"
   },
   "source": [
    "**Câu 8**: In ra những tướng có tên bắt đầu bằng chữ `'N'`.\n",
    "\n",
    "*Gợi ý*: dùng `.str.startswith()`.\n"
   ]
  },
  {
   "cell_type": "code",
   "execution_count": 10,
   "metadata": {
    "colab": {
     "base_uri": "https://localhost:8080/",
     "height": 269
    },
    "id": "_LqRLqohsow0",
    "outputId": "6278ad4f-b2b9-470f-acc0-afcfd1642664"
   },
   "outputs": [
    {
     "data": {
      "text/html": [
       "<div>\n",
       "<style scoped>\n",
       "    .dataframe tbody tr th:only-of-type {\n",
       "        vertical-align: middle;\n",
       "    }\n",
       "\n",
       "    .dataframe tbody tr th {\n",
       "        vertical-align: top;\n",
       "    }\n",
       "\n",
       "    .dataframe thead th {\n",
       "        text-align: right;\n",
       "    }\n",
       "</style>\n",
       "<table border=\"1\" class=\"dataframe\">\n",
       "  <thead>\n",
       "    <tr style=\"text-align: right;\">\n",
       "      <th></th>\n",
       "      <th>Unnamed: 0</th>\n",
       "      <th>champion</th>\n",
       "      <th>title</th>\n",
       "      <th>primary</th>\n",
       "      <th>secondary</th>\n",
       "      <th>release_date</th>\n",
       "      <th>base_attack</th>\n",
       "      <th>base_health</th>\n",
       "    </tr>\n",
       "  </thead>\n",
       "  <tbody>\n",
       "    <tr>\n",
       "      <th>76</th>\n",
       "      <td>76</td>\n",
       "      <td>Nami</td>\n",
       "      <td>the Tidecaller</td>\n",
       "      <td>Enchanter</td>\n",
       "      <td>NaN</td>\n",
       "      <td>2012-12-07</td>\n",
       "      <td>51.208</td>\n",
       "      <td>475.00</td>\n",
       "    </tr>\n",
       "    <tr>\n",
       "      <th>77</th>\n",
       "      <td>77</td>\n",
       "      <td>Nasus</td>\n",
       "      <td>the Curator of the Sands</td>\n",
       "      <td>Juggernaut</td>\n",
       "      <td>NaN</td>\n",
       "      <td>2009-10-01</td>\n",
       "      <td>67.000</td>\n",
       "      <td>561.20</td>\n",
       "    </tr>\n",
       "    <tr>\n",
       "      <th>78</th>\n",
       "      <td>78</td>\n",
       "      <td>Nautilus</td>\n",
       "      <td>the Titan of the Depths</td>\n",
       "      <td>Vanguard</td>\n",
       "      <td>NaN</td>\n",
       "      <td>2012-02-14</td>\n",
       "      <td>61.000</td>\n",
       "      <td>576.48</td>\n",
       "    </tr>\n",
       "    <tr>\n",
       "      <th>79</th>\n",
       "      <td>79</td>\n",
       "      <td>Neeko</td>\n",
       "      <td>the Curious Chameleon</td>\n",
       "      <td>Burst</td>\n",
       "      <td>Catcher</td>\n",
       "      <td>2018-12-05</td>\n",
       "      <td>48.000</td>\n",
       "      <td>540.00</td>\n",
       "    </tr>\n",
       "    <tr>\n",
       "      <th>80</th>\n",
       "      <td>80</td>\n",
       "      <td>Nidalee</td>\n",
       "      <td>the Bestial Huntress</td>\n",
       "      <td>Specialist</td>\n",
       "      <td>NaN</td>\n",
       "      <td>2009-12-17</td>\n",
       "      <td>58.000</td>\n",
       "      <td>545.00</td>\n",
       "    </tr>\n",
       "    <tr>\n",
       "      <th>81</th>\n",
       "      <td>81</td>\n",
       "      <td>Nocturne</td>\n",
       "      <td>the Eternal Nightmare</td>\n",
       "      <td>Assassin</td>\n",
       "      <td>NaN</td>\n",
       "      <td>2011-03-15</td>\n",
       "      <td>62.000</td>\n",
       "      <td>585.00</td>\n",
       "    </tr>\n",
       "    <tr>\n",
       "      <th>82</th>\n",
       "      <td>82</td>\n",
       "      <td>Nunu &amp; Willump</td>\n",
       "      <td>the Boy and His Yeti</td>\n",
       "      <td>Vanguard</td>\n",
       "      <td>NaN</td>\n",
       "      <td>2009-02-21</td>\n",
       "      <td>61.000</td>\n",
       "      <td>570.00</td>\n",
       "    </tr>\n",
       "  </tbody>\n",
       "</table>\n",
       "</div>"
      ],
      "text/plain": [
       "    Unnamed: 0        champion                     title     primary  \\\n",
       "76          76            Nami            the Tidecaller   Enchanter   \n",
       "77          77           Nasus  the Curator of the Sands  Juggernaut   \n",
       "78          78        Nautilus   the Titan of the Depths    Vanguard   \n",
       "79          79           Neeko     the Curious Chameleon       Burst   \n",
       "80          80         Nidalee      the Bestial Huntress  Specialist   \n",
       "81          81        Nocturne     the Eternal Nightmare    Assassin   \n",
       "82          82  Nunu & Willump      the Boy and His Yeti    Vanguard   \n",
       "\n",
       "   secondary release_date  base_attack  base_health  \n",
       "76       NaN   2012-12-07       51.208       475.00  \n",
       "77       NaN   2009-10-01       67.000       561.20  \n",
       "78       NaN   2012-02-14       61.000       576.48  \n",
       "79   Catcher   2018-12-05       48.000       540.00  \n",
       "80       NaN   2009-12-17       58.000       545.00  \n",
       "81       NaN   2011-03-15       62.000       585.00  \n",
       "82       NaN   2009-02-21       61.000       570.00  "
      ]
     },
     "execution_count": 10,
     "metadata": {},
     "output_type": "execute_result"
    }
   ],
   "source": [
    "data[\n",
    "     data.champion.str.startswith('N')\n",
    "]"
   ]
  },
  {
   "cell_type": "markdown",
   "metadata": {
    "id": "wBtT7n74syVv"
   },
   "source": [
    "**Câu 9**: In ra những tướng có dấu nháy đơn `'` trong tên.\n",
    "\n",
    "*Gợi ý*: dùng `.str.find()`."
   ]
  },
  {
   "cell_type": "code",
   "execution_count": 1,
   "metadata": {
    "colab": {
     "base_uri": "https://localhost:8080/",
     "height": 237
    },
    "id": "jSPWNjH1tyo2",
    "outputId": "0dbb2210-3c09-4ae9-a240-2cc7f63e14b2"
   },
   "outputs": [
    {
     "ename": "NameError",
     "evalue": "name 'data' is not defined",
     "output_type": "error",
     "traceback": [
      "\u001b[1;31m---------------------------------------------------------------------------\u001b[0m",
      "\u001b[1;31mNameError\u001b[0m                                 Traceback (most recent call last)",
      "Cell \u001b[1;32mIn[1], line 1\u001b[0m\n\u001b[1;32m----> 1\u001b[0m \u001b[43mdata\u001b[49m[data\u001b[38;5;241m.\u001b[39mchampion\u001b[38;5;241m.\u001b[39mstr\u001b[38;5;241m.\u001b[39mfind(\u001b[38;5;124m\"\u001b[39m\u001b[38;5;124m'\u001b[39m\u001b[38;5;124m\"\u001b[39m) \u001b[38;5;241m!=\u001b[39m \u001b[38;5;241m-\u001b[39m\u001b[38;5;241m1\u001b[39m]\n",
      "\u001b[1;31mNameError\u001b[0m: name 'data' is not defined"
     ]
    }
   ],
   "source": [
    "data[data.champion.str.find(\"'\") != -1]"
   ]
  },
  {
   "cell_type": "markdown",
   "metadata": {
    "id": "KXO7F6owtLNJ"
   },
   "source": [
    "**Câu 10**: In ra những tướng không có từ `'the'` trong danh hiệu."
   ]
  },
  {
   "cell_type": "code",
   "execution_count": 12,
   "metadata": {
    "colab": {
     "base_uri": "https://localhost:8080/",
     "height": 175
    },
    "id": "DSQUkc8ttUEG",
    "outputId": "dc41e89e-3200-44f5-e5b5-3920733fa9cd"
   },
   "outputs": [
    {
     "data": {
      "text/html": [
       "<div>\n",
       "<style scoped>\n",
       "    .dataframe tbody tr th:only-of-type {\n",
       "        vertical-align: middle;\n",
       "    }\n",
       "\n",
       "    .dataframe tbody tr th {\n",
       "        vertical-align: top;\n",
       "    }\n",
       "\n",
       "    .dataframe thead th {\n",
       "        text-align: right;\n",
       "    }\n",
       "</style>\n",
       "<table border=\"1\" class=\"dataframe\">\n",
       "  <thead>\n",
       "    <tr style=\"text-align: right;\">\n",
       "      <th></th>\n",
       "      <th>Unnamed: 0</th>\n",
       "      <th>champion</th>\n",
       "      <th>title</th>\n",
       "      <th>primary</th>\n",
       "      <th>secondary</th>\n",
       "      <th>release_date</th>\n",
       "      <th>base_attack</th>\n",
       "      <th>base_health</th>\n",
       "    </tr>\n",
       "  </thead>\n",
       "  <tbody>\n",
       "    <tr>\n",
       "      <th>26</th>\n",
       "      <td>26</td>\n",
       "      <td>Evelynn</td>\n",
       "      <td>Agony's Embrace</td>\n",
       "      <td>Assassin</td>\n",
       "      <td>NaN</td>\n",
       "      <td>2009-05-01</td>\n",
       "      <td>61.0</td>\n",
       "      <td>572.0</td>\n",
       "    </tr>\n",
       "    <tr>\n",
       "      <th>44</th>\n",
       "      <td>44</td>\n",
       "      <td>Jax</td>\n",
       "      <td>Grandmaster at Arms</td>\n",
       "      <td>Skirmisher</td>\n",
       "      <td>NaN</td>\n",
       "      <td>2009-02-21</td>\n",
       "      <td>68.0</td>\n",
       "      <td>592.8</td>\n",
       "    </tr>\n",
       "    <tr>\n",
       "      <th>90</th>\n",
       "      <td>90</td>\n",
       "      <td>Quinn</td>\n",
       "      <td>Demacia's Wings</td>\n",
       "      <td>Specialist</td>\n",
       "      <td>NaN</td>\n",
       "      <td>2013-03-01</td>\n",
       "      <td>59.0</td>\n",
       "      <td>532.8</td>\n",
       "    </tr>\n",
       "    <tr>\n",
       "      <th>145</th>\n",
       "      <td>145</td>\n",
       "      <td>Yorick</td>\n",
       "      <td>Shepherd of Souls</td>\n",
       "      <td>Juggernaut</td>\n",
       "      <td>NaN</td>\n",
       "      <td>2011-06-22</td>\n",
       "      <td>62.0</td>\n",
       "      <td>580.0</td>\n",
       "    </tr>\n",
       "  </tbody>\n",
       "</table>\n",
       "</div>"
      ],
      "text/plain": [
       "     Unnamed: 0 champion                title     primary secondary  \\\n",
       "26           26  Evelynn      Agony's Embrace    Assassin       NaN   \n",
       "44           44      Jax  Grandmaster at Arms  Skirmisher       NaN   \n",
       "90           90    Quinn      Demacia's Wings  Specialist       NaN   \n",
       "145         145   Yorick    Shepherd of Souls  Juggernaut       NaN   \n",
       "\n",
       "    release_date  base_attack  base_health  \n",
       "26    2009-05-01         61.0        572.0  \n",
       "44    2009-02-21         68.0        592.8  \n",
       "90    2013-03-01         59.0        532.8  \n",
       "145   2011-06-22         62.0        580.0  "
      ]
     },
     "execution_count": 12,
     "metadata": {},
     "output_type": "execute_result"
    }
   ],
   "source": [
    "data[\n",
    "     data.title.str.find('the') == -1\n",
    "]"
   ]
  },
  {
   "cell_type": "markdown",
   "metadata": {
    "id": "GzEDPo58tXJm"
   },
   "source": [
    "**Câu 11**: Lấy ra những tướng có cùng phân loại chính với **Yasuo**."
   ]
  },
  {
   "cell_type": "code",
   "execution_count": 13,
   "metadata": {
    "colab": {
     "base_uri": "https://localhost:8080/",
     "height": 300
    },
    "id": "K6p40DxItlHA",
    "outputId": "24c6c77b-7f86-4ffd-8a1b-bb80c4bbfa57"
   },
   "outputs": [
    {
     "data": {
      "text/html": [
       "<div>\n",
       "<style scoped>\n",
       "    .dataframe tbody tr th:only-of-type {\n",
       "        vertical-align: middle;\n",
       "    }\n",
       "\n",
       "    .dataframe tbody tr th {\n",
       "        vertical-align: top;\n",
       "    }\n",
       "\n",
       "    .dataframe thead th {\n",
       "        text-align: right;\n",
       "    }\n",
       "</style>\n",
       "<table border=\"1\" class=\"dataframe\">\n",
       "  <thead>\n",
       "    <tr style=\"text-align: right;\">\n",
       "      <th></th>\n",
       "      <th>Unnamed: 0</th>\n",
       "      <th>champion</th>\n",
       "      <th>title</th>\n",
       "      <th>primary</th>\n",
       "      <th>secondary</th>\n",
       "      <th>release_date</th>\n",
       "      <th>base_attack</th>\n",
       "      <th>base_health</th>\n",
       "    </tr>\n",
       "  </thead>\n",
       "  <tbody>\n",
       "    <tr>\n",
       "      <th>29</th>\n",
       "      <td>29</td>\n",
       "      <td>Fiora</td>\n",
       "      <td>the Grand Duelist</td>\n",
       "      <td>Skirmisher</td>\n",
       "      <td>NaN</td>\n",
       "      <td>2012-02-29</td>\n",
       "      <td>68.0</td>\n",
       "      <td>550.00</td>\n",
       "    </tr>\n",
       "    <tr>\n",
       "      <th>44</th>\n",
       "      <td>44</td>\n",
       "      <td>Jax</td>\n",
       "      <td>Grandmaster at Arms</td>\n",
       "      <td>Skirmisher</td>\n",
       "      <td>NaN</td>\n",
       "      <td>2009-02-21</td>\n",
       "      <td>68.0</td>\n",
       "      <td>592.80</td>\n",
       "    </tr>\n",
       "    <tr>\n",
       "      <th>55</th>\n",
       "      <td>55</td>\n",
       "      <td>Kayn</td>\n",
       "      <td>the Shadow Reaper</td>\n",
       "      <td>Skirmisher</td>\n",
       "      <td>NaN</td>\n",
       "      <td>2017-07-12</td>\n",
       "      <td>68.0</td>\n",
       "      <td>585.00</td>\n",
       "    </tr>\n",
       "    <tr>\n",
       "      <th>64</th>\n",
       "      <td>64</td>\n",
       "      <td>Lillia</td>\n",
       "      <td>the Bashful Bloom</td>\n",
       "      <td>Skirmisher</td>\n",
       "      <td>NaN</td>\n",
       "      <td>2020-07-22</td>\n",
       "      <td>61.0</td>\n",
       "      <td>580.00</td>\n",
       "    </tr>\n",
       "    <tr>\n",
       "      <th>72</th>\n",
       "      <td>72</td>\n",
       "      <td>Master Yi</td>\n",
       "      <td>the Wuju Bladesman</td>\n",
       "      <td>Skirmisher</td>\n",
       "      <td>NaN</td>\n",
       "      <td>2009-02-21</td>\n",
       "      <td>66.0</td>\n",
       "      <td>598.56</td>\n",
       "    </tr>\n",
       "    <tr>\n",
       "      <th>97</th>\n",
       "      <td>97</td>\n",
       "      <td>Riven</td>\n",
       "      <td>the Exile</td>\n",
       "      <td>Skirmisher</td>\n",
       "      <td>NaN</td>\n",
       "      <td>2011-09-14</td>\n",
       "      <td>64.0</td>\n",
       "      <td>560.00</td>\n",
       "    </tr>\n",
       "    <tr>\n",
       "      <th>125</th>\n",
       "      <td>125</td>\n",
       "      <td>Tryndamere</td>\n",
       "      <td>the Barbarian King</td>\n",
       "      <td>Skirmisher</td>\n",
       "      <td>NaN</td>\n",
       "      <td>2009-05-01</td>\n",
       "      <td>69.0</td>\n",
       "      <td>625.64</td>\n",
       "    </tr>\n",
       "    <tr>\n",
       "      <th>143</th>\n",
       "      <td>143</td>\n",
       "      <td>Yasuo</td>\n",
       "      <td>the Unforgiven</td>\n",
       "      <td>Skirmisher</td>\n",
       "      <td>NaN</td>\n",
       "      <td>2013-12-13</td>\n",
       "      <td>60.0</td>\n",
       "      <td>490.00</td>\n",
       "    </tr>\n",
       "  </tbody>\n",
       "</table>\n",
       "</div>"
      ],
      "text/plain": [
       "     Unnamed: 0    champion                title     primary secondary  \\\n",
       "29           29       Fiora    the Grand Duelist  Skirmisher       NaN   \n",
       "44           44         Jax  Grandmaster at Arms  Skirmisher       NaN   \n",
       "55           55        Kayn    the Shadow Reaper  Skirmisher       NaN   \n",
       "64           64      Lillia    the Bashful Bloom  Skirmisher       NaN   \n",
       "72           72   Master Yi   the Wuju Bladesman  Skirmisher       NaN   \n",
       "97           97       Riven            the Exile  Skirmisher       NaN   \n",
       "125         125  Tryndamere   the Barbarian King  Skirmisher       NaN   \n",
       "143         143       Yasuo       the Unforgiven  Skirmisher       NaN   \n",
       "\n",
       "    release_date  base_attack  base_health  \n",
       "29    2012-02-29         68.0       550.00  \n",
       "44    2009-02-21         68.0       592.80  \n",
       "55    2017-07-12         68.0       585.00  \n",
       "64    2020-07-22         61.0       580.00  \n",
       "72    2009-02-21         66.0       598.56  \n",
       "97    2011-09-14         64.0       560.00  \n",
       "125   2009-05-01         69.0       625.64  \n",
       "143   2013-12-13         60.0       490.00  "
      ]
     },
     "execution_count": 13,
     "metadata": {},
     "output_type": "execute_result"
    }
   ],
   "source": [
    "phan_loai = data[data['champion'] == 'Yasuo']\n",
    "phan_loai_Yasuo = phan_loai.primary.array[0]\n",
    "#data[data.primary.str.find(phan_loai_Yasuo) != -1]\n",
    "data[data['primary'] == phan_loai_Yasuo]"
   ]
  },
  {
   "cell_type": "markdown",
   "metadata": {
    "id": "92t_adSHtoko"
   },
   "source": [
    "**Câu 12**: Lấy ra tướng `'Assassin'` mới nhất được ra mắt."
   ]
  },
  {
   "cell_type": "code",
   "execution_count": 14,
   "metadata": {
    "colab": {
     "base_uri": "https://localhost:8080/"
    },
    "id": "p_iDVjg_uJSh",
    "outputId": "32ac488a-cf5a-46c9-9d67-1fb9d79dfbca"
   },
   "outputs": [
    {
     "data": {
      "text/plain": [
       "Unnamed: 0                      144\n",
       "champion                       Yone\n",
       "title               the Unforgotten\n",
       "primary                    Assassin\n",
       "secondary                Skirmisher\n",
       "release_date    2020-08-06 00:00:00\n",
       "base_attack                    60.0\n",
       "base_health                   550.0\n",
       "Name: 144, dtype: object"
      ]
     },
     "execution_count": 14,
     "metadata": {},
     "output_type": "execute_result"
    }
   ],
   "source": [
    "new_assassin = data[data.primary =='Assassin']\n",
    "new_assassin.sort_values(by = 'release_date').iloc[-1]"
   ]
  },
  {
   "cell_type": "markdown",
   "metadata": {
    "id": "ts_D4MO_uLM_"
   },
   "source": [
    "**Câu 13**: Có bao nhiêu phân loại chính?\n",
    "\n",
    "*Gợi ý*: dùng phương thức `.nunique()`."
   ]
  },
  {
   "cell_type": "code",
   "execution_count": 15,
   "metadata": {
    "colab": {
     "base_uri": "https://localhost:8080/"
    },
    "id": "fvm5ACazumxa",
    "outputId": "7af2ff52-bdc7-44e3-8bdf-c021cf194fa0"
   },
   "outputs": [
    {
     "data": {
      "text/plain": [
       "13"
      ]
     },
     "execution_count": 15,
     "metadata": {},
     "output_type": "execute_result"
    }
   ],
   "source": [
    "data.primary.nunique()"
   ]
  },
  {
   "cell_type": "markdown",
   "metadata": {
    "id": "w8vPA98Wunr2"
   },
   "source": [
    "**Câu 14**: Có bao nhiêu tướng có phân loại phụ?\n",
    "\n",
    "*Gợi ý*: dùng phương thức `.count()`"
   ]
  },
  {
   "cell_type": "code",
   "execution_count": 16,
   "metadata": {
    "colab": {
     "base_uri": "https://localhost:8080/"
    },
    "id": "0hkB6USruuI-",
    "outputId": "a18f80ed-ae76-4444-cdc6-91f70aa39886"
   },
   "outputs": [
    {
     "data": {
      "text/plain": [
       "13"
      ]
     },
     "execution_count": 16,
     "metadata": {},
     "output_type": "execute_result"
    }
   ],
   "source": [
    "data.secondary.count()"
   ]
  },
  {
   "cell_type": "markdown",
   "metadata": {
    "id": "1KeKqbYIvSLo"
   },
   "source": [
    "**Câu 15**: Sắp xếp `data` theo `base_attack` tăng dần."
   ]
  },
  {
   "cell_type": "code",
   "execution_count": 17,
   "metadata": {
    "colab": {
     "base_uri": "https://localhost:8080/",
     "height": 423
    },
    "id": "gKHNEf4zw738",
    "outputId": "9cb2ce82-9a75-4c01-8455-b3069d8581f6"
   },
   "outputs": [
    {
     "data": {
      "text/html": [
       "<div>\n",
       "<style scoped>\n",
       "    .dataframe tbody tr th:only-of-type {\n",
       "        vertical-align: middle;\n",
       "    }\n",
       "\n",
       "    .dataframe tbody tr th {\n",
       "        vertical-align: top;\n",
       "    }\n",
       "\n",
       "    .dataframe thead th {\n",
       "        text-align: right;\n",
       "    }\n",
       "</style>\n",
       "<table border=\"1\" class=\"dataframe\">\n",
       "  <thead>\n",
       "    <tr style=\"text-align: right;\">\n",
       "      <th></th>\n",
       "      <th>Unnamed: 0</th>\n",
       "      <th>champion</th>\n",
       "      <th>title</th>\n",
       "      <th>primary</th>\n",
       "      <th>secondary</th>\n",
       "      <th>release_date</th>\n",
       "      <th>base_attack</th>\n",
       "      <th>base_health</th>\n",
       "    </tr>\n",
       "  </thead>\n",
       "  <tbody>\n",
       "    <tr>\n",
       "      <th>84</th>\n",
       "      <td>84</td>\n",
       "      <td>Orianna</td>\n",
       "      <td>the Lady of Clockwork</td>\n",
       "      <td>Burst</td>\n",
       "      <td>NaN</td>\n",
       "      <td>2011-06-01</td>\n",
       "      <td>40.368</td>\n",
       "      <td>530.00</td>\n",
       "    </tr>\n",
       "    <tr>\n",
       "      <th>51</th>\n",
       "      <td>51</td>\n",
       "      <td>Karthus</td>\n",
       "      <td>the Deathsinger</td>\n",
       "      <td>Battlemage</td>\n",
       "      <td>NaN</td>\n",
       "      <td>2009-06-12</td>\n",
       "      <td>45.660</td>\n",
       "      <td>550.00</td>\n",
       "    </tr>\n",
       "    <tr>\n",
       "      <th>42</th>\n",
       "      <td>42</td>\n",
       "      <td>Janna</td>\n",
       "      <td>the Storm's Fury</td>\n",
       "      <td>Enchanter</td>\n",
       "      <td>NaN</td>\n",
       "      <td>2009-09-02</td>\n",
       "      <td>46.000</td>\n",
       "      <td>500.00</td>\n",
       "    </tr>\n",
       "    <tr>\n",
       "      <th>67</th>\n",
       "      <td>67</td>\n",
       "      <td>Lulu</td>\n",
       "      <td>the Fae Sorceress</td>\n",
       "      <td>Enchanter</td>\n",
       "      <td>NaN</td>\n",
       "      <td>2012-03-20</td>\n",
       "      <td>47.000</td>\n",
       "      <td>525.00</td>\n",
       "    </tr>\n",
       "    <tr>\n",
       "      <th>56</th>\n",
       "      <td>56</td>\n",
       "      <td>Kennen</td>\n",
       "      <td>the Heart of the Tempest</td>\n",
       "      <td>Specialist</td>\n",
       "      <td>NaN</td>\n",
       "      <td>2010-04-08</td>\n",
       "      <td>48.000</td>\n",
       "      <td>541.00</td>\n",
       "    </tr>\n",
       "    <tr>\n",
       "      <th>...</th>\n",
       "      <td>...</td>\n",
       "      <td>...</td>\n",
       "      <td>...</td>\n",
       "      <td>...</td>\n",
       "      <td>...</td>\n",
       "      <td>...</td>\n",
       "      <td>...</td>\n",
       "      <td>...</td>\n",
       "    </tr>\n",
       "    <tr>\n",
       "      <th>18</th>\n",
       "      <td>18</td>\n",
       "      <td>Cho'Gath</td>\n",
       "      <td>the Terror of the Void</td>\n",
       "      <td>Specialist</td>\n",
       "      <td>NaN</td>\n",
       "      <td>2009-06-26</td>\n",
       "      <td>69.000</td>\n",
       "      <td>574.40</td>\n",
       "    </tr>\n",
       "    <tr>\n",
       "      <th>49</th>\n",
       "      <td>49</td>\n",
       "      <td>Kalista</td>\n",
       "      <td>the Spear of Vengeance</td>\n",
       "      <td>Marksman</td>\n",
       "      <td>NaN</td>\n",
       "      <td>2014-11-20</td>\n",
       "      <td>69.000</td>\n",
       "      <td>534.00</td>\n",
       "    </tr>\n",
       "    <tr>\n",
       "      <th>125</th>\n",
       "      <td>125</td>\n",
       "      <td>Tryndamere</td>\n",
       "      <td>the Barbarian King</td>\n",
       "      <td>Skirmisher</td>\n",
       "      <td>NaN</td>\n",
       "      <td>2009-05-01</td>\n",
       "      <td>69.000</td>\n",
       "      <td>625.64</td>\n",
       "    </tr>\n",
       "    <tr>\n",
       "      <th>95</th>\n",
       "      <td>95</td>\n",
       "      <td>Renekton</td>\n",
       "      <td>the Butcher of the Sands</td>\n",
       "      <td>Diver</td>\n",
       "      <td>NaN</td>\n",
       "      <td>2011-01-18</td>\n",
       "      <td>69.000</td>\n",
       "      <td>575.00</td>\n",
       "    </tr>\n",
       "    <tr>\n",
       "      <th>62</th>\n",
       "      <td>62</td>\n",
       "      <td>Lee Sin</td>\n",
       "      <td>the Blind Monk</td>\n",
       "      <td>Diver</td>\n",
       "      <td>NaN</td>\n",
       "      <td>2011-04-01</td>\n",
       "      <td>70.000</td>\n",
       "      <td>575.00</td>\n",
       "    </tr>\n",
       "  </tbody>\n",
       "</table>\n",
       "<p>153 rows × 8 columns</p>\n",
       "</div>"
      ],
      "text/plain": [
       "     Unnamed: 0    champion                     title     primary secondary  \\\n",
       "84           84     Orianna     the Lady of Clockwork       Burst       NaN   \n",
       "51           51     Karthus           the Deathsinger  Battlemage       NaN   \n",
       "42           42       Janna          the Storm's Fury   Enchanter       NaN   \n",
       "67           67        Lulu         the Fae Sorceress   Enchanter       NaN   \n",
       "56           56      Kennen  the Heart of the Tempest  Specialist       NaN   \n",
       "..          ...         ...                       ...         ...       ...   \n",
       "18           18    Cho'Gath    the Terror of the Void  Specialist       NaN   \n",
       "49           49     Kalista    the Spear of Vengeance    Marksman       NaN   \n",
       "125         125  Tryndamere        the Barbarian King  Skirmisher       NaN   \n",
       "95           95    Renekton  the Butcher of the Sands       Diver       NaN   \n",
       "62           62     Lee Sin            the Blind Monk       Diver       NaN   \n",
       "\n",
       "    release_date  base_attack  base_health  \n",
       "84    2011-06-01       40.368       530.00  \n",
       "51    2009-06-12       45.660       550.00  \n",
       "42    2009-09-02       46.000       500.00  \n",
       "67    2012-03-20       47.000       525.00  \n",
       "56    2010-04-08       48.000       541.00  \n",
       "..           ...          ...          ...  \n",
       "18    2009-06-26       69.000       574.40  \n",
       "49    2014-11-20       69.000       534.00  \n",
       "125   2009-05-01       69.000       625.64  \n",
       "95    2011-01-18       69.000       575.00  \n",
       "62    2011-04-01       70.000       575.00  \n",
       "\n",
       "[153 rows x 8 columns]"
      ]
     },
     "execution_count": 17,
     "metadata": {},
     "output_type": "execute_result"
    }
   ],
   "source": [
    "data.sort_values(by = 'base_attack')"
   ]
  },
  {
   "cell_type": "markdown",
   "metadata": {
    "id": "qVAsZk3gw7cG"
   },
   "source": [
    "**Câu 16**: In ra những tướng có `base_health` lớn hơn 600."
   ]
  },
  {
   "cell_type": "code",
   "execution_count": 18,
   "metadata": {
    "colab": {
     "base_uri": "https://localhost:8080/",
     "height": 363
    },
    "id": "r_sxO5PlvQQg",
    "outputId": "8a3460a5-7ca4-4c93-896a-2e11dd731c66"
   },
   "outputs": [
    {
     "data": {
      "text/html": [
       "<div>\n",
       "<style scoped>\n",
       "    .dataframe tbody tr th:only-of-type {\n",
       "        vertical-align: middle;\n",
       "    }\n",
       "\n",
       "    .dataframe tbody tr th {\n",
       "        vertical-align: top;\n",
       "    }\n",
       "\n",
       "    .dataframe thead th {\n",
       "        text-align: right;\n",
       "    }\n",
       "</style>\n",
       "<table border=\"1\" class=\"dataframe\">\n",
       "  <thead>\n",
       "    <tr style=\"text-align: right;\">\n",
       "      <th></th>\n",
       "      <th>Unnamed: 0</th>\n",
       "      <th>champion</th>\n",
       "      <th>title</th>\n",
       "      <th>primary</th>\n",
       "      <th>secondary</th>\n",
       "      <th>release_date</th>\n",
       "      <th>base_attack</th>\n",
       "      <th>base_health</th>\n",
       "    </tr>\n",
       "  </thead>\n",
       "  <tbody>\n",
       "    <tr>\n",
       "      <th>4</th>\n",
       "      <td>4</td>\n",
       "      <td>Amumu</td>\n",
       "      <td>the Sad Mummy</td>\n",
       "      <td>Vanguard</td>\n",
       "      <td>NaN</td>\n",
       "      <td>2009-06-26</td>\n",
       "      <td>53.38</td>\n",
       "      <td>615.00</td>\n",
       "    </tr>\n",
       "    <tr>\n",
       "      <th>23</th>\n",
       "      <td>23</td>\n",
       "      <td>Draven</td>\n",
       "      <td>the Glorious Executioner</td>\n",
       "      <td>Marksman</td>\n",
       "      <td>NaN</td>\n",
       "      <td>2012-06-06</td>\n",
       "      <td>60.00</td>\n",
       "      <td>605.00</td>\n",
       "    </tr>\n",
       "    <tr>\n",
       "      <th>33</th>\n",
       "      <td>33</td>\n",
       "      <td>Garen</td>\n",
       "      <td>the Might of Demacia</td>\n",
       "      <td>Juggernaut</td>\n",
       "      <td>NaN</td>\n",
       "      <td>2010-04-27</td>\n",
       "      <td>66.00</td>\n",
       "      <td>620.00</td>\n",
       "    </tr>\n",
       "    <tr>\n",
       "      <th>47</th>\n",
       "      <td>47</td>\n",
       "      <td>Jinx</td>\n",
       "      <td>the Loose Cannon</td>\n",
       "      <td>Marksman</td>\n",
       "      <td>NaN</td>\n",
       "      <td>2013-10-10</td>\n",
       "      <td>57.00</td>\n",
       "      <td>610.00</td>\n",
       "    </tr>\n",
       "    <tr>\n",
       "      <th>53</th>\n",
       "      <td>53</td>\n",
       "      <td>Katarina</td>\n",
       "      <td>the Sinister Blade</td>\n",
       "      <td>Assassin</td>\n",
       "      <td>NaN</td>\n",
       "      <td>2009-09-19</td>\n",
       "      <td>58.00</td>\n",
       "      <td>602.00</td>\n",
       "    </tr>\n",
       "    <tr>\n",
       "      <th>111</th>\n",
       "      <td>111</td>\n",
       "      <td>Skarner</td>\n",
       "      <td>the Crystal Vanguard</td>\n",
       "      <td>Diver</td>\n",
       "      <td>NaN</td>\n",
       "      <td>2011-08-09</td>\n",
       "      <td>65.00</td>\n",
       "      <td>601.28</td>\n",
       "    </tr>\n",
       "    <tr>\n",
       "      <th>124</th>\n",
       "      <td>124</td>\n",
       "      <td>Trundle</td>\n",
       "      <td>the Troll King</td>\n",
       "      <td>Juggernaut</td>\n",
       "      <td>NaN</td>\n",
       "      <td>2010-12-01</td>\n",
       "      <td>68.00</td>\n",
       "      <td>616.00</td>\n",
       "    </tr>\n",
       "    <tr>\n",
       "      <th>125</th>\n",
       "      <td>125</td>\n",
       "      <td>Tryndamere</td>\n",
       "      <td>the Barbarian King</td>\n",
       "      <td>Skirmisher</td>\n",
       "      <td>NaN</td>\n",
       "      <td>2009-05-01</td>\n",
       "      <td>69.00</td>\n",
       "      <td>625.64</td>\n",
       "    </tr>\n",
       "    <tr>\n",
       "      <th>127</th>\n",
       "      <td>127</td>\n",
       "      <td>Twitch</td>\n",
       "      <td>the Plague Rat</td>\n",
       "      <td>Marksman</td>\n",
       "      <td>NaN</td>\n",
       "      <td>2009-05-01</td>\n",
       "      <td>59.00</td>\n",
       "      <td>612.00</td>\n",
       "    </tr>\n",
       "    <tr>\n",
       "      <th>147</th>\n",
       "      <td>147</td>\n",
       "      <td>Zac</td>\n",
       "      <td>the Secret Weapon</td>\n",
       "      <td>Vanguard</td>\n",
       "      <td>NaN</td>\n",
       "      <td>2013-03-29</td>\n",
       "      <td>60.00</td>\n",
       "      <td>615.00</td>\n",
       "    </tr>\n",
       "  </tbody>\n",
       "</table>\n",
       "</div>"
      ],
      "text/plain": [
       "     Unnamed: 0    champion                     title     primary secondary  \\\n",
       "4             4       Amumu             the Sad Mummy    Vanguard       NaN   \n",
       "23           23      Draven  the Glorious Executioner    Marksman       NaN   \n",
       "33           33       Garen      the Might of Demacia  Juggernaut       NaN   \n",
       "47           47        Jinx          the Loose Cannon    Marksman       NaN   \n",
       "53           53    Katarina        the Sinister Blade    Assassin       NaN   \n",
       "111         111     Skarner      the Crystal Vanguard       Diver       NaN   \n",
       "124         124     Trundle            the Troll King  Juggernaut       NaN   \n",
       "125         125  Tryndamere        the Barbarian King  Skirmisher       NaN   \n",
       "127         127      Twitch            the Plague Rat    Marksman       NaN   \n",
       "147         147         Zac         the Secret Weapon    Vanguard       NaN   \n",
       "\n",
       "    release_date  base_attack  base_health  \n",
       "4     2009-06-26        53.38       615.00  \n",
       "23    2012-06-06        60.00       605.00  \n",
       "33    2010-04-27        66.00       620.00  \n",
       "47    2013-10-10        57.00       610.00  \n",
       "53    2009-09-19        58.00       602.00  \n",
       "111   2011-08-09        65.00       601.28  \n",
       "124   2010-12-01        68.00       616.00  \n",
       "125   2009-05-01        69.00       625.64  \n",
       "127   2009-05-01        59.00       612.00  \n",
       "147   2013-03-29        60.00       615.00  "
      ]
     },
     "execution_count": 18,
     "metadata": {},
     "output_type": "execute_result"
    }
   ],
   "source": [
    "data[data.base_health > 600]"
   ]
  },
  {
   "cell_type": "markdown",
   "metadata": {
    "id": "YwADU43VvcN3"
   },
   "source": [
    "**Câu 17**: In ra tướng có `base_health` lớn nhất của phân lớp chính `'Juggernaut'`."
   ]
  },
  {
   "cell_type": "code",
   "execution_count": 19,
   "metadata": {
    "colab": {
     "base_uri": "https://localhost:8080/",
     "height": 35
    },
    "id": "3GkpvZSnvbXs",
    "outputId": "8d2b028e-5cd4-4f8f-c8ab-9972a0b8f2bb"
   },
   "outputs": [
    {
     "data": {
      "text/plain": [
       "'Garen'"
      ]
     },
     "execution_count": 19,
     "metadata": {},
     "output_type": "execute_result"
    }
   ],
   "source": [
    "jug = data[data.primary.str.find('Juggernaut') != -1]\n",
    "jug.sort_values(by = 'base_health').iloc[-1].champion"
   ]
  },
  {
   "cell_type": "markdown",
   "metadata": {
    "id": "hlAqJwpJv4Ju"
   },
   "source": [
    "**Câu 18**: In ra tướng có `base_attack` thấp nhất của phân lớp chính `'Marksman'`."
   ]
  },
  {
   "cell_type": "code",
   "execution_count": 20,
   "metadata": {
    "colab": {
     "base_uri": "https://localhost:8080/",
     "height": 35
    },
    "id": "vVivRNTtwRqB",
    "outputId": "0076680b-359e-466d-a433-edc31cbde3ac"
   },
   "outputs": [
    {
     "data": {
      "text/plain": [
       "'Senna'"
      ]
     },
     "execution_count": 20,
     "metadata": {},
     "output_type": "execute_result"
    }
   ],
   "source": [
    "mar = data[data.primary.str.find('Marksman') != -1]\n",
    "mar.sort_values(by = 'base_attack').iloc[0].champion"
   ]
  },
  {
   "cell_type": "markdown",
   "metadata": {
    "id": "jqmQKle_wRQm"
   },
   "source": [
    "**Câu 19**: In ra `base_attack` và `base_health` trung bình của các tướng thuộc phân lớp chính `'Skirmisher'`."
   ]
  },
  {
   "cell_type": "code",
   "execution_count": 21,
   "metadata": {
    "colab": {
     "base_uri": "https://localhost:8080/"
    },
    "id": "MTrjxfQGwrYd",
    "outputId": "b1800069-4d5e-4088-f2d6-39ef706c2171"
   },
   "outputs": [
    {
     "name": "stdout",
     "output_type": "stream",
     "text": [
      "65.5\n",
      "572.75\n"
     ]
    }
   ],
   "source": [
    "skr = data[data.primary.str.find('Skirmisher') != -1]\n",
    "print(skr.base_attack.mean())\n",
    "print(skr.base_health.mean())"
   ]
  },
  {
   "cell_type": "markdown",
   "metadata": {
    "id": "KUHKF8PVu4g-"
   },
   "source": [
    "**Câu 20**: Đổi kiểu dữ liệu cột `primary` và `secondary` sang kiểu `'category'`.\n",
    "\n",
    "*Gợi ý*: dùng `.astype('category')` và `.assign()`."
   ]
  },
  {
   "cell_type": "code",
   "execution_count": 22,
   "metadata": {
    "colab": {
     "base_uri": "https://localhost:8080/"
    },
    "id": "ZIwhGD2NxJh4",
    "outputId": "c7b6d159-1158-40f5-ec36-7e790c819fd2"
   },
   "outputs": [
    {
     "data": {
      "text/plain": [
       "Unnamed: 0               int64\n",
       "champion                object\n",
       "title                   object\n",
       "primary               category\n",
       "secondary             category\n",
       "release_date    datetime64[ns]\n",
       "base_attack            float64\n",
       "base_health            float64\n",
       "dtype: object"
      ]
     },
     "execution_count": 22,
     "metadata": {},
     "output_type": "execute_result"
    }
   ],
   "source": [
    "data = data.assign(\n",
    "     primary = data.primary.astype('category'),\n",
    "     secondary = data.secondary.astype('category')\n",
    ")\n",
    "data.dtypes"
   ]
  }
 ],
 "metadata": {
  "colab": {
   "provenance": []
  },
  "kernelspec": {
   "display_name": "Python 3 (ipykernel)",
   "language": "python",
   "name": "python3"
  },
  "language_info": {
   "codemirror_mode": {
    "name": "ipython",
    "version": 3
   },
   "file_extension": ".py",
   "mimetype": "text/x-python",
   "name": "python",
   "nbconvert_exporter": "python",
   "pygments_lexer": "ipython3",
   "version": "3.12.1"
  }
 },
 "nbformat": 4,
 "nbformat_minor": 4
}
