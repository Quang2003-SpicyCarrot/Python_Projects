{
 "cells": [
  {
   "cell_type": "code",
   "execution_count": null,
   "id": "99ff33a0-3844-44b0-95c5-da726c71be94",
   "metadata": {},
   "outputs": [],
   "source": [
    "Key_Api = '4a5dc06e'"
   ]
  }
 ],
 "metadata": {
  "kernelspec": {
   "display_name": "Python 3 (ipykernel)",
   "language": "python",
   "name": "python3"
  },
  "language_info": {
   "codemirror_mode": {
    "name": "ipython",
    "version": 3
   },
   "file_extension": ".py",
   "mimetype": "text/x-python",
   "name": "python",
   "nbconvert_exporter": "python",
   "pygments_lexer": "ipython3",
   "version": "3.12.1"
  }
 },
 "nbformat": 4,
 "nbformat_minor": 5
}
