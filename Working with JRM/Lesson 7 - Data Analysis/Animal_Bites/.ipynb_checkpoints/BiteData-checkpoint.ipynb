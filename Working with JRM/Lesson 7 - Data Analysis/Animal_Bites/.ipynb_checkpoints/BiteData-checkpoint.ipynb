{
 "cells": [
  {
   "cell_type": "markdown",
   "metadata": {},
   "source": [
    "performed by: Quang Dong Nguyen\n",
    "provided by: Jung Talents"
   ]
  },
  {
   "cell_type": "markdown",
   "metadata": {
    "id": "fvtbaA2niEii"
   },
   "source": [
    "# REVIEW YOUR KNOWLEDGE OF PYHTON SYNTAX"
   ]
  },
  {
   "cell_type": "markdown",
   "metadata": {
    "id": "pR40c38yiEiq"
   },
   "source": [
    "#### Vietnamese: \n",
    "Dữ liệu bài này được lấy từ https://www.kaggle.com/rtatman/animal-bites\n",
    "\n",
    "Thông tin các cột:\n",
    "- bite_date: Ngày nạn nhân bị cắn\n",
    "- SpeciesIDDesc: Loài của con vật gây vết cắn (ví dụ chó, mèo, ...)\n",
    "- BreedIDDesc: Giống nếu có (ví dụ giống PIT BULL của loài chó)\n",
    "- GenderIDDesc: Giới tính của con vật\n",
    "- color: Màu sắc con vật\n",
    "- vaccination_yrs: Số năm kể từ lần cuối con vật được tiêm ngừa\n",
    "- vaccination_date: Lần cuối con vật được tiêm ngừa\n",
    "- victim_zip: Mã zipcode của nạn nhân\n",
    "- AdvIssuedYNDesc: Nạn nhân có nhận được lời khuyên từ bác sĩ\n",
    "- WhereBittenIDDesc: Vị trí bị cắn\n",
    "- quarantine_date: Ngày con vật bị nhốt lại nếu có\n",
    "- DispositionIDDesc: Hành động của nhà chức trách với con vật\n",
    "- head_sent_date: Ngày con vật được đưa đến phòng nghiên cứu để kiểm tra bệnh dại nếu có\n",
    "- release_date: Ngày con vật được thả ra nếu có\n",
    "- ResultsIDDesc: Kết quả kiểm tra bệnh dại nếu có\n",
    "\n",
    "#### English\n",
    "Data for this article is taken from https://www.kaggle.com/rtatman/animal-bites\n",
    "\n",
    "Column information:\n",
    "- bite_date: Date the victim was bitten\n",
    "- SpeciesIDDesc: Species of the animal causing the bite (eg dog, cat, ...)\n",
    "- BreedIDDesc: Breed if any (eg PIT BULL dog breed)\n",
    "- GenderIDDesc: Gender of the animal\n",
    "- color: Color of the animal\n",
    "- vaccination_yrs: Number of years since the animal was last vaccinated\n",
    "- vaccination_date: The last time the animal was vaccinated\n",
    "- victim_zip: Victim's zipcode\n",
    "- AdvIssuedYNDesc: Did the victim receive advice from a doctor\n",
    "- WhereBittenIDDesc: Location of being bitten\n",
    "- quarantine_date: The date the animal was confined, if any\n",
    "- DispositionIDDesc: Action of the authorities with the animal\n",
    "- head_sent_date: Date the animal was brought to the research room to be tested for rabies, if any\n",
    "- release_date: Date the animal was released, if any\n",
    "- ResultsIDDesc: Rabies test results, if any"
   ]
  },
  {
   "cell_type": "markdown",
   "metadata": {
    "id": "qyIWY0tqiEis"
   },
   "source": [
    "#### Vietnamese\n",
    "*Câu 1*\n",
    "\n",
    "a) Đọc file Health_animalBites.csv và lưu vào biến `bites`.\n",
    "\n",
    "b) Thực hiện các chuyển đổi dữ liệu cần thiết. Để xử lý lỗi, tìm hiểu tham số errors. Đặt lại tham số errors thành chuỗi ký tự thích hợp để chuyển các giá trị lỗi về NaT. https://pandas.pydata.org/docs/reference/api/pandas.to_datetime.html\n",
    "\n",
    "#### English\n",
    "*Question 1*\n",
    "\n",
    "a) Read the file Health_animalBites.csv and save it to the variable `bites`.\n",
    "\n",
    "b) Perform necessary data conversions. To handle errors, look at the errors parameter. Reset the errors parameter to the appropriate character string to convert error values to NaT. https://pandas.pydata.org/docs/reference/api/pandas.to_datetime.html"
   ]
  },
  {
   "cell_type": "code",
   "execution_count": 147,
   "metadata": {},
   "outputs": [],
   "source": [
    "import pandas as pd"
   ]
  },
  {
   "cell_type": "code",
   "execution_count": 148,
   "metadata": {
    "vscode": {
     "languageId": "plaintext"
    }
   },
   "outputs": [
    {
     "name": "stdout",
     "output_type": "stream",
     "text": [
      "<class 'pandas.core.frame.DataFrame'>\n",
      "RangeIndex: 9003 entries, 0 to 9002\n",
      "Data columns (total 15 columns):\n",
      " #   Column             Non-Null Count  Dtype         \n",
      "---  ------             --------------  -----         \n",
      " 0   bite_date          8685 non-null   datetime64[ns]\n",
      " 1   SpeciesIDDesc      8885 non-null   object        \n",
      " 2   BreedIDDesc        3759 non-null   object        \n",
      " 3   GenderIDDesc       6477 non-null   object        \n",
      " 4   color              6426 non-null   object        \n",
      " 5   vaccination_yrs    3738 non-null   float64       \n",
      " 6   vaccination_date   4115 non-null   datetime64[ns]\n",
      " 7   victim_zip         7165 non-null   object        \n",
      " 8   AdvIssuedYNDesc    2565 non-null   object        \n",
      " 9   WhereBittenIDDesc  8387 non-null   object        \n",
      " 10  quarantine_date    2020 non-null   datetime64[ns]\n",
      " 11  DispositionIDDesc  1535 non-null   object        \n",
      " 12  head_sent_date     395 non-null    datetime64[ns]\n",
      " 13  release_date       1445 non-null   datetime64[ns]\n",
      " 14  ResultsIDDesc      1543 non-null   object        \n",
      "dtypes: datetime64[ns](5), float64(1), object(9)\n",
      "memory usage: 1.0+ MB\n"
     ]
    }
   ],
   "source": [
    "bites = pd.read_csv(\"Data_Bites.csv\")\n",
    "bites['bite_date'] = pd.to_datetime(bites['bite_date'], errors = 'coerce') # invalid parsing will be set as NaT\n",
    "bites['vaccination_date'] = pd.to_datetime(bites['vaccination_date'], errors = 'coerce')\n",
    "bites['quarantine_date'] = pd.to_datetime(bites['quarantine_date'], errors = 'coerce')\n",
    "bites['head_sent_date'] = pd.to_datetime(bites['head_sent_date'], errors = 'coerce')\n",
    "bites['release_date'] = pd.to_datetime(bites['release_date'], errors = 'coerce')\n",
    "bites.info()"
   ]
  },
  {
   "cell_type": "markdown",
   "metadata": {
    "id": "EBoauZRViEix"
   },
   "source": [
    "#### Vietnamese\n",
    "*Câu 2*\n",
    "\n",
    "a) Lọc ra các dòng từ DataFrame `bites` không có giá trị NaN ở các cột SpeciesIDDesc và BreedIDDesc và lưu vào biến mới là `species`.\n",
    "\n",
    "b) Trong DataFrame `species` có những loài nào? Mỗi loài có bao nhiêu giống?\n",
    "\n",
    "#### English\n",
    "*Question 2*\n",
    "\n",
    "a) Filter out lines from the DataFrame `bites` that do not have NaN values in the SpeciesIDDesc and BreedIDDesc columns and store them in a new variable `species`.\n",
    "\n",
    "b) What species are in the DataFrame `species`? How many varieties are there for each species?"
   ]
  },
  {
   "cell_type": "code",
   "execution_count": 149,
   "metadata": {},
   "outputs": [
    {
     "data": {
      "text/plain": [
       "{'BAT',\n",
       " 'CAT',\n",
       " 'DOG',\n",
       " 'FERRET',\n",
       " 'HORSE',\n",
       " 'OTHER',\n",
       " 'RABBIT',\n",
       " 'RACCOON',\n",
       " 'SKUNK',\n",
       " nan}"
      ]
     },
     "execution_count": 149,
     "metadata": {},
     "output_type": "execute_result"
    }
   ],
   "source": [
    "set(bites['SpeciesIDDesc'])"
   ]
  },
  {
   "cell_type": "code",
   "execution_count": 150,
   "metadata": {
    "vscode": {
     "languageId": "plaintext"
    }
   },
   "outputs": [
    {
     "data": {
      "text/plain": [
       "SpeciesIDDesc\n",
       "CAT      2\n",
       "DOG    101\n",
       "Name: BreedIDDesc, dtype: int64"
      ]
     },
     "execution_count": 150,
     "metadata": {},
     "output_type": "execute_result"
    }
   ],
   "source": [
    "species = bites.loc[bites['SpeciesIDDesc'].notna() & bites['BreedIDDesc'].notna()]\n",
    "set(species['SpeciesIDDesc']) #there are two, which are Cat and Dog.\n",
    "species.groupby(['SpeciesIDDesc'])['BreedIDDesc'].nunique() #There are 101 types of Dogs and only 2 types of catsty."
   ]
  },
  {
   "cell_type": "markdown",
   "metadata": {
    "id": "RmQWBmuaiEi0"
   },
   "source": [
    "#### Vietnamese\n",
    "*Câu 3*\n",
    "\n",
    "a) Trong DataFrame `species`, giống chó nào là phổ biến nhất?\n",
    "\n",
    "b) Trong những con chó có màu đen, giống chó nào là phổ biến nhất?\n",
    "\n",
    "#### English\n",
    "*Question 3*\n",
    "\n",
    "a) In the `species` DataFrame, which dog breed is the most popular?\n",
    "\n",
    "b) Among black dogs, which breed is the most popular?"
   ]
  },
  {
   "cell_type": "code",
   "execution_count": 151,
   "metadata": {
    "vscode": {
     "languageId": "plaintext"
    }
   },
   "outputs": [
    {
     "data": {
      "text/html": [
       "<div>\n",
       "<style scoped>\n",
       "    .dataframe tbody tr th:only-of-type {\n",
       "        vertical-align: middle;\n",
       "    }\n",
       "\n",
       "    .dataframe tbody tr th {\n",
       "        vertical-align: top;\n",
       "    }\n",
       "\n",
       "    .dataframe thead th {\n",
       "        text-align: right;\n",
       "    }\n",
       "</style>\n",
       "<table border=\"1\" class=\"dataframe\">\n",
       "  <thead>\n",
       "    <tr style=\"text-align: right;\">\n",
       "      <th></th>\n",
       "      <th>SpeciesIDDesc</th>\n",
       "      <th>BreedIDDesc</th>\n",
       "      <th>count</th>\n",
       "    </tr>\n",
       "  </thead>\n",
       "  <tbody>\n",
       "    <tr>\n",
       "      <th>0</th>\n",
       "      <td>DOG</td>\n",
       "      <td>PIT BULL</td>\n",
       "      <td>1101</td>\n",
       "    </tr>\n",
       "    <tr>\n",
       "      <th>1</th>\n",
       "      <td>DOG</td>\n",
       "      <td>GERM SHEPHERD</td>\n",
       "      <td>327</td>\n",
       "    </tr>\n",
       "    <tr>\n",
       "      <th>2</th>\n",
       "      <td>DOG</td>\n",
       "      <td>LABRADOR RETRIV</td>\n",
       "      <td>253</td>\n",
       "    </tr>\n",
       "  </tbody>\n",
       "</table>\n",
       "</div>"
      ],
      "text/plain": [
       "  SpeciesIDDesc      BreedIDDesc  count\n",
       "0           DOG         PIT BULL   1101\n",
       "1           DOG    GERM SHEPHERD    327\n",
       "2           DOG  LABRADOR RETRIV    253"
      ]
     },
     "execution_count": 151,
     "metadata": {},
     "output_type": "execute_result"
    }
   ],
   "source": [
    "#Question 3 - a:\n",
    "species.groupby(['SpeciesIDDesc','BreedIDDesc'])['BreedIDDesc'].count().sort_values(ascending = False).reset_index(name = 'count').head(3)\n",
    "#Among dog breeds, Pit Bull is the most popular dog type"
   ]
  },
  {
   "cell_type": "code",
   "execution_count": 152,
   "metadata": {},
   "outputs": [
    {
     "data": {
      "text/html": [
       "<div>\n",
       "<style scoped>\n",
       "    .dataframe tbody tr th:only-of-type {\n",
       "        vertical-align: middle;\n",
       "    }\n",
       "\n",
       "    .dataframe tbody tr th {\n",
       "        vertical-align: top;\n",
       "    }\n",
       "\n",
       "    .dataframe thead th {\n",
       "        text-align: right;\n",
       "    }\n",
       "</style>\n",
       "<table border=\"1\" class=\"dataframe\">\n",
       "  <thead>\n",
       "    <tr style=\"text-align: right;\">\n",
       "      <th></th>\n",
       "      <th>SpeciesIDDesc</th>\n",
       "      <th>BreedIDDesc</th>\n",
       "      <th>count</th>\n",
       "    </tr>\n",
       "  </thead>\n",
       "  <tbody>\n",
       "    <tr>\n",
       "      <th>0</th>\n",
       "      <td>DOG</td>\n",
       "      <td>LABRADOR RETRIV</td>\n",
       "      <td>76</td>\n",
       "    </tr>\n",
       "  </tbody>\n",
       "</table>\n",
       "</div>"
      ],
      "text/plain": [
       "  SpeciesIDDesc      BreedIDDesc  count\n",
       "0           DOG  LABRADOR RETRIV     76"
      ]
     },
     "execution_count": 152,
     "metadata": {},
     "output_type": "execute_result"
    }
   ],
   "source": [
    "black_dog_sp = species.loc[(species['SpeciesIDDesc'] == 'DOG') & (species['color'] == 'BLACK')]\n",
    "black_dog_sp.groupby(['SpeciesIDDesc', 'BreedIDDesc'])['BreedIDDesc'].count().sort_values(ascending = False).reset_index(name = 'count').head(1)\n",
    "#Labrador Retriever is the most popular one among black dogs."
   ]
  },
  {
   "cell_type": "markdown",
   "metadata": {
    "id": "1e4QIzVUiEi2"
   },
   "source": [
    "#### Vietnamese\n",
    "*Câu 4*\n",
    "\n",
    "a) Trở lại với DataFrame `bites`, trong năm 2015 có bao nhiêu vụ cắn người đã được ghi nhận?\n",
    "\n",
    "b) Trong số các vụ cắn này, in thông tin những vụ __không__ được xác nhận là gây ra bởi chó hoặc mèo.\n",
    "\n",
    "*Question 4*\n",
    "\n",
    "a) Returning to the `bites` DataFrame, how many human bites were recorded in 2015?\n",
    "\n",
    "b) Of these bites, print information about those that are __not__ confirmed to have been caused by dogs or cats."
   ]
  },
  {
   "cell_type": "code",
   "execution_count": 153,
   "metadata": {
    "vscode": {
     "languageId": "plaintext"
    }
   },
   "outputs": [
    {
     "data": {
      "text/html": [
       "<div>\n",
       "<style scoped>\n",
       "    .dataframe tbody tr th:only-of-type {\n",
       "        vertical-align: middle;\n",
       "    }\n",
       "\n",
       "    .dataframe tbody tr th {\n",
       "        vertical-align: top;\n",
       "    }\n",
       "\n",
       "    .dataframe thead th {\n",
       "        text-align: right;\n",
       "    }\n",
       "</style>\n",
       "<table border=\"1\" class=\"dataframe\">\n",
       "  <thead>\n",
       "    <tr style=\"text-align: right;\">\n",
       "      <th></th>\n",
       "      <th>year_bitten</th>\n",
       "      <th>bite count</th>\n",
       "    </tr>\n",
       "  </thead>\n",
       "  <tbody>\n",
       "    <tr>\n",
       "      <th>0</th>\n",
       "      <td>2015.0</td>\n",
       "      <td>985</td>\n",
       "    </tr>\n",
       "  </tbody>\n",
       "</table>\n",
       "</div>"
      ],
      "text/plain": [
       "   year_bitten  bite count\n",
       "0       2015.0         985"
      ]
     },
     "execution_count": 153,
     "metadata": {},
     "output_type": "execute_result"
    }
   ],
   "source": [
    "bites['year_bitten'] = bites['bite_date'].dt.year\n",
    "bites.loc[bites['year_bitten'] == 2015].groupby(['year_bitten'])['year_bitten'].count().reset_index(name = 'bite count')"
   ]
  },
  {
   "cell_type": "markdown",
   "metadata": {
    "id": "wQn3RGgOiEi4"
   },
   "source": [
    "#### Vietnamese\n",
    "*Câu 5*\n",
    "\n",
    "a) Liệt kê các vị trí cắn trong data, không tính giá trị NaN và UNKNOWN.\n",
    "\n",
    "b) Loài vật nào __không__ được ghi nhận đã cắn vào đầu nạn nhân?\n",
    "\n",
    "Gợi ý:\n",
    "\n",
    "Cách 1: Dùng `~` để đảo giá trị True False và hàm `isin()`.\n",
    "\n",
    "Cách 2: Dùng `set`. Set trong Python có thể trừ nhau để lọc các giá trị khác biệt.\n",
    "\n",
    "#### English\n",
    "*Question 5*\n",
    "\n",
    "a) List bite locations in the data, excluding NaN and UNKNOWN values.\n",
    "\n",
    "b) Which animal __wasn't recorded biting a victim on the head?\n",
    "\n",
    "Suggest:\n",
    "\n",
    "Method 1: Use `~` to invert the True False value and the `isin()` function.\n",
    "\n",
    "Method 2: Use `set`. Sets in Python can be subtracted from each other to filter out distinct values.\n"
   ]
  },
  {
   "cell_type": "code",
   "execution_count": 176,
   "metadata": {
    "vscode": {
     "languageId": "plaintext"
    }
   },
   "outputs": [
    {
     "data": {
      "text/html": [
       "<div>\n",
       "<style scoped>\n",
       "    .dataframe tbody tr th:only-of-type {\n",
       "        vertical-align: middle;\n",
       "    }\n",
       "\n",
       "    .dataframe tbody tr th {\n",
       "        vertical-align: top;\n",
       "    }\n",
       "\n",
       "    .dataframe thead th {\n",
       "        text-align: right;\n",
       "    }\n",
       "</style>\n",
       "<table border=\"1\" class=\"dataframe\">\n",
       "  <thead>\n",
       "    <tr style=\"text-align: right;\">\n",
       "      <th></th>\n",
       "      <th>bite_date</th>\n",
       "      <th>SpeciesIDDesc</th>\n",
       "      <th>BreedIDDesc</th>\n",
       "      <th>GenderIDDesc</th>\n",
       "      <th>color</th>\n",
       "      <th>vaccination_yrs</th>\n",
       "      <th>vaccination_date</th>\n",
       "      <th>victim_zip</th>\n",
       "      <th>AdvIssuedYNDesc</th>\n",
       "      <th>WhereBittenIDDesc</th>\n",
       "      <th>quarantine_date</th>\n",
       "      <th>DispositionIDDesc</th>\n",
       "      <th>head_sent_date</th>\n",
       "      <th>release_date</th>\n",
       "      <th>ResultsIDDesc</th>\n",
       "      <th>year_bitten</th>\n",
       "    </tr>\n",
       "  </thead>\n",
       "  <tbody>\n",
       "    <tr>\n",
       "      <th>0</th>\n",
       "      <td>1985-05-05</td>\n",
       "      <td>DOG</td>\n",
       "      <td>NaN</td>\n",
       "      <td>FEMALE</td>\n",
       "      <td>LIG. BROWN</td>\n",
       "      <td>1.0</td>\n",
       "      <td>1985-06-20</td>\n",
       "      <td>40229</td>\n",
       "      <td>NO</td>\n",
       "      <td>BODY</td>\n",
       "      <td>1985-05-05</td>\n",
       "      <td>UNKNOWN</td>\n",
       "      <td>NaT</td>\n",
       "      <td>NaT</td>\n",
       "      <td>UNKNOWN</td>\n",
       "      <td>1985.0</td>\n",
       "    </tr>\n",
       "    <tr>\n",
       "      <th>1</th>\n",
       "      <td>1986-02-12</td>\n",
       "      <td>DOG</td>\n",
       "      <td>NaN</td>\n",
       "      <td>UNKNOWN</td>\n",
       "      <td>BRO &amp; BLA</td>\n",
       "      <td>NaN</td>\n",
       "      <td>NaT</td>\n",
       "      <td>40218</td>\n",
       "      <td>NO</td>\n",
       "      <td>BODY</td>\n",
       "      <td>1986-02-12</td>\n",
       "      <td>UNKNOWN</td>\n",
       "      <td>NaT</td>\n",
       "      <td>NaT</td>\n",
       "      <td>UNKNOWN</td>\n",
       "      <td>1986.0</td>\n",
       "    </tr>\n",
       "    <tr>\n",
       "      <th>2</th>\n",
       "      <td>1987-05-07</td>\n",
       "      <td>DOG</td>\n",
       "      <td>NaN</td>\n",
       "      <td>UNKNOWN</td>\n",
       "      <td>NaN</td>\n",
       "      <td>NaN</td>\n",
       "      <td>NaT</td>\n",
       "      <td>40219</td>\n",
       "      <td>NO</td>\n",
       "      <td>BODY</td>\n",
       "      <td>1990-05-07</td>\n",
       "      <td>UNKNOWN</td>\n",
       "      <td>NaT</td>\n",
       "      <td>NaT</td>\n",
       "      <td>UNKNOWN</td>\n",
       "      <td>1987.0</td>\n",
       "    </tr>\n",
       "    <tr>\n",
       "      <th>3</th>\n",
       "      <td>1988-10-02</td>\n",
       "      <td>DOG</td>\n",
       "      <td>NaN</td>\n",
       "      <td>MALE</td>\n",
       "      <td>BLA &amp; BRO</td>\n",
       "      <td>NaN</td>\n",
       "      <td>NaT</td>\n",
       "      <td>NaN</td>\n",
       "      <td>NO</td>\n",
       "      <td>BODY</td>\n",
       "      <td>1990-10-02</td>\n",
       "      <td>UNKNOWN</td>\n",
       "      <td>NaT</td>\n",
       "      <td>NaT</td>\n",
       "      <td>UNKNOWN</td>\n",
       "      <td>1988.0</td>\n",
       "    </tr>\n",
       "    <tr>\n",
       "      <th>4</th>\n",
       "      <td>1989-08-29</td>\n",
       "      <td>DOG</td>\n",
       "      <td>NaN</td>\n",
       "      <td>FEMALE</td>\n",
       "      <td>BLK-WHT</td>\n",
       "      <td>NaN</td>\n",
       "      <td>NaT</td>\n",
       "      <td>NaN</td>\n",
       "      <td>NO</td>\n",
       "      <td>BODY</td>\n",
       "      <td>NaT</td>\n",
       "      <td>UNKNOWN</td>\n",
       "      <td>NaT</td>\n",
       "      <td>NaT</td>\n",
       "      <td>UNKNOWN</td>\n",
       "      <td>1989.0</td>\n",
       "    </tr>\n",
       "    <tr>\n",
       "      <th>...</th>\n",
       "      <td>...</td>\n",
       "      <td>...</td>\n",
       "      <td>...</td>\n",
       "      <td>...</td>\n",
       "      <td>...</td>\n",
       "      <td>...</td>\n",
       "      <td>...</td>\n",
       "      <td>...</td>\n",
       "      <td>...</td>\n",
       "      <td>...</td>\n",
       "      <td>...</td>\n",
       "      <td>...</td>\n",
       "      <td>...</td>\n",
       "      <td>...</td>\n",
       "      <td>...</td>\n",
       "      <td>...</td>\n",
       "    </tr>\n",
       "    <tr>\n",
       "      <th>8993</th>\n",
       "      <td>2017-09-04</td>\n",
       "      <td>DOG</td>\n",
       "      <td>CANE CORSO</td>\n",
       "      <td>MALE</td>\n",
       "      <td>BLACK</td>\n",
       "      <td>NaN</td>\n",
       "      <td>NaT</td>\n",
       "      <td>40219</td>\n",
       "      <td>NaN</td>\n",
       "      <td>BODY</td>\n",
       "      <td>NaT</td>\n",
       "      <td>NaN</td>\n",
       "      <td>NaT</td>\n",
       "      <td>NaT</td>\n",
       "      <td>NaN</td>\n",
       "      <td>2017.0</td>\n",
       "    </tr>\n",
       "    <tr>\n",
       "      <th>8995</th>\n",
       "      <td>2017-09-04</td>\n",
       "      <td>DOG</td>\n",
       "      <td>BLACK LAB</td>\n",
       "      <td>MALE</td>\n",
       "      <td>BLACK</td>\n",
       "      <td>NaN</td>\n",
       "      <td>NaT</td>\n",
       "      <td>40229</td>\n",
       "      <td>NaN</td>\n",
       "      <td>BODY</td>\n",
       "      <td>NaT</td>\n",
       "      <td>NaN</td>\n",
       "      <td>NaT</td>\n",
       "      <td>NaT</td>\n",
       "      <td>NaN</td>\n",
       "      <td>2017.0</td>\n",
       "    </tr>\n",
       "    <tr>\n",
       "      <th>8996</th>\n",
       "      <td>2017-09-04</td>\n",
       "      <td>DOG</td>\n",
       "      <td>NaN</td>\n",
       "      <td>NaN</td>\n",
       "      <td>NaN</td>\n",
       "      <td>NaN</td>\n",
       "      <td>NaT</td>\n",
       "      <td>40214</td>\n",
       "      <td>NaN</td>\n",
       "      <td>BODY</td>\n",
       "      <td>NaT</td>\n",
       "      <td>NaN</td>\n",
       "      <td>NaT</td>\n",
       "      <td>NaT</td>\n",
       "      <td>NaN</td>\n",
       "      <td>2017.0</td>\n",
       "    </tr>\n",
       "    <tr>\n",
       "      <th>9001</th>\n",
       "      <td>2017-09-07</td>\n",
       "      <td>DOG</td>\n",
       "      <td>LABRADOR RETRIV</td>\n",
       "      <td>FEMALE</td>\n",
       "      <td>BLK WHT</td>\n",
       "      <td>NaN</td>\n",
       "      <td>NaT</td>\n",
       "      <td>40229</td>\n",
       "      <td>NaN</td>\n",
       "      <td>BODY</td>\n",
       "      <td>NaT</td>\n",
       "      <td>NaN</td>\n",
       "      <td>NaT</td>\n",
       "      <td>NaT</td>\n",
       "      <td>NaN</td>\n",
       "      <td>2017.0</td>\n",
       "    </tr>\n",
       "    <tr>\n",
       "      <th>9002</th>\n",
       "      <td>2017-09-07</td>\n",
       "      <td>DOG</td>\n",
       "      <td>BOXER</td>\n",
       "      <td>NaN</td>\n",
       "      <td>BRN BLK</td>\n",
       "      <td>NaN</td>\n",
       "      <td>NaT</td>\n",
       "      <td>40229</td>\n",
       "      <td>NaN</td>\n",
       "      <td>BODY</td>\n",
       "      <td>NaT</td>\n",
       "      <td>NaN</td>\n",
       "      <td>NaT</td>\n",
       "      <td>NaT</td>\n",
       "      <td>NaN</td>\n",
       "      <td>2017.0</td>\n",
       "    </tr>\n",
       "  </tbody>\n",
       "</table>\n",
       "<p>6213 rows × 16 columns</p>\n",
       "</div>"
      ],
      "text/plain": [
       "      bite_date SpeciesIDDesc      BreedIDDesc GenderIDDesc       color  \\\n",
       "0    1985-05-05           DOG              NaN       FEMALE  LIG. BROWN   \n",
       "1    1986-02-12           DOG              NaN      UNKNOWN   BRO & BLA   \n",
       "2    1987-05-07           DOG              NaN      UNKNOWN         NaN   \n",
       "3    1988-10-02           DOG              NaN         MALE   BLA & BRO   \n",
       "4    1989-08-29           DOG              NaN       FEMALE     BLK-WHT   \n",
       "...         ...           ...              ...          ...         ...   \n",
       "8993 2017-09-04           DOG       CANE CORSO         MALE       BLACK   \n",
       "8995 2017-09-04           DOG        BLACK LAB         MALE       BLACK   \n",
       "8996 2017-09-04           DOG              NaN          NaN         NaN   \n",
       "9001 2017-09-07           DOG  LABRADOR RETRIV       FEMALE     BLK WHT   \n",
       "9002 2017-09-07           DOG            BOXER          NaN     BRN BLK   \n",
       "\n",
       "      vaccination_yrs vaccination_date victim_zip AdvIssuedYNDesc  \\\n",
       "0                 1.0       1985-06-20      40229              NO   \n",
       "1                 NaN              NaT      40218              NO   \n",
       "2                 NaN              NaT      40219              NO   \n",
       "3                 NaN              NaT        NaN              NO   \n",
       "4                 NaN              NaT        NaN              NO   \n",
       "...               ...              ...        ...             ...   \n",
       "8993              NaN              NaT      40219             NaN   \n",
       "8995              NaN              NaT      40229             NaN   \n",
       "8996              NaN              NaT      40214             NaN   \n",
       "9001              NaN              NaT      40229             NaN   \n",
       "9002              NaN              NaT      40229             NaN   \n",
       "\n",
       "     WhereBittenIDDesc quarantine_date DispositionIDDesc head_sent_date  \\\n",
       "0                 BODY      1985-05-05           UNKNOWN            NaT   \n",
       "1                 BODY      1986-02-12           UNKNOWN            NaT   \n",
       "2                 BODY      1990-05-07           UNKNOWN            NaT   \n",
       "3                 BODY      1990-10-02           UNKNOWN            NaT   \n",
       "4                 BODY             NaT           UNKNOWN            NaT   \n",
       "...                ...             ...               ...            ...   \n",
       "8993              BODY             NaT               NaN            NaT   \n",
       "8995              BODY             NaT               NaN            NaT   \n",
       "8996              BODY             NaT               NaN            NaT   \n",
       "9001              BODY             NaT               NaN            NaT   \n",
       "9002              BODY             NaT               NaN            NaT   \n",
       "\n",
       "     release_date ResultsIDDesc  year_bitten  \n",
       "0             NaT       UNKNOWN       1985.0  \n",
       "1             NaT       UNKNOWN       1986.0  \n",
       "2             NaT       UNKNOWN       1987.0  \n",
       "3             NaT       UNKNOWN       1988.0  \n",
       "4             NaT       UNKNOWN       1989.0  \n",
       "...           ...           ...          ...  \n",
       "8993          NaT           NaN       2017.0  \n",
       "8995          NaT           NaN       2017.0  \n",
       "8996          NaT           NaN       2017.0  \n",
       "9001          NaT           NaN       2017.0  \n",
       "9002          NaT           NaN       2017.0  \n",
       "\n",
       "[6213 rows x 16 columns]"
      ]
     },
     "execution_count": 176,
     "metadata": {},
     "output_type": "execute_result"
    }
   ],
   "source": [
    "#Question 5 - a: Answer\n",
    "bite_loc = bites[(bites['WhereBittenIDDesc'].notna()) & (bites['WhereBittenIDDesc'] != 'UNKNOWN')]\n",
    "set(bite_loc['WhereBittenIDDesc'])\n",
    "\n",
    "\n",
    "#Question 5 - b: Answer\n",
    "bite_loc[bite_loc['WhereBittenIDDesc'] != 'HEAD']"
   ]
  },
  {
   "cell_type": "markdown",
   "metadata": {
    "id": "r-1G-2byiEi5"
   },
   "source": [
    "#### Vietnamese\n",
    "*Câu 6*\n",
    "\n",
    "a) Trong dữ liệu, có bao nhiêu con vật âm tính với bệnh dại (NEGATIVE) đã bị giết (KILLED) hoặc chết (DIED)? Gợi ý: Sử dụng `&` và `|`.\n",
    "\n",
    "b) Trong khoảng thời gian từ 2010 đến 2015 chó chiếm bao nhiêu phần trăm số vụ cắn người trong dữ liệu?\n",
    "\n",
    "#### English\n",
    "*Question 6*\n",
    "\n",
    "a) In the data, how many rabies-negative (NEGATIVE) animals were killed (KILLED) or died (DIED)? Hint: Use `&` and `|`.\n",
    "\n",
    "b) Between 2010 and 2015, what percentage of human bites in the data did dogs account for?"
   ]
  },
  {
   "cell_type": "code",
   "execution_count": 200,
   "metadata": {
    "vscode": {
     "languageId": "plaintext"
    }
   },
   "outputs": [
    {
     "data": {
      "text/html": [
       "<div>\n",
       "<style scoped>\n",
       "    .dataframe tbody tr th:only-of-type {\n",
       "        vertical-align: middle;\n",
       "    }\n",
       "\n",
       "    .dataframe tbody tr th {\n",
       "        vertical-align: top;\n",
       "    }\n",
       "\n",
       "    .dataframe thead th {\n",
       "        text-align: right;\n",
       "    }\n",
       "</style>\n",
       "<table border=\"1\" class=\"dataframe\">\n",
       "  <thead>\n",
       "    <tr style=\"text-align: right;\">\n",
       "      <th></th>\n",
       "      <th>ResultsIDDesc</th>\n",
       "      <th>DispositionIDDesc</th>\n",
       "      <th>Count Result</th>\n",
       "    </tr>\n",
       "  </thead>\n",
       "  <tbody>\n",
       "    <tr>\n",
       "      <th>0</th>\n",
       "      <td>NEGATIVE</td>\n",
       "      <td>DIED</td>\n",
       "      <td>3</td>\n",
       "    </tr>\n",
       "    <tr>\n",
       "      <th>1</th>\n",
       "      <td>NEGATIVE</td>\n",
       "      <td>KILLED</td>\n",
       "      <td>13</td>\n",
       "    </tr>\n",
       "  </tbody>\n",
       "</table>\n",
       "</div>"
      ],
      "text/plain": [
       "  ResultsIDDesc DispositionIDDesc  Count Result\n",
       "0      NEGATIVE              DIED             3\n",
       "1      NEGATIVE            KILLED            13"
      ]
     },
     "execution_count": 200,
     "metadata": {},
     "output_type": "execute_result"
    }
   ],
   "source": [
    "rabbies_result = bites[(bites['ResultsIDDesc'] == 'NEGATIVE') & (bites['DispositionIDDesc'] == 'KILLED') | (bites['DispositionIDDesc'] == 'DIED')]\n",
    "rabbies_result.groupby(['ResultsIDDesc', 'DispositionIDDesc'])['DispositionIDDesc'].count().reset_index(name = 'Count Result')"
   ]
  },
  {
   "cell_type": "markdown",
   "metadata": {
    "id": "KmBtbHGDiEi6"
   },
   "source": [
    "#### Vietnamese\n",
    "*Câu 7*\n",
    "\n",
    "a) Tính số năm tiêm ngừa trung bình của các con vật (không tính các dòng có giá trị `NaN` tại cột này).\n",
    "\n",
    "b) Trong năm 2017 có bao nhiêu vụ tấn công trong đó con vật tấn công là chó `BOXER`?\n",
    "\n",
    "#### English\n",
    "*Question 7*\n",
    "\n",
    "a) Calculate the average number of years vaccinated for the animals (do not count lines with the value `NaN` in this column).\n",
    "\n",
    "b) In 2017, how many attacks were there in which the attacking animal was a `BOXER` dog?"
   ]
  },
  {
   "cell_type": "code",
   "execution_count": 207,
   "metadata": {
    "vscode": {
     "languageId": "plaintext"
    }
   },
   "outputs": [
    {
     "data": {
      "text/plain": [
       "1.4521134296415195"
      ]
     },
     "execution_count": 207,
     "metadata": {},
     "output_type": "execute_result"
    }
   ],
   "source": [
    "#Question 7 - a: Asnwer\n",
    "vaccinated_b = bites[bites['vaccination_yrs'].notna()]\n",
    "vaccinated_b['vaccination_yrs'].mean() "
   ]
  },
  {
   "cell_type": "code",
   "execution_count": 275,
   "metadata": {},
   "outputs": [
    {
     "data": {
      "text/html": [
       "<div>\n",
       "<style scoped>\n",
       "    .dataframe tbody tr th:only-of-type {\n",
       "        vertical-align: middle;\n",
       "    }\n",
       "\n",
       "    .dataframe tbody tr th {\n",
       "        vertical-align: top;\n",
       "    }\n",
       "\n",
       "    .dataframe thead th {\n",
       "        text-align: right;\n",
       "    }\n",
       "</style>\n",
       "<table border=\"1\" class=\"dataframe\">\n",
       "  <thead>\n",
       "    <tr style=\"text-align: right;\">\n",
       "      <th></th>\n",
       "      <th>bite_date</th>\n",
       "      <th>SpeciesIDDesc</th>\n",
       "      <th>GenderIDDesc</th>\n",
       "      <th>color</th>\n",
       "      <th>vaccination_yrs</th>\n",
       "      <th>vaccination_date</th>\n",
       "      <th>victim_zip</th>\n",
       "      <th>AdvIssuedYNDesc</th>\n",
       "      <th>WhereBittenIDDesc</th>\n",
       "      <th>quarantine_date</th>\n",
       "      <th>DispositionIDDesc</th>\n",
       "      <th>head_sent_date</th>\n",
       "      <th>release_date</th>\n",
       "      <th>ResultsIDDesc</th>\n",
       "      <th>year_bitten</th>\n",
       "    </tr>\n",
       "    <tr>\n",
       "      <th>BreedIDDesc</th>\n",
       "      <th></th>\n",
       "      <th></th>\n",
       "      <th></th>\n",
       "      <th></th>\n",
       "      <th></th>\n",
       "      <th></th>\n",
       "      <th></th>\n",
       "      <th></th>\n",
       "      <th></th>\n",
       "      <th></th>\n",
       "      <th></th>\n",
       "      <th></th>\n",
       "      <th></th>\n",
       "      <th></th>\n",
       "      <th></th>\n",
       "    </tr>\n",
       "  </thead>\n",
       "  <tbody>\n",
       "    <tr>\n",
       "      <th>BOXER</th>\n",
       "      <td>181</td>\n",
       "      <td>181</td>\n",
       "      <td>154</td>\n",
       "      <td>157</td>\n",
       "      <td>107</td>\n",
       "      <td>115</td>\n",
       "      <td>152</td>\n",
       "      <td>30</td>\n",
       "      <td>172</td>\n",
       "      <td>17</td>\n",
       "      <td>7</td>\n",
       "      <td>1</td>\n",
       "      <td>60</td>\n",
       "      <td>1</td>\n",
       "      <td>181</td>\n",
       "    </tr>\n",
       "  </tbody>\n",
       "</table>\n",
       "</div>"
      ],
      "text/plain": [
       "             bite_date  SpeciesIDDesc  GenderIDDesc  color  vaccination_yrs  \\\n",
       "BreedIDDesc                                                                   \n",
       "BOXER              181            181           154    157              107   \n",
       "\n",
       "             vaccination_date  victim_zip  AdvIssuedYNDesc  WhereBittenIDDesc  \\\n",
       "BreedIDDesc                                                                     \n",
       "BOXER                     115         152               30                172   \n",
       "\n",
       "             quarantine_date  DispositionIDDesc  head_sent_date  release_date  \\\n",
       "BreedIDDesc                                                                     \n",
       "BOXER                     17                  7               1            60   \n",
       "\n",
       "             ResultsIDDesc  year_bitten  \n",
       "BreedIDDesc                              \n",
       "BOXER                    1          181  "
      ]
     },
     "execution_count": 275,
     "metadata": {},
     "output_type": "execute_result"
    }
   ],
   "source": [
    "#Question 7 - b: Answer\n",
    "bites[bites['BreedIDDesc'] == 'BOXER'].groupby(['BreedIDDesc'])['BreedIDDesc'].count().reset_index(name = 'Count')"
   ]
  },
  {
   "cell_type": "markdown",
   "metadata": {
    "id": "07hCzrPFiEi7"
   },
   "source": [
    "#### Vietnamese\n",
    "*Câu 8*\n",
    "\n",
    "Trong các năm từ 2010 đến 2016, __giống__ nào của __loài__ nào đã gây ra nhiều vụ cắn nhất? Không tính các dòng có giá trị `NaN` hoặc `UNKNOWN` tại 2 cột này. Gợi ý: Nên chia thành nhiều bước.\n",
    "\n",
    "#### English\n",
    "*Question 8*\n",
    "\n",
    "In the years 2010 to 2016, which __varieties__ of __species__ caused the most bites? Do not count rows with the value `NaN` or `UNKNOWN` in these two columns. Suggestion: Should be divided into several steps."
   ]
  },
  {
   "cell_type": "code",
   "execution_count": 236,
   "metadata": {
    "vscode": {
     "languageId": "plaintext"
    }
   },
   "outputs": [
    {
     "data": {
      "text/html": [
       "<div>\n",
       "<style scoped>\n",
       "    .dataframe tbody tr th:only-of-type {\n",
       "        vertical-align: middle;\n",
       "    }\n",
       "\n",
       "    .dataframe tbody tr th {\n",
       "        vertical-align: top;\n",
       "    }\n",
       "\n",
       "    .dataframe thead th {\n",
       "        text-align: right;\n",
       "    }\n",
       "</style>\n",
       "<table border=\"1\" class=\"dataframe\">\n",
       "  <thead>\n",
       "    <tr style=\"text-align: right;\">\n",
       "      <th></th>\n",
       "      <th>SpeciesIDDesc</th>\n",
       "      <th>BreedIDDesc</th>\n",
       "      <th>Bite Count</th>\n",
       "    </tr>\n",
       "  </thead>\n",
       "  <tbody>\n",
       "    <tr>\n",
       "      <th>0</th>\n",
       "      <td>DOG</td>\n",
       "      <td>PIT BULL</td>\n",
       "      <td>915</td>\n",
       "    </tr>\n",
       "    <tr>\n",
       "      <th>1</th>\n",
       "      <td>DOG</td>\n",
       "      <td>GERM SHEPHERD</td>\n",
       "      <td>282</td>\n",
       "    </tr>\n",
       "    <tr>\n",
       "      <th>2</th>\n",
       "      <td>DOG</td>\n",
       "      <td>LABRADOR RETRIV</td>\n",
       "      <td>205</td>\n",
       "    </tr>\n",
       "    <tr>\n",
       "      <th>3</th>\n",
       "      <td>DOG</td>\n",
       "      <td>BOXER</td>\n",
       "      <td>148</td>\n",
       "    </tr>\n",
       "    <tr>\n",
       "      <th>4</th>\n",
       "      <td>DOG</td>\n",
       "      <td>CHICHAUHUA</td>\n",
       "      <td>144</td>\n",
       "    </tr>\n",
       "    <tr>\n",
       "      <th>...</th>\n",
       "      <td>...</td>\n",
       "      <td>...</td>\n",
       "      <td>...</td>\n",
       "    </tr>\n",
       "    <tr>\n",
       "      <th>95</th>\n",
       "      <td>DOG</td>\n",
       "      <td>FOX TERRIER MIX</td>\n",
       "      <td>1</td>\n",
       "    </tr>\n",
       "    <tr>\n",
       "      <th>96</th>\n",
       "      <td>DOG</td>\n",
       "      <td>IRISH SPANIEL</td>\n",
       "      <td>1</td>\n",
       "    </tr>\n",
       "    <tr>\n",
       "      <th>97</th>\n",
       "      <td>DOG</td>\n",
       "      <td>RED HEELER</td>\n",
       "      <td>1</td>\n",
       "    </tr>\n",
       "    <tr>\n",
       "      <th>98</th>\n",
       "      <td>DOG</td>\n",
       "      <td>MALAMUTE</td>\n",
       "      <td>1</td>\n",
       "    </tr>\n",
       "    <tr>\n",
       "      <th>99</th>\n",
       "      <td>CAT</td>\n",
       "      <td>OTHER</td>\n",
       "      <td>1</td>\n",
       "    </tr>\n",
       "  </tbody>\n",
       "</table>\n",
       "<p>100 rows × 3 columns</p>\n",
       "</div>"
      ],
      "text/plain": [
       "   SpeciesIDDesc      BreedIDDesc  Bite Count\n",
       "0            DOG         PIT BULL         915\n",
       "1            DOG    GERM SHEPHERD         282\n",
       "2            DOG  LABRADOR RETRIV         205\n",
       "3            DOG            BOXER         148\n",
       "4            DOG       CHICHAUHUA         144\n",
       "..           ...              ...         ...\n",
       "95           DOG  FOX TERRIER MIX           1\n",
       "96           DOG    IRISH SPANIEL           1\n",
       "97           DOG       RED HEELER           1\n",
       "98           DOG         MALAMUTE           1\n",
       "99           CAT            OTHER           1\n",
       "\n",
       "[100 rows x 3 columns]"
      ]
     },
     "execution_count": 236,
     "metadata": {},
     "output_type": "execute_result"
    }
   ],
   "source": [
    "year_b = bites[(bites['SpeciesIDDesc'].notna()) & (bites['BreedIDDesc'].notna())]\n",
    "year_b = year_b[(year_b['year_bitten'] >= 2010) & (year_b['year_bitten'] <= 2016)]\n",
    "year_b.groupby(['SpeciesIDDesc', 'BreedIDDesc'])['SpeciesIDDesc'].count().sort_values(ascending = False).reset_index(name = 'Bite Count')\n"
   ]
  },
  {
   "cell_type": "markdown",
   "metadata": {
    "id": "Qy0BuMdWiEi8"
   },
   "source": [
    "#### Vietnamese\n",
    "*Câu 9*\n",
    "\n",
    "a) Có bao nhiêu con vật đã được ghi nhận ngày được đưa đến phòng nghiên cứu?\n",
    "\n",
    "b) Trong số các con vật này thì chó chiếm bao nhiêu phần trăm?\n",
    "\n",
    "#### English\n",
    "*Question 9*\n",
    "\n",
    "a) How many animals were recorded when they were brought to the research lab?\n",
    "\n",
    "b) Among these animals, what percentage do dogs account for?"
   ]
  },
  {
   "cell_type": "code",
   "execution_count": 256,
   "metadata": {
    "vscode": {
     "languageId": "plaintext"
    }
   },
   "outputs": [
    {
     "data": {
      "text/plain": [
       "8885"
      ]
     },
     "execution_count": 256,
     "metadata": {},
     "output_type": "execute_result"
    }
   ],
   "source": [
    "# Question 9 - a: Answer\n",
    "bites['SpeciesIDDesc'].count() #total number of animals"
   ]
  },
  {
   "cell_type": "code",
   "execution_count": 255,
   "metadata": {},
   "outputs": [
    {
     "data": {
      "text/plain": [
       "79.11086100168824"
      ]
     },
     "execution_count": 255,
     "metadata": {},
     "output_type": "execute_result"
    }
   ],
   "source": [
    "# Question 9 - b: Answer\n",
    "bites['SpeciesIDDesc'][bites['SpeciesIDDesc'] == 'DOG'].count()/ bites['SpeciesIDDesc'].count() * 100\n",
    "#dogs accounted for 79% of the total bites recorded by the lab.\n"
   ]
  },
  {
   "cell_type": "markdown",
   "metadata": {
    "id": "V-gXVpBgiEi9"
   },
   "source": [
    "#### Vietnamese\n",
    "*Câu 10*\n",
    "\n",
    "a) Có bao nhiêu con chó đã được ghi nhận ngày thả?\n",
    "\n",
    "b) Trong số đó có bao nhiêu con được ghi nhận đã chích ngừa ít nhất 1 năm?\n",
    "\n",
    "#### English\n",
    "*Question 10*\n",
    "\n",
    "a) How many dogs have recorded release dates?\n",
    "\n",
    "b) Among them, how many were recorded to have been vaccinated for at least 1 year?"
   ]
  },
  {
   "cell_type": "code",
   "execution_count": 276,
   "metadata": {
    "vscode": {
     "languageId": "plaintext"
    }
   },
   "outputs": [
    {
     "data": {
      "text/plain": [
       "1249"
      ]
     },
     "execution_count": 276,
     "metadata": {},
     "output_type": "execute_result"
    }
   ],
   "source": [
    "# Question 10 - a: Answer\n",
    "release_dog_b = bites[(bites['SpeciesIDDesc'] == 'DOG') & (bites['release_date'].notna())]\n",
    "release_dog_b['SpeciesIDDesc'].shape[0]"
   ]
  },
  {
   "cell_type": "code",
   "execution_count": 277,
   "metadata": {},
   "outputs": [
    {
     "data": {
      "text/plain": [
       "943"
      ]
     },
     "execution_count": 277,
     "metadata": {},
     "output_type": "execute_result"
    }
   ],
   "source": [
    "# Question 11 - b: Answer\n",
    "release_dog_b = release_dog_b[release_dog_b['vaccination_yrs'].notna()]\n",
    "release_dog_b['SpeciesIDDesc'].shape[0]"
   ]
  }
 ],
 "metadata": {
  "colab": {
   "provenance": []
  },
  "kernelspec": {
   "display_name": "Python 3 (ipykernel)",
   "language": "python",
   "name": "python3"
  },
  "language_info": {
   "codemirror_mode": {
    "name": "ipython",
    "version": 3
   },
   "file_extension": ".py",
   "mimetype": "text/x-python",
   "name": "python",
   "nbconvert_exporter": "python",
   "pygments_lexer": "ipython3",
   "version": "3.12.1"
  }
 },
 "nbformat": 4,
 "nbformat_minor": 4
}
