{
 "cells": [
  {
   "cell_type": "code",
   "execution_count": 1,
   "id": "99a32042-ed4c-4ad6-a3ca-56b62a4d3c6b",
   "metadata": {},
   "outputs": [],
   "source": [
    "text = '''Ta mến cảnh xuân ánh sáng ngời\n",
    "Thú vui thơ rượu chén đầy vơi\n",
    "Hoa cài giậu trúc cành xuân biếc\n",
    "Lá quyện hương xuân sắc thắm tươi\n",
    "Qua lại khách chờ sông lặng sóng\n",
    "Ngược xuôi thuyền đợi bến đông người\n",
    "Xa ngân tiếng hát đàn trầm bổng\n",
    "Tha thướt bóng ai mắt mỉm cười'''\n",
    "\n",
    "text_2 =  '''Ánh sáng ngời\n",
    "Chén đầy vơi\n",
    "Cành xanh biếc\n",
    "Sắc thắm tươi\n",
    "Sông lặng sóng\n",
    "Bến đông người\n",
    "Đàn trầm bổng\n",
    "Mắt mỉm cười'''"
   ]
  },
  {
   "cell_type": "code",
   "execution_count": 14,
   "id": "abcd337e-68f8-40a0-a6d3-65620ce98b7c",
   "metadata": {},
   "outputs": [
    {
     "name": "stdout",
     "output_type": "stream",
     "text": [
      "Qua lại khách chờ sông lặng sóng\n",
      "['Ta', 'mến', 'cảnh', 'xuân', 'ánh', 'sáng', 'ngời']\n",
      "['ánh', 'sáng', 'ngời']\n"
     ]
    }
   ],
   "source": [
    "list_text = text.split('\\n')\n",
    "print(list_text[4])\n",
    "line_1_list_text = list_text[0].split(' ')\n",
    "print(line_1_list_text)\n",
    "line_2_list_text = list_text[1]\n",
    "line_3_list_text = list_text[2]\n",
    "line_4_list_text = list_text[3]\n",
    "line_5_list_text = list_text[4]\n",
    "line_6_list_text = list_text[5]\n",
    "line_7_list_text = list_text[6]\n",
    "\n",
    "print(line_1_list_text[-3: len(line_1_list_text)])"
   ]
  },
  {
   "cell_type": "code",
   "execution_count": null,
   "id": "c5e39138-bafa-4a65-9111-8043e177aaf1",
   "metadata": {},
   "outputs": [],
   "source": []
  }
 ],
 "metadata": {
  "kernelspec": {
   "display_name": "Python 3 (ipykernel)",
   "language": "python",
   "name": "python3"
  },
  "language_info": {
   "codemirror_mode": {
    "name": "ipython",
    "version": 3
   },
   "file_extension": ".py",
   "mimetype": "text/x-python",
   "name": "python",
   "nbconvert_exporter": "python",
   "pygments_lexer": "ipython3",
   "version": "3.12.1"
  }
 },
 "nbformat": 4,
 "nbformat_minor": 5
}
